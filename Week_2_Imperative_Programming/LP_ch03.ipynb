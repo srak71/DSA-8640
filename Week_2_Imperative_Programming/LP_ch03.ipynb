{
 "cells": [
  {
   "cell_type": "markdown",
   "metadata": {},
   "source": [
    "# (1) Use print() and input() with int()"
   ]
  },
  {
   "cell_type": "code",
   "execution_count": null,
   "metadata": {},
   "outputs": [],
   "source": [
    "'''\n",
    "Write a program that:\n",
    "\n",
    "requests the user’s first name\n",
    "requests the user’s last name\n",
    "prints a message\n",
    "\n",
    "Hello ### ###\n",
    "Welcome to the world of Python!\n",
    "\n",
    ">>> \n",
    "Enter your first name: Kenn\n",
    "Enter your last name: Kim\n",
    "Hello Kenn Kim\n",
    "Welcome to the world of Python!\n",
    "\n",
    "'''"
   ]
  },
  {
   "cell_type": "code",
   "execution_count": null,
   "metadata": {},
   "outputs": [],
   "source": []
  },
  {
   "cell_type": "code",
   "execution_count": null,
   "metadata": {},
   "outputs": [],
   "source": [
    "'''\n",
    "Write a program that:\n",
    "\n",
    "requests the user’s first name\n",
    "requests the user’s last name\n",
    "prints a message\n",
    "\n",
    "'Hello ### ###'\n",
    "'Welcome to the world of Python!'\n",
    "\n",
    ">>> \n",
    "Enter your first name: Kenn\n",
    "Enter your last name: Kim\n",
    "'Hello Kenn Kim'\n",
    "'Welcome to the world of Python!'\n",
    "\n",
    "'''"
   ]
  },
  {
   "cell_type": "code",
   "execution_count": null,
   "metadata": {},
   "outputs": [],
   "source": []
  },
  {
   "cell_type": "code",
   "execution_count": null,
   "metadata": {},
   "outputs": [],
   "source": [
    "'''\n",
    "Write a program that:\n",
    "\n",
    "requests the user’s name\n",
    "requests the user’s age\n",
    "computes the user’s age one year from now and prints the message\n",
    "\n",
    ">>> \n",
    "Enter your name: Marie\n",
    "Enter your age: 17\n",
    "Marie, you will be 18 next year!\n",
    "\n",
    "'''"
   ]
  },
  {
   "cell_type": "code",
   "execution_count": null,
   "metadata": {},
   "outputs": [],
   "source": []
  },
  {
   "cell_type": "markdown",
   "metadata": {
    "collapsed": true
   },
   "source": [
    "# (2) One-way if statements"
   ]
  },
  {
   "cell_type": "code",
   "execution_count": null,
   "metadata": {},
   "outputs": [],
   "source": [
    "''' \n",
    "Write a program that:\n",
    "\n",
    "requests the user's age\n",
    "if age is greater than 62, prints \n",
    "\n",
    "You can get Social Security benefits!\n",
    "\n",
    "if age is not greater than 62, prints nothing\n",
    "\n",
    ">>>\n",
    "Enter your age: 64\n",
    "You can get Social Security benefits!\n",
    "\n",
    ">>>\n",
    "Enter your age: 60\n",
    "\n",
    "'''"
   ]
  },
  {
   "cell_type": "code",
   "execution_count": null,
   "metadata": {},
   "outputs": [],
   "source": []
  },
  {
   "cell_type": "code",
   "execution_count": null,
   "metadata": {},
   "outputs": [],
   "source": [
    "''' \n",
    "Write a program that:\n",
    "\n",
    "requests the user's age\n",
    "if age is greater than 62, prints \n",
    "\n",
    "You can get Social Security benefits!\n",
    "Goodbye.\n",
    "\n",
    "if age is not greater than 62, prints\n",
    "\n",
    "Goodbye.\n",
    "\n",
    ">>>\n",
    "Enter your age: 64\n",
    "You can get Social Security benefits!\n",
    "Goodbye.\n",
    "\n",
    ">>>\n",
    "Enter your age: 60\n",
    "Goodbye.\n",
    "\n",
    "'''"
   ]
  },
  {
   "cell_type": "code",
   "execution_count": null,
   "metadata": {},
   "outputs": [],
   "source": []
  },
  {
   "cell_type": "code",
   "execution_count": null,
   "metadata": {},
   "outputs": [],
   "source": [
    "''' \n",
    "Write a program that:\n",
    "\n",
    "requests the user's age\n",
    "if age is greater than 62, prints \n",
    "\n",
    "You can get Social Security benefits!\n",
    "Goodbye.\n",
    "\n",
    "if age is not greater than 62, prints nothing\n",
    "\n",
    ">>>\n",
    "Enter your age: 64\n",
    "You can get Social Security benefits!\n",
    "Goodbye.\n",
    "\n",
    ">>>\n",
    "Enter your age: 60\n",
    "\n",
    "\n",
    "'''"
   ]
  },
  {
   "cell_type": "code",
   "execution_count": null,
   "metadata": {},
   "outputs": [],
   "source": []
  },
  {
   "cell_type": "code",
   "execution_count": null,
   "metadata": {},
   "outputs": [],
   "source": [
    "'''\n",
    "Write a program that:\n",
    "\n",
    "inputs 'We have large bonuses in this year!' to a variable report\n",
    "if string 'large bonuses' appears in the variable report, prints \n",
    "\n",
    "Vacation time!\n",
    "\n",
    "'''"
   ]
  },
  {
   "cell_type": "code",
   "execution_count": null,
   "metadata": {},
   "outputs": [],
   "source": []
  },
  {
   "cell_type": "code",
   "execution_count": null,
   "metadata": {},
   "outputs": [],
   "source": [
    "'''\n",
    "Write a program that:\n",
    "\n",
    "inputs 20 to a variable hits,\n",
    "inputs 0 to a variable shield,\n",
    "if the variable hits is greater than 10 and the variable shield is 0, prints\n",
    "\n",
    "You're dead...\n",
    "\n",
    "'''"
   ]
  },
  {
   "cell_type": "code",
   "execution_count": null,
   "metadata": {},
   "outputs": [],
   "source": []
  },
  {
   "cell_type": "markdown",
   "metadata": {},
   "source": [
    "# (3) Two-way if statement"
   ]
  },
  {
   "cell_type": "code",
   "execution_count": null,
   "metadata": {},
   "outputs": [],
   "source": [
    "'''\n",
    "Write a program that:\n",
    "\n",
    "requests current temperature\n",
    "prints two different message. \n",
    "\n",
    "that is, \n",
    "if the temperature is higher than 86, prints\n",
    "\n",
    "It is hot!\n",
    "Be sure to drink liquids.\n",
    "Goodbye.\n",
    "\n",
    "if the temperature is lower than or equal to 86, prints\n",
    "\n",
    "It is not hot!\n",
    "Bring a jacket.\n",
    "Goodbye.\n",
    "\n",
    ">>> \n",
    "Enter current temperature: 90\n",
    "It is hot!\n",
    "Be sure to drink liquids.\n",
    "Goodbye.\n",
    "\n",
    ">>> \n",
    "Enter current temperature: 80\n",
    "It is not hot!\n",
    "Bring a jacket.\n",
    "Goodbye.\n",
    "\n",
    "'''"
   ]
  },
  {
   "cell_type": "code",
   "execution_count": null,
   "metadata": {},
   "outputs": [],
   "source": []
  },
  {
   "cell_type": "code",
   "execution_count": null,
   "metadata": {},
   "outputs": [],
   "source": [
    "'''\n",
    "Write a program that:\n",
    "\n",
    "requests the user’s name\n",
    "requests the user’s age\n",
    "prints a message saying whether the user is eligible (i.e. age >= 18) to vote or not.\n",
    "\n",
    "that is, \n",
    "if the user's age is greater than or equal to 18, prints\n",
    "\n",
    "###, you can vote.\n",
    "\n",
    "if the user's age is smaller than 18, prints\n",
    "\n",
    "###, you can't vote.\n",
    "\n",
    ">>> \n",
    "Enter your name: Marie\n",
    "Enter your age: 17\n",
    "Marie, you can't vote.\n",
    "\n",
    ">>> \n",
    "Enter your name: Marie\n",
    "Enter your age: 18\n",
    "Marie, you can vote.\n",
    "\n",
    "'''"
   ]
  },
  {
   "cell_type": "code",
   "execution_count": null,
   "metadata": {},
   "outputs": [],
   "source": []
  },
  {
   "cell_type": "markdown",
   "metadata": {},
   "source": [
    "# (4) for loop statement"
   ]
  },
  {
   "cell_type": "code",
   "execution_count": null,
   "metadata": {},
   "outputs": [],
   "source": [
    "'''\n",
    "Write a “spelling” program that:\n",
    "\n",
    "requests a word from the user\n",
    "prints the characters in the word from left to right, one per line\n",
    "\n",
    ">>> \n",
    "Enter a word: clemson\n",
    "The word spelled out: \n",
    "c\n",
    "l\n",
    "e\n",
    "m\n",
    "s\n",
    "o\n",
    "n\n",
    "\n",
    "'''\n"
   ]
  },
  {
   "cell_type": "code",
   "execution_count": null,
   "metadata": {},
   "outputs": [],
   "source": []
  },
  {
   "cell_type": "code",
   "execution_count": null,
   "metadata": {},
   "outputs": [],
   "source": [
    "'''\n",
    "Write a “spelling” program that:\n",
    "\n",
    "requests a list from the user\n",
    "prints the items in the list from left to right, one per line\n",
    "\n",
    ">>> \n",
    "Enter a list: ['apple', 'pear', 'strawberry']\n",
    "The word spelled out: \n",
    "apple\n",
    "pear\n",
    "strawberry\n",
    "\n",
    "'''"
   ]
  },
  {
   "cell_type": "code",
   "execution_count": null,
   "metadata": {},
   "outputs": [],
   "source": []
  },
  {
   "cell_type": "markdown",
   "metadata": {},
   "source": [
    "# (5) Using range() function, write for loops that will print the following sequences:"
   ]
  },
  {
   "cell_type": "code",
   "execution_count": null,
   "metadata": {},
   "outputs": [],
   "source": [
    "# 0, 1, 2, 3, 4, 5, 6, 7, 8 , 9, 10\n"
   ]
  },
  {
   "cell_type": "code",
   "execution_count": null,
   "metadata": {},
   "outputs": [],
   "source": []
  },
  {
   "cell_type": "code",
   "execution_count": null,
   "metadata": {},
   "outputs": [],
   "source": [
    "# 1, 2, 3, 4, 5, 6, 7, 8, 9\n"
   ]
  },
  {
   "cell_type": "code",
   "execution_count": null,
   "metadata": {},
   "outputs": [],
   "source": []
  },
  {
   "cell_type": "code",
   "execution_count": null,
   "metadata": {},
   "outputs": [],
   "source": [
    "# 0, 2, 4, 6, 8\n"
   ]
  },
  {
   "cell_type": "code",
   "execution_count": null,
   "metadata": {},
   "outputs": [],
   "source": []
  },
  {
   "cell_type": "code",
   "execution_count": null,
   "metadata": {},
   "outputs": [],
   "source": [
    "# 1, 3, 5, 7, 9\n"
   ]
  },
  {
   "cell_type": "code",
   "execution_count": null,
   "metadata": {},
   "outputs": [],
   "source": []
  },
  {
   "cell_type": "code",
   "execution_count": null,
   "metadata": {},
   "outputs": [],
   "source": [
    "# 20, 30, 40, 50, 60\n"
   ]
  },
  {
   "cell_type": "code",
   "execution_count": null,
   "metadata": {},
   "outputs": [],
   "source": []
  },
  {
   "cell_type": "markdown",
   "metadata": {},
   "source": [
    "# (6) Defining new functions"
   ]
  },
  {
   "cell_type": "code",
   "execution_count": null,
   "metadata": {},
   "outputs": [],
   "source": [
    "'''\n",
    "Write function hello() that:\n",
    "\n",
    "takes a name (i.e., a string) as input\n",
    "prints a personalized welcome message (i.e. Welcome, ###, to the world of Python.)\n",
    "\n",
    "Note: hello function does not return anything\n",
    "\n",
    ">>> hello('Julie')\n",
    "Welcome, Julie, to the world of Python.\n",
    "\n",
    "'''\n"
   ]
  },
  {
   "cell_type": "code",
   "execution_count": null,
   "metadata": {},
   "outputs": [],
   "source": []
  },
  {
   "cell_type": "code",
   "execution_count": null,
   "metadata": {},
   "outputs": [],
   "source": []
  },
  {
   "cell_type": "code",
   "execution_count": null,
   "metadata": {},
   "outputs": [],
   "source": [
    "'''\n",
    "Write function rng() that:\n",
    "\n",
    "takes a list of numbers as input\n",
    "returns the range of the numbers in the list\n",
    "\n",
    "Note: The range is the difference between the largest and smallest number in the list\n",
    "\n",
    ">>> rng([4, 0, 1, -2])\n",
    "6\n",
    "\n",
    "'''\n"
   ]
  },
  {
   "cell_type": "code",
   "execution_count": null,
   "metadata": {},
   "outputs": [],
   "source": []
  },
  {
   "cell_type": "code",
   "execution_count": null,
   "metadata": {},
   "outputs": [],
   "source": []
  }
 ],
 "metadata": {
  "anaconda-cloud": {},
  "kernelspec": {
   "display_name": "Python 3",
   "language": "python",
   "name": "python3"
  },
  "language_info": {
   "codemirror_mode": {
    "name": "ipython",
    "version": 3
   },
   "file_extension": ".py",
   "mimetype": "text/x-python",
   "name": "python",
   "nbconvert_exporter": "python",
   "pygments_lexer": "ipython3",
   "version": "3.8.3"
  }
 },
 "nbformat": 4,
 "nbformat_minor": 1
}
