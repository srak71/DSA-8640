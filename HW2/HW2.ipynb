{
 "cells": [
  {
   "cell_type": "markdown",
   "metadata": {},
   "source": [
    "# (1) User-defined function"
   ]
  },
  {
   "cell_type": "code",
   "execution_count": null,
   "metadata": {},
   "outputs": [],
   "source": [
    "'''\n",
    "Q1. Write a function area() that:\n",
    "\n",
    "takes a radius of a disk as input\n",
    "returns the area of the disk\n",
    "\n",
    "\n",
    ">>> area(10)\n",
    "314.1592653589793\n",
    "\n",
    ">>> area(100)\n",
    "31415.92653589793\n",
    "'''\n",
    "\n",
    "# Hint: you need to import math module to get pi value. please be careful with where to add import statement\n",
    "# Note: area function returns a numeric value"
   ]
  },
  {
   "cell_type": "code",
   "execution_count": null,
   "metadata": {},
   "outputs": [],
   "source": []
  },
  {
   "cell_type": "code",
   "execution_count": null,
   "metadata": {},
   "outputs": [],
   "source": []
  },
  {
   "cell_type": "code",
   "execution_count": null,
   "metadata": {},
   "outputs": [],
   "source": []
  },
  {
   "cell_type": "code",
   "execution_count": null,
   "metadata": {},
   "outputs": [],
   "source": [
    "'''\n",
    "Q2. Write a function battle() that:\n",
    "\n",
    "takes three numbers as input\n",
    "\n",
    "The first number represents health\n",
    "The second number represents shield\n",
    "The third number represents damage\n",
    "\n",
    "if damage is greater than or equal to the sum of health and shield, prints \n",
    "\n",
    "Sorry... You're dead...\n",
    "Goodbye...\n",
    "\n",
    "if damage is smaller than the sum of health and shield, prints\n",
    "\n",
    "Congratulation! You're survived!\n",
    "Goodbye!\n",
    "\n",
    "\n",
    ">>> battle(100, 50, 150)\n",
    "Sorry... You're dead...\n",
    "Goodbye...\n",
    "\n",
    ">>> battle(100, 50, 100)\n",
    "Congratulation! You're survived!\n",
    "Goodbye!\n",
    "\n",
    "'''\n",
    "\n",
    "# Note: battle function does not return anything"
   ]
  },
  {
   "cell_type": "code",
   "execution_count": null,
   "metadata": {},
   "outputs": [],
   "source": []
  },
  {
   "cell_type": "code",
   "execution_count": null,
   "metadata": {},
   "outputs": [],
   "source": []
  },
  {
   "cell_type": "code",
   "execution_count": null,
   "metadata": {},
   "outputs": [],
   "source": []
  },
  {
   "cell_type": "markdown",
   "metadata": {},
   "source": [
    "# (2) General Formatting"
   ]
  },
  {
   "cell_type": "code",
   "execution_count": null,
   "metadata": {},
   "outputs": [],
   "source": [
    "# String link describes the url of a webpage\n",
    "\n",
    "link = 'http://www.main.com/smith/index.html'\n",
    "print(link)"
   ]
  },
  {
   "cell_type": "code",
   "execution_count": null,
   "metadata": {},
   "outputs": [],
   "source": [
    "'''\n",
    "Q3. Please print out a following message using link variable\n",
    "\n",
    "\n",
    ">>> \n",
    "www.main.com + index.html\n",
    "\n",
    "'''\n",
    "\n",
    "# Note: you need to use indexing to slice the link\n",
    "# Note: You need to use general formatting to print out the message"
   ]
  },
  {
   "cell_type": "code",
   "execution_count": null,
   "metadata": {},
   "outputs": [],
   "source": []
  },
  {
   "cell_type": "markdown",
   "metadata": {},
   "source": [
    "# (3) Read and Write a Text File"
   ]
  },
  {
   "cell_type": "code",
   "execution_count": null,
   "metadata": {},
   "outputs": [],
   "source": [
    "'''\n",
    "Q4. Open \"last.txt\" file with read-only file mode\n",
    "    Please find the number of lines in the file ans assign it to \"ans4\" variable\n",
    "    \n",
    "'''"
   ]
  },
  {
   "cell_type": "code",
   "execution_count": null,
   "metadata": {},
   "outputs": [],
   "source": []
  },
  {
   "cell_type": "code",
   "execution_count": null,
   "metadata": {},
   "outputs": [],
   "source": [
    "'''\n",
    "Q5. Open \"last.txt\" file with read-only file mode\n",
    "    Please find the number of words in the file ans assign it to \"ans5\" variable\n",
    "    \n",
    "'''"
   ]
  },
  {
   "cell_type": "code",
   "execution_count": 3,
   "metadata": {},
   "outputs": [
    {
     "data": {
      "text/plain": [
       "8"
      ]
     },
     "execution_count": 3,
     "metadata": {},
     "output_type": "execute_result"
    }
   ],
   "source": []
  },
  {
   "cell_type": "code",
   "execution_count": null,
   "metadata": {},
   "outputs": [],
   "source": [
    "'''\n",
    "Q6. Open \"last.txt\" file with read-only file mode\n",
    "    Count the last names ending with \"E\" and assign it to \"ans6\" variable\n",
    "\n",
    "'''"
   ]
  },
  {
   "cell_type": "code",
   "execution_count": null,
   "metadata": {},
   "outputs": [],
   "source": []
  },
  {
   "cell_type": "code",
   "execution_count": null,
   "metadata": {},
   "outputs": [],
   "source": [
    "'''\n",
    "Q7. Open \"last.txt\" file with read-only file mode\n",
    "    Count the numbers larger than 0.1 assign it to \"ans7\" variable\n",
    "\n",
    "'''\n",
    "\n",
    "# Note: Please be careful with names and numbers. To compare numbers to 0.1, it should be float not string. \n",
    "#       But, names cannot be converted to float...\n",
    "# Hint: You can create two lists which respectively have names and numbers. \n",
    "#       Then you can use a list having numbers to compare to 0.1"
   ]
  },
  {
   "cell_type": "code",
   "execution_count": null,
   "metadata": {},
   "outputs": [],
   "source": []
  },
  {
   "cell_type": "code",
   "execution_count": null,
   "metadata": {},
   "outputs": [],
   "source": [
    "'''\n",
    "Q8. Create a new text file \"hw2_answers.txt\" using open() function with write mode\n",
    "    Write your first name, last name in the first line of \"hw2_answers.txt\" file\n",
    "    Write all your answers (i.e. from ans4 to ans7) into the \"hw2_answers.txt\" file\n",
    "    Each answer will take a line with \"answer# = ##\" format.\n",
    "    Write \"Homework 2 is done!!!\" in the last line of \"hw2_answers.txt\" file\n",
    "    Close \"hw2_answers.txt\" file\n",
    "\n",
    "    Your file shoud look like this:\n",
    "    \n",
    "    Kenn Kim\n",
    "    answer4 = ##\n",
    "    answer5 = ##\n",
    "    answer6 = ##\n",
    "    answer7 = ##\n",
    "    Homework 2 is done!!!\n",
    "\n",
    "'''\n",
    "\n",
    "### Hint: You can use general formatting"
   ]
  },
  {
   "cell_type": "code",
   "execution_count": null,
   "metadata": {},
   "outputs": [],
   "source": []
  },
  {
   "cell_type": "markdown",
   "metadata": {},
   "source": [
    "# (4) Multi-way if statement"
   ]
  },
  {
   "cell_type": "code",
   "execution_count": null,
   "metadata": {},
   "outputs": [],
   "source": [
    "'''\n",
    "Q9. Write a function grade() that:\n",
    "\n",
    "(1) takes a testing score as input\n",
    "(2) returns the grade by following criteria\n",
    "        A: 90 <= testing score\n",
    "        B: 80 <= testing score < 90\n",
    "        C: 70 <= testing score < 80\n",
    "        D: 60 <= testing score < 70\n",
    "        F: testing score < 60\n",
    "\n",
    "\n",
    ">>> grade(82.52)\n",
    "B\n",
    "\n",
    ">>> grade(90.80)\n",
    "A\n",
    "\n",
    "'''\n",
    "\n"
   ]
  },
  {
   "cell_type": "code",
   "execution_count": null,
   "metadata": {},
   "outputs": [],
   "source": []
  },
  {
   "cell_type": "code",
   "execution_count": null,
   "metadata": {},
   "outputs": [],
   "source": []
  },
  {
   "cell_type": "code",
   "execution_count": null,
   "metadata": {},
   "outputs": [],
   "source": []
  },
  {
   "cell_type": "code",
   "execution_count": null,
   "metadata": {},
   "outputs": [],
   "source": [
    "'''\n",
    "Q10. Write a function grade2() that:\n",
    "\n",
    "(1) takes a testing score and a number of absence as two inputs\n",
    "(2) finds the grade by following criteria\n",
    "        A: 90 <= testing score\n",
    "        B: 80 <= testing score < 90\n",
    "        C: 70 <= testing score < 80\n",
    "        D: 60 <= testing score < 70\n",
    "        F: testing score < 60\n",
    "        +: a number of absence < 6\n",
    "        -: a number of absence >= 6\n",
    "\n",
    "(3) prints the grade with personalized message:\n",
    "        Your grade is ##\n",
    "\n",
    "\n",
    ">>> grade2(92.55, 5)\n",
    "Your grade is A+\n",
    "\n",
    ">>> grade2(81.15, 7)\n",
    "Your grade is B-\n",
    "\n",
    "'''\n",
    "\n",
    "# Hint: You can use two if statements (i.e. a multi-way if statement & one-way if statement).\n",
    "# Note: Please use general output formatting to print out the personalized message."
   ]
  },
  {
   "cell_type": "code",
   "execution_count": null,
   "metadata": {},
   "outputs": [],
   "source": []
  },
  {
   "cell_type": "code",
   "execution_count": null,
   "metadata": {},
   "outputs": [],
   "source": []
  },
  {
   "cell_type": "code",
   "execution_count": null,
   "metadata": {},
   "outputs": [],
   "source": []
  }
 ],
 "metadata": {
  "anaconda-cloud": {},
  "kernelspec": {
   "display_name": "Python 3",
   "language": "python",
   "name": "python3"
  },
  "language_info": {
   "codemirror_mode": {
    "name": "ipython",
    "version": 3
   },
   "file_extension": ".py",
   "mimetype": "text/x-python",
   "name": "python",
   "nbconvert_exporter": "python",
   "pygments_lexer": "ipython3",
   "version": "3.8.3"
  }
 },
 "nbformat": 4,
 "nbformat_minor": 1
}
