{
 "cells": [
  {
   "cell_type": "markdown",
   "metadata": {},
   "source": [
    "# Inheritance"
   ]
  },
  {
   "cell_type": "code",
   "execution_count": null,
   "metadata": {},
   "outputs": [],
   "source": [
    "'''\n",
    "Develop a new class MyList that behaves as below:\n",
    "\n",
    ">>> mylst = MyList()\n",
    ">>> mylst.append(2)\n",
    ">>> mylst.append(3)\n",
    ">>> mylst.append(5)\n",
    ">>> mylst.append(7)\n",
    ">>> len(mylst)\n",
    "4\n",
    ">>> mylst.index(5)\n",
    "2\n",
    ">>> mylst.choice()\n",
    "7\n",
    ">>> mylst.choice()\n",
    "3\n",
    ">>> mylst.choice()\n",
    "3\n",
    ">>> mylst.choice()\n",
    "5\n",
    ">>> mylst.choice()\n",
    "3\n",
    "'''"
   ]
  },
  {
   "cell_type": "code",
   "execution_count": null,
   "metadata": {},
   "outputs": [],
   "source": [
    "import random\n",
    "lst = [1, 2, 3, 4, 5]\n"
   ]
  },
  {
   "cell_type": "code",
   "execution_count": null,
   "metadata": {},
   "outputs": [],
   "source": [
    "random.choice(lst)"
   ]
  },
  {
   "cell_type": "code",
   "execution_count": null,
   "metadata": {},
   "outputs": [],
   "source": [
    "random.choice(lst)"
   ]
  },
  {
   "cell_type": "code",
   "execution_count": null,
   "metadata": {},
   "outputs": [],
   "source": [
    "random.choice(lst)"
   ]
  },
  {
   "cell_type": "code",
   "execution_count": null,
   "metadata": {},
   "outputs": [],
   "source": [
    "random.choice(lst)"
   ]
  },
  {
   "cell_type": "code",
   "execution_count": null,
   "metadata": {},
   "outputs": [],
   "source": [
    "class MyList:\n",
    "    def __init__ (self):\n",
    "        self.lst = []\n",
    "    def append(self, item):\n",
    "        self.lst.append(item)\n",
    "    def __len__ (self):\n",
    "        return len(self.lst)"
   ]
  },
  {
   "cell_type": "code",
   "execution_count": null,
   "metadata": {},
   "outputs": [],
   "source": [
    "mylst = MyList()"
   ]
  },
  {
   "cell_type": "code",
   "execution_count": null,
   "metadata": {},
   "outputs": [],
   "source": [
    "mylst.append(1)"
   ]
  },
  {
   "cell_type": "code",
   "execution_count": null,
   "metadata": {},
   "outputs": [],
   "source": [
    "mylst.append(2)"
   ]
  },
  {
   "cell_type": "code",
   "execution_count": null,
   "metadata": {},
   "outputs": [],
   "source": [
    "len(mylst)"
   ]
  },
  {
   "cell_type": "code",
   "execution_count": null,
   "metadata": {},
   "outputs": [],
   "source": [
    "lst = list([2,3])\n",
    "lst"
   ]
  },
  {
   "cell_type": "code",
   "execution_count": null,
   "metadata": {},
   "outputs": [],
   "source": [
    "mylst2 = MyList([2,3])"
   ]
  },
  {
   "cell_type": "code",
   "execution_count": null,
   "metadata": {},
   "outputs": [],
   "source": [
    "class MyList:\n",
    "    def __init__ (self, initial = []):\n",
    "        self.lst = initial\n",
    "    def append(self, item):\n",
    "        self.lst.append(item)\n",
    "    def __len__ (self):\n",
    "        return len(self.lst)"
   ]
  },
  {
   "cell_type": "code",
   "execution_count": null,
   "metadata": {},
   "outputs": [],
   "source": [
    "mylst3 = MyList()\n",
    "mylst3.append(1)\n",
    "mylst3.append(2)\n",
    "len(mylst3)"
   ]
  },
  {
   "cell_type": "code",
   "execution_count": null,
   "metadata": {},
   "outputs": [],
   "source": [
    "mylst4 = MyList([1,2])\n",
    "mylst4.append(3)\n",
    "len(mylst4)"
   ]
  },
  {
   "cell_type": "code",
   "execution_count": null,
   "metadata": {},
   "outputs": [],
   "source": [
    "class MyList:\n",
    "    def __init__ (self, initial = []):\n",
    "        self.lst = initial\n",
    "    def append(self, item):\n",
    "        self.lst.append(item)\n",
    "    def __len__ (self):\n",
    "        return len(self.lst)\n",
    "    \n",
    "    def choice(self):\n",
    "        import random\n",
    "        return random.choice(self.lst)"
   ]
  },
  {
   "cell_type": "code",
   "execution_count": null,
   "metadata": {},
   "outputs": [],
   "source": [
    "mylst5 = MyList([1,2,3,4,5])\n",
    "mylst5.append(6)"
   ]
  },
  {
   "cell_type": "code",
   "execution_count": null,
   "metadata": {},
   "outputs": [],
   "source": [
    "len(mylst5)"
   ]
  },
  {
   "cell_type": "code",
   "execution_count": null,
   "metadata": {},
   "outputs": [],
   "source": [
    "mylst5.choice()"
   ]
  },
  {
   "cell_type": "code",
   "execution_count": null,
   "metadata": {},
   "outputs": [],
   "source": [
    "mylst5.choice()"
   ]
  },
  {
   "cell_type": "code",
   "execution_count": null,
   "metadata": {},
   "outputs": [],
   "source": [
    "mylst5.choice()"
   ]
  },
  {
   "cell_type": "code",
   "execution_count": null,
   "metadata": {},
   "outputs": [],
   "source": [
    "mylst5.choice()"
   ]
  },
  {
   "cell_type": "code",
   "execution_count": null,
   "metadata": {},
   "outputs": [],
   "source": [
    "mylst5.index(1)"
   ]
  },
  {
   "cell_type": "code",
   "execution_count": null,
   "metadata": {},
   "outputs": [],
   "source": [
    "class MyList(list):\n",
    "    def choice(self):\n",
    "        import random\n",
    "        return random.choice(self)"
   ]
  },
  {
   "cell_type": "code",
   "execution_count": null,
   "metadata": {},
   "outputs": [],
   "source": [
    "mylst6 = MyList()\n",
    "mylst6.append(2)\n",
    "mylst6.append(3)\n",
    "mylst6.append(5)\n",
    "mylst6.append(7)"
   ]
  },
  {
   "cell_type": "code",
   "execution_count": null,
   "metadata": {},
   "outputs": [],
   "source": [
    "len(mylst6)"
   ]
  },
  {
   "cell_type": "code",
   "execution_count": null,
   "metadata": {},
   "outputs": [],
   "source": [
    "mylst6.index(2)"
   ]
  },
  {
   "cell_type": "code",
   "execution_count": null,
   "metadata": {},
   "outputs": [],
   "source": [
    "mylst6.choice()"
   ]
  },
  {
   "cell_type": "code",
   "execution_count": null,
   "metadata": {},
   "outputs": [],
   "source": [
    "mylst6.choice()"
   ]
  },
  {
   "cell_type": "code",
   "execution_count": null,
   "metadata": {},
   "outputs": [],
   "source": [
    "mylst6.choice()"
   ]
  },
  {
   "cell_type": "code",
   "execution_count": null,
   "metadata": {},
   "outputs": [],
   "source": [
    "mylst6.choice()"
   ]
  },
  {
   "cell_type": "code",
   "execution_count": null,
   "metadata": {},
   "outputs": [],
   "source": [
    "dir(MyList)"
   ]
  },
  {
   "cell_type": "code",
   "execution_count": null,
   "metadata": {},
   "outputs": [],
   "source": [
    "dir(mylst6)"
   ]
  },
  {
   "cell_type": "code",
   "execution_count": null,
   "metadata": {},
   "outputs": [],
   "source": []
  },
  {
   "cell_type": "markdown",
   "metadata": {},
   "source": [
    "# Overriding superclass methods"
   ]
  },
  {
   "cell_type": "code",
   "execution_count": null,
   "metadata": {},
   "outputs": [],
   "source": [
    "'''\n",
    "\n",
    "Implement a new class Bird that inherits from superclass Animal\n",
    "But we want the speak() method to behave differently\n",
    "\n",
    ">>> snoopy = Animal()\n",
    ">>> snoopy.setSpecies('dog')\n",
    ">>> snoopy.setLanguage('bark')\n",
    ">>> snoopy.speak()\n",
    "I am a dog and I bark.\n",
    ">>> tweety = Bird()\n",
    ">>> tweety.setSpecies('canary')\n",
    ">>> tweety.setLanguage('tweet')\n",
    ">>> tweety.speak()\n",
    "tweet! tweet! tweet! \n",
    "'''\n",
    "\n",
    "class Animal:\n",
    "    def setSpecies(self, species):\n",
    "        self.spec = species\n",
    "\n",
    "    def setLanguage(self, language):\n",
    "        self.lang = language\n",
    "\n",
    "    def speak(self):\n",
    "        print('I am a {} and I {}.'.format(self.spec, self.lang))\n"
   ]
  },
  {
   "cell_type": "code",
   "execution_count": null,
   "metadata": {},
   "outputs": [],
   "source": [
    "class Bird:\n",
    "    def setSpecies(self, species):\n",
    "        self.spec = species\n",
    "        \n",
    "    def setLanguage(self, language):\n",
    "        self.lang = language\n",
    "        \n",
    "    def speak(self):\n",
    "        print('{}! {}! {}!'.format(self.lang, self.lang, self.lang))"
   ]
  },
  {
   "cell_type": "code",
   "execution_count": null,
   "metadata": {},
   "outputs": [],
   "source": [
    "tweety = Bird()\n",
    "tweety.setSpecies('canary')\n",
    "tweety.setLanguage('tweet')\n",
    "tweety.speak()"
   ]
  },
  {
   "cell_type": "code",
   "execution_count": null,
   "metadata": {},
   "outputs": [],
   "source": [
    "class Bird(Animal):\n",
    "    def speak(self):\n",
    "        print('{}! {}! {}!'.format(self.lang, self.lang, self.lang))"
   ]
  },
  {
   "cell_type": "code",
   "execution_count": null,
   "metadata": {},
   "outputs": [],
   "source": [
    "tweety = Bird()\n",
    "tweety.setSpecies('canary')\n",
    "tweety.setLanguage('tweet')\n",
    "tweety.speak()"
   ]
  },
  {
   "cell_type": "markdown",
   "metadata": {},
   "source": [
    "# Practice"
   ]
  },
  {
   "cell_type": "code",
   "execution_count": null,
   "metadata": {},
   "outputs": [],
   "source": [
    "'''\n",
    "Implement a class Person that supports these methods:\n",
    "\n",
    "__init__(): A constructor that takes as input a person's name (as a string)\n",
    "            and birth year (as an integer)\n",
    "age(): Returns the age of the person\n",
    "name(): Returns the name of the person\n",
    "\n",
    "Use function localtime() from the Standard Library module time to compute the age\n",
    "\n",
    "Your implementation of the class should behave as shown in the next code:\n",
    "\n",
    ">>> p1 = Person('Kenn', 1980)\n",
    ">>> p1.age()\n",
    "39\n",
    ">>> p1.name()\n",
    "'Kenn'\n",
    "\n",
    "'''\n"
   ]
  },
  {
   "cell_type": "code",
   "execution_count": null,
   "metadata": {},
   "outputs": [],
   "source": [
    "import time\n",
    "time.localtime()"
   ]
  },
  {
   "cell_type": "code",
   "execution_count": null,
   "metadata": {},
   "outputs": [],
   "source": [
    "time.localtime().tm_year"
   ]
  },
  {
   "cell_type": "code",
   "execution_count": null,
   "metadata": {},
   "outputs": [],
   "source": [
    "type(time.localtime().tm_year)"
   ]
  },
  {
   "cell_type": "code",
   "execution_count": null,
   "metadata": {},
   "outputs": [],
   "source": [
    "class Person:\n",
    "    def __init__(self, name, year):\n",
    "        self.p_n = name\n",
    "        self.p_y = year\n",
    "    def age(self):\n",
    "        import time\n",
    "        return time.localtime().tm_year - self.p_y\n",
    "    def name(self):\n",
    "        return self.p_n"
   ]
  },
  {
   "cell_type": "code",
   "execution_count": null,
   "metadata": {},
   "outputs": [],
   "source": [
    "p1 = Person('Kenn', 1980)"
   ]
  },
  {
   "cell_type": "code",
   "execution_count": null,
   "metadata": {},
   "outputs": [],
   "source": [
    "p1.age()"
   ]
  },
  {
   "cell_type": "code",
   "execution_count": null,
   "metadata": {},
   "outputs": [],
   "source": [
    "p1.name()"
   ]
  },
  {
   "cell_type": "code",
   "execution_count": null,
   "metadata": {},
   "outputs": [],
   "source": [
    "'''\n",
    "Implement two subclasses of class Person.\n",
    "\n",
    "(1) The class Instructor supports methodes:\n",
    "\n",
    "__init__(): Constructor that takes the person's degree in addition to name and birth year\n",
    "degree(): Returns the degree of the instructor\n",
    "\n",
    "(2) The class Student, also a subclass of Person, supports:\n",
    "\n",
    "__init__(): Constructor that takes the person's major in addition to name and birth year\n",
    "major(): Returns the major of the student\n",
    "\n",
    "Your implementation of the three classes should behave as shown in the next code:\n",
    "\n",
    ">>> x = Instructor('Kenn', 1980, 'PhD')\n",
    ">>> x.age()\n",
    "39\n",
    ">>> x.degree()\n",
    "'PhD'\n",
    ">>> y = Student('Jones', 1996, 'Business Administration')\n",
    ">>> y.age()\n",
    "23\n",
    ">>> y.major()\n",
    "'Business Administration'\n",
    "\n",
    "'''\n"
   ]
  },
  {
   "cell_type": "code",
   "execution_count": null,
   "metadata": {},
   "outputs": [],
   "source": [
    "class Instructor(Person):\n",
    "    def __init__(self, name, year, degree):\n",
    "        self.i_n = name\n",
    "        self.i_y = year\n",
    "        self.i_d = degree\n",
    "    def degree(self):\n",
    "        return self.i_d\n",
    "    \n",
    "class Student(Person):\n",
    "    def __init__(self, name, year, major):\n",
    "        self.s_n = name\n",
    "        self.s_y = year\n",
    "        self.s_m = major\n",
    "    def major(self):\n",
    "        return self.s_m"
   ]
  },
  {
   "cell_type": "code",
   "execution_count": null,
   "metadata": {},
   "outputs": [],
   "source": [
    "x = Instructor('Kenn', 1980, 'PhD')"
   ]
  },
  {
   "cell_type": "code",
   "execution_count": null,
   "metadata": {},
   "outputs": [],
   "source": [
    "x.age()"
   ]
  },
  {
   "cell_type": "code",
   "execution_count": null,
   "metadata": {},
   "outputs": [],
   "source": [
    "x.degree()"
   ]
  },
  {
   "cell_type": "code",
   "execution_count": null,
   "metadata": {},
   "outputs": [],
   "source": [
    "y = Student('Jones', 1996, 'Business Administration')"
   ]
  },
  {
   "cell_type": "code",
   "execution_count": null,
   "metadata": {},
   "outputs": [],
   "source": [
    "y.age()"
   ]
  },
  {
   "cell_type": "code",
   "execution_count": null,
   "metadata": {},
   "outputs": [],
   "source": [
    "y.major()"
   ]
  },
  {
   "cell_type": "code",
   "execution_count": null,
   "metadata": {},
   "outputs": [],
   "source": [
    "class Instructor(Person):\n",
    "    def __init__(self, name, year, degree):\n",
    "        self.p_n = name\n",
    "        self.p_y = year\n",
    "        self.p_d = degree\n",
    "    def degree(self):\n",
    "        return self.p_d\n",
    "    \n",
    "class Student(Person):\n",
    "    def __init__(self, name, year, major):\n",
    "        self.p_n = name\n",
    "        self.p_y = year\n",
    "        self.p_m = major\n",
    "    def major(self):\n",
    "        return self.p_m"
   ]
  },
  {
   "cell_type": "code",
   "execution_count": null,
   "metadata": {},
   "outputs": [],
   "source": [
    "x = Instructor('Kenn', 1980, 'PhD')"
   ]
  },
  {
   "cell_type": "code",
   "execution_count": null,
   "metadata": {},
   "outputs": [],
   "source": [
    "x.age()"
   ]
  },
  {
   "cell_type": "code",
   "execution_count": null,
   "metadata": {},
   "outputs": [],
   "source": [
    "x.degree()"
   ]
  },
  {
   "cell_type": "code",
   "execution_count": null,
   "metadata": {},
   "outputs": [],
   "source": [
    "y = Student('Jones', 1996, 'Business Administration')"
   ]
  },
  {
   "cell_type": "code",
   "execution_count": null,
   "metadata": {},
   "outputs": [],
   "source": [
    "y.age()"
   ]
  },
  {
   "cell_type": "code",
   "execution_count": null,
   "metadata": {},
   "outputs": [],
   "source": [
    "y.major()"
   ]
  },
  {
   "cell_type": "code",
   "execution_count": null,
   "metadata": {},
   "outputs": [],
   "source": []
  }
 ],
 "metadata": {
  "anaconda-cloud": {},
  "kernelspec": {
   "display_name": "Python 3",
   "language": "python",
   "name": "python3"
  },
  "language_info": {
   "codemirror_mode": {
    "name": "ipython",
    "version": 3
   },
   "file_extension": ".py",
   "mimetype": "text/x-python",
   "name": "python",
   "nbconvert_exporter": "python",
   "pygments_lexer": "ipython3",
   "version": "3.8.3"
  }
 },
 "nbformat": 4,
 "nbformat_minor": 1
}
