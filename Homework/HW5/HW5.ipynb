{
 "cells": [
  {
   "cell_type": "markdown",
   "metadata": {},
   "source": [
    "# (1) Namespaces: Global vs. Local Variables"
   ]
  },
  {
   "cell_type": "code",
   "execution_count": 1,
   "metadata": {},
   "outputs": [
    {
     "data": {
      "text/plain": [
       "\"\\nQ1. Let us assume that you defined a function triple() as shown below:\\n\\ndef triple(a):\\n    b = 3\\n    print('a={}, b={}'.format(a, b))\\n    return a * b\\n    \\nIn you function, a variable 'b' is local variable. \\n\\nPlese rewrite (i.e. redefine) the function triple() in which a variable 'b' is a global variable.\\n\\n\""
      ]
     },
     "execution_count": 1,
     "metadata": {},
     "output_type": "execute_result"
    }
   ],
   "source": [
    "'''\n",
    "Q1. Let us assume that you defined a function triple() as shown below:\n",
    "\n",
    "def triple(a):\n",
    "    b = 3\n",
    "    print('a={}, b={}'.format(a, b))\n",
    "    return a * b\n",
    "    \n",
    "In you function, a variable 'b' is local variable. \n",
    "\n",
    "Plese rewrite (i.e. redefine) the function triple() in which a variable 'b' is a global variable.\n",
    "\n",
    "'''"
   ]
  },
  {
   "cell_type": "code",
   "execution_count": 2,
   "metadata": {},
   "outputs": [],
   "source": [
    "def triple(a):\n",
    "    global b\n",
    "    b = 3\n",
    "    print(f'a={a}, b={b}')\n",
    "    return a * b"
   ]
  },
  {
   "cell_type": "code",
   "execution_count": 3,
   "metadata": {},
   "outputs": [
    {
     "name": "stdout",
     "output_type": "stream",
     "text": [
      "a=4, b=3\n",
      "12\n",
      "a=6, b=3\n",
      "18\n",
      "b = 3\n"
     ]
    }
   ],
   "source": [
    "print(triple(4))\n",
    "print(triple(6))\n",
    "print(f\"b = {b}\")"
   ]
  },
  {
   "cell_type": "markdown",
   "metadata": {},
   "source": [
    "# (2) Exception Handling"
   ]
  },
  {
   "cell_type": "code",
   "execution_count": 4,
   "metadata": {},
   "outputs": [
    {
     "data": {
      "text/plain": [
       "\"\\nQ2. Let us assume that you defined a function open_new() as shown below:\\n\\ndef open_new(filename, mode):\\n    infile = open(filename, mode)\\n    contents = infile.read().split()\\n    infile.close()\\n    return contents\\n\\nWhen the file doesn't exist in the current working directory, \\nrunning the open_new() function will trigger IOError.\\n    \\nPlease write a new function safe_open_new() that takes filename and mode as input arguments.\\n\\nIf an exception (i.e. errors) is rased while trying to open the file, \\nyour newly defined safe_open_new() will return the following message, not the ordanary error message.\\n\\n'Master, I cannot find your treasure in the working directory...'\\n\\n\""
      ]
     },
     "execution_count": 4,
     "metadata": {},
     "output_type": "execute_result"
    }
   ],
   "source": [
    "'''\n",
    "Q2. Let us assume that you defined a function open_new() as shown below:\n",
    "\n",
    "def open_new(filename, mode):\n",
    "    infile = open(filename, mode)\n",
    "    contents = infile.read().split()\n",
    "    infile.close()\n",
    "    return contents\n",
    "\n",
    "When the file doesn't exist in the current working directory, \n",
    "running the open_new() function will trigger IOError.\n",
    "    \n",
    "Please write a new function safe_open_new() that takes filename and mode as input arguments.\n",
    "\n",
    "If an exception (i.e. errors) is rased while trying to open the file, \n",
    "your newly defined safe_open_new() will return the following message, not the ordanary error message.\n",
    "\n",
    "'Master, I cannot find your treasure in the working directory...'\n",
    "\n",
    "'''"
   ]
  },
  {
   "cell_type": "code",
   "execution_count": 5,
   "metadata": {},
   "outputs": [],
   "source": [
    "def safe_open_new(filename, mode):\n",
    "    try:\n",
    "        with open(filename, mode) as infile:\n",
    "            contents = infile.read().split()\n",
    "        return contents\n",
    "    except IOError:\n",
    "        return \"Master, I cannot find your treasure in the working directory...\"\n"
   ]
  },
  {
   "cell_type": "code",
   "execution_count": 6,
   "metadata": {},
   "outputs": [
    {
     "data": {
      "text/plain": [
       "'Master, I cannot find your treasure in the working directory...'"
      ]
     },
     "execution_count": 6,
     "metadata": {},
     "output_type": "execute_result"
    }
   ],
   "source": [
    "safe_open_new('randomname.txt', 'r')"
   ]
  },
  {
   "cell_type": "code",
   "execution_count": 7,
   "metadata": {},
   "outputs": [
    {
     "data": {
      "text/plain": [
       "'\\nQ3. Let us assume that you defined a function math_game() as shown below:\\n\\ndef math_game(n):\\n    import random\\n    count = 0\\n    for i in range(n):\\n        x = random.randrange(0, 10)\\n        y = random.randrange(0, 10)\\n        numbers = x + y\\n        print (\\'{} + {} =\\'.format(x,y))\\n        guess = int(input(\\'Enter your guess: \\'))\\n        if guess == numbers:\\n            count += 1\\n            print(\"Correct.\")\\n        elif guess != numbers:\\n            print(\"Incorrect.\")\\n    print(\\'You got {} correct answer(s) out of {}.\\'.format(count, n))\\n\\nOne sample run of math_game() is following:\\n\\n>>> math_game(2)\\n3 + 1 =\\nEnter your guess: 4\\nCorrect.\\n4 + 9 =\\nEnter your guess: 11\\nIncorrect.\\nYou got 1 correct answer(s) out of 2.\\n\\nHowever, this function math_game() requires users to to enter their answers using digits 0 through 9.\\n\\nPlease write a new function new_math_game() that takes a number of rounds as an input; \\nthe function can handle non-digit user input by \\n(1) printing a message like \"Please write your answer using digits 0 through 9. Try again!\" and then \\n(2) giving the user another opportunity to enter an answer.\\n\\nOne sample run of new_math_game() is following:\\n\\n>>> new_math_game(3)\\n4 + 3 =\\nEnter your guess: 7\\nCorrect.\\n7 + 8 = \\nEnter your guess: fifteen\\nPlease write your answer using digits 0 through 9. Try again!\\nEnter your guess: 15\\nCorrect.\\n2 + 8 =\\nEnter your guess: 9\\nIncorrect.\\nYou got 2 correct answer(s) out of 3.\\n\\n'"
      ]
     },
     "execution_count": 7,
     "metadata": {},
     "output_type": "execute_result"
    }
   ],
   "source": [
    "'''\n",
    "Q3. Let us assume that you defined a function math_game() as shown below:\n",
    "\n",
    "def math_game(n):\n",
    "    import random\n",
    "    count = 0\n",
    "    for i in range(n):\n",
    "        x = random.randrange(0, 10)\n",
    "        y = random.randrange(0, 10)\n",
    "        numbers = x + y\n",
    "        print ('{} + {} ='.format(x,y))\n",
    "        guess = int(input('Enter your guess: '))\n",
    "        if guess == numbers:\n",
    "            count += 1\n",
    "            print(\"Correct.\")\n",
    "        elif guess != numbers:\n",
    "            print(\"Incorrect.\")\n",
    "    print('You got {} correct answer(s) out of {}.'.format(count, n))\n",
    "\n",
    "One sample run of math_game() is following:\n",
    "\n",
    ">>> math_game(2)\n",
    "3 + 1 =\n",
    "Enter your guess: 4\n",
    "Correct.\n",
    "4 + 9 =\n",
    "Enter your guess: 11\n",
    "Incorrect.\n",
    "You got 1 correct answer(s) out of 2.\n",
    "\n",
    "However, this function math_game() requires users to to enter their answers using digits 0 through 9.\n",
    "\n",
    "Please write a new function new_math_game() that takes a number of rounds as an input; \n",
    "the function can handle non-digit user input by \n",
    "(1) printing a message like \"Please write your answer using digits 0 through 9. Try again!\" and then \n",
    "(2) giving the user another opportunity to enter an answer.\n",
    "\n",
    "One sample run of new_math_game() is following:\n",
    "\n",
    ">>> new_math_game(3)\n",
    "4 + 3 =\n",
    "Enter your guess: 7\n",
    "Correct.\n",
    "7 + 8 = \n",
    "Enter your guess: fifteen\n",
    "Please write your answer using digits 0 through 9. Try again!\n",
    "Enter your guess: 15\n",
    "Correct.\n",
    "2 + 8 =\n",
    "Enter your guess: 9\n",
    "Incorrect.\n",
    "You got 2 correct answer(s) out of 3.\n",
    "\n",
    "'''"
   ]
  },
  {
   "cell_type": "code",
   "execution_count": 8,
   "metadata": {},
   "outputs": [],
   "source": [
    "def new_math_game(n):\n",
    "    import random\n",
    "    count = 0\n",
    "    \n",
    "    for _ in range(n):\n",
    "        x = random.randrange(0, 10)\n",
    "        y = random.randrange(0, 10)\n",
    "        numbers = x + y\n",
    "        print(f'{x} + {y} =')\n",
    "        \n",
    "        while True:\n",
    "            guess = input('Enter your guess: ')\n",
    "            print(f\"Enter your guess: {guess}\")\n",
    "            try:\n",
    "                guess = int(guess)\n",
    "                break\n",
    "            except ValueError:\n",
    "                print(\"Please write your answer using digits 0 through 9. Try again!\")\n",
    "        \n",
    "        if guess == numbers:\n",
    "            count += 1\n",
    "            print(\"Correct.\")\n",
    "        else:\n",
    "            print(\"Incorrect.\")\n",
    "    \n",
    "    print(f'You got {count} correct answer(s) out of {n}.')\n"
   ]
  },
  {
   "cell_type": "code",
   "execution_count": 9,
   "metadata": {},
   "outputs": [
    {
     "name": "stdout",
     "output_type": "stream",
     "text": [
      "4 + 5 =\n",
      "Enter your guess: 9\n",
      "Correct.\n",
      "5 + 6 =\n",
      "Enter your guess: eleven\n",
      "Please write your answer using digits 0 through 9. Try again!\n",
      "Enter your guess: 11\n",
      "Correct.\n",
      "5 + 5 =\n",
      "Enter your guess: \n",
      "Please write your answer using digits 0 through 9. Try again!\n",
      "Enter your guess: 10\n",
      "Correct.\n",
      "You got 3 correct answer(s) out of 3.\n"
     ]
    }
   ],
   "source": [
    "new_math_game(3)"
   ]
  },
  {
   "cell_type": "code",
   "execution_count": 10,
   "metadata": {},
   "outputs": [
    {
     "data": {
      "text/plain": [
       "'\\nQ4. In Q3, you defined a function new_math_game(). \\n\\nYour function gives another opportunity to enter an answer. \\n\\nWhat if you wish to limit the number of opportunities when users can input non-digits?\\n\\nPleae write a new function new_math_game_2() that takes a number of rounds as an input:\\nthe function can handle non-digit user input by\\n(1) printing a message like \"Please write your answer using digits 0 through 9. Try again!\" and then \\n(2) giving the user another opportunity to enter an answer. But, \\n(3) when users input non-digits more than two times, the function will quit and print following messages\\n    \\'Two erros. Quitting...\\'\\n\\nTwo sample runs of new_math_game_2() is following:\\n\\n>>> new_math_game_2(3)\\n4 + 3 =\\nEnter your guess: 7\\nCorrect.\\n7 + 8 = \\nEnter your guess: fifteen\\nPlease write your answer using digits 0 through 9. Try again!\\nEnter your guess: 15\\nCorrect.\\n2 + 8 =\\nEnter your guess: 9\\nIncorrect.\\nYou got 2 correct answer(s) out of 3.\\n\\n>>> new_math_game_2(3)\\n4 + 3 =\\nEnter your guess: 7\\nCorrect.\\n7 + 8 = \\nEnter your guess: fifteen\\nPlease write your answer using digits 0 through 9. Try again!\\nEnter your guess: 15\\nCorrect.\\n2 + 8 =\\nEnter your guess: ten\\nTwo erros. Quitting...\\n\\n'"
      ]
     },
     "execution_count": 10,
     "metadata": {},
     "output_type": "execute_result"
    }
   ],
   "source": [
    "'''\n",
    "Q4. In Q3, you defined a function new_math_game(). \n",
    "\n",
    "Your function gives another opportunity to enter an answer. \n",
    "\n",
    "What if you wish to limit the number of opportunities when users can input non-digits?\n",
    "\n",
    "Pleae write a new function new_math_game_2() that takes a number of rounds as an input:\n",
    "the function can handle non-digit user input by\n",
    "(1) printing a message like \"Please write your answer using digits 0 through 9. Try again!\" and then \n",
    "(2) giving the user another opportunity to enter an answer. But, \n",
    "(3) when users input non-digits more than two times, the function will quit and print following messages\n",
    "    'Two erros. Quitting...'\n",
    "\n",
    "Two sample runs of new_math_game_2() is following:\n",
    "\n",
    "\n",
    ">>> new_math_game_2(3)\n",
    "4 + 3 =\n",
    "Enter your guess: 7\n",
    "Correct.\n",
    "7 + 8 = \n",
    "Enter your guess: fifteen\n",
    "Please write your answer using digits 0 through 9. Try again!\n",
    "Enter your guess: 15\n",
    "Correct.\n",
    "2 + 8 =\n",
    "Enter your guess: 9\n",
    "Incorrect.\n",
    "You got 2 correct answer(s) out of 3.\n",
    "\n",
    ">>> new_math_game_2(3)\n",
    "4 + 3 =\n",
    "Enter your guess: 7\n",
    "Correct.\n",
    "7 + 8 = \n",
    "Enter your guess: fifteen\n",
    "Please write your answer using digits 0 through 9. Try again!\n",
    "Enter your guess: 15\n",
    "Correct.\n",
    "2 + 8 =\n",
    "Enter your guess: ten\n",
    "Two erros. Quitting...\n",
    "\n",
    "'''"
   ]
  },
  {
   "cell_type": "code",
   "execution_count": 11,
   "metadata": {},
   "outputs": [],
   "source": [
    "def new_math_game_2(n):\n",
    "    import random\n",
    "    count = 0\n",
    "    attempts = 0\n",
    "    for _ in range(n):\n",
    "        x = random.randrange(0, 10)\n",
    "        y = random.randrange(0, 10)\n",
    "        numbers = x + y\n",
    "        print(f'{x} + {y} =')\n",
    "        \n",
    "        while True:\n",
    "                \n",
    "            guess = input('Enter your guess: ')\n",
    "            print(f\"Enter your guess: {guess}\")\n",
    "            try:\n",
    "                guess = int(guess)\n",
    "                break\n",
    "            except ValueError:\n",
    "                attempts += 1\n",
    "                if attempts >= 2:\n",
    "                    print('Two errors. Quitting...')\n",
    "                    return\n",
    "                print(\"Please write your answer using digits 0 through 9. Try again!\")\n",
    "        \n",
    "        if guess == numbers:\n",
    "            count += 1\n",
    "            print(\"Correct.\")\n",
    "        else:\n",
    "            print(\"Incorrect.\")\n",
    "    \n",
    "    print(f'You got {count} correct answer(s) out of {n}.')\n"
   ]
  },
  {
   "cell_type": "code",
   "execution_count": 12,
   "metadata": {},
   "outputs": [
    {
     "name": "stdout",
     "output_type": "stream",
     "text": [
      "0 + 4 =\n",
      "Enter your guess: 4\n",
      "Correct.\n",
      "4 + 1 =\n",
      "Enter your guess: five\n",
      "Please write your answer using digits 0 through 9. Try again!\n",
      "Enter your guess: 5\n",
      "Correct.\n",
      "4 + 4 =\n",
      "Enter your guess: 8\n",
      "Correct.\n",
      "You got 3 correct answer(s) out of 3.\n"
     ]
    }
   ],
   "source": [
    "new_math_game_2(3)"
   ]
  },
  {
   "cell_type": "code",
   "execution_count": 13,
   "metadata": {},
   "outputs": [
    {
     "name": "stdout",
     "output_type": "stream",
     "text": [
      "6 + 2 =\n",
      "Enter your guess: eight\n",
      "Please write your answer using digits 0 through 9. Try again!\n",
      "Enter your guess: 8\n",
      "Correct.\n",
      "6 + 9 =\n",
      "Enter your guess: 15\n",
      "Correct.\n",
      "3 + 9 =\n",
      "Enter your guess: twelve\n",
      "Two errors. Quitting...\n"
     ]
    }
   ],
   "source": [
    "new_math_game_2(3)"
   ]
  },
  {
   "cell_type": "markdown",
   "metadata": {},
   "source": [
    "# (3) Modules (Top-level module)"
   ]
  },
  {
   "cell_type": "code",
   "execution_count": 14,
   "metadata": {},
   "outputs": [
    {
     "data": {
      "text/plain": [
       "\"\\nQ5 ~ Q6. Python has its own search path, but your desktop folder wouldn't be included. \\n\\n\""
      ]
     },
     "execution_count": 14,
     "metadata": {},
     "output_type": "execute_result"
    }
   ],
   "source": [
    "'''\n",
    "Q5 ~ Q6. Python has its own search path, but your desktop folder wouldn't be included. \n",
    "\n",
    "'''\n",
    "\n",
    "# hint: you need to import sys module"
   ]
  },
  {
   "cell_type": "code",
   "execution_count": 15,
   "metadata": {},
   "outputs": [
    {
     "name": "stdout",
     "output_type": "stream",
     "text": [
      "c:\\Users\\sar-home\\Clemson\\DSA-8640\\Homework\\HW5\n",
      "c:\\Users\\sar-home\\anaconda3\\python312.zip\n",
      "c:\\Users\\sar-home\\anaconda3\\DLLs\n",
      "c:\\Users\\sar-home\\anaconda3\\Lib\n",
      "c:\\Users\\sar-home\\anaconda3\n",
      "\n",
      "c:\\Users\\sar-home\\anaconda3\\Lib\\site-packages\n",
      "c:\\Users\\sar-home\\anaconda3\\Lib\\site-packages\\win32\n",
      "c:\\Users\\sar-home\\anaconda3\\Lib\\site-packages\\win32\\lib\n",
      "c:\\Users\\sar-home\\anaconda3\\Lib\\site-packages\\Pythonwin\n"
     ]
    }
   ],
   "source": [
    "# Q5. Please print out your search path\n",
    "import sys\n",
    "\n",
    "for p in sys.path:\n",
    "    print(p)"
   ]
  },
  {
   "cell_type": "code",
   "execution_count": 16,
   "metadata": {},
   "outputs": [
    {
     "name": "stdout",
     "output_type": "stream",
     "text": [
      "c:\\Users\\sar-home\\Clemson\\DSA-8640\\Homework\\HW5\n",
      "c:\\Users\\sar-home\\anaconda3\\python312.zip\n",
      "c:\\Users\\sar-home\\anaconda3\\DLLs\n",
      "c:\\Users\\sar-home\\anaconda3\\Lib\n",
      "c:\\Users\\sar-home\\anaconda3\n",
      "\n",
      "c:\\Users\\sar-home\\anaconda3\\Lib\\site-packages\n",
      "c:\\Users\\sar-home\\anaconda3\\Lib\\site-packages\\win32\n",
      "c:\\Users\\sar-home\\anaconda3\\Lib\\site-packages\\win32\\lib\n",
      "c:\\Users\\sar-home\\anaconda3\\Lib\\site-packages\\Pythonwin\n",
      "C:\\Users\\sar-home\\Desktop\n"
     ]
    }
   ],
   "source": [
    "# Q6. Please add your desktop folder to the search path\n",
    "import os\n",
    "\n",
    "home_dir = os.path.expanduser(\"~\") # getting home directory\n",
    "\n",
    "desktop_path = os.path.join(home_dir, \"Desktop\") # adding 'Desktop' to \n",
    "sys.path.append(desktop_path)\n",
    "\n",
    "for p in sys.path:\n",
    "    print(p)"
   ]
  },
  {
   "cell_type": "code",
   "execution_count": 17,
   "metadata": {},
   "outputs": [
    {
     "data": {
      "text/plain": [
       "'\\nQ7 ~ Q8. In Python, you can import math module.\\n\\n'"
      ]
     },
     "execution_count": 17,
     "metadata": {},
     "output_type": "execute_result"
    }
   ],
   "source": [
    "'''\n",
    "Q7 ~ Q8. In Python, you can import math module.\n",
    "\n",
    "'''\n",
    "\n",
    "# hint: you can use dir(), __name__, and __file"
   ]
  },
  {
   "cell_type": "code",
   "execution_count": 18,
   "metadata": {},
   "outputs": [
    {
     "name": "stdout",
     "output_type": "stream",
     "text": [
      "math\n"
     ]
    }
   ],
   "source": [
    "# Q7. Please display the name of math module\n",
    "import math\n",
    "\n",
    "print(math.__name__)"
   ]
  },
  {
   "cell_type": "code",
   "execution_count": 19,
   "metadata": {},
   "outputs": [
    {
     "name": "stdout",
     "output_type": "stream",
     "text": [
      "The math module is a native (built in) python method, thus does not have a file path.\n"
     ]
    }
   ],
   "source": [
    "# Q8. Please display the absolute pathname of the file containing math module\n",
    "try:\n",
    "    print(math.__file__)\n",
    "except AttributeError:\n",
    "    print(f\"The {math.__name__} module is a native (built in) python method, thus does not have a file path.\")"
   ]
  },
  {
   "cell_type": "markdown",
   "metadata": {},
   "source": [
    "# (4) Method Invocations"
   ]
  },
  {
   "cell_type": "code",
   "execution_count": 20,
   "metadata": {},
   "outputs": [
    {
     "data": {
      "text/plain": [
       "\"\\nQ9 ~ Q10. Please rewrite the Python codes below with the method invocations.\\n\\nExample:\\n\\ns = 'DSA8640'\\ns.upper()\\n\\nstr.upper(s)\\n\\n\""
      ]
     },
     "execution_count": 20,
     "metadata": {},
     "output_type": "execute_result"
    }
   ],
   "source": [
    "'''\n",
    "Q9 ~ Q10. Please rewrite the Python codes below with the method invocations.\n",
    "\n",
    "Example:\n",
    "\n",
    "s = 'DSA8640'\n",
    "s.upper()\n",
    "\n",
    "str.upper(s)\n",
    "\n",
    "'''"
   ]
  },
  {
   "cell_type": "code",
   "execution_count": 21,
   "metadata": {},
   "outputs": [],
   "source": [
    "s = 'DSA8640 Programming for Data Science'\n",
    "lst = ['apple', 'pear', 'strawberry']"
   ]
  },
  {
   "cell_type": "code",
   "execution_count": 22,
   "metadata": {},
   "outputs": [],
   "source": [
    "# Q9. lst.append('blueberry')\n",
    "list.append(lst, 'blueberry')"
   ]
  },
  {
   "cell_type": "code",
   "execution_count": 23,
   "metadata": {},
   "outputs": [
    {
     "data": {
      "text/plain": [
       "['apple', 'pear', 'strawberry', 'blueberry']"
      ]
     },
     "execution_count": 23,
     "metadata": {},
     "output_type": "execute_result"
    }
   ],
   "source": [
    "lst"
   ]
  },
  {
   "cell_type": "code",
   "execution_count": 24,
   "metadata": {},
   "outputs": [],
   "source": [
    "# Q10. s.upper().split()\n",
    "s = str.upper(s)\n",
    "s = str.split(s)"
   ]
  },
  {
   "cell_type": "code",
   "execution_count": 25,
   "metadata": {},
   "outputs": [
    {
     "data": {
      "text/plain": [
       "['DSA8640', 'PROGRAMMING', 'FOR', 'DATA', 'SCIENCE']"
      ]
     },
     "execution_count": 25,
     "metadata": {},
     "output_type": "execute_result"
    }
   ],
   "source": [
    "s"
   ]
  },
  {
   "cell_type": "code",
   "execution_count": null,
   "metadata": {},
   "outputs": [],
   "source": []
  }
 ],
 "metadata": {
  "anaconda-cloud": {},
  "kernelspec": {
   "display_name": "base",
   "language": "python",
   "name": "python3"
  },
  "language_info": {
   "codemirror_mode": {
    "name": "ipython",
    "version": 3
   },
   "file_extension": ".py",
   "mimetype": "text/x-python",
   "name": "python",
   "nbconvert_exporter": "python",
   "pygments_lexer": "ipython3",
   "version": "3.12.4"
  }
 },
 "nbformat": 4,
 "nbformat_minor": 1
}
