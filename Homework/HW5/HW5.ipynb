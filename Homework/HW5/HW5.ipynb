{
 "cells": [
  {
   "cell_type": "markdown",
   "metadata": {},
   "source": [
    "# (1) Namespaces: Global vs. Local Variables"
   ]
  },
  {
   "cell_type": "code",
   "execution_count": null,
   "metadata": {},
   "outputs": [],
   "source": [
    "'''\n",
    "Q1. Let us assume that you defined a function triple() as shown below:\n",
    "\n",
    "def triple(a):\n",
    "    b = 3\n",
    "    print('a={}, b={}'.format(a, b))\n",
    "    return a * b\n",
    "    \n",
    "In you function, a variable 'b' is local variable. \n",
    "\n",
    "Plese rewrite (i.e. redefine) the function triple() in which a variable 'b' is a global variable.\n",
    "\n",
    "'''"
   ]
  },
  {
   "cell_type": "code",
   "execution_count": null,
   "metadata": {},
   "outputs": [],
   "source": []
  },
  {
   "cell_type": "markdown",
   "metadata": {},
   "source": [
    "# (2) Exception Handling"
   ]
  },
  {
   "cell_type": "code",
   "execution_count": null,
   "metadata": {},
   "outputs": [],
   "source": [
    "'''\n",
    "Q2. Let us assume that you defined a function open_new() as shown below:\n",
    "\n",
    "def open_new(filename, mode):\n",
    "    infile = open(filename, mode)\n",
    "    contents = infile.read().split()\n",
    "    infile.close()\n",
    "    return contents\n",
    "\n",
    "When the file doesn't exist in the current working directory, \n",
    "running the open_new() function will trigger IOError.\n",
    "    \n",
    "Please write a new function safe_open_new() that takes filename and mode as input arguments.\n",
    "\n",
    "If an exception (i.e. errors) is rased while trying to open the file, \n",
    "your newly defined safe_open_new() will return the following message, not the ordanary error message.\n",
    "\n",
    "'Master, I cannot find your treasure in the working directory...'\n",
    "\n",
    "'''"
   ]
  },
  {
   "cell_type": "code",
   "execution_count": null,
   "metadata": {},
   "outputs": [],
   "source": []
  },
  {
   "cell_type": "code",
   "execution_count": null,
   "metadata": {},
   "outputs": [],
   "source": [
    "safe_open_new('randomname.txt', 'r')"
   ]
  },
  {
   "cell_type": "code",
   "execution_count": null,
   "metadata": {},
   "outputs": [],
   "source": [
    "'''\n",
    "Q3. Let us assume that you defined a function math_game() as shown below:\n",
    "\n",
    "def math_game(n):\n",
    "    import random\n",
    "    count = 0\n",
    "    for i in range(n):\n",
    "        x = random.randrange(0, 10)\n",
    "        y = random.randrange(0, 10)\n",
    "        numbers = x + y\n",
    "        print ('{} + {} ='.format(x,y))\n",
    "        guess = int(input('Enter your guess: '))\n",
    "        if guess == numbers:\n",
    "            count += 1\n",
    "            print(\"Correct.\")\n",
    "        elif guess != numbers:\n",
    "            print(\"Incorrect.\")\n",
    "    print('You got {} correct answer(s) out of {}.'.format(count, n))\n",
    "\n",
    "One sample run of math_game() is following:\n",
    "\n",
    ">>> math_game(2)\n",
    "3 + 1 =\n",
    "Enter your guess: 4\n",
    "Correct.\n",
    "4 + 9 =\n",
    "Enter your guess: 11\n",
    "Incorrect.\n",
    "You got 1 correct answer(s) out of 2.\n",
    "\n",
    "However, this function math_game() requires users to to enter their answers using digits 0 through 9.\n",
    "\n",
    "Please write a new function new_math_game() that takes a number of rounds as an input; \n",
    "the function can handle non-digit user input by \n",
    "(1) printing a message like \"Please write your answer using digits 0 through 9. Try again!\" and then \n",
    "(2) giving the user another opportunity to enter an answer.\n",
    "\n",
    "One sample run of new_math_game() is following:\n",
    "\n",
    ">>> new_math_game(3)\n",
    "4 + 3 =\n",
    "Enter your guess: 7\n",
    "Correct.\n",
    "7 + 8 = \n",
    "Enter your guess: fifteen\n",
    "Please write your answer using digits 0 through 9. Try again!\n",
    "Enter your guess: 15\n",
    "Correct.\n",
    "2 + 8 =\n",
    "Enter your guess: 9\n",
    "Incorrect.\n",
    "You got 2 correct answer(s) out of 3.\n",
    "\n",
    "'''"
   ]
  },
  {
   "cell_type": "code",
   "execution_count": null,
   "metadata": {},
   "outputs": [],
   "source": []
  },
  {
   "cell_type": "code",
   "execution_count": null,
   "metadata": {},
   "outputs": [],
   "source": [
    "new_math_game(3)"
   ]
  },
  {
   "cell_type": "code",
   "execution_count": null,
   "metadata": {},
   "outputs": [],
   "source": [
    "'''\n",
    "Q4. In Q3, you defined a function new_math_game(). \n",
    "\n",
    "Your function gives another opportunity to enter an answer. \n",
    "\n",
    "What if you wish to limit the number of opportunities when users can input non-digits?\n",
    "\n",
    "Pleae write a new function new_math_game_2() that takes a number of rounds as an input:\n",
    "the function can handle non-digit user input by\n",
    "(1) printing a message like \"Please write your answer using digits 0 through 9. Try again!\" and then \n",
    "(2) giving the user another opportunity to enter an answer. But, \n",
    "(3) when users input non-digits more than two times, the function will quit and print following messages\n",
    "    'Two erros. Quitting...'\n",
    "\n",
    "Two sample runs of new_math_game_2() is following:\n",
    "\n",
    ">>> new_math_game_2(3)\n",
    "4 + 3 =\n",
    "Enter your guess: 7\n",
    "Correct.\n",
    "7 + 8 = \n",
    "Enter your guess: fifteen\n",
    "Please write your answer using digits 0 through 9. Try again!\n",
    "Enter your guess: 15\n",
    "Correct.\n",
    "2 + 8 =\n",
    "Enter your guess: 9\n",
    "Incorrect.\n",
    "You got 2 correct answer(s) out of 3.\n",
    "\n",
    ">>> new_math_game_2(3)\n",
    "4 + 3 =\n",
    "Enter your guess: 7\n",
    "Correct.\n",
    "7 + 8 = \n",
    "Enter your guess: fifteen\n",
    "Please write your answer using digits 0 through 9. Try again!\n",
    "Enter your guess: 15\n",
    "Correct.\n",
    "2 + 8 =\n",
    "Enter your guess: ten\n",
    "Two erros. Quitting...\n",
    "\n",
    "'''"
   ]
  },
  {
   "cell_type": "code",
   "execution_count": null,
   "metadata": {},
   "outputs": [],
   "source": []
  },
  {
   "cell_type": "code",
   "execution_count": null,
   "metadata": {},
   "outputs": [],
   "source": [
    "new_math_game_2(3)"
   ]
  },
  {
   "cell_type": "markdown",
   "metadata": {},
   "source": [
    "# (3) Modules (Top-level module)"
   ]
  },
  {
   "cell_type": "code",
   "execution_count": null,
   "metadata": {},
   "outputs": [],
   "source": [
    "'''\n",
    "Q5 ~ Q6. Python has its own search path, but your desktop folder wouldn't be included. \n",
    "\n",
    "'''\n",
    "\n",
    "# hint: you need to import sys module"
   ]
  },
  {
   "cell_type": "code",
   "execution_count": null,
   "metadata": {},
   "outputs": [],
   "source": [
    "# Q5. Please print out your search path\n"
   ]
  },
  {
   "cell_type": "code",
   "execution_count": null,
   "metadata": {},
   "outputs": [],
   "source": []
  },
  {
   "cell_type": "code",
   "execution_count": null,
   "metadata": {},
   "outputs": [],
   "source": [
    "# Q6. Plesae add your desktop folder to the search path\n"
   ]
  },
  {
   "cell_type": "code",
   "execution_count": null,
   "metadata": {},
   "outputs": [],
   "source": []
  },
  {
   "cell_type": "code",
   "execution_count": null,
   "metadata": {},
   "outputs": [],
   "source": [
    "'''\n",
    "Q7 ~ Q8. In Python, you can import math module.\n",
    "\n",
    "'''\n",
    "\n",
    "# hint: you can use dir(), __name__, and __file"
   ]
  },
  {
   "cell_type": "code",
   "execution_count": null,
   "metadata": {},
   "outputs": [],
   "source": [
    "# Q7. Plesae display the name of math module\n"
   ]
  },
  {
   "cell_type": "code",
   "execution_count": null,
   "metadata": {},
   "outputs": [],
   "source": []
  },
  {
   "cell_type": "code",
   "execution_count": null,
   "metadata": {},
   "outputs": [],
   "source": [
    "# Q8. Plesae display the absolute pathname of the file containing math module\n"
   ]
  },
  {
   "cell_type": "code",
   "execution_count": null,
   "metadata": {},
   "outputs": [],
   "source": []
  },
  {
   "cell_type": "markdown",
   "metadata": {},
   "source": [
    "# (4) Method Invocations"
   ]
  },
  {
   "cell_type": "code",
   "execution_count": null,
   "metadata": {},
   "outputs": [],
   "source": [
    "'''\n",
    "Q9 ~ Q10. Please rewrite the Python codes below with the method invocations.\n",
    "\n",
    "Example:\n",
    "\n",
    "s = 'DSA8640'\n",
    "s.upper()\n",
    "\n",
    "str.upper(s)\n",
    "\n",
    "'''"
   ]
  },
  {
   "cell_type": "code",
   "execution_count": null,
   "metadata": {},
   "outputs": [],
   "source": [
    "s = 'DSA8640 Programming for Data Science'\n",
    "lst = ['apple', 'pear', 'strawberry']"
   ]
  },
  {
   "cell_type": "code",
   "execution_count": null,
   "metadata": {},
   "outputs": [],
   "source": [
    "# Q9. lst.append('blueberry')\n"
   ]
  },
  {
   "cell_type": "code",
   "execution_count": null,
   "metadata": {},
   "outputs": [],
   "source": []
  },
  {
   "cell_type": "code",
   "execution_count": null,
   "metadata": {},
   "outputs": [],
   "source": [
    "# Q10. s.upper().split()\n"
   ]
  },
  {
   "cell_type": "code",
   "execution_count": null,
   "metadata": {},
   "outputs": [],
   "source": []
  }
 ],
 "metadata": {
  "anaconda-cloud": {},
  "kernelspec": {
   "display_name": "Python 3",
   "language": "python",
   "name": "python3"
  },
  "language_info": {
   "codemirror_mode": {
    "name": "ipython",
    "version": 3
   },
   "file_extension": ".py",
   "mimetype": "text/x-python",
   "name": "python",
   "nbconvert_exporter": "python",
   "pygments_lexer": "ipython3",
   "version": "3.8.3"
  }
 },
 "nbformat": 4,
 "nbformat_minor": 1
}
