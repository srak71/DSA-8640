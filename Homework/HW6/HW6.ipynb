{
 "cells": [
  {
   "cell_type": "markdown",
   "metadata": {},
   "source": [
    "# (1) Implementing a New Class"
   ]
  },
  {
   "cell_type": "code",
   "execution_count": 1,
   "metadata": {},
   "outputs": [
    {
     "data": {
      "text/plain": [
       "'\\nQ1. Implement a class Circle that represents circles. The class supports following methods:\\n\\n    setSize(diameter): Takes a numeric value as input ans sets the diameter of the circle\\n    perimeter(): Returns the perimeter of the circle\\n    area(): Returns the area of the circle\\n\\n    >>> circle = Circle()\\n    >>> circle.setSize(20)\\n    >>> circle.perimeter()\\n    62.83185307179586\\n    >>> circle.area()\\n    314.1592653589793\\n\\n'"
      ]
     },
     "execution_count": 1,
     "metadata": {},
     "output_type": "execute_result"
    }
   ],
   "source": [
    "'''\n",
    "Q1. Implement a class Circle that represents circles. The class supports following methods:\n",
    "\n",
    "    setSize(diameter): Takes a numeric value as input ans sets the diameter of the circle\n",
    "    perimeter(): Returns the perimeter of the circle\n",
    "    area(): Returns the area of the circle\n",
    "\n",
    "    >>> circle = Circle()\n",
    "    >>> circle.setSize(20)\n",
    "    >>> circle.perimeter()\n",
    "    62.83185307179586\n",
    "    >>> circle.area()\n",
    "    314.1592653589793\n",
    "\n",
    "'''\n",
    "\n",
    "# hint: you need to import math to get pi"
   ]
  },
  {
   "cell_type": "code",
   "execution_count": 2,
   "metadata": {},
   "outputs": [],
   "source": [
    "import math\n",
    "\n",
    "class Circle():\n",
    "    \n",
    "    def __init__(self):\n",
    "        self._diameter = 0\n",
    "        \n",
    "    def setSize(self, diameter):\n",
    "        self._diameter = diameter\n",
    "        \n",
    "    def perimeter(self):\n",
    "        radius = self._diameter / 2\n",
    "        return 2 * math.pi * radius\n",
    "    \n",
    "    def area(self):\n",
    "        radius = self._diameter / 2\n",
    "        return math.pi * radius ** 2"
   ]
  },
  {
   "cell_type": "code",
   "execution_count": 3,
   "metadata": {},
   "outputs": [],
   "source": [
    "circle = Circle()"
   ]
  },
  {
   "cell_type": "code",
   "execution_count": 4,
   "metadata": {},
   "outputs": [],
   "source": [
    "circle.setSize(20)"
   ]
  },
  {
   "cell_type": "code",
   "execution_count": 5,
   "metadata": {},
   "outputs": [
    {
     "data": {
      "text/plain": [
       "62.83185307179586"
      ]
     },
     "execution_count": 5,
     "metadata": {},
     "output_type": "execute_result"
    }
   ],
   "source": [
    "circle.perimeter()"
   ]
  },
  {
   "cell_type": "code",
   "execution_count": 6,
   "metadata": {},
   "outputs": [
    {
     "data": {
      "text/plain": [
       "314.1592653589793"
      ]
     },
     "execution_count": 6,
     "metadata": {},
     "output_type": "execute_result"
    }
   ],
   "source": [
    "circle.area()"
   ]
  },
  {
   "cell_type": "code",
   "execution_count": 7,
   "metadata": {},
   "outputs": [
    {
     "data": {
      "text/plain": [
       "'\\nQ2. Implement a class BankAccount that supports following methods:\\n\\n    setbalance(amount): Takes an amount as input and set the initial balance\\n    deposit(amount): Takes an amount as input and adds it to the balance\\n    withdraw(amount): Takes an amount as input and withdraws it from the balance\\n    balance(): Returns the balance of the account\\n    \\n    >>> account = BankAccount()\\n    >>> account.setbalance(30)\\n    >>> account.deposit(100)\\n    >>> account.withdraw(30)\\n    >>> account.balance()\\n    100\\n\\n'"
      ]
     },
     "execution_count": 7,
     "metadata": {},
     "output_type": "execute_result"
    }
   ],
   "source": [
    "'''\n",
    "Q2. Implement a class BankAccount that supports following methods:\n",
    "\n",
    "    setbalance(amount): Takes an amount as input and set the initial balance\n",
    "    deposit(amount): Takes an amount as input and adds it to the balance\n",
    "    withdraw(amount): Takes an amount as input and withdraws it from the balance\n",
    "    balance(): Returns the balance of the account\n",
    "    \n",
    "    >>> account = BankAccount()\n",
    "    >>> account.setbalance(30)\n",
    "    >>> account.deposit(100)\n",
    "    >>> account.withdraw(30)\n",
    "    >>> account.balance()\n",
    "    100\n",
    "\n",
    "'''\n"
   ]
  },
  {
   "cell_type": "code",
   "execution_count": 8,
   "metadata": {},
   "outputs": [],
   "source": [
    "class BankAccount():\n",
    "    \n",
    "    def __init__(self):\n",
    "        self._balance = 0\n",
    "        \n",
    "    def setbalance(self, amount):\n",
    "        self._balance = amount\n",
    "    \n",
    "    def deposit(self, amount):\n",
    "        self._balance += amount\n",
    "        \n",
    "    def withdraw(self, amount):\n",
    "        self._balance -= amount\n",
    "        \n",
    "    def balance(self):\n",
    "        return self._balance"
   ]
  },
  {
   "cell_type": "code",
   "execution_count": 9,
   "metadata": {},
   "outputs": [],
   "source": [
    "account = BankAccount()"
   ]
  },
  {
   "cell_type": "code",
   "execution_count": 10,
   "metadata": {},
   "outputs": [],
   "source": [
    "account.setbalance(30)"
   ]
  },
  {
   "cell_type": "code",
   "execution_count": 11,
   "metadata": {},
   "outputs": [],
   "source": [
    "account.deposit(100)"
   ]
  },
  {
   "cell_type": "code",
   "execution_count": 12,
   "metadata": {},
   "outputs": [],
   "source": [
    "account.withdraw(30)"
   ]
  },
  {
   "cell_type": "code",
   "execution_count": 13,
   "metadata": {},
   "outputs": [
    {
     "data": {
      "text/plain": [
       "100"
      ]
     },
     "execution_count": 13,
     "metadata": {},
     "output_type": "execute_result"
    }
   ],
   "source": [
    "account.balance()"
   ]
  },
  {
   "cell_type": "code",
   "execution_count": 14,
   "metadata": {},
   "outputs": [
    {
     "data": {
      "text/plain": [
       "\"\\nQ3. Implement a class Employee that support methods:\\n\\n    name(firstname): Takes one's first name as input\\n    rate(payrate): Takes one's hourly pay rate as input\\n    changeRate(newpayrate): Takes the new pay rate as input and changes the employee's pay rate to the new hourly rate\\n    pay(hours): Takes the number of hours worked as input and returns total payment (i.e. one's pay rate * total hours)\\n\\n    >>> e1 = Employee()\\n    >>> e1.name('Jeff')\\n    >>> e1.rate(10)\\n    >>> e1.changeRate(20)\\n    >>> e1.pay(20)\\n    400\\n\\n\""
      ]
     },
     "execution_count": 14,
     "metadata": {},
     "output_type": "execute_result"
    }
   ],
   "source": [
    "'''\n",
    "Q3. Implement a class Employee that support methods:\n",
    "\n",
    "    name(firstname): Takes one's first name as input\n",
    "    rate(payrate): Takes one's hourly pay rate as input\n",
    "    changeRate(newpayrate): Takes the new pay rate as input and changes the employee's pay rate to the new hourly rate\n",
    "    pay(hours): Takes the number of hours worked as input and returns total payment (i.e. one's pay rate * total hours)\n",
    "\n",
    "    >>> e1 = Employee()\n",
    "    >>> e1.name('Jeff')\n",
    "    >>> e1.rate(10)\n",
    "    >>> e1.changeRate(20)\n",
    "    >>> e1.pay(20)\n",
    "    400\n",
    "\n",
    "'''\n"
   ]
  },
  {
   "cell_type": "code",
   "execution_count": 15,
   "metadata": {},
   "outputs": [],
   "source": [
    "class Employee:\n",
    "    \n",
    "    def __init__(self):\n",
    "        self._firstnane = ''\n",
    "        self._payrate = 0\n",
    "        \n",
    "    def name(self, firstname):\n",
    "        self._firstnane = firstname\n",
    "        \n",
    "    def rate(self, payrate):\n",
    "        self._payrate = payrate\n",
    "        \n",
    "    def changeRate(self, newpayrate):\n",
    "        self._payrate = newpayrate\n",
    "        \n",
    "    def pay(self, hours):\n",
    "        return self._payrate * hours        "
   ]
  },
  {
   "cell_type": "code",
   "execution_count": 16,
   "metadata": {},
   "outputs": [],
   "source": [
    "e1 = Employee()"
   ]
  },
  {
   "cell_type": "code",
   "execution_count": 17,
   "metadata": {},
   "outputs": [],
   "source": [
    "e1.name('Jeff')"
   ]
  },
  {
   "cell_type": "code",
   "execution_count": 18,
   "metadata": {},
   "outputs": [],
   "source": [
    "e1.rate(10)"
   ]
  },
  {
   "cell_type": "code",
   "execution_count": 19,
   "metadata": {},
   "outputs": [],
   "source": [
    "e1.changeRate(20)"
   ]
  },
  {
   "cell_type": "code",
   "execution_count": 20,
   "metadata": {},
   "outputs": [
    {
     "data": {
      "text/plain": [
       "400"
      ]
     },
     "execution_count": 20,
     "metadata": {},
     "output_type": "execute_result"
    }
   ],
   "source": [
    "e1.pay(20)"
   ]
  },
  {
   "cell_type": "markdown",
   "metadata": {},
   "source": [
    "# (2) Overloaded Class"
   ]
  },
  {
   "cell_type": "code",
   "execution_count": 21,
   "metadata": {},
   "outputs": [
    {
     "data": {
      "text/plain": [
       "'\\nQ4. Please modify the class Circle of Q1 to perform followings:\\n\\n    >>> c1 = Circle(20)\\n    >>> c1.perimeter()\\n    62.83185307179586\\n    >>> c1.area()\\n    314.1592653589793\\n    >>> c2 = Circle()\\n    >>> c2.perimeter()\\n    0.0\\n    >>> c2.area()\\n    0.0\\n\\n'"
      ]
     },
     "execution_count": 21,
     "metadata": {},
     "output_type": "execute_result"
    }
   ],
   "source": [
    "'''\n",
    "Q4. Please modify the class Circle of Q1 to perform followings:\n",
    "\n",
    "    >>> c1 = Circle(20)\n",
    "    >>> c1.perimeter()\n",
    "    62.83185307179586\n",
    "    >>> c1.area()\n",
    "    314.1592653589793\n",
    "    >>> c2 = Circle()\n",
    "    >>> c2.perimeter()\n",
    "    0.0\n",
    "    >>> c2.area()\n",
    "    0.0\n",
    "\n",
    "'''"
   ]
  },
  {
   "cell_type": "code",
   "execution_count": 22,
   "metadata": {},
   "outputs": [],
   "source": [
    "import math\n",
    "\n",
    "class Circle():\n",
    "    \n",
    "    def __init__(self, diameter=0):\n",
    "        self._diameter = diameter\n",
    "        \n",
    "    def setSize(self, diameter):\n",
    "        self._diameter = diameter\n",
    "        \n",
    "    def perimeter(self):\n",
    "        radius = self._diameter / 2\n",
    "        return 2 * math.pi * radius\n",
    "    \n",
    "    def area(self):\n",
    "        radius = self._diameter / 2\n",
    "        return math.pi * radius ** 2"
   ]
  },
  {
   "cell_type": "code",
   "execution_count": 23,
   "metadata": {},
   "outputs": [],
   "source": [
    "c1 = Circle(20)"
   ]
  },
  {
   "cell_type": "code",
   "execution_count": 24,
   "metadata": {},
   "outputs": [
    {
     "data": {
      "text/plain": [
       "62.83185307179586"
      ]
     },
     "execution_count": 24,
     "metadata": {},
     "output_type": "execute_result"
    }
   ],
   "source": [
    "c1.perimeter()"
   ]
  },
  {
   "cell_type": "code",
   "execution_count": 25,
   "metadata": {},
   "outputs": [
    {
     "data": {
      "text/plain": [
       "314.1592653589793"
      ]
     },
     "execution_count": 25,
     "metadata": {},
     "output_type": "execute_result"
    }
   ],
   "source": [
    "c1.area()"
   ]
  },
  {
   "cell_type": "code",
   "execution_count": 26,
   "metadata": {},
   "outputs": [],
   "source": [
    "c2 = Circle()"
   ]
  },
  {
   "cell_type": "code",
   "execution_count": 27,
   "metadata": {},
   "outputs": [
    {
     "data": {
      "text/plain": [
       "0.0"
      ]
     },
     "execution_count": 27,
     "metadata": {},
     "output_type": "execute_result"
    }
   ],
   "source": [
    "c2.perimeter()"
   ]
  },
  {
   "cell_type": "code",
   "execution_count": 28,
   "metadata": {},
   "outputs": [
    {
     "data": {
      "text/plain": [
       "0.0"
      ]
     },
     "execution_count": 28,
     "metadata": {},
     "output_type": "execute_result"
    }
   ],
   "source": [
    "c2.area()"
   ]
  },
  {
   "cell_type": "code",
   "execution_count": 29,
   "metadata": {},
   "outputs": [
    {
     "data": {
      "text/plain": [
       "'\\nQ5. Please modify the class BankAccount of Q2 to perform followings:\\n\\n    >>> a1 = BankAccount(200)\\n    >>> a2 = BankAccount(100)\\n    >>> a1 + a2\\n    300\\n    >>> a1 - a2\\n    100\\n\\n'"
      ]
     },
     "execution_count": 29,
     "metadata": {},
     "output_type": "execute_result"
    }
   ],
   "source": [
    "'''\n",
    "Q5. Please modify the class BankAccount of Q2 to perform followings:\n",
    "\n",
    "    >>> a1 = BankAccount(200)\n",
    "    >>> a2 = BankAccount(100)\n",
    "    >>> a1 + a2\n",
    "    300\n",
    "    >>> a1 - a2\n",
    "    100\n",
    "\n",
    "'''"
   ]
  },
  {
   "cell_type": "code",
   "execution_count": 30,
   "metadata": {},
   "outputs": [],
   "source": [
    "class BankAccount():\n",
    "    \n",
    "    def __init__(self, balance=0):\n",
    "        self._balance = balance\n",
    "        \n",
    "    def setbalance(self, amount):\n",
    "        self._balance = amount\n",
    "    \n",
    "    def deposit(self, amount):\n",
    "        self._balance += amount\n",
    "        \n",
    "    def withdraw(self, amount):\n",
    "        self._balance -= amount\n",
    "        \n",
    "    def balance(self):\n",
    "        return self._balance\n",
    "    \n",
    "    # Overload the + operator\n",
    "    def __add__(self, other):\n",
    "        return self._balance + other._balance\n",
    "    \n",
    "    # Overload the - operator\n",
    "    def __sub__(self, other):\n",
    "        return self._balance - other._balance"
   ]
  },
  {
   "cell_type": "code",
   "execution_count": 31,
   "metadata": {},
   "outputs": [],
   "source": [
    "a1 = BankAccount(200)"
   ]
  },
  {
   "cell_type": "code",
   "execution_count": 32,
   "metadata": {},
   "outputs": [],
   "source": [
    "a2 = BankAccount(100)"
   ]
  },
  {
   "cell_type": "code",
   "execution_count": 33,
   "metadata": {},
   "outputs": [
    {
     "data": {
      "text/plain": [
       "300"
      ]
     },
     "execution_count": 33,
     "metadata": {},
     "output_type": "execute_result"
    }
   ],
   "source": [
    "a1 + a2"
   ]
  },
  {
   "cell_type": "code",
   "execution_count": 34,
   "metadata": {},
   "outputs": [
    {
     "data": {
      "text/plain": [
       "100"
      ]
     },
     "execution_count": 34,
     "metadata": {},
     "output_type": "execute_result"
    }
   ],
   "source": [
    "a1 - a2"
   ]
  },
  {
   "cell_type": "code",
   "execution_count": 35,
   "metadata": {},
   "outputs": [
    {
     "data": {
      "text/plain": [
       "\"\\nQ6. Please modify the class Employee of Q3 to perform followings:\\n\\n    >>> e1 = Employee('Jeff', 20)\\n    >>> e2 = Employee('Grace', 30)\\n    >>> e1.pay()\\n    20\\n    >>> e2.pay()\\n    30\\n    >>> e2.changeRate(20)\\n    >>> e1 == e2\\n    True\\n\\n\""
      ]
     },
     "execution_count": 35,
     "metadata": {},
     "output_type": "execute_result"
    }
   ],
   "source": [
    "'''\n",
    "Q6. Please modify the class Employee of Q3 to perform followings:\n",
    "\n",
    "    >>> e1 = Employee('Jeff', 20)\n",
    "    >>> e2 = Employee('Grace', 30)\n",
    "    >>> e1.pay()\n",
    "    20\n",
    "    >>> e2.pay()\n",
    "    30\n",
    "    >>> e2.changeRate(20)\n",
    "    >>> e1 == e2\n",
    "    True\n",
    "\n",
    "'''"
   ]
  },
  {
   "cell_type": "code",
   "execution_count": 36,
   "metadata": {},
   "outputs": [],
   "source": [
    "class Employee:\n",
    "    \n",
    "    def __init__(self, firstname='', payrate=0):\n",
    "        self._firstname = firstname\n",
    "        self._payrate = payrate\n",
    "        \n",
    "    def name(self, firstname):\n",
    "        self._firstnane = firstname\n",
    "        \n",
    "    def rate(self, payrate):\n",
    "        self._payrate = payrate\n",
    "        \n",
    "    def changeRate(self, newpayrate):\n",
    "        self._payrate = newpayrate\n",
    "        \n",
    "    def pay(self):\n",
    "        return self._payrate\n",
    "        \n",
    "    def __eq__(self, other):\n",
    "        if isinstance(other, Employee):\n",
    "            return self._payrate == other._payrate\n",
    "        return False"
   ]
  },
  {
   "cell_type": "code",
   "execution_count": 37,
   "metadata": {},
   "outputs": [],
   "source": [
    "e1 = Employee('Jeff', 20)"
   ]
  },
  {
   "cell_type": "code",
   "execution_count": 38,
   "metadata": {},
   "outputs": [],
   "source": [
    "e2 = Employee('Grace', 30)"
   ]
  },
  {
   "cell_type": "code",
   "execution_count": 39,
   "metadata": {},
   "outputs": [
    {
     "data": {
      "text/plain": [
       "20"
      ]
     },
     "execution_count": 39,
     "metadata": {},
     "output_type": "execute_result"
    }
   ],
   "source": [
    "e1.pay()"
   ]
  },
  {
   "cell_type": "code",
   "execution_count": 40,
   "metadata": {},
   "outputs": [
    {
     "data": {
      "text/plain": [
       "30"
      ]
     },
     "execution_count": 40,
     "metadata": {},
     "output_type": "execute_result"
    }
   ],
   "source": [
    "e2.pay()"
   ]
  },
  {
   "cell_type": "code",
   "execution_count": 41,
   "metadata": {},
   "outputs": [],
   "source": [
    "e2.changeRate(20)"
   ]
  },
  {
   "cell_type": "code",
   "execution_count": 42,
   "metadata": {},
   "outputs": [
    {
     "data": {
      "text/plain": [
       "True"
      ]
     },
     "execution_count": 42,
     "metadata": {},
     "output_type": "execute_result"
    }
   ],
   "source": [
    "e1 == e2"
   ]
  },
  {
   "cell_type": "markdown",
   "metadata": {},
   "source": [
    "# (3) Inheritance"
   ]
  },
  {
   "cell_type": "code",
   "execution_count": 43,
   "metadata": {},
   "outputs": [
    {
     "data": {
      "text/plain": [
       "\"\\nQ7. Please develop a class Employee2 as a subclass of Employee. \\n    The Employee2 overides the inherited operator == to compare firstnames of employees as shown below:\\n    \\n    >>> e1 = Employee2('Jeff', 20)\\n    >>> e2 = Employee2('Jeff', 30)\\n    >>> e1 == e2\\n    True\\n\\n\""
      ]
     },
     "execution_count": 43,
     "metadata": {},
     "output_type": "execute_result"
    }
   ],
   "source": [
    "'''\n",
    "Q7. Please develop a class Employee2 as a subclass of Employee. \n",
    "    The Employee2 overides the inherited operator == to compare firstnames of employees as shown below:\n",
    "    \n",
    "    >>> e1 = Employee2('Jeff', 20)\n",
    "    >>> e2 = Employee2('Jeff', 30)\n",
    "    >>> e1 == e2\n",
    "    True\n",
    "\n",
    "'''"
   ]
  },
  {
   "cell_type": "code",
   "execution_count": 44,
   "metadata": {},
   "outputs": [],
   "source": [
    "class Employee2(Employee):\n",
    "    \n",
    "    def __eq__(self, other):\n",
    "        if isinstance(other, Employee2):\n",
    "            return self._firstname == other._firstname\n",
    "        return False"
   ]
  },
  {
   "cell_type": "code",
   "execution_count": 45,
   "metadata": {},
   "outputs": [],
   "source": [
    "e1 = Employee2('Jeff', 20)"
   ]
  },
  {
   "cell_type": "code",
   "execution_count": 46,
   "metadata": {},
   "outputs": [],
   "source": [
    "e2 = Employee2('Jeff', 30)"
   ]
  },
  {
   "cell_type": "code",
   "execution_count": 47,
   "metadata": {},
   "outputs": [
    {
     "data": {
      "text/plain": [
       "True"
      ]
     },
     "execution_count": 47,
     "metadata": {},
     "output_type": "execute_result"
    }
   ],
   "source": [
    "e1 == e2"
   ]
  },
  {
   "cell_type": "code",
   "execution_count": 48,
   "metadata": {},
   "outputs": [
    {
     "data": {
      "text/plain": [
       "\"\\nQ8. Please develop a class Employee3 as a subclass of Employee. \\n    The Employee3 overloads the inherited operator == to compare firstnames and payrates of employees as shown below:\\n    \\n    >>> e1 = Employee3('Jeff', 20)\\n    >>> e2 = Employee3('Jeff', 30)\\n    >>> e1 == e2\\n    False\\n    >>> e3 = Employee3('Jeff', 20)\\n    >>> e4 = Employee3('Grace', 20)\\n    >>> e3 == e4\\n    False\\n    >>> e5 = Employee3('Jeff', 20)\\n    >>> e6 = Employee3('Jeff', 20)\\n    >>> e5 == e6\\n    True\\n\\n\""
      ]
     },
     "execution_count": 48,
     "metadata": {},
     "output_type": "execute_result"
    }
   ],
   "source": [
    "'''\n",
    "Q8. Please develop a class Employee3 as a subclass of Employee. \n",
    "    The Employee3 overloads the inherited operator == to compare firstnames and payrates of employees as shown below:\n",
    "    \n",
    "    >>> e1 = Employee3('Jeff', 20)\n",
    "    >>> e2 = Employee3('Jeff', 30)\n",
    "    >>> e1 == e2\n",
    "    False\n",
    "    >>> e3 = Employee3('Jeff', 20)\n",
    "    >>> e4 = Employee3('Grace', 20)\n",
    "    >>> e3 == e4\n",
    "    False\n",
    "    >>> e5 = Employee3('Jeff', 20)\n",
    "    >>> e6 = Employee3('Jeff', 20)\n",
    "    >>> e5 == e6\n",
    "    True\n",
    "\n",
    "'''"
   ]
  },
  {
   "cell_type": "code",
   "execution_count": 49,
   "metadata": {},
   "outputs": [],
   "source": [
    "class Employee3(Employee):\n",
    "    \n",
    "    def __eq__(self, other):\n",
    "        if isinstance(other, Employee3):\n",
    "            return self._firstname == other._firstname and self._payrate == other._payrate\n",
    "        return False"
   ]
  },
  {
   "cell_type": "code",
   "execution_count": 50,
   "metadata": {},
   "outputs": [],
   "source": [
    "e1 = Employee3('Jeff', 20)"
   ]
  },
  {
   "cell_type": "code",
   "execution_count": 51,
   "metadata": {},
   "outputs": [],
   "source": [
    "e2 = Employee3('Jeff', 30)"
   ]
  },
  {
   "cell_type": "code",
   "execution_count": 52,
   "metadata": {},
   "outputs": [
    {
     "data": {
      "text/plain": [
       "False"
      ]
     },
     "execution_count": 52,
     "metadata": {},
     "output_type": "execute_result"
    }
   ],
   "source": [
    "e1 == e2"
   ]
  },
  {
   "cell_type": "code",
   "execution_count": 53,
   "metadata": {},
   "outputs": [],
   "source": [
    "e3 = Employee3('Jeff', 20)"
   ]
  },
  {
   "cell_type": "code",
   "execution_count": 54,
   "metadata": {},
   "outputs": [],
   "source": [
    "e4 = Employee3('Grace', 20)"
   ]
  },
  {
   "cell_type": "code",
   "execution_count": 55,
   "metadata": {},
   "outputs": [
    {
     "data": {
      "text/plain": [
       "False"
      ]
     },
     "execution_count": 55,
     "metadata": {},
     "output_type": "execute_result"
    }
   ],
   "source": [
    "e3 == e4"
   ]
  },
  {
   "cell_type": "code",
   "execution_count": 56,
   "metadata": {},
   "outputs": [],
   "source": [
    "e5 = Employee3('Jeff', 20)"
   ]
  },
  {
   "cell_type": "code",
   "execution_count": 57,
   "metadata": {},
   "outputs": [],
   "source": [
    "e6 = Employee3('Jeff', 20)"
   ]
  },
  {
   "cell_type": "code",
   "execution_count": 58,
   "metadata": {},
   "outputs": [
    {
     "data": {
      "text/plain": [
       "True"
      ]
     },
     "execution_count": 58,
     "metadata": {},
     "output_type": "execute_result"
    }
   ],
   "source": [
    "e5 == e6"
   ]
  },
  {
   "cell_type": "code",
   "execution_count": 59,
   "metadata": {},
   "outputs": [
    {
     "data": {
      "text/plain": [
       "'\\nQ9. Please develop a container class Statistic that stores a sequence of numbers and\\n    provides statistical information about the numbers. It suppots an overloaded contructor that\\n    initializes the container and the methods shown below:\\n    \\n    >>> s1 = Statistic()\\n    >>> s1.add(2)   # adds 2 to the Statistic container\\n    >>> s1.add(4)\\n    >>> s1.add(6)\\n    >>> s1.add(8)\\n    >>> s1.min()\\n    2\\n    >>> s1.max()\\n    8\\n\\n'"
      ]
     },
     "execution_count": 59,
     "metadata": {},
     "output_type": "execute_result"
    }
   ],
   "source": [
    "'''\n",
    "Q9. Please develop a container class Statistic that stores a sequence of numbers and\n",
    "    provides statistical information about the numbers. It suppots an overloaded contructor that\n",
    "    initializes the container and the methods shown below:\n",
    "    \n",
    "    >>> s1 = Statistic()\n",
    "    >>> s1.add(2)   # adds 2 to the Statistic container\n",
    "    >>> s1.add(4)\n",
    "    >>> s1.add(6)\n",
    "    >>> s1.add(8)\n",
    "    >>> s1.min()\n",
    "    2\n",
    "    >>> s1.max()\n",
    "    8\n",
    "\n",
    "'''"
   ]
  },
  {
   "cell_type": "code",
   "execution_count": 60,
   "metadata": {},
   "outputs": [],
   "source": [
    "class Statistic():\n",
    "    \n",
    "    def __init__(self):\n",
    "        self._UserList = []\n",
    "        \n",
    "    def add(self, num):\n",
    "        self._UserList.append(num)\n",
    "        \n",
    "    def show(self):\n",
    "        return self._UserList\n",
    "        \n",
    "    def min(self):\n",
    "        return min(self._UserList)\n",
    "    \n",
    "    def max(self):\n",
    "        return max(self._UserList)"
   ]
  },
  {
   "cell_type": "code",
   "execution_count": 61,
   "metadata": {},
   "outputs": [],
   "source": [
    "s1 = Statistic()"
   ]
  },
  {
   "cell_type": "code",
   "execution_count": 62,
   "metadata": {},
   "outputs": [],
   "source": [
    "s1.add(2)"
   ]
  },
  {
   "cell_type": "code",
   "execution_count": 63,
   "metadata": {},
   "outputs": [],
   "source": [
    "s1.add(4)"
   ]
  },
  {
   "cell_type": "code",
   "execution_count": 64,
   "metadata": {},
   "outputs": [],
   "source": [
    "s1.add(6)"
   ]
  },
  {
   "cell_type": "code",
   "execution_count": 65,
   "metadata": {},
   "outputs": [],
   "source": [
    "s1.add(8)"
   ]
  },
  {
   "cell_type": "code",
   "execution_count": 66,
   "metadata": {},
   "outputs": [
    {
     "data": {
      "text/plain": [
       "2"
      ]
     },
     "execution_count": 66,
     "metadata": {},
     "output_type": "execute_result"
    }
   ],
   "source": [
    "s1.min()"
   ]
  },
  {
   "cell_type": "code",
   "execution_count": 67,
   "metadata": {},
   "outputs": [
    {
     "data": {
      "text/plain": [
       "8"
      ]
     },
     "execution_count": 67,
     "metadata": {},
     "output_type": "execute_result"
    }
   ],
   "source": [
    "s1.max()"
   ]
  },
  {
   "cell_type": "code",
   "execution_count": 68,
   "metadata": {},
   "outputs": [
    {
     "data": {
      "text/plain": [
       "'\\nQ10. Please develop a class AdvancedStat as a subclass of Statistic. \\n    The AdvancedStat supports following methods shown below:\\n    \\n    >>> s2 = AdvancedStat([2, 4, 6, 8])\\n    >>> s2.add(10)\\n    >>> s2.min()\\n    2\\n    >>> s2.max()\\n    10\\n    >>> s2.sum()\\n    30\\n    >>> s2.mean()\\n    6.0\\n    \\n'"
      ]
     },
     "execution_count": 68,
     "metadata": {},
     "output_type": "execute_result"
    }
   ],
   "source": [
    "'''\n",
    "Q10. Please develop a class AdvancedStat as a subclass of Statistic. \n",
    "    The AdvancedStat supports following methods shown below:\n",
    "    \n",
    "    >>> s2 = AdvancedStat([2, 4, 6, 8])\n",
    "    >>> s2.add(10)\n",
    "    >>> s2.min()\n",
    "    2\n",
    "    >>> s2.max()\n",
    "    10\n",
    "    >>> s2.sum()\n",
    "    30\n",
    "    >>> s2.mean()\n",
    "    6.0\n",
    "    \n",
    "'''\n",
    "\n",
    "# Hint: please carefully think about that whether we need to define __init__ or not, \n",
    "#       since the class Statistic is a subclass of class list."
   ]
  },
  {
   "cell_type": "code",
   "execution_count": 69,
   "metadata": {},
   "outputs": [],
   "source": [
    "class AdvancedStat(Statistic):\n",
    "    \n",
    "    def __init__(self, num_list=None):\n",
    "        super().__init__()\n",
    "        if num_list:\n",
    "            self._UserList.extend(num_list)\n",
    "    \n",
    "    def sum(self):\n",
    "        return sum(self._UserList)\n",
    "    \n",
    "    def mean(self):\n",
    "        return sum(self._UserList) / len(self._UserList) if len(self._UserList) > 0 else 0"
   ]
  },
  {
   "cell_type": "code",
   "execution_count": 70,
   "metadata": {},
   "outputs": [],
   "source": [
    "s2 = AdvancedStat([2, 4, 6, 8])"
   ]
  },
  {
   "cell_type": "code",
   "execution_count": 71,
   "metadata": {},
   "outputs": [],
   "source": [
    "s2.add(10)"
   ]
  },
  {
   "cell_type": "code",
   "execution_count": 72,
   "metadata": {},
   "outputs": [
    {
     "data": {
      "text/plain": [
       "2"
      ]
     },
     "execution_count": 72,
     "metadata": {},
     "output_type": "execute_result"
    }
   ],
   "source": [
    "s2.min()"
   ]
  },
  {
   "cell_type": "code",
   "execution_count": 73,
   "metadata": {},
   "outputs": [
    {
     "data": {
      "text/plain": [
       "10"
      ]
     },
     "execution_count": 73,
     "metadata": {},
     "output_type": "execute_result"
    }
   ],
   "source": [
    "s2.max()"
   ]
  },
  {
   "cell_type": "code",
   "execution_count": 74,
   "metadata": {},
   "outputs": [
    {
     "data": {
      "text/plain": [
       "30"
      ]
     },
     "execution_count": 74,
     "metadata": {},
     "output_type": "execute_result"
    }
   ],
   "source": [
    "s2.sum()"
   ]
  },
  {
   "cell_type": "code",
   "execution_count": 75,
   "metadata": {},
   "outputs": [
    {
     "data": {
      "text/plain": [
       "6.0"
      ]
     },
     "execution_count": 75,
     "metadata": {},
     "output_type": "execute_result"
    }
   ],
   "source": [
    "s2.mean()"
   ]
  },
  {
   "cell_type": "code",
   "execution_count": null,
   "metadata": {},
   "outputs": [],
   "source": []
  }
 ],
 "metadata": {
  "anaconda-cloud": {},
  "kernelspec": {
   "display_name": "base",
   "language": "python",
   "name": "python3"
  },
  "language_info": {
   "codemirror_mode": {
    "name": "ipython",
    "version": 3
   },
   "file_extension": ".py",
   "mimetype": "text/x-python",
   "name": "python",
   "nbconvert_exporter": "python",
   "pygments_lexer": "ipython3",
   "version": "3.12.4"
  }
 },
 "nbformat": 4,
 "nbformat_minor": 1
}
