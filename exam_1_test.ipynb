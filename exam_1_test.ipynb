{
 "cells": [
  {
   "cell_type": "code",
   "execution_count": 31,
   "metadata": {},
   "outputs": [
    {
     "name": "stdout",
     "output_type": "stream",
     "text": [
      "1 1 2 3 5 8 \n",
      "\n",
      "1 1 2 3 5 8 13 21 "
     ]
    }
   ],
   "source": [
    "# Question 23\n",
    "def fib(n):\n",
    "    a = 1\n",
    "    b = 1\n",
    "    c = a + b\n",
    "    seq = [1, 1]\n",
    "    \n",
    "    while c < n:\n",
    "        seq.append(c)\n",
    "        a = c\n",
    "        b = seq[-2]\n",
    "        \n",
    "        c = a + b\n",
    "        \n",
    "    for i in seq:\n",
    "        print(i, end = ' ')\n",
    "\n",
    "\n",
    "fib(12)\n",
    "print('\\n')\n",
    "fib(25)"
   ]
  },
  {
   "cell_type": "code",
   "execution_count": null,
   "metadata": {},
   "outputs": [],
   "source": []
  }
 ],
 "metadata": {
  "kernelspec": {
   "display_name": "base",
   "language": "python",
   "name": "python3"
  },
  "language_info": {
   "codemirror_mode": {
    "name": "ipython",
    "version": 3
   },
   "file_extension": ".py",
   "mimetype": "text/x-python",
   "name": "python",
   "nbconvert_exporter": "python",
   "pygments_lexer": "ipython3",
   "version": "3.12.4"
  }
 },
 "nbformat": 4,
 "nbformat_minor": 2
}
