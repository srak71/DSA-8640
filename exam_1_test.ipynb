{
 "cells": [
  {
   "cell_type": "code",
   "execution_count": 1,
   "metadata": {},
   "outputs": [
    {
     "name": "stdout",
     "output_type": "stream",
     "text": [
      "1 1 2 3 5 8 \n",
      "\n",
      "1 1 2 3 5 8 13 21 "
     ]
    }
   ],
   "source": [
    "# Question 23\n",
    "def fib(n):\n",
    "    a = 1\n",
    "    b = 1\n",
    "    c = a + b\n",
    "    seq = [1, 1]\n",
    "    \n",
    "    while c < n:\n",
    "        seq.append(c)\n",
    "        a = c\n",
    "        b = seq[-2]\n",
    "        \n",
    "        c = a + b\n",
    "        \n",
    "    for i in seq:\n",
    "        print(i, end = ' ')\n",
    "\n",
    "\n",
    "fib(12)\n",
    "print('\\n')\n",
    "fib(25)"
   ]
  },
  {
   "cell_type": "code",
   "execution_count": 2,
   "metadata": {},
   "outputs": [
    {
     "name": "stdout",
     "output_type": "stream",
     "text": [
      "A\n",
      "lst[0]:2\n",
      "lst[-1]:8\n"
     ]
    }
   ],
   "source": [
    "# Question 8\n",
    "lst = [[2, 4, 6, 8]]\n",
    "\n",
    "for i in lst:\n",
    "    if i[0] < i[-1]:\n",
    "        print('A')\n",
    "        print(f\"lst[0]:{i[0]}\")\n",
    "        print(f\"lst[-1]:{i[-1]}\")\n",
    "    else:\n",
    "        print('D')"
   ]
  },
  {
   "cell_type": "code",
   "execution_count": 3,
   "metadata": {},
   "outputs": [
    {
     "name": "stdout",
     "output_type": "stream",
     "text": [
      "g(lst1) = True\n",
      "g(lst2) = True\n"
     ]
    }
   ],
   "source": [
    "# Question 14\n",
    "# return False will only be reached if all elements in list are in descending order\n",
    "def g(lst):\n",
    "\n",
    "          for i in range(0, len(lst)-1):\n",
    "\n",
    "                    if lst[i] <= lst[i+1]:\n",
    "\n",
    "                              return True\n",
    "\n",
    "          return False\n",
    "\n",
    "\n",
    "\n",
    "lst1 = [2, 4, 6, 8]\n",
    "\n",
    "lst2 = [1, 5, 4, 7]\n",
    "\n",
    "\n",
    "\n",
    "print('g(lst1) = {}'.format(g(lst1)))\n",
    "\n",
    "print('g(lst2) = {}'.format(g(lst2)))"
   ]
  },
  {
   "cell_type": "code",
   "execution_count": 3,
   "metadata": {},
   "outputs": [
    {
     "name": "stdout",
     "output_type": "stream",
     "text": [
      "0\n",
      "1\n",
      "2\n",
      "3\n",
      "4\n",
      "5\n",
      "6\n",
      "7\n",
      "8\n",
      "9\n"
     ]
    }
   ],
   "source": [
    "# Question 20\n",
    "for n in range(10):\n",
    "\n",
    "          print(n)"
   ]
  },
  {
   "cell_type": "code",
   "execution_count": 5,
   "metadata": {},
   "outputs": [
    {
     "data": {
      "text/plain": [
       "1"
      ]
     },
     "execution_count": 5,
     "metadata": {},
     "output_type": "execute_result"
    }
   ],
   "source": [
    "10%3"
   ]
  },
  {
   "cell_type": "code",
   "execution_count": null,
   "metadata": {},
   "outputs": [
    {
     "name": "stdout",
     "output_type": "stream",
     "text": [
      "range(1, 5)\n"
     ]
    }
   ],
   "source": [
    "range(1, 5)"
   ]
  },
  {
   "cell_type": "code",
   "execution_count": null,
   "metadata": {},
   "outputs": [],
   "source": []
  }
 ],
 "metadata": {
  "kernelspec": {
   "display_name": "base",
   "language": "python",
   "name": "python3"
  },
  "language_info": {
   "codemirror_mode": {
    "name": "ipython",
    "version": 3
   },
   "file_extension": ".py",
   "mimetype": "text/x-python",
   "name": "python",
   "nbconvert_exporter": "python",
   "pygments_lexer": "ipython3",
   "version": "3.12.4"
  }
 },
 "nbformat": 4,
 "nbformat_minor": 2
}
