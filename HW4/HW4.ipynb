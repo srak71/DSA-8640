{
 "cells": [
  {
   "cell_type": "markdown",
   "metadata": {},
   "source": [
    "# (1) Dictionary"
   ]
  },
  {
   "cell_type": "code",
   "execution_count": 1,
   "metadata": {},
   "outputs": [
    {
     "data": {
      "text/plain": [
       "\"\\nQ1. Please write a program that \\n    - creates a dictionary, dic_1, mapping following keys to values\\n    \\n    key-value pairs:\\n    1) apple and fruit\\n    2) strawberry and fruit\\n    3) brocolli and vegetable\\n    4) carrot and vegetable\\n    5) tomato and fruit\\n\\n>>> dic_1\\n{'apple':'fruit', \\n 'strwberry':'fruit', \\n 'brocolli':'vegetable', \\n 'carrot':'vegetable', \\n 'tomato':'fruit'}\\n\\n\""
      ]
     },
     "execution_count": 1,
     "metadata": {},
     "output_type": "execute_result"
    }
   ],
   "source": [
    "'''\n",
    "Q1. Please write a program that \n",
    "    - creates a dictionary, dic_1, mapping following keys to values\n",
    "    \n",
    "    key-value pairs:\n",
    "    1) apple and fruit\n",
    "    2) strawberry and fruit\n",
    "    3) brocolli and vegetable\n",
    "    4) carrot and vegetable\n",
    "    5) tomato and fruit\n",
    "\n",
    ">>> dic_1\n",
    "{'apple':'fruit', \n",
    " 'strwberry':'fruit', \n",
    " 'brocolli':'vegetable', \n",
    " 'carrot':'vegetable', \n",
    " 'tomato':'fruit'}\n",
    "\n",
    "'''"
   ]
  },
  {
   "cell_type": "code",
   "execution_count": 3,
   "metadata": {},
   "outputs": [],
   "source": [
    "dic_1 = {\n",
    "    'apple':'fruit',\n",
    "    'strwberry':'fruit',\n",
    "    'brocolli':'vegetable', \n",
    "    'carrot':'vegetable', \n",
    "    'tomato':'fruit'\n",
    "}"
   ]
  },
  {
   "cell_type": "code",
   "execution_count": 4,
   "metadata": {},
   "outputs": [
    {
     "data": {
      "text/plain": [
       "{'apple': 'fruit',\n",
       " 'strwberry': 'fruit',\n",
       " 'brocolli': 'vegetable',\n",
       " 'carrot': 'vegetable',\n",
       " 'tomato': 'fruit'}"
      ]
     },
     "execution_count": 4,
     "metadata": {},
     "output_type": "execute_result"
    }
   ],
   "source": [
    "dic_1"
   ]
  },
  {
   "cell_type": "code",
   "execution_count": null,
   "metadata": {},
   "outputs": [],
   "source": [
    "'''\n",
    "Q2. Please write a program that \n",
    "    - changes your dic_1 by followings\n",
    "    \n",
    "    from tomato and fruit\n",
    "    to tomato and vegetable\n",
    "\n",
    ">>> dic_1\n",
    "{'apple':'fruit', \n",
    " 'strwberry':'fruit', \n",
    " 'brocolli':'vegetable', \n",
    " 'carrot':'vegetable', \n",
    " 'tomato':'vegetable'}\n",
    "\n",
    "'''\n"
   ]
  },
  {
   "cell_type": "code",
   "execution_count": 6,
   "metadata": {},
   "outputs": [],
   "source": [
    "dic_1.update({'tomato':'vegetable'})"
   ]
  },
  {
   "cell_type": "code",
   "execution_count": 7,
   "metadata": {},
   "outputs": [
    {
     "data": {
      "text/plain": [
       "{'apple': 'fruit',\n",
       " 'strwberry': 'fruit',\n",
       " 'brocolli': 'vegetable',\n",
       " 'carrot': 'vegetable',\n",
       " 'tomato': 'vegetable'}"
      ]
     },
     "execution_count": 7,
     "metadata": {},
     "output_type": "execute_result"
    }
   ],
   "source": [
    "dic_1"
   ]
  },
  {
   "cell_type": "code",
   "execution_count": null,
   "metadata": {},
   "outputs": [],
   "source": [
    "'''\n",
    "Q3. Please write a program that \n",
    "    - counts a number of occurences of each value in the dic_1\n",
    "    - prints following messages\n",
    "    \n",
    ">>> \n",
    "fruit appears 2 times.\n",
    "vegetable appears 3 times.\n",
    "\n",
    "'''\n",
    "\n",
    "# Hint: you can use dictionary method (i.e. values())\n",
    "# Note: you can use general output formatting."
   ]
  },
  {
   "cell_type": "code",
   "execution_count": 19,
   "metadata": {},
   "outputs": [
    {
     "name": "stdout",
     "output_type": "stream",
     "text": [
      "fruit appears 2 times.\n",
      "vegetable appears 3 times.\n"
     ]
    }
   ],
   "source": [
    "value_cnt = {}\n",
    "\n",
    "for i in dic_1.values():\n",
    "    if i in value_cnt:\n",
    "        value_cnt[i] += 1\n",
    "    else:\n",
    "        value_cnt[i] = 1\n",
    "        \n",
    "\n",
    "for val, cnt in value_cnt.items():\n",
    "    print(f\"{val} appears {cnt} times.\")"
   ]
  },
  {
   "cell_type": "code",
   "execution_count": null,
   "metadata": {},
   "outputs": [],
   "source": [
    "'''\n",
    "Q4. Write a function lookup_dic() that \n",
    "    implements an employee information management application.\n",
    "\n",
    "    Your function takes, as input, a dictionary representing a employee table,\n",
    "    mapping strings (containing an employee number) as a key\n",
    "    to tuples (containing first name and last name) as a value \n",
    "\n",
    "    It repeats 1) requesting an user to input employee number, and \n",
    "               2) printing out one's first and last name.\n",
    "\n",
    "    If an user inputs wrong number, it prints out \"Wrong number!\"\n",
    "    If an user inputs nothing, stop the iteration and print out \"Goodbye.\"\n",
    "\n",
    ">>> employee = {'901234':('Anna', 'Karenina'), \n",
    "                '321908':('Yu', 'Tsun'), \n",
    "                '123456':('Hans', 'Castorp')}\n",
    "\n",
    ">>> lookup_dic(employee)\n",
    "Enter the employee number: 321908\n",
    "Name: Yu Tsun\n",
    "Enter the employee number: 123456\n",
    "Name: Hans Castorp\n",
    "Enter the employee number: 001234\n",
    "Name: Wrong number!\n",
    "Enter the employee number: \n",
    "Goodbye.\n",
    "\n",
    "'''"
   ]
  },
  {
   "cell_type": "code",
   "execution_count": 39,
   "metadata": {},
   "outputs": [],
   "source": [
    "employee = {'901234':('Anna', 'Karenina'), \n",
    "                '321908':('Yu', 'Tsun'), \n",
    "                '123456':('Hans', 'Castorp')}"
   ]
  },
  {
   "cell_type": "code",
   "execution_count": 40,
   "metadata": {},
   "outputs": [],
   "source": [
    "def lookup_dic(employee):\n",
    "    \n",
    "    while True:\n",
    "        usr_emp_no = input(\"Enter the employee number: \")\n",
    "        if usr_emp_no == '':\n",
    "            print(\"Goodbye.\")\n",
    "            break\n",
    "        if usr_emp_no not in employee.keys():\n",
    "            print(\"Wrong number!\")\n",
    "        if usr_emp_no in employee.keys():\n",
    "            first_name, last_name = employee[usr_emp_no]\n",
    "            print('Name: ' + first_name + ' ' + last_name)\n"
   ]
  },
  {
   "cell_type": "code",
   "execution_count": 41,
   "metadata": {},
   "outputs": [
    {
     "name": "stdout",
     "output_type": "stream",
     "text": [
      "Name: Yu Tsun\n",
      "Name: Hans Castorp\n",
      "Wrong number!\n",
      "Goodbye.\n"
     ]
    }
   ],
   "source": [
    "lookup_dic(employee)"
   ]
  },
  {
   "cell_type": "code",
   "execution_count": null,
   "metadata": {},
   "outputs": [],
   "source": [
    "'''\n",
    "Q5. Write a function create_dic() that \n",
    "    implements an employee information management application. \n",
    "\n",
    "    Your function takes nothing,\n",
    "    mapping strings (containing an employee number) as a key\n",
    "    to tuples (containing first name and last name) as a value \n",
    "\n",
    "    It 1) repeats requesting an user to input employee number, firt name, and last name\n",
    "       2) returns the employee table (i.e. dictionary) and stops the iteration, as an user inputs nothing.\n",
    "\n",
    ">>> create_dic()\n",
    "Enter the employee number: 901234\n",
    "Enter the first name: Anna\n",
    "Enter the last name: Karenina\n",
    "Enter the employee number: 321908\n",
    "Enter the first name: Yu\n",
    "Enter the last name: Tsun\n",
    "Enter the employee number: 123456\n",
    "Enter the first name: Hans\n",
    "Enter the last name: Castorp\n",
    "Enter the employee number: \n",
    "{'901234':('Anna', 'Karenina'), '321908':('Yu', 'Tsun'), '123456':('Hans', 'Castorp')}\n",
    "\n",
    "'''\n",
    "\n",
    "# Note: if an user input nothing to the fist or last names after typing its employee number, \n",
    "#       the employee number will not be added into the dictionary"
   ]
  },
  {
   "cell_type": "code",
   "execution_count": null,
   "metadata": {},
   "outputs": [],
   "source": []
  },
  {
   "cell_type": "code",
   "execution_count": null,
   "metadata": {},
   "outputs": [],
   "source": [
    "create_dic()"
   ]
  },
  {
   "cell_type": "markdown",
   "metadata": {},
   "source": [
    "# (2) random module"
   ]
  },
  {
   "cell_type": "code",
   "execution_count": null,
   "metadata": {},
   "outputs": [],
   "source": [
    "'''\n",
    "Q6. Write a function rand_n() that takes a bound as an input\n",
    "    and returns a random positive integer number lower than the bound\n",
    "\n",
    ">>> rand_n(10)\n",
    "3\n",
    ">>> rand_n(100)\n",
    "13\n",
    "\n",
    "'''"
   ]
  },
  {
   "cell_type": "code",
   "execution_count": null,
   "metadata": {},
   "outputs": [],
   "source": []
  },
  {
   "cell_type": "code",
   "execution_count": null,
   "metadata": {},
   "outputs": [],
   "source": [
    "rand_n(10)"
   ]
  },
  {
   "cell_type": "code",
   "execution_count": null,
   "metadata": {},
   "outputs": [],
   "source": [
    "rand_n(100)"
   ]
  },
  {
   "cell_type": "code",
   "execution_count": null,
   "metadata": {},
   "outputs": [],
   "source": [
    "'''\n",
    "Q7. Write a function random_choice() that takes \n",
    "    a list as an input and\n",
    "    randomly select an item in the list and returns it\n",
    "\n",
    ">>> random_choice(['apple', 'pear', 'strawberry', 'rasberry'])\n",
    "'apple'\n",
    ">>> random_choice(['apple', 'pear', 'strawberry', 'rasberry'])\n",
    "'rasberry'\n",
    ">>> random_choice(['apple', 'pear', 'strawberry', 'rasberry'])\n",
    "'pear'\n",
    "\n",
    "'''"
   ]
  },
  {
   "cell_type": "code",
   "execution_count": null,
   "metadata": {},
   "outputs": [],
   "source": []
  },
  {
   "cell_type": "code",
   "execution_count": null,
   "metadata": {},
   "outputs": [],
   "source": [
    "random_choice(['apple', 'pear', 'strawberry', 'rasberry'])"
   ]
  },
  {
   "cell_type": "code",
   "execution_count": null,
   "metadata": {},
   "outputs": [],
   "source": [
    "random_choice(['apple', 'pear', 'strawberry', 'rasberry'])"
   ]
  },
  {
   "cell_type": "code",
   "execution_count": null,
   "metadata": {},
   "outputs": [],
   "source": [
    "random_choice(['apple', 'pear', 'strawberry', 'rasberry'])"
   ]
  },
  {
   "cell_type": "code",
   "execution_count": null,
   "metadata": {},
   "outputs": [],
   "source": [
    "'''\n",
    "Q8. Write a function dice() that returns an integer from 1 to 6 with equal probability.\n",
    "\n",
    ">>> dice()\n",
    "3\n",
    ">>> dice()\n",
    "1\n",
    ">>> dice()\n",
    "5\n",
    "\n",
    "'''"
   ]
  },
  {
   "cell_type": "code",
   "execution_count": null,
   "metadata": {},
   "outputs": [],
   "source": []
  },
  {
   "cell_type": "code",
   "execution_count": null,
   "metadata": {},
   "outputs": [],
   "source": [
    "dice()"
   ]
  },
  {
   "cell_type": "code",
   "execution_count": null,
   "metadata": {},
   "outputs": [],
   "source": [
    "dice()"
   ]
  },
  {
   "cell_type": "code",
   "execution_count": null,
   "metadata": {},
   "outputs": [],
   "source": [
    "dice()"
   ]
  },
  {
   "cell_type": "code",
   "execution_count": null,
   "metadata": {},
   "outputs": [],
   "source": [
    "'''\n",
    "Q9. Write function dice_game() that:\n",
    "    has two players (i.e. A and B) who roll a dice ranging from 1 to 6\n",
    "    It prints out following messages that show\n",
    "        1) each player's dice value\n",
    "        2) the winner\n",
    "        3) if the dice values are same, prints out Draw!\n",
    "        \n",
    ">>> dice_game()\n",
    "A:3, B:4\n",
    "B is the winner!\n",
    "\n",
    ">>> dice_game()\n",
    "A:5, B:2\n",
    "A is the winner!\n",
    "\n",
    ">>> dice_game()\n",
    "A:4, B:4\n",
    "Draw!\n",
    "\n",
    "'''\n"
   ]
  },
  {
   "cell_type": "code",
   "execution_count": null,
   "metadata": {},
   "outputs": [],
   "source": []
  },
  {
   "cell_type": "code",
   "execution_count": null,
   "metadata": {},
   "outputs": [],
   "source": [
    "dice_game()"
   ]
  },
  {
   "cell_type": "code",
   "execution_count": null,
   "metadata": {},
   "outputs": [],
   "source": [
    "dice_game()"
   ]
  },
  {
   "cell_type": "code",
   "execution_count": null,
   "metadata": {},
   "outputs": [],
   "source": [
    "dice_game()"
   ]
  },
  {
   "cell_type": "code",
   "execution_count": null,
   "metadata": {},
   "outputs": [],
   "source": [
    "'''\n",
    "Q10. Write function dice_game_summary() that:\n",
    "    takes a number of games (i.e. rounds) as an input,\n",
    "    has two players (i.e. A and B) who roll a dice ranging from 1 to 6\n",
    "    It repeatdly prints out the result of each round that show \n",
    "        1) each player's dice value\n",
    "        2) the winner\n",
    "        3) if the dice values are same, prints out Draw!\n",
    "    After running all rounds, it prints out the summary by folloiwng.\n",
    "        1) a number of winning games of A\n",
    "        2) a number of winning games of B\n",
    "        3) the final champion\n",
    "        4) if the number of winning games are same, prints out \"Unbelievable!\"\n",
    "        \n",
    ">>> dice_game_summary(3)\n",
    "A:3, B:4\n",
    "B is the winner!\n",
    "A:5, B:2\n",
    "A is the winner!\n",
    "A:4, B:4\n",
    "Draw!\n",
    "Winning games of A: 1\n",
    "Winning games of B: 1\n",
    "Unbelievable!\n",
    "\n",
    ">>> dice_game_summary(4)\n",
    "A:2, B:6\n",
    "B is the winner!\n",
    "A:3, B:4\n",
    "B is the winner!\n",
    "A:5, B:2\n",
    "A is the winner!\n",
    "A:4, B:4\n",
    "Draw!\n",
    "Winning games of A: 2\n",
    "Winning games of B: 1\n",
    "Final Champion is A!\n",
    "\n",
    "'''\n",
    "# hint: randrange(), range(), for loop, multi-way if, two-way if, general output formatting\n",
    "#       Accumulator loop pattern"
   ]
  },
  {
   "cell_type": "code",
   "execution_count": null,
   "metadata": {},
   "outputs": [],
   "source": []
  },
  {
   "cell_type": "code",
   "execution_count": null,
   "metadata": {},
   "outputs": [],
   "source": [
    "dice_game_summary(10)"
   ]
  }
 ],
 "metadata": {
  "anaconda-cloud": {},
  "kernelspec": {
   "display_name": "Python 3",
   "language": "python",
   "name": "python3"
  },
  "language_info": {
   "codemirror_mode": {
    "name": "ipython",
    "version": 3
   },
   "file_extension": ".py",
   "mimetype": "text/x-python",
   "name": "python",
   "nbconvert_exporter": "python",
   "pygments_lexer": "ipython3",
   "version": "3.12.4"
  }
 },
 "nbformat": 4,
 "nbformat_minor": 1
}
