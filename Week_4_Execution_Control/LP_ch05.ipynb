{
 "cells": [
  {
   "cell_type": "markdown",
   "metadata": {},
   "source": [
    "# (1) multi-way if statement"
   ]
  },
  {
   "cell_type": "code",
   "execution_count": null,
   "metadata": {},
   "outputs": [],
   "source": [
    "'''Write function BMI() that:\n",
    "takes as input a person’s height (in inches) and weight (in pounds)\n",
    "computes the person’s BMI and prints an assessment, as shown below\n",
    "\n",
    ">>> BMI(190, 75)\n",
    "Normal\n",
    ">>> BMI(140, 75)\n",
    "Underweight\n",
    ">>> BMI(240, 75)\n",
    "Overweight\n",
    "\n",
    "The function does not return anything.\n",
    "\n",
    "The Body Mass Index is the value (weight * 703) / (height ** 2). \n",
    "Indexes below 18.5 or above 25.0 are assessed as underweight and overweight, respectively; \n",
    "indexes in between are considered normal. \n",
    "'''\n"
   ]
  },
  {
   "cell_type": "code",
   "execution_count": null,
   "metadata": {},
   "outputs": [],
   "source": []
  },
  {
   "cell_type": "code",
   "execution_count": null,
   "metadata": {},
   "outputs": [],
   "source": [
    "BMI(190, 75)"
   ]
  },
  {
   "cell_type": "code",
   "execution_count": null,
   "metadata": {},
   "outputs": [],
   "source": [
    "BMI(140, 75)"
   ]
  },
  {
   "cell_type": "code",
   "execution_count": null,
   "metadata": {},
   "outputs": [],
   "source": [
    "BMI(240, 75)"
   ]
  },
  {
   "cell_type": "markdown",
   "metadata": {},
   "source": [
    "# (2) Return vs. Print inside of the if statement in the for Loop"
   ]
  },
  {
   "cell_type": "code",
   "execution_count": null,
   "metadata": {},
   "outputs": [],
   "source": [
    "def test(n):\n",
    "    for i in range(n):\n",
    "        if i > 5:\n",
    "            print(i)\n",
    "        else:\n",
    "            print('wrong')"
   ]
  },
  {
   "cell_type": "code",
   "execution_count": null,
   "metadata": {},
   "outputs": [],
   "source": [
    "test(10)"
   ]
  },
  {
   "cell_type": "code",
   "execution_count": null,
   "metadata": {},
   "outputs": [],
   "source": [
    "def test(n):\n",
    "    for i in range(n):\n",
    "        if i > 5:\n",
    "            return i\n",
    "        else:\n",
    "            print('wrong')"
   ]
  },
  {
   "cell_type": "code",
   "execution_count": null,
   "metadata": {},
   "outputs": [],
   "source": [
    "test(10)"
   ]
  },
  {
   "cell_type": "code",
   "execution_count": null,
   "metadata": {},
   "outputs": [],
   "source": [
    "def test(n):\n",
    "    for i in range(n):\n",
    "        if i > 5:\n",
    "            return i\n",
    "        else:\n",
    "            return 'wrong'"
   ]
  },
  {
   "cell_type": "code",
   "execution_count": null,
   "metadata": {},
   "outputs": [],
   "source": [
    "test(10)"
   ]
  },
  {
   "cell_type": "code",
   "execution_count": null,
   "metadata": {},
   "outputs": [],
   "source": [
    "def test(n):\n",
    "    for i in range(n):\n",
    "        if i > 5:\n",
    "            print(i)\n",
    "        else:\n",
    "            return i"
   ]
  },
  {
   "cell_type": "code",
   "execution_count": null,
   "metadata": {},
   "outputs": [],
   "source": [
    "test(10)"
   ]
  },
  {
   "cell_type": "code",
   "execution_count": null,
   "metadata": {},
   "outputs": [],
   "source": [
    "def test(n):\n",
    "    for i in range(n):\n",
    "        if i > 5:\n",
    "            print(i)\n",
    "        return i"
   ]
  },
  {
   "cell_type": "code",
   "execution_count": null,
   "metadata": {},
   "outputs": [],
   "source": [
    "test(10)"
   ]
  },
  {
   "cell_type": "code",
   "execution_count": null,
   "metadata": {},
   "outputs": [],
   "source": [
    "def test(n):\n",
    "    for i in range(n):\n",
    "        if i > 5:\n",
    "            print(i)\n",
    "    return i"
   ]
  },
  {
   "cell_type": "code",
   "execution_count": null,
   "metadata": {},
   "outputs": [],
   "source": [
    "test(10)"
   ]
  },
  {
   "cell_type": "markdown",
   "metadata": {},
   "source": [
    "# (3) Loop pattern: Iteration vs. Counter"
   ]
  },
  {
   "cell_type": "code",
   "execution_count": null,
   "metadata": {},
   "outputs": [],
   "source": [
    "'''\n",
    "Let’s develop function checkSorted() that:\n",
    "takes a list of comparable items as input\n",
    "returns True if the sequence is increasing, False otherwise \n",
    "\n",
    ">>> checkSorted([2, 4, 6, 8, 10])\n",
    "True\n",
    ">>> checkSorted([2, 4, 6, 3, 10])\n",
    "False\n",
    ">>>\n",
    "'''\n",
    "\n"
   ]
  },
  {
   "cell_type": "code",
   "execution_count": null,
   "metadata": {},
   "outputs": [
    {
     "name": "stdout",
     "output_type": "stream",
     "text": [
      "True\n",
      "False\n",
      "True\n"
     ]
    }
   ],
   "source": []
  },
  {
   "cell_type": "code",
   "execution_count": 2,
   "metadata": {},
   "outputs": [
    {
     "ename": "NameError",
     "evalue": "name 'checkSorted' is not defined",
     "output_type": "error",
     "traceback": [
      "\u001b[1;31m---------------------------------------------------------------------------\u001b[0m",
      "\u001b[1;31mNameError\u001b[0m                                 Traceback (most recent call last)",
      "Cell \u001b[1;32mIn[2], line 1\u001b[0m\n\u001b[1;32m----> 1\u001b[0m checkSorted([\u001b[38;5;241m2\u001b[39m, \u001b[38;5;241m4\u001b[39m, \u001b[38;5;241m6\u001b[39m, \u001b[38;5;241m8\u001b[39m, \u001b[38;5;241m10\u001b[39m])\n",
      "\u001b[1;31mNameError\u001b[0m: name 'checkSorted' is not defined"
     ]
    }
   ],
   "source": [
    "checkSorted([2, 4, 6, 8, 10])"
   ]
  },
  {
   "cell_type": "code",
   "execution_count": null,
   "metadata": {},
   "outputs": [],
   "source": [
    "checkSorted([2, 4, 6, 3, 10])"
   ]
  },
  {
   "cell_type": "code",
   "execution_count": null,
   "metadata": {},
   "outputs": [],
   "source": [
    "'''Write function arithmetic() that:\n",
    "takes as input a list of numbers\n",
    "returns True if the numbers in the list form an arithmetic sequence, False otherwise\n",
    "\n",
    ">>> arithmetic([3, 6, 9, 12, 15]) \n",
    "True\n",
    ">>> arithmetic([3, 6, 9, 11, 14]) \n",
    "False\n",
    ">>> arithmetic([3])\n",
    "True\n",
    "\n",
    "'''\n"
   ]
  },
  {
   "cell_type": "code",
   "execution_count": 7,
   "metadata": {},
   "outputs": [],
   "source": [
    "def arithmetic(numbers):\n",
    "    # A single number or an empty list is considered an arithmetic sequence\n",
    "    if len(numbers) <= 1:\n",
    "        return True\n",
    "\n",
    "    # Calculate the common difference\n",
    "    common_difference = numbers[1] - numbers[0]\n",
    "\n",
    "    # Check if all consecutive differences are the same\n",
    "    for i in range(1, len(numbers) - 1):\n",
    "        if numbers[i + 1] - numbers[i] != common_difference:\n",
    "            return False\n",
    "\n",
    "    return True"
   ]
  },
  {
   "cell_type": "code",
   "execution_count": 8,
   "metadata": {},
   "outputs": [
    {
     "data": {
      "text/plain": [
       "True"
      ]
     },
     "execution_count": 8,
     "metadata": {},
     "output_type": "execute_result"
    }
   ],
   "source": [
    "arithmetic([3, 6, 9, 12, 15]) "
   ]
  },
  {
   "cell_type": "code",
   "execution_count": 9,
   "metadata": {},
   "outputs": [
    {
     "data": {
      "text/plain": [
       "False"
      ]
     },
     "execution_count": 9,
     "metadata": {},
     "output_type": "execute_result"
    }
   ],
   "source": [
    "arithmetic([3, 6, 9, 11, 14]) "
   ]
  },
  {
   "cell_type": "code",
   "execution_count": 10,
   "metadata": {},
   "outputs": [
    {
     "data": {
      "text/plain": [
       "True"
      ]
     },
     "execution_count": 10,
     "metadata": {},
     "output_type": "execute_result"
    }
   ],
   "source": [
    "arithmetic([3])"
   ]
  },
  {
   "cell_type": "markdown",
   "metadata": {},
   "source": [
    "# (4) Accumulator loop pattern"
   ]
  },
  {
   "cell_type": "code",
   "execution_count": null,
   "metadata": {},
   "outputs": [],
   "source": [
    "'''Write function factorial() that:\n",
    "takes a non-negative integer n as input\n",
    "returns n!\n",
    "\n",
    "n! = n x (n-1) x (n-2) x ... x 3 x 2 1\n",
    "0! = 1\n",
    "\n",
    ">>> factorial(0)\n",
    "1 \n",
    ">>> factorial(1)\n",
    "1\n",
    ">>> factorial(3)\n",
    "6\n",
    ">>> factorial(6)\n",
    "720\n",
    "\n",
    "'''\n",
    "\n"
   ]
  },
  {
   "cell_type": "code",
   "execution_count": null,
   "metadata": {},
   "outputs": [],
   "source": []
  },
  {
   "cell_type": "code",
   "execution_count": null,
   "metadata": {},
   "outputs": [],
   "source": [
    "factorial(0)"
   ]
  },
  {
   "cell_type": "code",
   "execution_count": null,
   "metadata": {},
   "outputs": [],
   "source": [
    "factorial(1)"
   ]
  },
  {
   "cell_type": "code",
   "execution_count": null,
   "metadata": {},
   "outputs": [],
   "source": [
    "factorial(3)"
   ]
  },
  {
   "cell_type": "code",
   "execution_count": null,
   "metadata": {},
   "outputs": [],
   "source": [
    "factorial(6)"
   ]
  },
  {
   "cell_type": "code",
   "execution_count": 11,
   "metadata": {},
   "outputs": [
    {
     "data": {
      "text/plain": [
       "['Rand', 'Acc', 'Mrm']"
      ]
     },
     "execution_count": 11,
     "metadata": {},
     "output_type": "execute_result"
    }
   ],
   "source": [
    "'''Write function acronym() that:\n",
    "takes a phrase (i.e., a string) as input\n",
    "returns the acronym for the phrase\n",
    "\n",
    ">>> acronym('Random access memory')\n",
    "'RAM' \n",
    ">>> acronym(\"GNU's not UNIX\")\n",
    "'GNU'\n",
    "\n",
    "'''\n",
    "\n",
    "phrase = 'Rand Acc Mrm'\n",
    "phrase.split()"
   ]
  },
  {
   "cell_type": "code",
   "execution_count": null,
   "metadata": {},
   "outputs": [],
   "source": [
    "def acronym(phrase):\n",
    "    # Split the phrase into words\n",
    "    words = phrase.split()\n",
    "    \n",
    "    # Extract the first letter of each word, capitalized\n",
    "    acronym_letters = [word[0].upper() for word in words if word[0].isalnum()]\n",
    "    \n",
    "    # Join the letters to form the acronym\n",
    "    return ''.join(acronym_letters)\n",
    "\n",
    "# Example usage\n",
    "print(acronym('Random access memory'))  # Output: 'RAM'\n",
    "print(acronym(\"GNU's not UNIX\"))        # Output: 'GNU'\n"
   ]
  },
  {
   "cell_type": "code",
   "execution_count": null,
   "metadata": {},
   "outputs": [],
   "source": [
    "acronym('Random access memory')"
   ]
  },
  {
   "cell_type": "code",
   "execution_count": null,
   "metadata": {},
   "outputs": [],
   "source": [
    "acronym(\"GNU's not UNIX\")"
   ]
  },
  {
   "cell_type": "code",
   "execution_count": null,
   "metadata": {},
   "outputs": [],
   "source": [
    "'''Write function divisors() that:\n",
    "takes a positive integer n as input\n",
    "returns the list of positive divisors of n\n",
    "\n",
    ">>> divisors(1)\n",
    "[1]\n",
    ">>> divisors(6)\n",
    "[1, 2, 3, 6]\n",
    ">>> divisors(11)\n",
    "[1, 11]\n",
    "\n",
    "'''\n"
   ]
  },
  {
   "cell_type": "code",
   "execution_count": null,
   "metadata": {},
   "outputs": [],
   "source": []
  },
  {
   "cell_type": "code",
   "execution_count": null,
   "metadata": {},
   "outputs": [],
   "source": [
    "divisors(1)"
   ]
  },
  {
   "cell_type": "code",
   "execution_count": null,
   "metadata": {},
   "outputs": [],
   "source": [
    "divisors(6)"
   ]
  },
  {
   "cell_type": "code",
   "execution_count": null,
   "metadata": {},
   "outputs": [],
   "source": [
    "divisors(11)"
   ]
  },
  {
   "cell_type": "markdown",
   "metadata": {},
   "source": [
    "# (5) Nested for loop"
   ]
  },
  {
   "cell_type": "code",
   "execution_count": null,
   "metadata": {},
   "outputs": [],
   "source": [
    "'''Write function inBoth() that takes:\n",
    "2 lists as input\n",
    "and returns True if there is an item that is common to both lists and False otherwise\n",
    "\n",
    ">>> inBoth([3, 2, 5, 4, 7], [9, 0, 1, 3])\n",
    "True\n",
    ">>> inBoth([2, 5, 4, 7], [9, 0, 1, 3])\n",
    "False\n",
    "\n",
    "'''\n"
   ]
  },
  {
   "cell_type": "code",
   "execution_count": null,
   "metadata": {},
   "outputs": [],
   "source": []
  },
  {
   "cell_type": "code",
   "execution_count": null,
   "metadata": {},
   "outputs": [],
   "source": [
    "inBoth([3, 2, 5, 4, 7], [9, 0, 1, 3])"
   ]
  },
  {
   "cell_type": "code",
   "execution_count": null,
   "metadata": {},
   "outputs": [],
   "source": [
    "inBoth([2, 5, 4, 7], [9, 0, 1, 3])"
   ]
  },
  {
   "cell_type": "code",
   "execution_count": null,
   "metadata": {},
   "outputs": [],
   "source": [
    "'''Write function pairSum() that takes as input:\n",
    "a list of numbers\n",
    "a target value\n",
    "and prints the indexes of all pairs of values in the list that add up to the target value \n",
    "\n",
    ">>> pairSum([7, 8, 5, 3, 4, 6], 11)\n",
    "0 4\n",
    "1 3\n",
    "2 5\n",
    "3 1\n",
    "4 0\n",
    "5 2\n",
    "'''\n"
   ]
  },
  {
   "cell_type": "code",
   "execution_count": null,
   "metadata": {
    "scrolled": true
   },
   "outputs": [],
   "source": []
  },
  {
   "cell_type": "code",
   "execution_count": null,
   "metadata": {},
   "outputs": [],
   "source": [
    "pairSum([7, 8, 5, 3, 4, 6], 11)"
   ]
  },
  {
   "cell_type": "code",
   "execution_count": null,
   "metadata": {},
   "outputs": [],
   "source": [
    "'''Implement function pixels() that takes as input:\n",
    "a two-dimensional list of nonnegative integer entries (representing the values of pixels of an image) \n",
    "and returns the number of entries that are positive (i.e., the number of pixels that are not dark). \n",
    "Your function should work on two-dimensional lists of any size.\n",
    "\n",
    ">>> lst = [[0, 156, 0, 0], [34, 0, 0, 0], [23, 123, 0, 34]] \n",
    ">>> pixels(lst)\n",
    "5\n",
    ">>> lst = [[123, 56, 255], [34, 0, 0], [23, 123, 0], [3, 0, 0]]\n",
    ">>> pixels(lst)\n",
    "7\n",
    "\n",
    "'''\n"
   ]
  },
  {
   "cell_type": "code",
   "execution_count": null,
   "metadata": {},
   "outputs": [],
   "source": []
  },
  {
   "cell_type": "code",
   "execution_count": null,
   "metadata": {},
   "outputs": [],
   "source": [
    "lst = [[0, 156, 0, 0], [34, 0, 0, 0], [23, 123, 0, 34]]\n",
    "pixels(lst)"
   ]
  },
  {
   "cell_type": "code",
   "execution_count": null,
   "metadata": {},
   "outputs": [],
   "source": [
    "lst = [[123, 56, 255], [34, 0, 0], [23, 123, 0], [3, 0, 0]]\n",
    "pixels(lst)"
   ]
  },
  {
   "cell_type": "markdown",
   "metadata": {},
   "source": [
    "# (6) while loop"
   ]
  },
  {
   "cell_type": "code",
   "execution_count": null,
   "metadata": {},
   "outputs": [],
   "source": [
    "'''Write a function fibonnaci() that takes as input a bound\n",
    "and returns the first Fibnonaci number greater than the bound\n",
    "\n",
    "Fibonnaci sequence\n",
    "1, 1, 2, 3, 5, 8, 13, ...\n",
    "\n",
    "'''\n"
   ]
  },
  {
   "cell_type": "code",
   "execution_count": null,
   "metadata": {},
   "outputs": [],
   "source": []
  },
  {
   "cell_type": "code",
   "execution_count": null,
   "metadata": {},
   "outputs": [],
   "source": [
    "fibonnaci(10)"
   ]
  },
  {
   "cell_type": "markdown",
   "metadata": {},
   "source": [
    "# (7) infinite loop pattern"
   ]
  },
  {
   "cell_type": "code",
   "execution_count": null,
   "metadata": {},
   "outputs": [],
   "source": [
    "'''Writer a function hello2() that\n",
    "    repeatedly requests the name of the user,\n",
    "    then greets the user.\n",
    "'''\n",
    "\n"
   ]
  },
  {
   "cell_type": "code",
   "execution_count": null,
   "metadata": {},
   "outputs": [],
   "source": []
  },
  {
   "cell_type": "code",
   "execution_count": null,
   "metadata": {},
   "outputs": [],
   "source": [
    "hello2()"
   ]
  },
  {
   "cell_type": "markdown",
   "metadata": {},
   "source": [
    "# (8) break, continue statements"
   ]
  },
  {
   "cell_type": "code",
   "execution_count": null,
   "metadata": {},
   "outputs": [],
   "source": [
    "table = [[2, 3, 0, 6],\n",
    "         [0, 3, 4, 5],\n",
    "         [4, 5, 6, 0]]"
   ]
  },
  {
   "cell_type": "code",
   "execution_count": null,
   "metadata": {},
   "outputs": [],
   "source": [
    "'''Write function before0() that:\n",
    "takes a 2-D list of numbers as input\n",
    "prints 2-D table of numbers of the 2-D list. If there is 0 in the list, numbers after 0 will not be printed\n",
    "'''\n"
   ]
  },
  {
   "cell_type": "code",
   "execution_count": null,
   "metadata": {},
   "outputs": [],
   "source": []
  },
  {
   "cell_type": "code",
   "execution_count": null,
   "metadata": {},
   "outputs": [],
   "source": [
    "before0(table)"
   ]
  },
  {
   "cell_type": "code",
   "execution_count": null,
   "metadata": {},
   "outputs": [],
   "source": [
    "'''Write function ignore0() that:\n",
    "takes a 2-D list of numbers as input\n",
    "prints 2-D table of numbers in the 2-D list. If there is 0 in the list, it will not be printed\n",
    "'''\n"
   ]
  },
  {
   "cell_type": "code",
   "execution_count": null,
   "metadata": {},
   "outputs": [],
   "source": []
  },
  {
   "cell_type": "code",
   "execution_count": null,
   "metadata": {},
   "outputs": [],
   "source": [
    "ignore0(table)"
   ]
  },
  {
   "cell_type": "code",
   "execution_count": null,
   "metadata": {},
   "outputs": [],
   "source": [
    "'''. Write function is_prime() that:\n",
    "takes a positive integer n as input\n",
    "returns True if n is a prime number; return False otherwise\n",
    "\n",
    "[Hint] Divisors of a prime number p are only 1 and itself (p), 1 is not a prime number\n",
    "\n",
    ">>> is_prime(2)\n",
    "True\n",
    ">>> is_prime(6)\n",
    "False\n",
    ">>> is_prime(11)\n",
    "True\n",
    "\n",
    "'''\n"
   ]
  },
  {
   "cell_type": "code",
   "execution_count": null,
   "metadata": {},
   "outputs": [],
   "source": []
  },
  {
   "cell_type": "code",
   "execution_count": null,
   "metadata": {},
   "outputs": [],
   "source": [
    "is_prime(2)"
   ]
  },
  {
   "cell_type": "code",
   "execution_count": null,
   "metadata": {},
   "outputs": [],
   "source": [
    "is_prime(6)"
   ]
  },
  {
   "cell_type": "code",
   "execution_count": null,
   "metadata": {},
   "outputs": [],
   "source": [
    "is_prime(11)"
   ]
  },
  {
   "cell_type": "code",
   "execution_count": null,
   "metadata": {},
   "outputs": [],
   "source": [
    "''' Write function find_largest_prime() that:\n",
    "takes a positive integer n as input\n",
    "returns the largest prime number that is smaller than n\n",
    "\n",
    "[Hint] Use the is_prime() function we just implemented\n",
    "'''\n"
   ]
  },
  {
   "cell_type": "code",
   "execution_count": null,
   "metadata": {},
   "outputs": [],
   "source": []
  },
  {
   "cell_type": "code",
   "execution_count": null,
   "metadata": {},
   "outputs": [],
   "source": [
    "find_largest_prime(100000)"
   ]
  },
  {
   "cell_type": "code",
   "execution_count": null,
   "metadata": {},
   "outputs": [],
   "source": [
    "find_largest_prime_2(10000000)"
   ]
  }
 ],
 "metadata": {
  "anaconda-cloud": {},
  "kernelspec": {
   "display_name": "base",
   "language": "python",
   "name": "python3"
  },
  "language_info": {
   "codemirror_mode": {
    "name": "ipython",
    "version": 3
   },
   "file_extension": ".py",
   "mimetype": "text/x-python",
   "name": "python",
   "nbconvert_exporter": "python",
   "pygments_lexer": "ipython3",
   "version": "3.12.4"
  }
 },
 "nbformat": 4,
 "nbformat_minor": 1
}
