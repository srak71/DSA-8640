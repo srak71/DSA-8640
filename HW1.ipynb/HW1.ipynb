{
 "cells": [
  {
   "cell_type": "markdown",
   "metadata": {},
   "source": [
    "# (1) Translate the following into Python algebraic or Boolean expressions and then evaluate them."
   ]
  },
  {
   "cell_type": "code",
   "execution_count": 20,
   "metadata": {},
   "outputs": [
    {
     "data": {
      "text/plain": [
       "' \\nQ1. The maximum of 2, 5, 7, 0, -5, -3, 9 is equal to the sum of 1, 3, 5\\n\\n'"
      ]
     },
     "execution_count": 20,
     "metadata": {},
     "output_type": "execute_result"
    }
   ],
   "source": [
    "''' \n",
    "Q1. The maximum of 2, 5, 7, 0, -5, -3, 9 is equal to the sum of 1, 3, 5\n",
    "\n",
    "''' "
   ]
  },
  {
   "cell_type": "code",
   "execution_count": 21,
   "metadata": {},
   "outputs": [
    {
     "data": {
      "text/plain": [
       "True"
      ]
     },
     "execution_count": 21,
     "metadata": {},
     "output_type": "execute_result"
    }
   ],
   "source": [
    "max([2, 5, 7, 0, -5, -3, 9]) == (1 + 3 + 5)"
   ]
  },
  {
   "cell_type": "markdown",
   "metadata": {},
   "source": [
    "# (2) Write Python expressions involving strings s1, s2, and s3 that correspond to:"
   ]
  },
  {
   "cell_type": "code",
   "execution_count": 22,
   "metadata": {},
   "outputs": [],
   "source": [
    "s1 = 'Data'\n",
    "s2 = ' '\n",
    "s3 = 'Science'"
   ]
  },
  {
   "cell_type": "code",
   "execution_count": 23,
   "metadata": {},
   "outputs": [
    {
     "data": {
      "text/plain": [
       "' \\nQ2. The total number of characters in the concatenation of 5 copies of \"the concatenatin of s1, s2, and s3\" \\n    is bigger than 65\\n\\n'"
      ]
     },
     "execution_count": 23,
     "metadata": {},
     "output_type": "execute_result"
    }
   ],
   "source": [
    "''' \n",
    "Q2. The total number of characters in the concatenation of 5 copies of \"the concatenatin of s1, s2, and s3\" \n",
    "    is bigger than 65\n",
    "\n",
    "''' "
   ]
  },
  {
   "cell_type": "code",
   "execution_count": 24,
   "metadata": {},
   "outputs": [
    {
     "data": {
      "text/plain": [
       "False"
      ]
     },
     "execution_count": 24,
     "metadata": {},
     "output_type": "execute_result"
    }
   ],
   "source": [
    "len(5 * (s1 + s2 + s3)) > 65"
   ]
  },
  {
   "cell_type": "markdown",
   "metadata": {},
   "source": [
    "# (3) String s is defined to be 'Clemson University'. Write expressions using s and the indexing operator [ ] that return the following strings:"
   ]
  },
  {
   "cell_type": "code",
   "execution_count": 25,
   "metadata": {},
   "outputs": [],
   "source": [
    "s = 'Clemson University'"
   ]
  },
  {
   "cell_type": "code",
   "execution_count": 26,
   "metadata": {},
   "outputs": [
    {
     "data": {
      "text/plain": [
       "\" \\nQ3. 'U'\\n\\n\""
      ]
     },
     "execution_count": 26,
     "metadata": {},
     "output_type": "execute_result"
    }
   ],
   "source": [
    "''' \n",
    "Q3. 'U'\n",
    "\n",
    "''' "
   ]
  },
  {
   "cell_type": "code",
   "execution_count": 27,
   "metadata": {},
   "outputs": [
    {
     "data": {
      "text/plain": [
       "'U'"
      ]
     },
     "execution_count": 27,
     "metadata": {},
     "output_type": "execute_result"
    }
   ],
   "source": [
    "s[8]"
   ]
  },
  {
   "cell_type": "markdown",
   "metadata": {},
   "source": [
    "# (4) List lst is a list of prices for a pair of boots at different online retailers."
   ]
  },
  {
   "cell_type": "code",
   "execution_count": 28,
   "metadata": {},
   "outputs": [],
   "source": [
    "lst = [159.99, 160.00, 205.95, 128.83, 175.49]"
   ]
  },
  {
   "cell_type": "code",
   "execution_count": 29,
   "metadata": {},
   "outputs": [
    {
     "data": {
      "text/plain": [
       "' \\nQ4. Compute the number of retailers selling the boots for 160.00\\n\\n'"
      ]
     },
     "execution_count": 29,
     "metadata": {},
     "output_type": "execute_result"
    }
   ],
   "source": [
    "''' \n",
    "Q4. Compute the number of retailers selling the boots for 160.00\n",
    "\n",
    "''' "
   ]
  },
  {
   "cell_type": "code",
   "execution_count": 30,
   "metadata": {},
   "outputs": [
    {
     "data": {
      "text/plain": [
       "1"
      ]
     },
     "execution_count": 30,
     "metadata": {},
     "output_type": "execute_result"
    }
   ],
   "source": [
    "temp = 0\n",
    "\n",
    "for i in lst:\n",
    "    if i == 160.00:\n",
    "        temp += 1\n",
    "        \n",
    "\n",
    "temp"
   ]
  },
  {
   "cell_type": "code",
   "execution_count": 31,
   "metadata": {},
   "outputs": [
    {
     "data": {
      "text/plain": [
       "' \\nQ5. Find the index of the retailer selling the boots for 160.00 in list lst\\n\\n'"
      ]
     },
     "execution_count": 31,
     "metadata": {},
     "output_type": "execute_result"
    }
   ],
   "source": [
    "''' \n",
    "Q5. Find the index of the retailer selling the boots for 160.00 in list lst\n",
    "\n",
    "''' "
   ]
  },
  {
   "cell_type": "code",
   "execution_count": 32,
   "metadata": {},
   "outputs": [
    {
     "data": {
      "text/plain": [
       "1"
      ]
     },
     "execution_count": 32,
     "metadata": {},
     "output_type": "execute_result"
    }
   ],
   "source": [
    "lst.index(160.00)"
   ]
  },
  {
   "cell_type": "markdown",
   "metadata": {},
   "source": [
    "# (5) Print( ) function"
   ]
  },
  {
   "cell_type": "code",
   "execution_count": 33,
   "metadata": {},
   "outputs": [
    {
     "data": {
      "text/plain": [
       "\" \\nQ6. Write a program that:\\n\\nassigns a string value 'Clemson' to a variable school\\nassigns a string value 'Tigers' to a variable slogan\\nprints a following message using variables school and slogan\\n\\n'Clemson Tigers'\\n\\n\""
      ]
     },
     "execution_count": 33,
     "metadata": {},
     "output_type": "execute_result"
    }
   ],
   "source": [
    "''' \n",
    "Q6. Write a program that:\n",
    "\n",
    "assigns a string value 'Clemson' to a variable school\n",
    "assigns a string value 'Tigers' to a variable slogan\n",
    "prints a following message using variables school and slogan\n",
    "\n",
    "'Clemson Tigers'\n",
    "\n",
    "'''\n",
    "\n",
    "# Hint: you can use plus operator (i.e. +)\n",
    "# Note: please be careful the single quotation mark (i.e. '). You should print out the quotation marks."
   ]
  },
  {
   "cell_type": "code",
   "execution_count": 34,
   "metadata": {},
   "outputs": [
    {
     "name": "stdout",
     "output_type": "stream",
     "text": [
      "'Clemson Tigers'\n"
     ]
    }
   ],
   "source": [
    "school = 'Clemson'\n",
    "slogan = 'Tigers'\n",
    "\n",
    "print(\"'\" + school + ' ' + slogan + \"'\")"
   ]
  },
  {
   "cell_type": "markdown",
   "metadata": {},
   "source": [
    "# (6) Input( ) function"
   ]
  },
  {
   "cell_type": "code",
   "execution_count": 35,
   "metadata": {},
   "outputs": [
    {
     "data": {
      "text/plain": [
       "\"\\nQ7. Write a program that:\\n\\nrequests the user’s first name\\nrequests the user's school name\\nrequests the last year when the user's school won the CFP Championship\\nprints a message\\n\\nHello ###\\n######### won CFP Championship ####\\nIt has been # year(s)\\n\\n\\n>>> \\nWhat is your first name? Kenn\\nWhat is your school name? Clemson University\\nWhen is the last year your school won the CFP Championship? 2018\\n\\nHello Kenn\\nClemson University won CFP Championship 2018\\nIt has been 2 year(s)\\n\\n\""
      ]
     },
     "execution_count": 35,
     "metadata": {},
     "output_type": "execute_result"
    }
   ],
   "source": [
    "'''\n",
    "Q7. Write a program that:\n",
    "\n",
    "requests the user’s first name\n",
    "requests the user's school name\n",
    "requests the last year when the user's school won the CFP Championship\n",
    "prints a message\n",
    "\n",
    "Hello ###\n",
    "######### won CFP Championship ####\n",
    "It has been # year(s)\n",
    "\n",
    "\n",
    ">>> \n",
    "What is your first name? Kenn\n",
    "What is your school name? Clemson University\n",
    "When is the last year your school won the CFP Championship? 2018\n",
    "\n",
    "Hello Kenn\n",
    "Clemson University won CFP Championship 2018\n",
    "It has been 2 year(s)\n",
    "\n",
    "'''"
   ]
  },
  {
   "cell_type": "code",
   "execution_count": 43,
   "metadata": {},
   "outputs": [
    {
     "name": "stdout",
     "output_type": "stream",
     "text": [
      "Hello Kenn\n",
      "Clemson  won CFP Championship  2018\n",
      "It has been 6 year(s)\n"
     ]
    }
   ],
   "source": [
    "first_name = input(\"What is your first name? \")\n",
    "school_name = input(\"What is your school name? \")\n",
    "last_win = int(input(\"When is the last year your school won the CFP Championship? \"))\n",
    "\n",
    "print('Hello', first_name)\n",
    "print(school_name, ' won CFP Championship ', last_win)\n",
    "print('It has been', 2024-last_win, 'year(s)')\n"
   ]
  },
  {
   "cell_type": "markdown",
   "metadata": {},
   "source": [
    "# (7) if statement"
   ]
  },
  {
   "cell_type": "code",
   "execution_count": 36,
   "metadata": {},
   "outputs": [
    {
     "data": {
      "text/plain": [
       "\"\\nQ8. Write a program that:\\n\\nrequests the health\\nrequests the shield\\nrequest the damage\\n\\nif damage is greater than or equal to the sum of health and shield, prints \\n\\nSorry... You're dead...\\nGoodbye...\\n\\nif damage is smaller than the sum of health and shield, prints\\n\\nCongratulation! You're survived!\\nGoodbye!\\n\\n\\n>>>\\nEnter the health: 100\\nEnter the shield: 50\\nEnter the damage: 150\\n\\nSorry... You're dead...\\nGoodbye...\\n\\n>>>\\nEnter the health: 100\\nEnter the shield: 50\\nEnter the damage: 100\\n\\nCongratulation! You're survived!\\nGoodbye!\\n\\n\""
      ]
     },
     "execution_count": 36,
     "metadata": {},
     "output_type": "execute_result"
    }
   ],
   "source": [
    "'''\n",
    "Q8. Write a program that:\n",
    "\n",
    "requests the health\n",
    "requests the shield\n",
    "request the damage\n",
    "\n",
    "if damage is greater than or equal to the sum of health and shield, prints \n",
    "\n",
    "Sorry... You're dead...\n",
    "Goodbye...\n",
    "\n",
    "if damage is smaller than the sum of health and shield, prints\n",
    "\n",
    "Congratulation! You're survived!\n",
    "Goodbye!\n",
    "\n",
    "\n",
    ">>>\n",
    "Enter the health: 100\n",
    "Enter the shield: 50\n",
    "Enter the damage: 150\n",
    "\n",
    "Sorry... You're dead...\n",
    "Goodbye...\n",
    "\n",
    ">>>\n",
    "Enter the health: 100\n",
    "Enter the shield: 50\n",
    "Enter the damage: 100\n",
    "\n",
    "Congratulation! You're survived!\n",
    "Goodbye!\n",
    "\n",
    "'''"
   ]
  },
  {
   "cell_type": "code",
   "execution_count": 45,
   "metadata": {},
   "outputs": [
    {
     "name": "stdout",
     "output_type": "stream",
     "text": [
      "Congratulation! You're survived!\n",
      "Goodbye!\n"
     ]
    }
   ],
   "source": [
    "health = int(input(\"Enter the health:\"))\n",
    "shield = int(input('Enter the shield:'))\n",
    "damage = int(input('Enter the damage:'))\n",
    "\n",
    "if damage >= (health + shield) :\n",
    "    print(\"Sorry... You're dead...\")\n",
    "    print(\"Goodbye...\")\n",
    "    \n",
    "\n",
    "if damage < (health + shield) :\n",
    "    print(\"Congratulation! You're survived!\")\n",
    "    print(\"Goodbye!\")\n",
    "    \n"
   ]
  },
  {
   "cell_type": "markdown",
   "metadata": {},
   "source": [
    "# (8) for loop statement"
   ]
  },
  {
   "cell_type": "code",
   "execution_count": 37,
   "metadata": {},
   "outputs": [
    {
     "data": {
      "text/plain": [
       "'\\nQ9. Write a \"spelling\" program that:\\n\\nassigns strings (i.e.\\'apple\\', \\'pear\\', \\'strawberry\\') to a list variable lst\\nprints a number of items in the list with a message\\n\\nThe last letters of # strings are:\\n\\nprints the last letter of each item from right to left in the list, one per line\\n\\n\\n>>>\\nThe last letters of 3 strings are:\\ny\\nr\\ne\\n\\n'"
      ]
     },
     "execution_count": 37,
     "metadata": {},
     "output_type": "execute_result"
    }
   ],
   "source": [
    "'''\n",
    "Q9. Write a \"spelling\" program that:\n",
    "\n",
    "assigns strings (i.e.'apple', 'pear', 'strawberry') to a list variable lst\n",
    "prints a number of items in the list with a message\n",
    "\n",
    "The last letters of # strings are:\n",
    "\n",
    "prints the last letter of each item from right to left in the list, one per line\n",
    "\n",
    "\n",
    ">>>\n",
    "The last letters of 3 strings are:\n",
    "y\n",
    "r\n",
    "e\n",
    "\n",
    "'''\n",
    "\n",
    "# Note: you should print the last letter of each item from right to left in the list , one per line\n",
    "# Hint: you can use reverse method of list object\n",
    "# Hint: you can use index to get the last letter of each string object in the list"
   ]
  },
  {
   "cell_type": "code",
   "execution_count": 48,
   "metadata": {},
   "outputs": [
    {
     "name": "stdout",
     "output_type": "stream",
     "text": [
      "The last letters of 3 strings are:\n",
      "y\n",
      "r\n",
      "e\n"
     ]
    }
   ],
   "source": [
    "lst = ['apple', 'pear', 'strawberry']\n",
    "\n",
    "print(\"The last letters of\", len(lst), \"strings are:\")\n",
    "\n",
    "for i in reversed(lst):\n",
    "    print(i[-1])\n",
    "\n"
   ]
  },
  {
   "cell_type": "markdown",
   "metadata": {},
   "source": [
    "# (9) range( ) function"
   ]
  },
  {
   "cell_type": "code",
   "execution_count": 38,
   "metadata": {},
   "outputs": [
    {
     "data": {
      "text/plain": [
       "'\\nQ10. Using range() function, write a program that:\\n\\nrequests the beginnig of the range\\nrequests the ending of the range\\nrequests the interval of ther range\\nprints a sequence of numbers, one per line\\n\\n\\n>>>\\nPlease enter the beginning of the range: 5\\nPlease enter the ending of the range: 11\\nPlease enter the interval of the range: 2\\n5\\n7\\n9\\n11\\n\\n'"
      ]
     },
     "execution_count": 38,
     "metadata": {},
     "output_type": "execute_result"
    }
   ],
   "source": [
    "'''\n",
    "Q10. Using range() function, write a program that:\n",
    "\n",
    "requests the beginnig of the range\n",
    "requests the ending of the range\n",
    "requests the interval of ther range\n",
    "prints a sequence of numbers, one per line\n",
    "\n",
    "\n",
    ">>>\n",
    "Please enter the beginning of the range: 5\n",
    "Please enter the ending of the range: 11\n",
    "Please enter the interval of the range: 2\n",
    "5\n",
    "7\n",
    "9\n",
    "11\n",
    "\n",
    "'''\n",
    "\n",
    "# Note: please be careful with the ending of the range in the range function"
   ]
  },
  {
   "cell_type": "code",
   "execution_count": 49,
   "metadata": {},
   "outputs": [
    {
     "name": "stdout",
     "output_type": "stream",
     "text": [
      "5\n",
      "7\n",
      "9\n",
      "11\n"
     ]
    }
   ],
   "source": [
    "start = int(input(\"Please enter the beginning of the range: \"))\n",
    "end = int(input(\"Please enter the ending of the range: \"))\n",
    "steps = int(input(\"Please enter the interval of the range: \"))\n",
    "\n",
    "for i in range(start, end + 1, steps):\n",
    "    print(i)"
   ]
  },
  {
   "cell_type": "code",
   "execution_count": null,
   "metadata": {},
   "outputs": [],
   "source": []
  }
 ],
 "metadata": {
  "anaconda-cloud": {},
  "kernelspec": {
   "display_name": "Python 3",
   "language": "python",
   "name": "python3"
  },
  "language_info": {
   "codemirror_mode": {
    "name": "ipython",
    "version": 3
   },
   "file_extension": ".py",
   "mimetype": "text/x-python",
   "name": "python",
   "nbconvert_exporter": "python",
   "pygments_lexer": "ipython3",
   "version": "3.12.4"
  }
 },
 "nbformat": 4,
 "nbformat_minor": 1
}
