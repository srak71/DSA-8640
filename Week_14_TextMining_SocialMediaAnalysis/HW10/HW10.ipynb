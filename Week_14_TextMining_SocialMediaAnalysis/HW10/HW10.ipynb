{
 "cells": [
  {
   "cell_type": "markdown",
   "metadata": {},
   "source": [
    "# (1) Sentiment Analysis"
   ]
  },
  {
   "cell_type": "code",
   "execution_count": null,
   "metadata": {},
   "outputs": [],
   "source": [
    "'''\n",
    "Q1. Please open a json file (i.e. tweet_stream_halloween_1000) and create a list of tweets, Tweets.\n",
    "\n",
    "'''\n",
    "\n",
    "# note: at first, you need to import 1) json module; 2) textblob module from TextBlob package "
   ]
  },
  {
   "cell_type": "code",
   "execution_count": null,
   "metadata": {},
   "outputs": [],
   "source": []
  },
  {
   "cell_type": "code",
   "execution_count": null,
   "metadata": {},
   "outputs": [],
   "source": [
    "'''\n",
    "Q2. Please create two lists (e.g. sub_list, pol_list) that have the subjectivity scores and polarity scores of all the tweets.\n",
    "\n",
    "'''\n",
    "\n",
    "# note: you can use for loop to access each tweet from tweets list. "
   ]
  },
  {
   "cell_type": "code",
   "execution_count": null,
   "metadata": {},
   "outputs": [],
   "source": []
  },
  {
   "cell_type": "code",
   "execution_count": null,
   "metadata": {},
   "outputs": [],
   "source": [
    "'''\n",
    "Q3. Plesae display a histogram of subjectivy of 1K tweets.\n",
    "    And save the histogram as subjectibity_1K_Tweets.pdf\n",
    "\n",
    "'''\n",
    "\n",
    "# note: at first, you need to import matplotlib.pyplot.\n",
    "# note: please check the filename"
   ]
  },
  {
   "cell_type": "code",
   "execution_count": null,
   "metadata": {},
   "outputs": [],
   "source": []
  },
  {
   "cell_type": "code",
   "execution_count": null,
   "metadata": {},
   "outputs": [],
   "source": [
    "'''\n",
    "Q4. Plesae display a histogram of polarity of 1K tweets.\n",
    "    And save the histogram as polarity_1K_Tweets.pdf\n",
    "\n",
    "'''\n",
    "\n",
    "# note: please check the filename"
   ]
  },
  {
   "cell_type": "code",
   "execution_count": null,
   "metadata": {},
   "outputs": [],
   "source": []
  },
  {
   "cell_type": "code",
   "execution_count": null,
   "metadata": {},
   "outputs": [],
   "source": [
    "'''\n",
    "Q5. Plese display a histogram of polarity of 1K tweets, \n",
    "    after removing objective tweets, which have 0 subjectivity score.\n",
    "    And save the histogram as polarity_new_1K_Tweets.pdf\n",
    "    \n",
    "'''\n",
    "\n",
    "# note: please check the filename"
   ]
  },
  {
   "cell_type": "code",
   "execution_count": null,
   "metadata": {},
   "outputs": [],
   "source": []
  },
  {
   "cell_type": "markdown",
   "metadata": {},
   "source": [
    "# (2) Topic Modeling (NMF)\n",
    "\n"
   ]
  },
  {
   "cell_type": "code",
   "execution_count": null,
   "metadata": {},
   "outputs": [],
   "source": [
    "'''\n",
    "Q6. Please open a json file (i.e. tweet_stream_easter_1000.json) \n",
    "    and create a list of 1K tweets, corpus_contents, for TFIDF Vectorization\n",
    "'''\n",
    "\n",
    "# note: you need to import json module"
   ]
  },
  {
   "cell_type": "code",
   "execution_count": null,
   "metadata": {},
   "outputs": [],
   "source": []
  },
  {
   "cell_type": "code",
   "execution_count": null,
   "metadata": {},
   "outputs": [],
   "source": [
    "'''\n",
    "Q7. Plesae vectorize your 1K tweets with TfidfVectorizer,\n",
    "    create document-term matrix (i.e. doc_term_matrix),\n",
    "    and create a list of unique words (i.e. unique_words).\n",
    "\n",
    "'''\n",
    "\n",
    "# note: you need to import TfidfVectorizer from sklearn.feature_extraction.text"
   ]
  },
  {
   "cell_type": "code",
   "execution_count": null,
   "metadata": {},
   "outputs": [],
   "source": []
  },
  {
   "cell_type": "code",
   "execution_count": null,
   "metadata": {},
   "outputs": [],
   "source": [
    "'''\n",
    "Q8. Plesae perform NMF decomposition using document-term matrix with TfidfVectorizer.\n",
    "    When you perform NMF decomposition, please set the number of topics to 7.\n",
    "    And create document-topic matrix (i.e. doc_top_matrix) and topic-term matrix (i.e. top_term_matrix).\n",
    "\n",
    "'''\n",
    "\n",
    "# note: you need to import decomposition module from sklearn\n",
    "# note: please check the number of topics"
   ]
  },
  {
   "cell_type": "code",
   "execution_count": null,
   "metadata": {},
   "outputs": [],
   "source": []
  },
  {
   "cell_type": "code",
   "execution_count": null,
   "metadata": {},
   "outputs": [],
   "source": [
    "'''\n",
    "Q9. Please display the constructed topics with top 6 keywords.\n",
    "\n",
    "\n",
    "'''\n",
    "\n",
    "# note: you need to import numpy and pprint\n",
    "# note: please check the number of keywords"
   ]
  },
  {
   "cell_type": "code",
   "execution_count": null,
   "metadata": {},
   "outputs": [],
   "source": []
  },
  {
   "cell_type": "code",
   "execution_count": null,
   "metadata": {},
   "outputs": [],
   "source": [
    "'''\n",
    "Q10. Please perform topic modeling with tweet_stream_easter_1000.json.\n",
    "     You need to set the number of topics to 10 and 10 keywords.\n",
    "\n",
    "'''\n"
   ]
  },
  {
   "cell_type": "code",
   "execution_count": null,
   "metadata": {},
   "outputs": [],
   "source": []
  }
 ],
 "metadata": {
  "anaconda-cloud": {},
  "kernelspec": {
   "display_name": "Python 3",
   "language": "python",
   "name": "python3"
  },
  "language_info": {
   "codemirror_mode": {
    "name": "ipython",
    "version": 3
   },
   "file_extension": ".py",
   "mimetype": "text/x-python",
   "name": "python",
   "nbconvert_exporter": "python",
   "pygments_lexer": "ipython3",
   "version": "3.8.3"
  }
 },
 "nbformat": 4,
 "nbformat_minor": 1
}
