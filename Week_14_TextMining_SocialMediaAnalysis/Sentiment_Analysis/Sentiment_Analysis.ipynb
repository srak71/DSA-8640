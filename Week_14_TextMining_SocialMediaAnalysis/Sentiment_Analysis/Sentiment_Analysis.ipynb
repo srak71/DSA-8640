{
 "cells": [
  {
   "cell_type": "markdown",
   "metadata": {},
   "source": [
    "# SENTIMENT ANALYSIS with TextBlob\n",
    "\n",
    "Let's define the subjectivity score to be the share of positive/negative words\n",
    "- subjectivity = (# of pos/neg words) / (# words)\n",
    "- If there is no emotional keyword, then subj = 0\n",
    "- If all words are emotional, then subj = 1\n",
    "\n",
    "Then let's define the polarity score to be as following:\n",
    "- polarity = (# pos words - #neg words) / (# words)\n",
    "- If all words are postive, then pol = 1\n",
    "- If all words are negative, then pol = -1\n",
    "- If # pos words == # neg words, then pol = 0"
   ]
  },
  {
   "cell_type": "markdown",
   "metadata": {},
   "source": [
    "Web resources:\n",
    "- https://textblob.readthedocs.io/en/dev/\n",
    "- http://textblob.readthedocs.io/en/dev/quickstart.html"
   ]
  },
  {
   "cell_type": "markdown",
   "metadata": {},
   "source": [
    "## (1) Install textblob"
   ]
  },
  {
   "cell_type": "code",
   "execution_count": null,
   "metadata": {},
   "outputs": [],
   "source": [
    "!pip install textblob"
   ]
  },
  {
   "cell_type": "markdown",
   "metadata": {},
   "source": [
    "## (2) Create an instance object of TextBlob"
   ]
  },
  {
   "cell_type": "code",
   "execution_count": null,
   "metadata": {},
   "outputs": [],
   "source": [
    "from textblob import TextBlob"
   ]
  },
  {
   "cell_type": "code",
   "execution_count": null,
   "metadata": {},
   "outputs": [],
   "source": [
    "s = 'DSA8640 is challenging but interesting lol'\n",
    "\n",
    "# Create an instance object of TextBlob with a string variable s\n",
    "tb = TextBlob(s)"
   ]
  },
  {
   "cell_type": "markdown",
   "metadata": {},
   "source": [
    "## (3) Let's start Sentiment Analysis with the TextBlob instance object!"
   ]
  },
  {
   "cell_type": "markdown",
   "metadata": {},
   "source": [
    "> **< instance object of TextBlob >.sentiment** performs sentiment analysis on the instance object and returns the outcome"
   ]
  },
  {
   "cell_type": "code",
   "execution_count": null,
   "metadata": {},
   "outputs": [],
   "source": [
    "# Perform sentiment analysis to the instance object and print out the outcome\n",
    "tb.sentiment"
   ]
  },
  {
   "cell_type": "markdown",
   "metadata": {},
   "source": [
    "> **< instance object of TextBlob>.sentiment.polarity** returns the polarity of strings."
   ]
  },
  {
   "cell_type": "code",
   "execution_count": null,
   "metadata": {},
   "outputs": [],
   "source": [
    "tb.sentiment.polarity"
   ]
  },
  {
   "cell_type": "markdown",
   "metadata": {},
   "source": [
    "> **< instance object of TextBlob>.sentiment.subjectivty** returns the subjectivity of strings."
   ]
  },
  {
   "cell_type": "code",
   "execution_count": null,
   "metadata": {},
   "outputs": [],
   "source": [
    "tb.sentiment.subjectivity"
   ]
  },
  {
   "cell_type": "markdown",
   "metadata": {},
   "source": [
    "> **< instance object of TextBlob >.sentences** returns the string of the instance object"
   ]
  },
  {
   "cell_type": "code",
   "execution_count": null,
   "metadata": {},
   "outputs": [],
   "source": [
    "tb.sentences"
   ]
  },
  {
   "cell_type": "markdown",
   "metadata": {},
   "source": [
    "## (4) Practice #1: Sentiment Analysis"
   ]
  },
  {
   "cell_type": "code",
   "execution_count": null,
   "metadata": {},
   "outputs": [],
   "source": [
    "s_pos = 'this is a great course!!!'\n",
    "tb_pos = TextBlob(s_pos)\n",
    "print(tb_pos.sentiment)"
   ]
  },
  {
   "cell_type": "code",
   "execution_count": null,
   "metadata": {
    "scrolled": true
   },
   "outputs": [],
   "source": [
    "tb = TextBlob('Covid-19 makes my life miserable!!!')\n",
    "print(tb.sentiment)"
   ]
  },
  {
   "cell_type": "markdown",
   "metadata": {},
   "source": [
    "## (5) Practice #2: Now let's try to do sentiment analysis on real text!"
   ]
  },
  {
   "cell_type": "code",
   "execution_count": null,
   "metadata": {},
   "outputs": [],
   "source": [
    "infile = open('frankenstein.txt')\n",
    "sentences = infile.readlines()\n",
    "len(sentences)"
   ]
  },
  {
   "cell_type": "code",
   "execution_count": null,
   "metadata": {},
   "outputs": [],
   "source": [
    "sub_list = []\n",
    "pol_list = []\n",
    "for s in sentences:\n",
    "    tb = TextBlob(s)\n",
    "    sub_list.append(tb.sentiment.subjectivity)\n",
    "    pol_list.append(tb.sentiment.polarity)\n",
    "print(sub_list)"
   ]
  },
  {
   "cell_type": "code",
   "execution_count": null,
   "metadata": {},
   "outputs": [],
   "source": [
    "import matplotlib.pyplot as plt\n",
    "%matplotlib inline\n",
    "\n",
    "plt.hist(sub_list, bins=10)\n",
    "plt.xlabel('subjectivity score')\n",
    "plt.ylabel('sentence count')\n",
    "plt.grid(True)\n",
    "plt.savefig('subjectivity.pdf')\n",
    "plt.show()"
   ]
  },
  {
   "cell_type": "code",
   "execution_count": null,
   "metadata": {},
   "outputs": [],
   "source": [
    "plt.hist(pol_list, bins=10)\n",
    "plt.xlabel('polarity score')\n",
    "plt.ylabel('sentence count')\n",
    "plt.grid(True)\n",
    "plt.savefig('polarity.pdf')\n",
    "plt.show()"
   ]
  },
  {
   "cell_type": "markdown",
   "metadata": {},
   "source": [
    "## (6) Summary"
   ]
  },
  {
   "cell_type": "code",
   "execution_count": null,
   "metadata": {},
   "outputs": [],
   "source": [
    "from textblob import TextBlob\n",
    "import matplotlib.pyplot as plt\n",
    "\n",
    "infile = open('frankenstein.txt')\n",
    "sentences = infile.readlines()\n",
    "\n",
    "sub_list = []\n",
    "pol_list = []\n",
    "\n",
    "for s in sentences:\n",
    "    tb = TextBlob(s)\n",
    "    sub_list.append(tb.sentiment.subjectivity)\n",
    "    pol_list.append(tb.sentiment.polarity)\n",
    "\n",
    "plt.hist(sub_list, bins=10)\n",
    "plt.xlabel('subjectivity score')\n",
    "plt.ylabel('sentence count')\n",
    "plt.grid(True)\n",
    "plt.savefig('subjectivity.pdf')\n",
    "plt.show()\n",
    "\n",
    "plt.hist(pol_list, bins=10)\n",
    "plt.xlabel('polarity score')\n",
    "plt.ylabel('sentence count')\n",
    "plt.grid(True)\n",
    "plt.savefig('polarity.pdf')\n",
    "plt.show()"
   ]
  },
  {
   "cell_type": "markdown",
   "metadata": {},
   "source": [
    "## (7) Practice #3: tweet_stream_COVID_1000.json"
   ]
  },
  {
   "cell_type": "code",
   "execution_count": null,
   "metadata": {},
   "outputs": [],
   "source": [
    "import json\n",
    "from textblob import TextBlob\n",
    "import matplotlib.pyplot as plt\n",
    "%matplotlib inline\n",
    "\n",
    "infile = open('tweet_stream_COVID_1000.json')\n",
    "data = json.load(infile)\n",
    "infile.close()\n",
    "\n",
    "Tweets = []\n",
    "\n",
    "for t in data:\n",
    "    Tweets.append(t['text'])\n",
    "\n",
    "sub_list = []\n",
    "pol_list = []\n",
    "\n",
    "for t in Tweets:\n",
    "    tb = TextBlob(t)\n",
    "    sub_list.append(tb.sentiment.subjectivity)\n",
    "    pol_list.append(tb.sentiment.polarity)\n",
    "    \n",
    "plt.hist(sub_list, bins=10)\n",
    "plt.xlabel('subjectivity score')\n",
    "plt.ylabel('sentence count')\n",
    "plt.grid(True)\n",
    "plt.savefig('subjectivity.pdf')\n",
    "plt.show()\n",
    "\n",
    "plt.hist(pol_list, bins=10)\n",
    "plt.xlabel('polarity score')\n",
    "plt.ylabel('sentence count')\n",
    "plt.grid(True)\n",
    "plt.savefig('polarity.pdf')\n",
    "plt.show()"
   ]
  },
  {
   "cell_type": "markdown",
   "metadata": {},
   "source": [
    "## (8) Practice #3: removing objective tweets"
   ]
  },
  {
   "cell_type": "code",
   "execution_count": null,
   "metadata": {},
   "outputs": [],
   "source": [
    "import json\n",
    "from textblob import TextBlob\n",
    "import matplotlib.pyplot as plt\n",
    "%matplotlib inline\n",
    "\n",
    "infile = open('tweet_stream_COVID_1000.json')\n",
    "data = json.load(infile)\n",
    "infile.close()\n",
    "\n",
    "Tweets = []\n",
    "\n",
    "for t in data:\n",
    "    Tweets.append(t['text'])\n",
    "\n",
    "sub_list = []\n",
    "pol_list = []\n",
    "\n",
    "for t in Tweets:\n",
    "    tb = TextBlob(t)\n",
    "    if tb.sentiment.subjectivity != 0:\n",
    "        sub_list.append(tb.sentiment.subjectivity)\n",
    "        pol_list.append(tb.sentiment.polarity)\n",
    "\n",
    "plt.hist(sub_list, bins=10)\n",
    "plt.xlabel('subjectivity score')\n",
    "plt.ylabel('sentence count')\n",
    "plt.grid(True)\n",
    "plt.savefig('subjectivity_2.pdf')\n",
    "plt.show()\n",
    "\n",
    "plt.hist(pol_list, bins=10)\n",
    "plt.xlabel('polarity score')\n",
    "plt.ylabel('sentence count')\n",
    "plt.grid(True)\n",
    "plt.savefig('polarity_2.pdf')\n",
    "plt.show()"
   ]
  },
  {
   "cell_type": "code",
   "execution_count": null,
   "metadata": {},
   "outputs": [],
   "source": []
  }
 ],
 "metadata": {
  "anaconda-cloud": {},
  "kernelspec": {
   "display_name": "Python 3",
   "language": "python",
   "name": "python3"
  },
  "language_info": {
   "codemirror_mode": {
    "name": "ipython",
    "version": 3
   },
   "file_extension": ".py",
   "mimetype": "text/x-python",
   "name": "python",
   "nbconvert_exporter": "python",
   "pygments_lexer": "ipython3",
   "version": "3.8.3"
  }
 },
 "nbformat": 4,
 "nbformat_minor": 1
}
