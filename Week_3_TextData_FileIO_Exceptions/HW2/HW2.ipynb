{
 "cells": [
  {
   "cell_type": "markdown",
   "metadata": {},
   "source": [
    "# (1) User-defined function"
   ]
  },
  {
   "cell_type": "code",
   "execution_count": 1,
   "metadata": {},
   "outputs": [
    {
     "data": {
      "text/plain": [
       "'\\nQ1. Write a function area() that:\\n\\ntakes a radius of a disk as input\\nreturns the area of the disk\\n\\n\\n>>> area(10)\\n314.1592653589793\\n\\n>>> area(100)\\n31415.92653589793\\n'"
      ]
     },
     "execution_count": 1,
     "metadata": {},
     "output_type": "execute_result"
    }
   ],
   "source": [
    "'''\n",
    "Q1. Write a function area() that:\n",
    "\n",
    "takes a radius of a disk as input\n",
    "returns the area of the disk\n",
    "\n",
    "\n",
    ">>> area(10)\n",
    "314.1592653589793\n",
    "\n",
    ">>> area(100)\n",
    "31415.92653589793\n",
    "'''\n",
    "\n",
    "# Hint: you need to import math module to get pi value. please be careful with where to add import statement\n",
    "# Note: area function returns a numeric value"
   ]
  },
  {
   "cell_type": "code",
   "execution_count": 2,
   "metadata": {},
   "outputs": [],
   "source": [
    "import math"
   ]
  },
  {
   "cell_type": "code",
   "execution_count": 3,
   "metadata": {},
   "outputs": [],
   "source": [
    "def area(radius):\n",
    "    if radius < 0:\n",
    "        return ValueError(\"Radius must be non-negative value\")\n",
    "    return math.pi * (radius ** 2)"
   ]
  },
  {
   "cell_type": "code",
   "execution_count": 4,
   "metadata": {},
   "outputs": [
    {
     "data": {
      "text/plain": [
       "314.1592653589793"
      ]
     },
     "execution_count": 4,
     "metadata": {},
     "output_type": "execute_result"
    }
   ],
   "source": [
    "area(10)"
   ]
  },
  {
   "cell_type": "code",
   "execution_count": 5,
   "metadata": {},
   "outputs": [
    {
     "data": {
      "text/plain": [
       "31415.926535897932"
      ]
     },
     "execution_count": 5,
     "metadata": {},
     "output_type": "execute_result"
    }
   ],
   "source": [
    "area(100)"
   ]
  },
  {
   "cell_type": "code",
   "execution_count": 6,
   "metadata": {},
   "outputs": [
    {
     "data": {
      "text/plain": [
       "\"\\nQ2. Write a function battle() that:\\n\\ntakes three numbers as input\\n\\nThe first number represents health\\nThe second number represents shield\\nThe third number represents damage\\n\\nif damage is greater than or equal to the sum of health and shield, prints \\n\\nSorry... You're dead...\\nGoodbye...\\n\\nif damage is smaller than the sum of health and shield, prints\\n\\nCongratulation! You're survived!\\nGoodbye!\\n\\n\\n>>> battle(100, 50, 150)\\nSorry... You're dead...\\nGoodbye...\\n\\n>>> battle(100, 50, 100)\\nCongratulation! You're survived!\\nGoodbye!\\n\\n\""
      ]
     },
     "execution_count": 6,
     "metadata": {},
     "output_type": "execute_result"
    }
   ],
   "source": [
    "'''\n",
    "Q2. Write a function battle() that:\n",
    "\n",
    "takes three numbers as input\n",
    "\n",
    "The first number represents health\n",
    "The second number represents shield\n",
    "The third number represents damage\n",
    "\n",
    "if damage is greater than or equal to the sum of health and shield, prints \n",
    "\n",
    "Sorry... You're dead...\n",
    "Goodbye...\n",
    "\n",
    "if damage is smaller than the sum of health and shield, prints\n",
    "\n",
    "Congratulation! You're survived!\n",
    "Goodbye!\n",
    "\n",
    "\n",
    ">>> battle(100, 50, 150)\n",
    "Sorry... You're dead...\n",
    "Goodbye...\n",
    "\n",
    ">>> battle(100, 50, 100)\n",
    "Congratulation! You're survived!\n",
    "Goodbye!\n",
    "\n",
    "'''\n",
    "\n",
    "# Note: battle function does not return anything"
   ]
  },
  {
   "cell_type": "code",
   "execution_count": 7,
   "metadata": {},
   "outputs": [],
   "source": [
    "def battle(health, shield, damage):\n",
    "    if damage >= health + shield :\n",
    "        return print(\"Sorry... You're dead...\\nGoodbye...\")\n",
    "    else:\n",
    "        return print(\"Congratulation! You're survived!\\nGoodbye!\")"
   ]
  },
  {
   "cell_type": "code",
   "execution_count": 8,
   "metadata": {},
   "outputs": [
    {
     "name": "stdout",
     "output_type": "stream",
     "text": [
      "Sorry... You're dead...\n",
      "Goodbye...\n"
     ]
    }
   ],
   "source": [
    "battle(100, 50, 150)"
   ]
  },
  {
   "cell_type": "code",
   "execution_count": 9,
   "metadata": {},
   "outputs": [
    {
     "name": "stdout",
     "output_type": "stream",
     "text": [
      "Congratulation! You're survived!\n",
      "Goodbye!\n"
     ]
    }
   ],
   "source": [
    "battle(100, 50, 100)"
   ]
  },
  {
   "cell_type": "markdown",
   "metadata": {},
   "source": [
    "# (2) General Formatting"
   ]
  },
  {
   "cell_type": "code",
   "execution_count": 10,
   "metadata": {},
   "outputs": [
    {
     "name": "stdout",
     "output_type": "stream",
     "text": [
      "http://www.main.com/smith/index.html\n"
     ]
    }
   ],
   "source": [
    "# String link describes the url of a webpage\n",
    "\n",
    "link = 'http://www.main.com/smith/index.html'\n",
    "print(link)"
   ]
  },
  {
   "cell_type": "code",
   "execution_count": 11,
   "metadata": {},
   "outputs": [
    {
     "data": {
      "text/plain": [
       "'\\nQ3. Please print out a following message using link variable\\n\\n\\n>>> \\nwww.main.com + index.html\\n\\n'"
      ]
     },
     "execution_count": 11,
     "metadata": {},
     "output_type": "execute_result"
    }
   ],
   "source": [
    "'''\n",
    "Q3. Please print out a following message using link variable\n",
    "\n",
    "\n",
    ">>> \n",
    "www.main.com + index.html\n",
    "\n",
    "'''\n",
    "\n",
    "# Note: you need to use indexing to slice the link\n",
    "# Note: You need to use general formatting to print out the message"
   ]
  },
  {
   "cell_type": "code",
   "execution_count": 12,
   "metadata": {},
   "outputs": [
    {
     "name": "stdout",
     "output_type": "stream",
     "text": [
      "www.main.com + index.html\n"
     ]
    }
   ],
   "source": [
    "print(link[7:19], \"+\", link[26:])"
   ]
  },
  {
   "cell_type": "markdown",
   "metadata": {},
   "source": [
    "# (3) Read and Write a Text File"
   ]
  },
  {
   "cell_type": "code",
   "execution_count": 13,
   "metadata": {},
   "outputs": [
    {
     "data": {
      "text/plain": [
       "'\\nQ4. Open \"last.txt\" file with read-only file mode\\n    Please find the number of lines in the file ans assign it to \"ans4\" variable\\n    \\n'"
      ]
     },
     "execution_count": 13,
     "metadata": {},
     "output_type": "execute_result"
    }
   ],
   "source": [
    "'''\n",
    "Q4. Open \"last.txt\" file with read-only file mode\n",
    "    Please find the number of lines in the file ans assign it to \"ans4\" variable\n",
    "    \n",
    "'''"
   ]
  },
  {
   "cell_type": "code",
   "execution_count": 14,
   "metadata": {},
   "outputs": [
    {
     "name": "stdout",
     "output_type": "stream",
     "text": [
      "1001\n"
     ]
    }
   ],
   "source": [
    "with open(\"last.txt\", \"r\") as file:\n",
    "    ans4 = len(file.readlines())\n",
    "\n",
    "print(ans4)"
   ]
  },
  {
   "cell_type": "code",
   "execution_count": 15,
   "metadata": {},
   "outputs": [
    {
     "data": {
      "text/plain": [
       "'\\nQ5. Open \"last.txt\" file with read-only file mode\\n    Please find the number of words in the file ans assign it to \"ans5\" variable\\n    \\n'"
      ]
     },
     "execution_count": 15,
     "metadata": {},
     "output_type": "execute_result"
    }
   ],
   "source": [
    "'''\n",
    "Q5. Open \"last.txt\" file with read-only file mode\n",
    "    Please find the number of words in the file ans assign it to \"ans5\" variable\n",
    "    \n",
    "'''"
   ]
  },
  {
   "cell_type": "code",
   "execution_count": 16,
   "metadata": {},
   "outputs": [
    {
     "name": "stdout",
     "output_type": "stream",
     "text": [
      "2002\n"
     ]
    }
   ],
   "source": [
    "with open(\"last.txt\", \"r\") as file:\n",
    "    ans5 = len(file.read().split())\n",
    "\n",
    "print(ans5)"
   ]
  },
  {
   "cell_type": "code",
   "execution_count": 17,
   "metadata": {},
   "outputs": [
    {
     "data": {
      "text/plain": [
       "'\\nQ6. Open \"last.txt\" file with read-only file mode\\n    Count the last names ending with \"E\" and assign it to \"ans6\" variable\\n\\n'"
      ]
     },
     "execution_count": 17,
     "metadata": {},
     "output_type": "execute_result"
    }
   ],
   "source": [
    "'''\n",
    "Q6. Open \"last.txt\" file with read-only file mode\n",
    "    Count the last names ending with \"E\" and assign it to \"ans6\" variable\n",
    "\n",
    "'''"
   ]
  },
  {
   "cell_type": "code",
   "execution_count": 18,
   "metadata": {},
   "outputs": [
    {
     "name": "stdout",
     "output_type": "stream",
     "text": [
      "81\n"
     ]
    }
   ],
   "source": [
    "with open(\"last.txt\", \"r\") as file:\n",
    "\n",
    "    ans6 = 0\n",
    "    words_in_file = file.read().split()\n",
    "\n",
    "    for i in words_in_file:\n",
    "        if i[-1] == 'E':\n",
    "            ans6 += 1\n",
    "\n",
    "print(ans6)"
   ]
  },
  {
   "cell_type": "code",
   "execution_count": 19,
   "metadata": {},
   "outputs": [
    {
     "data": {
      "text/plain": [
       "'\\nQ7. Open \"last.txt\" file with read-only file mode\\n    Count the numbers larger than 0.1 assign it to \"ans7\" variable\\n\\n'"
      ]
     },
     "execution_count": 19,
     "metadata": {},
     "output_type": "execute_result"
    }
   ],
   "source": [
    "'''\n",
    "Q7. Open \"last.txt\" file with read-only file mode\n",
    "    Count the numbers larger than 0.1 assign it to \"ans7\" variable\n",
    "\n",
    "'''\n",
    "\n",
    "# Note: Please be careful with names and numbers. To compare numbers to 0.1, it should be float not string. \n",
    "#       But, names cannot be converted to float...\n",
    "# Hint: You can create two lists which respectively have names and numbers. \n",
    "#       Then you can use a list having numbers to compare to 0.1"
   ]
  },
  {
   "cell_type": "code",
   "execution_count": 20,
   "metadata": {},
   "outputs": [
    {
     "data": {
      "text/plain": [
       "64"
      ]
     },
     "execution_count": 20,
     "metadata": {},
     "output_type": "execute_result"
    }
   ],
   "source": [
    "with open(\"last.txt\", \"r\") as file:\n",
    "\n",
    "    ans7 = 0\n",
    "    words_in_file = file.read().split()\n",
    "\n",
    "    values = []\n",
    "\n",
    "    for i in words_in_file:\n",
    "        try:\n",
    "            values.append(float(i))\n",
    "        except ValueError:\n",
    "            pass\n",
    "\n",
    "    for j in values:\n",
    "        if j > 0.1:\n",
    "            ans7 += 1\n",
    "\n",
    "ans7"
   ]
  },
  {
   "cell_type": "code",
   "execution_count": 21,
   "metadata": {},
   "outputs": [
    {
     "data": {
      "text/plain": [
       "'\\nQ8. Create a new text file \"hw2_answers.txt\" using open() function with write mode\\n    Write your first name, last name in the first line of \"hw2_answers.txt\" file\\n    Write all your answers (i.e. from ans4 to ans7) into the \"hw2_answers.txt\" file\\n    Each answer will take a line with \"answer# = ##\" format.\\n    Write \"Homework 2 is done!!!\" in the last line of \"hw2_answers.txt\" file\\n    Close \"hw2_answers.txt\" file\\n\\n    Your file shoud look like this:\\n    \\n    Kenn Kim\\n    answer4 = ##\\n    answer5 = ##\\n    answer6 = ##\\n    answer7 = ##\\n    Homework 2 is done!!!\\n\\n'"
      ]
     },
     "execution_count": 21,
     "metadata": {},
     "output_type": "execute_result"
    }
   ],
   "source": [
    "'''\n",
    "Q8. Create a new text file \"hw2_answers.txt\" using open() function with write mode\n",
    "    Write your first name, last name in the first line of \"hw2_answers.txt\" file\n",
    "    Write all your answers (i.e. from ans4 to ans7) into the \"hw2_answers.txt\" file\n",
    "    Each answer will take a line with \"answer# = ##\" format.\n",
    "    Write \"Homework 2 is done!!!\" in the last line of \"hw2_answers.txt\" file\n",
    "    Close \"hw2_answers.txt\" file\n",
    "\n",
    "    Your file shoud look like this:\n",
    "    \n",
    "    Kenn Kim\n",
    "    answer4 = ##\n",
    "    answer5 = ##\n",
    "    answer6 = ##\n",
    "    answer7 = ##\n",
    "    Homework 2 is done!!!\n",
    "\n",
    "'''\n",
    "\n",
    "### Hint: You can use general formatting"
   ]
  },
  {
   "cell_type": "code",
   "execution_count": 22,
   "metadata": {},
   "outputs": [],
   "source": [
    "with open(\"hw2_answers.txt\", \"w\") as file:\n",
    "    file.write(\"Saransh Rakshak\")\n",
    "    file.write(f\"\\nanswer4 = {ans4}\")\n",
    "    file.write(f\"\\nanswer5 = {ans5}\")\n",
    "    file.write(f\"\\nanswer6 = {ans6}\")\n",
    "    file.write(f\"\\nanswer7 = {ans7}\")\n",
    "    file.write(\"\\nHomework 2 is done!!!\")"
   ]
  },
  {
   "cell_type": "markdown",
   "metadata": {},
   "source": [
    "# (4) Multi-way if statement"
   ]
  },
  {
   "cell_type": "code",
   "execution_count": 23,
   "metadata": {},
   "outputs": [
    {
     "data": {
      "text/plain": [
       "'\\nQ9. Write a function grade() that:\\n\\n(1) takes a testing score as input\\n(2) returns the grade by following criteria\\n        A: 90 <= testing score\\n        B: 80 <= testing score < 90\\n        C: 70 <= testing score < 80\\n        D: 60 <= testing score < 70\\n        F: testing score < 60\\n\\n\\n>>> grade(82.52)\\nB\\n\\n>>> grade(90.80)\\nA\\n\\n'"
      ]
     },
     "execution_count": 23,
     "metadata": {},
     "output_type": "execute_result"
    }
   ],
   "source": [
    "'''\n",
    "Q9. Write a function grade() that:\n",
    "\n",
    "(1) takes a testing score as input\n",
    "(2) returns the grade by following criteria\n",
    "        A: 90 <= testing score\n",
    "        B: 80 <= testing score < 90\n",
    "        C: 70 <= testing score < 80\n",
    "        D: 60 <= testing score < 70\n",
    "        F: testing score < 60\n",
    "\n",
    "\n",
    ">>> grade(82.52)\n",
    "B\n",
    "\n",
    ">>> grade(90.80)\n",
    "A\n",
    "\n",
    "'''\n",
    "\n"
   ]
  },
  {
   "cell_type": "code",
   "execution_count": 24,
   "metadata": {},
   "outputs": [],
   "source": [
    "def grade(score):\n",
    "    if score >= 90 and score <= 100:\n",
    "        return \"A\"\n",
    "    if score >= 80 and score < 90:\n",
    "        return \"B\"\n",
    "    if score >= 70 and score < 80:\n",
    "        return \"C\"\n",
    "    if score >= 60 and score < 70:\n",
    "        return \"D\"\n",
    "    else:\n",
    "        return \"F\""
   ]
  },
  {
   "cell_type": "code",
   "execution_count": 25,
   "metadata": {},
   "outputs": [
    {
     "data": {
      "text/plain": [
       "'B'"
      ]
     },
     "execution_count": 25,
     "metadata": {},
     "output_type": "execute_result"
    }
   ],
   "source": [
    "grade(82.52)"
   ]
  },
  {
   "cell_type": "code",
   "execution_count": 26,
   "metadata": {},
   "outputs": [
    {
     "data": {
      "text/plain": [
       "'A'"
      ]
     },
     "execution_count": 26,
     "metadata": {},
     "output_type": "execute_result"
    }
   ],
   "source": [
    "grade(90.80)"
   ]
  },
  {
   "cell_type": "code",
   "execution_count": 27,
   "metadata": {},
   "outputs": [
    {
     "data": {
      "text/plain": [
       "'\\nQ10. Write a function grade2() that:\\n\\n(1) takes a testing score and a number of absence as two inputs\\n(2) finds the grade by following criteria\\n        A: 90 <= testing score\\n        B: 80 <= testing score < 90\\n        C: 70 <= testing score < 80\\n        D: 60 <= testing score < 70\\n        F: testing score < 60\\n        +: a number of absence < 6\\n        -: a number of absence >= 6\\n\\n(3) prints the grade with personalized message:\\n        Your grade is ##\\n\\n\\n>>> grade2(92.55, 5)\\nYour grade is A+\\n\\n>>> grade2(81.15, 7)\\nYour grade is B-\\n\\n'"
      ]
     },
     "execution_count": 27,
     "metadata": {},
     "output_type": "execute_result"
    }
   ],
   "source": [
    "'''\n",
    "Q10. Write a function grade2() that:\n",
    "\n",
    "(1) takes a testing score and a number of absence as two inputs\n",
    "(2) finds the grade by following criteria\n",
    "        A: 90 <= testing score\n",
    "        B: 80 <= testing score < 90\n",
    "        C: 70 <= testing score < 80\n",
    "        D: 60 <= testing score < 70\n",
    "        F: testing score < 60\n",
    "        +: a number of absence < 6\n",
    "        -: a number of absence >= 6\n",
    "\n",
    "(3) prints the grade with personalized message:\n",
    "        Your grade is ##\n",
    "\n",
    "\n",
    ">>> grade2(92.55, 5)\n",
    "Your grade is A+\n",
    "\n",
    ">>> grade2(81.15, 7)\n",
    "Your grade is B-\n",
    "\n",
    "'''\n",
    "\n",
    "# Hint: You can use two if statements (i.e. a multi-way if statement & one-way if statement).\n",
    "# Note: Please use general output formatting to print out the personalized message."
   ]
  },
  {
   "cell_type": "code",
   "execution_count": 28,
   "metadata": {},
   "outputs": [],
   "source": [
    "def grade2(score, absences):\n",
    "    letter_grade = grade(score)\n",
    "    if absences < 6:\n",
    "        grade_weight = '+'\n",
    "    else:\n",
    "        grade_weight = '-'\n",
    "\n",
    "    return \"Your grade is \" + letter_grade + grade_weight"
   ]
  },
  {
   "cell_type": "code",
   "execution_count": 29,
   "metadata": {},
   "outputs": [
    {
     "data": {
      "text/plain": [
       "'Your grade is A+'"
      ]
     },
     "execution_count": 29,
     "metadata": {},
     "output_type": "execute_result"
    }
   ],
   "source": [
    "grade2(92.55, 5)"
   ]
  },
  {
   "cell_type": "code",
   "execution_count": 30,
   "metadata": {},
   "outputs": [
    {
     "data": {
      "text/plain": [
       "'Your grade is B-'"
      ]
     },
     "execution_count": 30,
     "metadata": {},
     "output_type": "execute_result"
    }
   ],
   "source": [
    "grade2(81.15, 7)"
   ]
  },
  {
   "cell_type": "code",
   "execution_count": null,
   "metadata": {},
   "outputs": [],
   "source": []
  }
 ],
 "metadata": {
  "anaconda-cloud": {},
  "kernelspec": {
   "display_name": "Python 3",
   "language": "python",
   "name": "python3"
  },
  "language_info": {
   "codemirror_mode": {
    "name": "ipython",
    "version": 3
   },
   "file_extension": ".py",
   "mimetype": "text/x-python",
   "name": "python",
   "nbconvert_exporter": "python",
   "pygments_lexer": "ipython3",
   "version": "3.12.4"
  }
 },
 "nbformat": 4,
 "nbformat_minor": 1
}
