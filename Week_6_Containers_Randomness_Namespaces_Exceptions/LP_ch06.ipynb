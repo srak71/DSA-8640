{
 "cells": [
  {
   "cell_type": "markdown",
   "metadata": {},
   "source": [
    "# Dictionary"
   ]
  },
  {
   "cell_type": "code",
   "execution_count": null,
   "metadata": {},
   "outputs": [],
   "source": [
    "\"\"\"\n",
    "\n",
    "Write a function wordcount() that \n",
    "takes as input a text—as a string— and \n",
    "prints the frequency of each word in the text; \n",
    "assume there is no punctuation in the text.\n",
    "\n",
    ">>> text = 'all animals are equal but some animals are more equal than other'\n",
    "\n",
    ">>> wordCount(text)\n",
    "all appears 1 time.\n",
    "animals appears 2 times.\n",
    "some appears 1 time.\n",
    "equal appears 2 times.\n",
    "but appears 1 time.\n",
    "other appears 1 time.\n",
    "are appears 2 times.\n",
    "than appears 1 time.\n",
    "more appears 1 time.\n",
    "\n",
    "\"\"\"\n"
   ]
  },
  {
   "cell_type": "code",
   "execution_count": null,
   "metadata": {},
   "outputs": [],
   "source": []
  },
  {
   "cell_type": "code",
   "execution_count": null,
   "metadata": {},
   "outputs": [],
   "source": [
    "text = 'all animals are equal but some animals are more equal than other'"
   ]
  },
  {
   "cell_type": "code",
   "execution_count": null,
   "metadata": {},
   "outputs": [],
   "source": [
    "wordcount(text)"
   ]
  },
  {
   "cell_type": "code",
   "execution_count": null,
   "metadata": {},
   "outputs": [],
   "source": [
    "\"\"\"\n",
    "\n",
    "Write a function birthstate() that \n",
    "takes as input a dictionary of the the birth state for each recent president\n",
    "repeats 1) requesting an user to input the name of president, and 2) printing out his birth state\n",
    "If an user input a wrong name, prints out 'Wrong Name!' and stop the iteration\n",
    "\n",
    "You should use this dictionary to store the birth state \n",
    "for each recent president\n",
    "\n",
    "{'Barack Hussein Obama II':'Hawaii', \n",
    " 'George Walker Bush':'Connecticut', \n",
    " 'William Jefferson Clinton':'Arkansas',\n",
    " 'George Herbert Walker Bush':'Massachussetts',\n",
    " 'Ronald Wilson Reagan':'Illinois',\n",
    " 'James Earl Carter, Jr':'Georgia'}\n",
    " \n",
    " \n",
    ">>> P_dic = {'Barack Hussein Obama II':'Hawaii', \n",
    " 'George Walker Bush':'Connecticut', \n",
    " 'William Jefferson Clinton':'Arkansas',\n",
    " 'George Herbert Walker Bush':'Massachussetts',\n",
    " 'Ronald Wilson Reagan':'Illinois',\n",
    " 'James Earl Carter, Jr':'Georgia'}\n",
    "\n",
    ">>> birthstate(P_dic)\n",
    "Name of U.S. President: George Walker Bush\n",
    "Connecticut\n",
    "Name of U.S. President: William \n",
    "Wrong Name!\n",
    "\n",
    "\"\"\"\n"
   ]
  },
  {
   "cell_type": "code",
   "execution_count": null,
   "metadata": {},
   "outputs": [],
   "source": []
  },
  {
   "cell_type": "code",
   "execution_count": null,
   "metadata": {},
   "outputs": [],
   "source": [
    "P_dic = {'Barack Hussein Obama II':'Hawaii', \n",
    " 'George Walker Bush':'Connecticut', \n",
    " 'William Jefferson Clinton':'Arkansas',\n",
    " 'George Herbert Walker Bush':'Massachussetts',\n",
    " 'Ronald Wilson Reagan':'Illinois',\n",
    " 'James Earl Carter, Jr':'Georgia'}"
   ]
  },
  {
   "cell_type": "code",
   "execution_count": null,
   "metadata": {},
   "outputs": [],
   "source": [
    "birthstate(P_dic)"
   ]
  },
  {
   "cell_type": "code",
   "execution_count": null,
   "metadata": {},
   "outputs": [],
   "source": [
    "\"\"\"\n",
    "\n",
    "Write a function lookup() that \n",
    "implements a phone book lookup application. \n",
    "\n",
    "Your function takes, as input, a dictionary representing a phone book,\n",
    "mapping tuples (containing the first and last name) \n",
    "to strings (containing phone numbers) \n",
    "\n",
    "It repeats 1) requesting an user to input first name and last name, and 2) printing out one's phone number.\n",
    "If an user input nothing, stop the iteration\n",
    "\n",
    ">>> phonebook = {('Anna','Karenina'):'(123)456-78-90',\n",
    "                ('Yu', 'Tsun'):'(901)234-56-78',\n",
    "                ('Hans', 'Castorp'):'(321)908-76-54'}\n",
    "\n",
    ">>> lookup(phonebook)\n",
    "Enter the first name: Anna\n",
    "Enter the last name: Karenina\n",
    "(123)456-78-90\n",
    "Enter the first name: \n",
    "\n",
    "\"\"\"\n"
   ]
  },
  {
   "cell_type": "code",
   "execution_count": null,
   "metadata": {},
   "outputs": [],
   "source": []
  },
  {
   "cell_type": "code",
   "execution_count": null,
   "metadata": {},
   "outputs": [],
   "source": [
    "phonebook = {\n",
    "    ('Anna','Karenina'):'(123)456-78-90',\n",
    "    ('Yu', 'Tsun'):'(901)234-56-78',\n",
    "    ('Hans', 'Castorp'):'(321)908-76-54'}"
   ]
  },
  {
   "cell_type": "code",
   "execution_count": null,
   "metadata": {},
   "outputs": [],
   "source": [
    "lookup(phonebook)"
   ]
  },
  {
   "cell_type": "markdown",
   "metadata": {},
   "source": [
    "# random module"
   ]
  },
  {
   "cell_type": "code",
   "execution_count": null,
   "metadata": {},
   "outputs": [],
   "source": [
    "'''\n",
    "\n",
    "Write a function coin() that returns 'Heads' or 'Tails' with equal probability.\n",
    ">>> coin()\n",
    "'Heads'\n",
    ">>> coin()\n",
    "'Heads'\n",
    ">>> coin()\n",
    "'Tails'\n",
    "\n",
    "'''\n"
   ]
  },
  {
   "cell_type": "code",
   "execution_count": null,
   "metadata": {},
   "outputs": [],
   "source": []
  },
  {
   "cell_type": "code",
   "execution_count": null,
   "metadata": {},
   "outputs": [],
   "source": [
    "coin()"
   ]
  },
  {
   "cell_type": "code",
   "execution_count": null,
   "metadata": {},
   "outputs": [],
   "source": [
    "coin()"
   ]
  },
  {
   "cell_type": "code",
   "execution_count": null,
   "metadata": {},
   "outputs": [],
   "source": [
    "coin()"
   ]
  },
  {
   "cell_type": "code",
   "execution_count": null,
   "metadata": {},
   "outputs": [],
   "source": [
    "'''\n",
    "\n",
    "Implement function guess() that takes as input an integer n \n",
    "and implement a simple, interactive number guessing game.\n",
    "The function should start by choosing a random number \n",
    "in the range from 0 up to but not including n.\n",
    "The function will then repeatedly ask the user to guess\n",
    "the chosen number; When the user guesses correctly, the function\n",
    "should print a 'You got it.' message and terminate.\n",
    "Each time the user guesses incorrectly, the function should\n",
    "help the user vby pringing message 'Too low.', or 'Too high.'.\n",
    "\n",
    "\n",
    ">>> guess(100)\n",
    "Enter your guess: 50\n",
    "Too low.\n",
    "Enter your guess: 75\n",
    "Too high.\n",
    "Enter your guess: 62\n",
    "Too high.\n",
    "Enter your guess: 56\n",
    "Too low.\n",
    "Enter your guess: 59\n",
    "Too high.\n",
    "Enter your guess: 57\n",
    "You got it!\n",
    "\n",
    "'''\n"
   ]
  },
  {
   "cell_type": "code",
   "execution_count": null,
   "metadata": {},
   "outputs": [],
   "source": []
  },
  {
   "cell_type": "code",
   "execution_count": null,
   "metadata": {},
   "outputs": [],
   "source": [
    "guess(100)"
   ]
  },
  {
   "cell_type": "code",
   "execution_count": null,
   "metadata": {},
   "outputs": [],
   "source": [
    "'''Develop function game() that:\n",
    "takes integers r and c as input,\n",
    "generates a field of r rows and c columns with a bomb at a randomly chosen row and column,\n",
    "and then asks users to find the bomb \n",
    "\n",
    ">>> game(2, 3)\n",
    "Enter next position (format: x y): 1 2\n",
    "No bomb at position 1 2 \n",
    "Enter next position (format: x y): 1 1\n",
    "No bomb at position 1 1 \n",
    "Enter next position (format: x y): 2 1\n",
    "You found the bomb!\n",
    "\n",
    "'''\n"
   ]
  },
  {
   "cell_type": "code",
   "execution_count": null,
   "metadata": {},
   "outputs": [],
   "source": []
  },
  {
   "cell_type": "code",
   "execution_count": null,
   "metadata": {},
   "outputs": [],
   "source": [
    "game(2, 3)"
   ]
  },
  {
   "cell_type": "code",
   "execution_count": null,
   "metadata": {},
   "outputs": [],
   "source": []
  }
 ],
 "metadata": {
  "anaconda-cloud": {},
  "kernelspec": {
   "display_name": "Python 3",
   "language": "python",
   "name": "python3"
  },
  "language_info": {
   "codemirror_mode": {
    "name": "ipython",
    "version": 3
   },
   "file_extension": ".py",
   "mimetype": "text/x-python",
   "name": "python",
   "nbconvert_exporter": "python",
   "pygments_lexer": "ipython3",
   "version": "3.8.3"
  }
 },
 "nbformat": 4,
 "nbformat_minor": 1
}
