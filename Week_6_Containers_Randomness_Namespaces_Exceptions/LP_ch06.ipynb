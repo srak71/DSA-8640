{
 "cells": [
  {
   "cell_type": "markdown",
   "metadata": {},
   "source": [
    "# Dictionary"
   ]
  },
  {
   "cell_type": "code",
   "execution_count": 1,
   "metadata": {},
   "outputs": [
    {
     "data": {
      "text/plain": [
       "\"\\n\\nWrite a function wordcount() that \\ntakes as input a text—as a string— and \\nprints the frequency of each word in the text; \\nassume there is no punctuation in the text.\\n\\n>>> text = 'all animals are equal but some animals are more equal than other'\\n\\n>>> wordCount(text)\\nall appears 1 time.\\nanimals appears 2 times.\\nsome appears 1 time.\\nequal appears 2 times.\\nbut appears 1 time.\\nother appears 1 time.\\nare appears 2 times.\\nthan appears 1 time.\\nmore appears 1 time.\\n\\n\""
      ]
     },
     "execution_count": 1,
     "metadata": {},
     "output_type": "execute_result"
    }
   ],
   "source": [
    "\"\"\"\n",
    "\n",
    "Write a function wordcount() that \n",
    "takes as input a text—as a string— and \n",
    "prints the frequency of each word in the text; \n",
    "assume there is no punctuation in the text.\n",
    "\n",
    ">>> text = 'all animals are equal but some animals are more equal than other'\n",
    "\n",
    ">>> wordCount(text)\n",
    "all appears 1 time.\n",
    "animals appears 2 times.\n",
    "some appears 1 time.\n",
    "equal appears 2 times.\n",
    "but appears 1 time.\n",
    "other appears 1 time.\n",
    "are appears 2 times.\n",
    "than appears 1 time.\n",
    "more appears 1 time.\n",
    "\n",
    "\"\"\"\n"
   ]
  },
  {
   "cell_type": "code",
   "execution_count": 2,
   "metadata": {},
   "outputs": [],
   "source": [
    "def wordcount(text):\n",
    "    wordbox = {}\n",
    "    text_words = text.split()\n",
    "    \n",
    "    for word in text_words:\n",
    "        if word in wordbox:\n",
    "            wordbox[word] += 1\n",
    "        else:\n",
    "            wordbox[word] = 1\n",
    "    \n",
    "    for word in wordbox:\n",
    "        print(f\"{word} appears {wordbox[word]} times\")\n",
    "            \n",
    "    return \n",
    "\n",
    "        "
   ]
  },
  {
   "cell_type": "code",
   "execution_count": 3,
   "metadata": {},
   "outputs": [],
   "source": [
    "text = 'all animals are equal but some animals are more equal than other'"
   ]
  },
  {
   "cell_type": "code",
   "execution_count": 4,
   "metadata": {},
   "outputs": [
    {
     "name": "stdout",
     "output_type": "stream",
     "text": [
      "all appears 1 times\n",
      "animals appears 2 times\n",
      "are appears 2 times\n",
      "equal appears 2 times\n",
      "but appears 1 times\n",
      "some appears 1 times\n",
      "more appears 1 times\n",
      "than appears 1 times\n",
      "other appears 1 times\n"
     ]
    }
   ],
   "source": [
    "wordcount(text)"
   ]
  },
  {
   "cell_type": "code",
   "execution_count": 5,
   "metadata": {},
   "outputs": [
    {
     "data": {
      "text/plain": [
       "\"\\n\\nWrite a function birthstate() that \\ntakes as input a dictionary of the the birth state for each recent president\\nrepeats 1) requesting an user to input the name of president, and 2) printing out his birth state\\nIf an user input a wrong name, prints out 'Wrong Name!' and stop the iteration\\n\\nYou should use this dictionary to store the birth state \\nfor each recent president\\n\\n{'Barack Hussein Obama II':'Hawaii', \\n 'George Walker Bush':'Connecticut', \\n 'William Jefferson Clinton':'Arkansas',\\n 'George Herbert Walker Bush':'Massachussetts',\\n 'Ronald Wilson Reagan':'Illinois',\\n 'James Earl Carter, Jr':'Georgia'}\\n \\n \\n>>> P_dic = {'Barack Hussein Obama II':'Hawaii', \\n 'George Walker Bush':'Connecticut', \\n 'William Jefferson Clinton':'Arkansas',\\n 'George Herbert Walker Bush':'Massachussetts',\\n 'Ronald Wilson Reagan':'Illinois',\\n 'James Earl Carter, Jr':'Georgia'}\\n\\n>>> birthstate(P_dic)\\nName of U.S. President: George Walker Bush\\nConnecticut\\nName of U.S. President: William \\nWrong Name!\\n\\n\""
      ]
     },
     "execution_count": 5,
     "metadata": {},
     "output_type": "execute_result"
    }
   ],
   "source": [
    "\"\"\"\n",
    "\n",
    "Write a function birthstate() that \n",
    "takes as input a dictionary of the the birth state for each recent president\n",
    "repeats 1) requesting an user to input the name of president, and 2) printing out his birth state\n",
    "If an user input a wrong name, prints out 'Wrong Name!' and stop the iteration\n",
    "\n",
    "You should use this dictionary to store the birth state \n",
    "for each recent president\n",
    "\n",
    "{'Barack Hussein Obama II':'Hawaii', \n",
    " 'George Walker Bush':'Connecticut', \n",
    " 'William Jefferson Clinton':'Arkansas',\n",
    " 'George Herbert Walker Bush':'Massachussetts',\n",
    " 'Ronald Wilson Reagan':'Illinois',\n",
    " 'James Earl Carter, Jr':'Georgia'}\n",
    " \n",
    " \n",
    ">>> P_dic = {'Barack Hussein Obama II':'Hawaii', \n",
    " 'George Walker Bush':'Connecticut', \n",
    " 'William Jefferson Clinton':'Arkansas',\n",
    " 'George Herbert Walker Bush':'Massachussetts',\n",
    " 'Ronald Wilson Reagan':'Illinois',\n",
    " 'James Earl Carter, Jr':'Georgia'}\n",
    "\n",
    ">>> birthstate(P_dic)\n",
    "Name of U.S. President: George Walker Bush\n",
    "Connecticut\n",
    "Name of U.S. President: William \n",
    "Wrong Name!\n",
    "\n",
    "\"\"\"\n"
   ]
  },
  {
   "cell_type": "code",
   "execution_count": 6,
   "metadata": {},
   "outputs": [],
   "source": [
    "def birthstate(dict):\n",
    "    \n",
    "    while True:\n",
    "        pres_name = input(\"Name of U.S. President: \")\n",
    "        \n",
    "        if pres_name in dict:\n",
    "            print(f\"Name of U.S. President: {pres_name}\")\n",
    "            print(dict[pres_name])\n",
    "        else:\n",
    "            print(\"Wrong Name!\")\n",
    "            break\n",
    "    "
   ]
  },
  {
   "cell_type": "code",
   "execution_count": 7,
   "metadata": {},
   "outputs": [],
   "source": [
    "P_dic = {'Barack Hussein Obama II':'Hawaii', \n",
    " 'George Walker Bush':'Connecticut', \n",
    " 'William Jefferson Clinton':'Arkansas',\n",
    " 'George Herbert Walker Bush':'Massachussetts',\n",
    " 'Ronald Wilson Reagan':'Illinois',\n",
    " 'James Earl Carter, Jr':'Georgia'}"
   ]
  },
  {
   "cell_type": "code",
   "execution_count": 8,
   "metadata": {},
   "outputs": [
    {
     "name": "stdout",
     "output_type": "stream",
     "text": [
      "Wrong Name!\n"
     ]
    }
   ],
   "source": [
    "birthstate(P_dic)"
   ]
  },
  {
   "cell_type": "code",
   "execution_count": 9,
   "metadata": {},
   "outputs": [
    {
     "data": {
      "text/plain": [
       "\"\\n\\nWrite a function lookup() that \\nimplements a phone book lookup application. \\n\\nYour function takes, as input, a dictionary representing a phone book,\\nmapping tuples (containing the first and last name) \\nto strings (containing phone numbers) \\n\\nIt repeats 1) requesting an user to input first name and last name, and 2) printing out one's phone number.\\nIf an user input nothing, stop the iteration\\n\\n>>> phonebook = {('Anna','Karenina'):'(123)456-78-90',\\n                ('Yu', 'Tsun'):'(901)234-56-78',\\n                ('Hans', 'Castorp'):'(321)908-76-54'}\\n\\n>>> lookup(phonebook)\\nEnter the first name: Anna\\nEnter the last name: Karenina\\n(123)456-78-90\\nEnter the first name: \\n\\n\""
      ]
     },
     "execution_count": 9,
     "metadata": {},
     "output_type": "execute_result"
    }
   ],
   "source": [
    "\"\"\"\n",
    "\n",
    "Write a function lookup() that \n",
    "implements a phone book lookup application. \n",
    "\n",
    "Your function takes, as input, a dictionary representing a phone book,\n",
    "mapping tuples (containing the first and last name) \n",
    "to strings (containing phone numbers) \n",
    "\n",
    "It repeats 1) requesting an user to input first name and last name, and 2) printing out one's phone number.\n",
    "If an user input nothing, stop the iteration\n",
    "\n",
    ">>> phonebook = {('Anna','Karenina'):'(123)456-78-90',\n",
    "                ('Yu', 'Tsun'):'(901)234-56-78',\n",
    "                ('Hans', 'Castorp'):'(321)908-76-54'}\n",
    "\n",
    ">>> lookup(phonebook)\n",
    "Enter the first name: Anna\n",
    "Enter the last name: Karenina\n",
    "(123)456-78-90\n",
    "Enter the first name: \n",
    "\n",
    "\"\"\"\n"
   ]
  },
  {
   "cell_type": "code",
   "execution_count": 10,
   "metadata": {},
   "outputs": [],
   "source": [
    "def lookup(phonebook):\n",
    "    \n",
    "    while True:\n",
    "        first_name = input(\"Enter the first name: \")\n",
    "        print(f\"Enter the first name: {first_name}\")\n",
    "        if first_name == '':\n",
    "            break\n",
    "        \n",
    "        last_name = input(\"Enter the last name: \")\n",
    "        print(f\"Enter the last name: {last_name}\")\n",
    "        if last_name == '':\n",
    "            break\n",
    "        \n",
    "        if (first_name, last_name) in phonebook:\n",
    "            print(phonebook[(first_name, last_name)])"
   ]
  },
  {
   "cell_type": "code",
   "execution_count": 11,
   "metadata": {},
   "outputs": [],
   "source": [
    "phonebook = {\n",
    "    ('Anna','Karenina'):'(123)456-78-90',\n",
    "    ('Yu', 'Tsun'):'(901)234-56-78',\n",
    "    ('Hans', 'Castorp'):'(321)908-76-54'}"
   ]
  },
  {
   "cell_type": "code",
   "execution_count": 12,
   "metadata": {},
   "outputs": [
    {
     "name": "stdout",
     "output_type": "stream",
     "text": [
      "Enter the first name: \n"
     ]
    }
   ],
   "source": [
    "lookup(phonebook)"
   ]
  },
  {
   "cell_type": "markdown",
   "metadata": {},
   "source": [
    "# random module"
   ]
  },
  {
   "cell_type": "code",
   "execution_count": 13,
   "metadata": {},
   "outputs": [
    {
     "data": {
      "text/plain": [
       "\"\\n\\nWrite a function coin() that returns 'Heads' or 'Tails' with equal probability.\\n>>> coin()\\n'Heads'\\n>>> coin()\\n'Heads'\\n>>> coin()\\n'Tails'\\n\\n\""
      ]
     },
     "execution_count": 13,
     "metadata": {},
     "output_type": "execute_result"
    }
   ],
   "source": [
    "'''\n",
    "\n",
    "Write a function coin() that returns 'Heads' or 'Tails' with equal probability.\n",
    ">>> coin()\n",
    "'Heads'\n",
    ">>> coin()\n",
    "'Heads'\n",
    ">>> coin()\n",
    "'Tails'\n",
    "\n",
    "'''\n"
   ]
  },
  {
   "cell_type": "code",
   "execution_count": 14,
   "metadata": {},
   "outputs": [],
   "source": [
    "import random\n",
    "\n",
    "def coin():\n",
    "    rand_int = random.randrange(0, 2)\n",
    "    return 'Heads' if rand_int == 0 else 'Tails'"
   ]
  },
  {
   "cell_type": "code",
   "execution_count": 15,
   "metadata": {},
   "outputs": [
    {
     "data": {
      "text/plain": [
       "'Tails'"
      ]
     },
     "execution_count": 15,
     "metadata": {},
     "output_type": "execute_result"
    }
   ],
   "source": [
    "coin()"
   ]
  },
  {
   "cell_type": "code",
   "execution_count": 16,
   "metadata": {},
   "outputs": [
    {
     "data": {
      "text/plain": [
       "'Heads'"
      ]
     },
     "execution_count": 16,
     "metadata": {},
     "output_type": "execute_result"
    }
   ],
   "source": [
    "coin()"
   ]
  },
  {
   "cell_type": "code",
   "execution_count": 17,
   "metadata": {},
   "outputs": [
    {
     "data": {
      "text/plain": [
       "'Tails'"
      ]
     },
     "execution_count": 17,
     "metadata": {},
     "output_type": "execute_result"
    }
   ],
   "source": [
    "coin()"
   ]
  },
  {
   "cell_type": "code",
   "execution_count": 18,
   "metadata": {},
   "outputs": [
    {
     "data": {
      "text/plain": [
       "\"\\n\\nImplement function guess() that takes as input an integer n \\nand implement a simple, interactive number guessing game.\\nThe function should start by choosing a random number \\nin the range from 0 up to but not including n.\\nThe function will then repeatedly ask the user to guess\\nthe chosen number; When the user guesses correctly, the function\\nshould print a 'You got it.' message and terminate.\\nEach time the user guesses incorrectly, the function should\\nhelp the user vby pringing message 'Too low.', or 'Too high.'.\\n\\n\\n>>> guess(100)\\nEnter your guess: 50\\nToo low.\\nEnter your guess: 75\\nToo high.\\nEnter your guess: 62\\nToo high.\\nEnter your guess: 56\\nToo low.\\nEnter your guess: 59\\nToo high.\\nEnter your guess: 57\\nYou got it!\\n\\n\""
      ]
     },
     "execution_count": 18,
     "metadata": {},
     "output_type": "execute_result"
    }
   ],
   "source": [
    "'''\n",
    "\n",
    "Implement function guess() that takes as input an integer n \n",
    "and implement a simple, interactive number guessing game.\n",
    "The function should start by choosing a random number \n",
    "in the range from 0 up to but not including n.\n",
    "The function will then repeatedly ask the user to guess\n",
    "the chosen number; When the user guesses correctly, the function\n",
    "should print a 'You got it.' message and terminate.\n",
    "Each time the user guesses incorrectly, the function should\n",
    "help the user vby pringing message 'Too low.', or 'Too high.'.\n",
    "\n",
    "\n",
    ">>> guess(100)\n",
    "Enter your guess: 50\n",
    "Too low.\n",
    "Enter your guess: 75\n",
    "Too high.\n",
    "Enter your guess: 62\n",
    "Too high.\n",
    "Enter your guess: 56\n",
    "Too low.\n",
    "Enter your guess: 59\n",
    "Too high.\n",
    "Enter your guess: 57\n",
    "You got it!\n",
    "\n",
    "'''\n"
   ]
  },
  {
   "cell_type": "code",
   "execution_count": 24,
   "metadata": {},
   "outputs": [],
   "source": [
    "def guess(n):\n",
    "    \n",
    "    n = random.randrange(0, n)\n",
    "    while True:\n",
    "        usr_guess = int(input(\"Enter your guess: \"))\n",
    "        print(f\"Enter your guess: {usr_guess}\")\n",
    "        if usr_guess < n:\n",
    "            print(\"Too low.\")\n",
    "        if usr_guess > n:\n",
    "            print(\"Too High.\")\n",
    "        if usr_guess == n:\n",
    "            print(\"You got it!\")\n",
    "            return"
   ]
  },
  {
   "cell_type": "code",
   "execution_count": 25,
   "metadata": {},
   "outputs": [
    {
     "name": "stdout",
     "output_type": "stream",
     "text": [
      "Enter your guess: 45\n",
      "Too High.\n",
      "Enter your guess: 35\n",
      "Too High.\n",
      "Enter your guess: 25\n",
      "Too low.\n",
      "Enter your guess: 26\n",
      "Too low.\n",
      "Enter your guess: 27\n",
      "Too low.\n",
      "Enter your guess: 28\n",
      "Too low.\n",
      "Enter your guess: 29\n",
      "You got it!\n"
     ]
    }
   ],
   "source": [
    "guess(100)"
   ]
  },
  {
   "cell_type": "code",
   "execution_count": null,
   "metadata": {},
   "outputs": [],
   "source": [
    "'''Develop function game() that:\n",
    "takes integers r and c as input,\n",
    "generates a field of r rows and c columns with a bomb at a randomly chosen row and column,\n",
    "and then asks users to find the bomb \n",
    "\n",
    ">>> game(2, 3)\n",
    "Enter next position (format: x y): 1 2\n",
    "No bomb at position 1 2 \n",
    "Enter next position (format: x y): 1 1\n",
    "No bomb at position 1 1 \n",
    "Enter next position (format: x y): 2 1\n",
    "You found the bomb!\n",
    "\n",
    "'''\n"
   ]
  },
  {
   "cell_type": "code",
   "execution_count": 26,
   "metadata": {},
   "outputs": [],
   "source": [
    "def game(size_x, size_y):\n",
    "    bomb_x = random.randrange(1, size_x + 1)\n",
    "    bomb_y = random.randrange(1, size_y + 1)\n",
    "    \n",
    "    while True:\n",
    "        usr_guess = input(\"Enter next position (format: x y): \")\n",
    "        print(f\"Enter next position (format: x y): {usr_guess}\")\n",
    "        \n",
    "        usr_guess_x = int(usr_guess[0])\n",
    "        usr_guess_y = int(usr_guess[-1])\n",
    "        \n",
    "        if (usr_guess_x, usr_guess_y) == (bomb_x, bomb_y):\n",
    "            print(\"You found the bomb!\")\n",
    "            return\n",
    "        else:\n",
    "            print(f\"No bomb at position {usr_guess_x} {usr_guess_y}\")"
   ]
  },
  {
   "cell_type": "code",
   "execution_count": 27,
   "metadata": {},
   "outputs": [
    {
     "name": "stdout",
     "output_type": "stream",
     "text": [
      "Enter next position (format: x y): 1 1\n",
      "No bomb at position 1 1\n",
      "Enter next position (format: x y): 1 2\n",
      "No bomb at position 1 2\n",
      "Enter next position (format: x y): 1 3\n",
      "No bomb at position 1 3\n",
      "Enter next position (format: x y): 2 1\n"
     ]
    },
    {
     "data": {
      "text/plain": [
       "'You found the bomb!'"
      ]
     },
     "execution_count": 27,
     "metadata": {},
     "output_type": "execute_result"
    }
   ],
   "source": [
    "game(2, 3)"
   ]
  },
  {
   "cell_type": "code",
   "execution_count": null,
   "metadata": {},
   "outputs": [],
   "source": []
  }
 ],
 "metadata": {
  "anaconda-cloud": {},
  "kernelspec": {
   "display_name": "base",
   "language": "python",
   "name": "python3"
  },
  "language_info": {
   "codemirror_mode": {
    "name": "ipython",
    "version": 3
   },
   "file_extension": ".py",
   "mimetype": "text/x-python",
   "name": "python",
   "nbconvert_exporter": "python",
   "pygments_lexer": "ipython3",
   "version": "3.12.4"
  }
 },
 "nbformat": 4,
 "nbformat_minor": 1
}
