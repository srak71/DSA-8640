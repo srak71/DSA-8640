{
 "cells": [
  {
   "cell_type": "markdown",
   "metadata": {},
   "source": [
    "# Overloading constructor"
   ]
  },
  {
   "cell_type": "markdown",
   "metadata": {},
   "source": [
    "> Overloading, in the context of programming, refers to the ability of a function or an operator to behave in different ways depending on the parameters that are passed to the function, or the operands that the operator acts on. "
   ]
  },
  {
   "cell_type": "code",
   "execution_count": null,
   "metadata": {},
   "outputs": [],
   "source": [
    "lst = [1, 2, 3]\n",
    "lst"
   ]
  },
  {
   "cell_type": "code",
   "execution_count": null,
   "metadata": {},
   "outputs": [],
   "source": [
    "lst_1 = list()\n",
    "lst_1.append(1)\n",
    "lst_1.append(2)\n",
    "lst_1.append(3)\n",
    "lst"
   ]
  },
  {
   "cell_type": "code",
   "execution_count": null,
   "metadata": {},
   "outputs": [],
   "source": [
    "class Point:\n",
    "    def __init__(self, xcoord=0, ycoord=0):\n",
    "        self.x = xcoord\n",
    "        self.y = ycoord\n",
    "    def setx(self, xcoord):\n",
    "        self.x = xcoord\n",
    "    def sety(self, ycoord):\n",
    "        self.y = ycoord\n",
    "    def get(self):\n",
    "        return (self.x, self.y)"
   ]
  },
  {
   "cell_type": "code",
   "execution_count": null,
   "metadata": {},
   "outputs": [],
   "source": [
    "p = Point(10, 20)\n",
    "p.get()"
   ]
  },
  {
   "cell_type": "code",
   "execution_count": null,
   "metadata": {},
   "outputs": [],
   "source": [
    "p_1 = Point(100, 200)\n",
    "p_1.get()"
   ]
  },
  {
   "cell_type": "code",
   "execution_count": null,
   "metadata": {},
   "outputs": [],
   "source": [
    "p_2 = Point()\n",
    "p_2.get()"
   ]
  },
  {
   "cell_type": "code",
   "execution_count": null,
   "metadata": {},
   "outputs": [],
   "source": [
    "lst1 = []"
   ]
  },
  {
   "cell_type": "code",
   "execution_count": null,
   "metadata": {},
   "outputs": [],
   "source": [
    "lst2 = [1,2,3]"
   ]
  },
  {
   "cell_type": "code",
   "execution_count": null,
   "metadata": {},
   "outputs": [],
   "source": [
    "'''\n",
    "Modify the class Animal we developed in the previous section so \n",
    "it supports a two, one, or no input argument constructor\n",
    "\n",
    ">>> snoopy = Animal('dog', 'bark')\n",
    ">>> snoopy.speak()\n",
    "I am a(an) dog and I bark. \n",
    ">>> tweety = Animal('canary')\n",
    ">>> tweety.speak() \n",
    "I am a(an) canary and I make sounds. \n",
    ">>> animal = Animal() \n",
    ">>> animal.speak() \n",
    "I am a(an) animal and I make sounds.\n",
    "'''\n",
    "\n",
    "'''\n",
    "class Animal:\n",
    "    def setSpecies(self, sp):\n",
    "        self.spec = sp\n",
    "    def setLanguage(self, lg):\n",
    "        self.lang = lg\n",
    "    def speak(self):\n",
    "        print('I am a(an) {} and I {}.'.format(self.spec, self.lang))\n",
    "'''"
   ]
  },
  {
   "cell_type": "code",
   "execution_count": null,
   "metadata": {},
   "outputs": [],
   "source": [
    "class Animal:\n",
    "    def setSpecies(self, sp):\n",
    "        self.spec = sp\n",
    "    def setLanguage(self, lg):\n",
    "        self.lang = lg\n",
    "    def speak(self):\n",
    "        print('I am a(an) {} and I {}.'.format(self.spec, self.lang))"
   ]
  },
  {
   "cell_type": "code",
   "execution_count": null,
   "metadata": {},
   "outputs": [],
   "source": [
    "snoopy = Animal()"
   ]
  },
  {
   "cell_type": "code",
   "execution_count": null,
   "metadata": {},
   "outputs": [],
   "source": [
    "snoopy.setSpecies('dog')"
   ]
  },
  {
   "cell_type": "code",
   "execution_count": null,
   "metadata": {},
   "outputs": [],
   "source": [
    "snoopy.setLanguage('bark')"
   ]
  },
  {
   "cell_type": "code",
   "execution_count": null,
   "metadata": {},
   "outputs": [],
   "source": [
    "snoopy.speak()"
   ]
  },
  {
   "cell_type": "code",
   "execution_count": null,
   "metadata": {},
   "outputs": [],
   "source": [
    "snoopy = Animal('dog', 'bark')"
   ]
  },
  {
   "cell_type": "markdown",
   "metadata": {},
   "source": [
    "> \\__init__ is a special Python method that is automatically called when memory is allocated for a new object. \n",
    ">\n",
    "> The sole purpose of \\__init__ is to initialize the values of instance members for the new object. "
   ]
  },
  {
   "cell_type": "code",
   "execution_count": null,
   "metadata": {},
   "outputs": [],
   "source": [
    "class Animal:\n",
    "    def __init__(self, sp, lg):\n",
    "        self.spec = sp\n",
    "        self.lang = lg\n",
    "    def setSpecies(self, sp):\n",
    "        self.spec = sp\n",
    "    def setLanguage(self, lg):\n",
    "        self.lang = lg\n",
    "    def speak(self):\n",
    "        print('I am a(an) {} and I {}.'.format(self.spec, self.lang))\n"
   ]
  },
  {
   "cell_type": "code",
   "execution_count": null,
   "metadata": {},
   "outputs": [],
   "source": [
    "snoopy = Animal('dog', 'bark')"
   ]
  },
  {
   "cell_type": "code",
   "execution_count": null,
   "metadata": {},
   "outputs": [],
   "source": [
    "snoopy.speak()"
   ]
  },
  {
   "cell_type": "code",
   "execution_count": null,
   "metadata": {},
   "outputs": [],
   "source": [
    "snoopy = Animal()"
   ]
  },
  {
   "cell_type": "code",
   "execution_count": null,
   "metadata": {},
   "outputs": [],
   "source": [
    "class Animal:\n",
    "    def __init__(self, sp = 'animal', lg = 'make sounds'):\n",
    "        self.spec = sp\n",
    "        self.lang = lg\n",
    "    def setSpecies(self, sp):\n",
    "        self.spec = sp\n",
    "    def setLanguage(self, lg):\n",
    "        self.lang = lg\n",
    "    def speak(self):\n",
    "        print('I am a(an) {} and I {}.'.format(self.spec, self.lang))\n"
   ]
  },
  {
   "cell_type": "code",
   "execution_count": null,
   "metadata": {},
   "outputs": [],
   "source": [
    "snoopy = Animal('dog', 'bark')"
   ]
  },
  {
   "cell_type": "code",
   "execution_count": null,
   "metadata": {},
   "outputs": [],
   "source": [
    "snoopy.speak()"
   ]
  },
  {
   "cell_type": "code",
   "execution_count": null,
   "metadata": {},
   "outputs": [],
   "source": [
    "snoopy = Animal('dog')"
   ]
  },
  {
   "cell_type": "code",
   "execution_count": null,
   "metadata": {},
   "outputs": [],
   "source": [
    "snoopy.speak()"
   ]
  },
  {
   "cell_type": "code",
   "execution_count": null,
   "metadata": {},
   "outputs": [],
   "source": [
    "snoopy = Animal()"
   ]
  },
  {
   "cell_type": "code",
   "execution_count": null,
   "metadata": {},
   "outputs": [],
   "source": [
    "snoopy.speak()"
   ]
  },
  {
   "cell_type": "markdown",
   "metadata": {},
   "source": [
    "# Overloading repr(), operator +, operator =="
   ]
  },
  {
   "cell_type": "code",
   "execution_count": null,
   "metadata": {},
   "outputs": [],
   "source": [
    "s1 = 'he'\n",
    "s2 = 'llo'\n",
    "\n",
    "s1 + s2"
   ]
  },
  {
   "cell_type": "code",
   "execution_count": null,
   "metadata": {},
   "outputs": [],
   "source": [
    "s1.__add__(s2)"
   ]
  },
  {
   "cell_type": "code",
   "execution_count": null,
   "metadata": {},
   "outputs": [],
   "source": [
    "str.__add__(s1, s2)"
   ]
  },
  {
   "cell_type": "code",
   "execution_count": null,
   "metadata": {},
   "outputs": [],
   "source": [
    "s1 == s2"
   ]
  },
  {
   "cell_type": "code",
   "execution_count": null,
   "metadata": {},
   "outputs": [],
   "source": [
    "s1.__eq__(s2)"
   ]
  },
  {
   "cell_type": "code",
   "execution_count": null,
   "metadata": {},
   "outputs": [],
   "source": [
    "str.__eq__(s1, s2)"
   ]
  },
  {
   "cell_type": "code",
   "execution_count": null,
   "metadata": {},
   "outputs": [],
   "source": [
    "s1 != s2"
   ]
  },
  {
   "cell_type": "code",
   "execution_count": null,
   "metadata": {},
   "outputs": [],
   "source": [
    "s1.__ne__(s2)"
   ]
  },
  {
   "cell_type": "code",
   "execution_count": null,
   "metadata": {},
   "outputs": [],
   "source": [
    "str.__ne__(s1, s2)"
   ]
  },
  {
   "cell_type": "code",
   "execution_count": null,
   "metadata": {},
   "outputs": [],
   "source": [
    "repr(s1)"
   ]
  },
  {
   "cell_type": "code",
   "execution_count": null,
   "metadata": {},
   "outputs": [],
   "source": [
    "s1.__repr__()"
   ]
  },
  {
   "cell_type": "code",
   "execution_count": null,
   "metadata": {},
   "outputs": [],
   "source": [
    "len(s1)"
   ]
  },
  {
   "cell_type": "code",
   "execution_count": null,
   "metadata": {},
   "outputs": [],
   "source": [
    "s1.__len__()"
   ]
  },
  {
   "cell_type": "code",
   "execution_count": null,
   "metadata": {},
   "outputs": [],
   "source": [
    "len(s1 + s2)"
   ]
  },
  {
   "cell_type": "code",
   "execution_count": null,
   "metadata": {},
   "outputs": [],
   "source": [
    "s1.__add__(s2).__len__()"
   ]
  },
  {
   "cell_type": "code",
   "execution_count": null,
   "metadata": {},
   "outputs": [],
   "source": [
    "str.__len__(str.__add__(s1, s2))"
   ]
  },
  {
   "cell_type": "code",
   "execution_count": null,
   "metadata": {},
   "outputs": [],
   "source": [
    "repr([1, 2, 3])"
   ]
  },
  {
   "cell_type": "code",
   "execution_count": null,
   "metadata": {},
   "outputs": [],
   "source": [
    "[1, 2, 3].__repr__()"
   ]
  },
  {
   "cell_type": "code",
   "execution_count": null,
   "metadata": {},
   "outputs": [],
   "source": [
    "'''\n",
    ">>> a = Point(3, 4)\n",
    ">>> a\n",
    "Point(3, 4)\n",
    "\n",
    "\n",
    "'''\n",
    "\n",
    "class Point:\n",
    "    def __init__(self, xcoord = 0, ycoord = 0):\n",
    "        self.x = xcoord\n",
    "        self.y = ycoord\n",
    "    def setx(self, xcoord):\n",
    "        self.x = xcoord\n",
    "    def sety(self, ycoord):\n",
    "        self.y = ycoord\n",
    "    def get(self):\n",
    "        return (self.x, self.y)\n",
    "    def move(self, dx, dy):\n",
    "        self.x += dx\n",
    "        self.y += dy"
   ]
  },
  {
   "cell_type": "code",
   "execution_count": null,
   "metadata": {},
   "outputs": [],
   "source": [
    "a = Point(3, 4)"
   ]
  },
  {
   "cell_type": "code",
   "execution_count": null,
   "metadata": {},
   "outputs": [],
   "source": [
    "a"
   ]
  },
  {
   "cell_type": "code",
   "execution_count": null,
   "metadata": {},
   "outputs": [],
   "source": [
    "a.get()"
   ]
  },
  {
   "cell_type": "code",
   "execution_count": null,
   "metadata": {},
   "outputs": [],
   "source": [
    "class Point:\n",
    "    def __init__(self, xcoord = 0, ycoord = 0):\n",
    "        self.x = xcoord\n",
    "        self.y = ycoord\n",
    "    def setx(self, xcoord):\n",
    "        self.x = xcoord\n",
    "    def sety(self, ycoord):\n",
    "        self.y = ycoord\n",
    "    def get(self):\n",
    "        return (self.x, self.y)\n",
    "    def move(self, dx, dy):\n",
    "        self.x += dx\n",
    "        self.y += dy\n",
    "    def __repr__(self):\n",
    "        return 'Point({}, {})'.format(self.x, self.y)"
   ]
  },
  {
   "cell_type": "code",
   "execution_count": null,
   "metadata": {},
   "outputs": [],
   "source": [
    "a = Point(3,4)\n",
    "a"
   ]
  },
  {
   "cell_type": "code",
   "execution_count": null,
   "metadata": {},
   "outputs": [],
   "source": [
    "a.__repr__()"
   ]
  },
  {
   "cell_type": "code",
   "execution_count": null,
   "metadata": {},
   "outputs": [],
   "source": [
    "Point.__repr__(a)"
   ]
  },
  {
   "cell_type": "code",
   "execution_count": null,
   "metadata": {},
   "outputs": [],
   "source": [
    "'''\n",
    ">>> a = Point(3,4)\n",
    ">>> b = Point(1,2)\n",
    ">>> a+b\n",
    "Point(4, 6)\n",
    "\n",
    "'''"
   ]
  },
  {
   "cell_type": "code",
   "execution_count": null,
   "metadata": {},
   "outputs": [],
   "source": [
    "class Point:\n",
    "    def __init__(self, xcoord = 0, ycoord = 0):\n",
    "        self.x = xcoord\n",
    "        self.y = ycoord\n",
    "    def setx(self, xcoord):\n",
    "        self.x = xcoord\n",
    "    def sety(self, ycoord):\n",
    "        self.y = ycoord\n",
    "    def get(self):\n",
    "        return (self.x, self.y)\n",
    "    def move(self, dx, dy):\n",
    "        self.x += dx\n",
    "        self.y += dy\n",
    "    def __repr__(self):\n",
    "        return 'Point({}, {})'.format(self.x, self.y)"
   ]
  },
  {
   "cell_type": "code",
   "execution_count": null,
   "metadata": {},
   "outputs": [],
   "source": [
    "a = Point(3,4)\n",
    "b = Point(1,2)"
   ]
  },
  {
   "cell_type": "code",
   "execution_count": null,
   "metadata": {},
   "outputs": [],
   "source": [
    "a+b"
   ]
  },
  {
   "cell_type": "code",
   "execution_count": null,
   "metadata": {},
   "outputs": [],
   "source": [
    "class Point:\n",
    "    def __init__(self, xcoord = 0, ycoord = 0):\n",
    "        self.x = xcoord\n",
    "        self.y = ycoord\n",
    "    def setx(self, xcoord):\n",
    "        self.x = xcoord\n",
    "    def sety(self, ycoord):\n",
    "        self.y = ycoord\n",
    "    def get(self):\n",
    "        return (self.x, self.y)\n",
    "    def move(self, dx, dy):\n",
    "        self.x += dx\n",
    "        self.y += dy\n",
    "    def __repr__(self):\n",
    "        return 'Point({}, {})'.format(self.x, self.y)\n",
    "    def __add__(self, point):\n",
    "        return Point(self.x + point.x, self.y + point.y)"
   ]
  },
  {
   "cell_type": "code",
   "execution_count": null,
   "metadata": {},
   "outputs": [],
   "source": [
    "a = Point(3,4)\n",
    "b = Point(1,2)"
   ]
  },
  {
   "cell_type": "code",
   "execution_count": null,
   "metadata": {},
   "outputs": [],
   "source": [
    "a+b"
   ]
  },
  {
   "cell_type": "code",
   "execution_count": null,
   "metadata": {},
   "outputs": [],
   "source": [
    "a.__add__(b)"
   ]
  },
  {
   "cell_type": "code",
   "execution_count": null,
   "metadata": {},
   "outputs": [],
   "source": [
    "Point.__add__(a, b)"
   ]
  },
  {
   "cell_type": "code",
   "execution_count": null,
   "metadata": {},
   "outputs": [],
   "source": [
    "'''\n",
    ">>> appts = Queue()\n",
    ">>> len(appts)\n",
    "0\n",
    "\n",
    "'''\n",
    "\n",
    "class Queue:\n",
    "    def __init__(self):\n",
    "        self.q = []\n",
    "    def isEmpty(self):\n",
    "        return (len(self.q) == 0)\n",
    "    def enqueue(self, item):\n",
    "        return self.q.append(item)\n",
    "    def dequeue(self):\n",
    "        return self.q.pop(0)\n",
    "    def check(self):\n",
    "        return self.q"
   ]
  },
  {
   "cell_type": "code",
   "execution_count": null,
   "metadata": {},
   "outputs": [],
   "source": [
    "appts = Queue()"
   ]
  },
  {
   "cell_type": "code",
   "execution_count": null,
   "metadata": {},
   "outputs": [],
   "source": [
    "appts.enqueue('Kenn')"
   ]
  },
  {
   "cell_type": "code",
   "execution_count": null,
   "metadata": {},
   "outputs": [],
   "source": [
    "appts.enqueue('Jeff')"
   ]
  },
  {
   "cell_type": "code",
   "execution_count": null,
   "metadata": {},
   "outputs": [],
   "source": [
    "appts.enqueue('Grace')"
   ]
  },
  {
   "cell_type": "code",
   "execution_count": null,
   "metadata": {},
   "outputs": [],
   "source": [
    "appts.check()"
   ]
  },
  {
   "cell_type": "code",
   "execution_count": null,
   "metadata": {},
   "outputs": [],
   "source": [
    "appts.dequeue()"
   ]
  },
  {
   "cell_type": "code",
   "execution_count": null,
   "metadata": {},
   "outputs": [],
   "source": [
    "appts.isEmpty()"
   ]
  },
  {
   "cell_type": "code",
   "execution_count": null,
   "metadata": {},
   "outputs": [],
   "source": [
    "len(appts)"
   ]
  },
  {
   "cell_type": "code",
   "execution_count": null,
   "metadata": {},
   "outputs": [],
   "source": [
    "class Queue:\n",
    "    def __init__(self):\n",
    "        self.q = []\n",
    "    def isEmpty(self):\n",
    "        return (len(self.q) == 0)\n",
    "    def enqueue(self, item):\n",
    "        return self.q.append(item)\n",
    "    def dequeue(self):\n",
    "        return self.q.pop(0)\n",
    "    def check(self):\n",
    "        return self.q\n",
    "    def __len__(self):\n",
    "        return len(self.q)"
   ]
  },
  {
   "cell_type": "code",
   "execution_count": null,
   "metadata": {},
   "outputs": [],
   "source": [
    "appts = Queue()\n",
    "appts.enqueue('Kenn')\n",
    "appts.enqueue('Jeff')\n",
    "appts.enqueue('Grace')\n",
    "appts.check()"
   ]
  },
  {
   "cell_type": "code",
   "execution_count": null,
   "metadata": {},
   "outputs": [],
   "source": [
    "len(appts)"
   ]
  },
  {
   "cell_type": "code",
   "execution_count": null,
   "metadata": {},
   "outputs": [],
   "source": [
    "'''\n",
    ">>> a = Point(3,5)\n",
    ">>> b = Point(3,5)\n",
    ">>> a == b\n",
    "True\n",
    ">>> a == a\n",
    "True\n",
    "'''\n",
    "\n",
    "class Point:\n",
    "    def __init__(self, xcoord = 0, ycoord = 0):\n",
    "        self.x = xcoord\n",
    "        self.y = ycoord\n",
    "    def setx(self, xcoord):\n",
    "        self.x = xcoord\n",
    "    def sety(self, ycoord):\n",
    "        self.y = ycoord\n",
    "    def get(self):\n",
    "        return (self.x, self.y)\n",
    "    def move(self, dx, dy):\n",
    "        self.x += dx\n",
    "        self.y += dy\n",
    "    def __repr__(self):\n",
    "        return 'Point({}, {})'.format(self.x, self.y)\n",
    "    def __add__(self, point):\n",
    "        return Point(self.x + point.x, self.y + point.y)"
   ]
  },
  {
   "cell_type": "code",
   "execution_count": null,
   "metadata": {},
   "outputs": [],
   "source": [
    "a = Point(3,5)\n",
    "b = Point(3,5)"
   ]
  },
  {
   "cell_type": "code",
   "execution_count": null,
   "metadata": {},
   "outputs": [],
   "source": [
    "a == b"
   ]
  },
  {
   "cell_type": "code",
   "execution_count": null,
   "metadata": {},
   "outputs": [],
   "source": [
    "a == a"
   ]
  },
  {
   "cell_type": "code",
   "execution_count": null,
   "metadata": {},
   "outputs": [],
   "source": [
    "class Point:\n",
    "    def __init__(self, xcoord = 0, ycoord = 0):\n",
    "        self.x = xcoord\n",
    "        self.y = ycoord\n",
    "    def setx(self, xcoord):\n",
    "        self.x = xcoord\n",
    "    def sety(self, ycoord):\n",
    "        self.y = ycoord\n",
    "    def get(self):\n",
    "        return (self.x, self.y)\n",
    "    def move(self, dx, dy):\n",
    "        self.x += dx\n",
    "        self.y += dy\n",
    "    def __repr__(self):\n",
    "        return 'Point({}, {})'.format(self.x, self.y)\n",
    "    def __add__(self, point):\n",
    "        return Point(self.x + point.x, self.y + point.y)\n",
    "    def __eq__(self, point):\n",
    "        return self.x == point.x and self.y == point.y"
   ]
  },
  {
   "cell_type": "code",
   "execution_count": null,
   "metadata": {},
   "outputs": [],
   "source": [
    "a = Point(3,5)\n",
    "b = Point(3,5)"
   ]
  },
  {
   "cell_type": "code",
   "execution_count": null,
   "metadata": {},
   "outputs": [],
   "source": [
    "a == b"
   ]
  },
  {
   "cell_type": "code",
   "execution_count": null,
   "metadata": {},
   "outputs": [],
   "source": [
    "a == a"
   ]
  },
  {
   "cell_type": "code",
   "execution_count": null,
   "metadata": {},
   "outputs": [],
   "source": [
    "a + b"
   ]
  },
  {
   "cell_type": "code",
   "execution_count": null,
   "metadata": {},
   "outputs": [],
   "source": [
    "c = a + b"
   ]
  },
  {
   "cell_type": "code",
   "execution_count": null,
   "metadata": {},
   "outputs": [],
   "source": [
    "c"
   ]
  },
  {
   "cell_type": "code",
   "execution_count": null,
   "metadata": {},
   "outputs": [],
   "source": [
    "d = Point(6, 10)"
   ]
  },
  {
   "cell_type": "code",
   "execution_count": null,
   "metadata": {},
   "outputs": [],
   "source": [
    "c == d"
   ]
  },
  {
   "cell_type": "code",
   "execution_count": null,
   "metadata": {},
   "outputs": [],
   "source": []
  }
 ],
 "metadata": {
  "anaconda-cloud": {},
  "kernelspec": {
   "display_name": "Python 3",
   "language": "python",
   "name": "python3"
  },
  "language_info": {
   "codemirror_mode": {
    "name": "ipython",
    "version": 3
   },
   "file_extension": ".py",
   "mimetype": "text/x-python",
   "name": "python",
   "nbconvert_exporter": "python",
   "pygments_lexer": "ipython3",
   "version": "3.8.3"
  }
 },
 "nbformat": 4,
 "nbformat_minor": 1
}
