{
 "cells": [
  {
   "cell_type": "markdown",
   "metadata": {},
   "source": [
    "# Web Scrapping"
   ]
  },
  {
   "cell_type": "code",
   "execution_count": null,
   "metadata": {},
   "outputs": [],
   "source": [
    "'''\n",
    "Q1. From all the iOS pages (ending with “_ios.html”) in the Data folder, extract \n",
    "    (1) number of customer ratings in the Current Version (let’s call it ios_current_ratings); and\n",
    "    (2) number of customer ratings in All Versions (ios_all_ratings). \n",
    "'''\n",
    "    \n",
    "# For example, the extracted values should be: 4688, 106508 for the “2016-07- 21/00_00_pokemon_ios.html” file. \n",
    "# There are 2 values from iOS pages."
   ]
  },
  {
   "cell_type": "code",
   "execution_count": null,
   "metadata": {},
   "outputs": [],
   "source": []
  },
  {
   "cell_type": "code",
   "execution_count": null,
   "metadata": {},
   "outputs": [],
   "source": [
    "'''\n",
    "Q2. From all the Android pages (ending with “_android.html”) in the Data folder, extract \n",
    "    (1) average rating (in the scale between 1.0 and 5.0) (android_avg_rating);and\n",
    "    (2) number of total ratings (android_total_ratings).\n",
    "'''\n",
    "    \n",
    "# For example, the extracted values should be: 3.9, 1281802 for the “2016-07- 21/00_00_pokemon_android.html” file. \n",
    "# There are 2 values from Android pages."
   ]
  },
  {
   "cell_type": "code",
   "execution_count": null,
   "metadata": {},
   "outputs": [],
   "source": []
  },
  {
   "cell_type": "markdown",
   "metadata": {},
   "source": [
    "# Data Organization"
   ]
  },
  {
   "cell_type": "code",
   "execution_count": null,
   "metadata": {},
   "outputs": [],
   "source": [
    "'''\n",
    "Q3. Using the extracted values from the previous step, create a Python dictionary, \n",
    "    where the key is datetime object and \n",
    "    the value is a dictionary with extracted values from iOS and Android HTML files. \n",
    "\n",
    "'''\n",
    "    \n",
    "# For example, for the case of “2016- 07-21-00_00_pokemon_android.html” file and\n",
    "# “2016-07- 21/00_00_pokemon_ios.html” file, \n",
    "# the key should be \n",
    "# datetime(2016, 7, 21, 0, 0, 0)\n",
    "# and the value should be: \n",
    "# {‘ios_current_ratings’: 4688, ‘ios_all_ratings’: 106508, ‘android_avg_rating’: 3.9, ‘android_total_ratings’: 1281802}"
   ]
  },
  {
   "cell_type": "code",
   "execution_count": null,
   "metadata": {},
   "outputs": [],
   "source": []
  },
  {
   "cell_type": "code",
   "execution_count": null,
   "metadata": {},
   "outputs": [],
   "source": [
    "'''\n",
    "Q4. Convert the dictionary into a Pandas dataframe, pokemon_db, \n",
    "    where the index is datetime and columns are names of the extracted iOS/Android values. \n",
    "\n",
    "'''"
   ]
  },
  {
   "cell_type": "code",
   "execution_count": null,
   "metadata": {},
   "outputs": [],
   "source": []
  },
  {
   "cell_type": "code",
   "execution_count": null,
   "metadata": {},
   "outputs": [],
   "source": [
    "'''\n",
    "Q5. Save the dataframe into two formats (CSV and Excel). The file names should be HW9.csv and HW9.xlsx.\n",
    "\n",
    "'''"
   ]
  },
  {
   "cell_type": "code",
   "execution_count": null,
   "metadata": {},
   "outputs": [],
   "source": []
  }
 ],
 "metadata": {
  "kernelspec": {
   "display_name": "Python 3 (ipykernel)",
   "language": "python",
   "name": "python3"
  },
  "language_info": {
   "codemirror_mode": {
    "name": "ipython",
    "version": 3
   },
   "file_extension": ".py",
   "mimetype": "text/x-python",
   "name": "python",
   "nbconvert_exporter": "python",
   "pygments_lexer": "ipython3",
   "version": "3.9.13"
  }
 },
 "nbformat": 4,
 "nbformat_minor": 2
}
