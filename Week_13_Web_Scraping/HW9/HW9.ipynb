{
 "cells": [
  {
   "cell_type": "markdown",
   "metadata": {},
   "source": [
    "# Web Scrapping"
   ]
  },
  {
   "cell_type": "code",
   "execution_count": 1,
   "metadata": {},
   "outputs": [
    {
     "data": {
      "text/plain": [
       "'\\nQ1. From all the iOS pages (ending with “_ios.html”) in the Data folder, extract \\n    (1) number of customer ratings in the Current Version (let’s call it ios_current_ratings); and\\n    (2) number of customer ratings in All Versions (ios_all_ratings). \\n'"
      ]
     },
     "execution_count": 1,
     "metadata": {},
     "output_type": "execute_result"
    }
   ],
   "source": [
    "'''\n",
    "Q1. From all the iOS pages (ending with “_ios.html”) in the Data folder, extract \n",
    "    (1) number of customer ratings in the Current Version (let’s call it ios_current_ratings); and\n",
    "    (2) number of customer ratings in All Versions (ios_all_ratings). \n",
    "'''\n",
    "    \n",
    "# For example, the extracted values should be: 4688, 106508 for the “2016-07- 21/00_00_pokemon_ios.html” file. \n",
    "# There are 2 values from iOS pages."
   ]
  },
  {
   "cell_type": "code",
   "execution_count": 2,
   "metadata": {},
   "outputs": [
    {
     "name": "stderr",
     "output_type": "stream",
     "text": [
      "C:\\Users\\sar-home\\AppData\\Local\\Temp\\ipykernel_19152\\3609035109.py:20: DeprecationWarning: The 'text' argument to find()-type methods is deprecated. Use 'string' instead.\n",
      "  current_version_div = soup.find(\"div\", text=\"Current Version:\")\n",
      "C:\\Users\\sar-home\\AppData\\Local\\Temp\\ipykernel_19152\\3609035109.py:27: DeprecationWarning: The 'text' argument to find()-type methods is deprecated. Use 'string' instead.\n",
      "  all_versions_div = soup.find(\"div\", text=\"All Versions:\")\n"
     ]
    },
    {
     "name": "stdout",
     "output_type": "stream",
     "text": [
      "                                 File Name  iOS Current Ratings  \\\n",
      "0    Data/2016-07-2100_00_pokemon_ios.html                 4688   \n",
      "1    Data/2016-07-2100_10_pokemon_ios.html                 4688   \n",
      "2    Data/2016-07-2100_20_pokemon_ios.html                 4688   \n",
      "3    Data/2016-07-2100_30_pokemon_ios.html                 4688   \n",
      "4    Data/2016-07-2100_40_pokemon_ios.html                 4688   \n",
      "..                                     ...                  ...   \n",
      "283  Data/2016-07-2223_10_pokemon_ios.html                 9686   \n",
      "284  Data/2016-07-2223_20_pokemon_ios.html                10132   \n",
      "285  Data/2016-07-2223_30_pokemon_ios.html                10132   \n",
      "286  Data/2016-07-2223_40_pokemon_ios.html                10132   \n",
      "287  Data/2016-07-2223_50_pokemon_ios.html                10132   \n",
      "\n",
      "     iOS All Ratings  \n",
      "0             106508  \n",
      "1             106508  \n",
      "2             106508  \n",
      "3             106508  \n",
      "4             106508  \n",
      "..               ...  \n",
      "283           111547  \n",
      "284           111140  \n",
      "285           111547  \n",
      "286           111547  \n",
      "287           111547  \n",
      "\n",
      "[288 rows x 3 columns]\n"
     ]
    }
   ],
   "source": [
    "import os\n",
    "from bs4 import BeautifulSoup\n",
    "import pandas as pd\n",
    "\n",
    "data_folder = [\"Data/2016-07-21\", \"Data/2016-07-22\"]\n",
    "\n",
    "file_names = []\n",
    "current_ratings = []\n",
    "all_ratings = []\n",
    "\n",
    "for folder in data_folder:\n",
    "    for file_name in os.listdir(folder):\n",
    "        \n",
    "        if file_name.endswith(\"_ios.html\"):\n",
    "            file_path = os.path.join(folder, file_name)\n",
    "            \n",
    "            with open(file_path, \"r\", encoding=\"utf-8\") as file:\n",
    "                soup = BeautifulSoup(file, \"html.parser\")\n",
    "                \n",
    "                current_version_div = soup.find(\"div\", text=\"Current Version:\")\n",
    "                if current_version_div:\n",
    "                    current_ratings_div = current_version_div.find_next(\"span\", class_=\"rating-count\")\n",
    "                    ios_current_value = int(current_ratings_div.text.split()[0].replace(\",\", \"\")) if current_ratings_div else None\n",
    "                else:\n",
    "                    ios_current_value = None\n",
    "                \n",
    "                all_versions_div = soup.find(\"div\", text=\"All Versions:\")\n",
    "                if all_versions_div:\n",
    "                    all_ratings_div = all_versions_div.find_next(\"span\", class_=\"rating-count\")\n",
    "                    ios_all_value = int(all_ratings_div.text.split()[0].replace(\",\", \"\")) if all_ratings_div else None\n",
    "                else:\n",
    "                    ios_all_value = None\n",
    "                \n",
    "                file_names.append(folder + file_name)\n",
    "                current_ratings.append(ios_current_value)\n",
    "                all_ratings.append(ios_all_value)\n",
    "\n",
    "data = pd.DataFrame({\n",
    "    \"File Name\": file_names,\n",
    "    \"iOS Current Ratings\": current_ratings,\n",
    "    \"iOS All Ratings\": all_ratings\n",
    "})\n",
    "\n",
    "print(data)\n"
   ]
  },
  {
   "cell_type": "code",
   "execution_count": 3,
   "metadata": {},
   "outputs": [
    {
     "data": {
      "text/plain": [
       "'\\nQ2. From all the Android pages (ending with “_android.html”) in the Data folder, extract \\n    (1) average rating (in the scale between 1.0 and 5.0) (android_avg_rating);and\\n    (2) number of total ratings (android_total_ratings).\\n'"
      ]
     },
     "execution_count": 3,
     "metadata": {},
     "output_type": "execute_result"
    }
   ],
   "source": [
    "'''\n",
    "Q2. From all the Android pages (ending with “_android.html”) in the Data folder, extract \n",
    "    (1) average rating (in the scale between 1.0 and 5.0) (android_avg_rating);and\n",
    "    (2) number of total ratings (android_total_ratings).\n",
    "'''\n",
    "    \n",
    "# For example, the extracted values should be: 3.9, 1281802 for the “2016-07- 21/00_00_pokemon_android.html” file. \n",
    "# There are 2 values from Android pages."
   ]
  },
  {
   "cell_type": "code",
   "execution_count": 4,
   "metadata": {},
   "outputs": [
    {
     "name": "stdout",
     "output_type": "stream",
     "text": [
      "                                      File Name  Android Avg Rating  \\\n",
      "0    Data/2016-07-21/00_00_pokemon_android.html                 3.9   \n",
      "1    Data/2016-07-21/00_10_pokemon_android.html                 3.9   \n",
      "2    Data/2016-07-21/00_20_pokemon_android.html                 3.9   \n",
      "3    Data/2016-07-21/00_30_pokemon_android.html                 3.9   \n",
      "4    Data/2016-07-21/00_40_pokemon_android.html                 3.9   \n",
      "..                                          ...                 ...   \n",
      "283  Data/2016-07-22/23_10_pokemon_android.html                 3.9   \n",
      "284  Data/2016-07-22/23_20_pokemon_android.html                 3.9   \n",
      "285  Data/2016-07-22/23_30_pokemon_android.html                 3.9   \n",
      "286  Data/2016-07-22/23_40_pokemon_android.html                 3.9   \n",
      "287  Data/2016-07-22/23_50_pokemon_android.html                 3.9   \n",
      "\n",
      "     Android Total Ratings  \n",
      "0                  1281802  \n",
      "1                  1281802  \n",
      "2                  1281802  \n",
      "3                  1281802  \n",
      "4                  1281802  \n",
      "..                     ...  \n",
      "283                1424989  \n",
      "284                1424989  \n",
      "285                1424989  \n",
      "286                1424989  \n",
      "287                1424989  \n",
      "\n",
      "[288 rows x 3 columns]\n"
     ]
    }
   ],
   "source": [
    "import os\n",
    "from bs4 import BeautifulSoup\n",
    "import pandas as pd\n",
    "\n",
    "data_folder = [\"Data/2016-07-21\", \"Data/2016-07-22\"]\n",
    "\n",
    "file_names = []\n",
    "android_avg_ratings = []\n",
    "android_total_ratings = []\n",
    "\n",
    "for folder in data_folder:\n",
    "    for file_name in os.listdir(folder):\n",
    "        if file_name.endswith(\"_android.html\"):\n",
    "            file_path = os.path.join(folder, file_name)\n",
    "            \n",
    "            # parse the HTML file\n",
    "            with open(file_path, \"r\", encoding=\"utf-8\") as file:\n",
    "                \n",
    "                soup = BeautifulSoup(file, \"html.parser\")\n",
    "                \n",
    "                # android_avg_rating\n",
    "                avg_rating_div = soup.find(\"div\", class_=\"score\")\n",
    "                android_avg_value = float(avg_rating_div.text.strip())\n",
    "                \n",
    "                # android_total_ratings\n",
    "                total_ratings_div = soup.find(\"span\", class_=\"reviews-num\")\n",
    "                android_total_value = int(total_ratings_div.text.replace(\",\", \"\").strip())\n",
    "                \n",
    "                # results\n",
    "                file_names.append(folder + \"/\" + file_name)\n",
    "                android_avg_ratings.append(android_avg_value)\n",
    "                android_total_ratings.append(android_total_value)\n",
    "\n",
    "data = pd.DataFrame({\n",
    "    \"File Name\": file_names,\n",
    "    \"Android Avg Rating\": android_avg_ratings,\n",
    "    \"Android Total Ratings\": android_total_ratings\n",
    "})\n",
    "\n",
    "print(data)\n"
   ]
  },
  {
   "cell_type": "markdown",
   "metadata": {},
   "source": [
    "# Data Organization"
   ]
  },
  {
   "cell_type": "code",
   "execution_count": 5,
   "metadata": {},
   "outputs": [
    {
     "data": {
      "text/plain": [
       "'\\nQ3. Using the extracted values from the previous step, create a Python dictionary, \\n    where the key is datetime object and \\n    the value is a dictionary with extracted values from iOS and Android HTML files. \\n\\n'"
      ]
     },
     "execution_count": 5,
     "metadata": {},
     "output_type": "execute_result"
    }
   ],
   "source": [
    "'''\n",
    "Q3. Using the extracted values from the previous step, create a Python dictionary, \n",
    "    where the key is datetime object and \n",
    "    the value is a dictionary with extracted values from iOS and Android HTML files. \n",
    "\n",
    "'''\n",
    "    \n",
    "# For example, for the case of “2016- 07-21-00_00_pokemon_android.html” file and\n",
    "# “2016-07- 21/00_00_pokemon_ios.html” file, \n",
    "# the key should be \n",
    "# datetime(2016, 7, 21, 0, 0, 0)\n",
    "# and the value should be: \n",
    "# {‘ios_current_ratings’: 4688, ‘ios_all_ratings’: 106508, ‘android_avg_rating’: 3.9, ‘android_total_ratings’: 1281802}"
   ]
  },
  {
   "cell_type": "code",
   "execution_count": 6,
   "metadata": {},
   "outputs": [
    {
     "name": "stderr",
     "output_type": "stream",
     "text": [
      "C:\\Users\\sar-home\\AppData\\Local\\Temp\\ipykernel_19152\\207864486.py:15: DeprecationWarning: The 'text' argument to find()-type methods is deprecated. Use 'string' instead.\n",
      "  current_version_div = soup.find(\"div\", text=\"Current Version:\")\n",
      "C:\\Users\\sar-home\\AppData\\Local\\Temp\\ipykernel_19152\\207864486.py:20: DeprecationWarning: The 'text' argument to find()-type methods is deprecated. Use 'string' instead.\n",
      "  all_versions_div = soup.find(\"div\", text=\"All Versions:\")\n"
     ]
    },
    {
     "name": "stdout",
     "output_type": "stream",
     "text": [
      "{datetime.datetime(2016, 7, 21, 0, 0): {'android_current_rating': 3.9, 'android_all_ratings': 1281802, 'ios_current_ratings': 4688, 'ios_all_ratings': 106508}, datetime.datetime(2016, 7, 21, 0, 10): {'android_current_rating': 3.9, 'android_all_ratings': 1281802, 'ios_current_ratings': 4688, 'ios_all_ratings': 106508}, datetime.datetime(2016, 7, 21, 0, 20): {'android_current_rating': 3.9, 'android_all_ratings': 1281802, 'ios_current_ratings': 4688, 'ios_all_ratings': 106508}, datetime.datetime(2016, 7, 21, 0, 30): {'android_current_rating': 3.9, 'android_all_ratings': 1281802, 'ios_current_ratings': 4688, 'ios_all_ratings': 106508}, datetime.datetime(2016, 7, 21, 0, 40): {'android_current_rating': 3.9, 'android_all_ratings': 1281802, 'ios_current_ratings': 4688, 'ios_all_ratings': 106508}, datetime.datetime(2016, 7, 21, 0, 50): {'android_current_rating': 3.9, 'android_all_ratings': 1281802, 'ios_current_ratings': 4688, 'ios_all_ratings': 106508}, datetime.datetime(2016, 7, 21, 1, 0): {'android_current_rating': 3.9, 'android_all_ratings': 1281802, 'ios_current_ratings': 4688, 'ios_all_ratings': 106508}, datetime.datetime(2016, 7, 21, 1, 10): {'android_current_rating': 3.9, 'android_all_ratings': 1281802, 'ios_current_ratings': 4688, 'ios_all_ratings': 106508}, datetime.datetime(2016, 7, 21, 1, 20): {'android_current_rating': 3.9, 'android_all_ratings': 1281802, 'ios_current_ratings': 4688, 'ios_all_ratings': 106508}, datetime.datetime(2016, 7, 21, 1, 30): {'android_current_rating': 3.9, 'android_all_ratings': 1281802, 'ios_current_ratings': 4688, 'ios_all_ratings': 106508}, datetime.datetime(2016, 7, 21, 1, 40): {'android_current_rating': 3.9, 'android_all_ratings': 1281802, 'ios_current_ratings': 4688, 'ios_all_ratings': 106508}, datetime.datetime(2016, 7, 21, 1, 50): {'android_current_rating': 3.9, 'android_all_ratings': 1281802, 'ios_current_ratings': 4688, 'ios_all_ratings': 106508}, datetime.datetime(2016, 7, 21, 2, 0): {'android_current_rating': 3.9, 'android_all_ratings': 1281802, 'ios_current_ratings': 4688, 'ios_all_ratings': 106508}, datetime.datetime(2016, 7, 21, 2, 10): {'android_current_rating': 3.9, 'android_all_ratings': 1281802, 'ios_current_ratings': 4688, 'ios_all_ratings': 106508}, datetime.datetime(2016, 7, 21, 2, 20): {'android_current_rating': 3.9, 'android_all_ratings': 1281802, 'ios_current_ratings': 4688, 'ios_all_ratings': 106508}, datetime.datetime(2016, 7, 21, 2, 30): {'android_current_rating': 3.9, 'android_all_ratings': 1281802, 'ios_current_ratings': 4688, 'ios_all_ratings': 106508}, datetime.datetime(2016, 7, 21, 2, 40): {'android_current_rating': 3.9, 'android_all_ratings': 1281802, 'ios_current_ratings': 4688, 'ios_all_ratings': 106508}, datetime.datetime(2016, 7, 21, 2, 50): {'android_current_rating': 3.9, 'android_all_ratings': 1281802, 'ios_current_ratings': 4688, 'ios_all_ratings': 106508}, datetime.datetime(2016, 7, 21, 3, 0): {'android_current_rating': 3.9, 'android_all_ratings': 1281802, 'ios_current_ratings': 4688, 'ios_all_ratings': 106508}, datetime.datetime(2016, 7, 21, 3, 10): {'android_current_rating': 3.9, 'android_all_ratings': 1281802, 'ios_current_ratings': 4688, 'ios_all_ratings': 106508}, datetime.datetime(2016, 7, 21, 3, 20): {'android_current_rating': 3.9, 'android_all_ratings': 1281802, 'ios_current_ratings': 5668, 'ios_all_ratings': 107460}, datetime.datetime(2016, 7, 21, 3, 30): {'android_current_rating': 3.9, 'android_all_ratings': 1281802, 'ios_current_ratings': 5668, 'ios_all_ratings': 106508}, datetime.datetime(2016, 7, 21, 3, 40): {'android_current_rating': 3.9, 'android_all_ratings': 1281802, 'ios_current_ratings': 5668, 'ios_all_ratings': 107460}, datetime.datetime(2016, 7, 21, 3, 50): {'android_current_rating': 3.9, 'android_all_ratings': 1281802, 'ios_current_ratings': 5668, 'ios_all_ratings': 107460}, datetime.datetime(2016, 7, 21, 4, 0): {'android_current_rating': 3.9, 'android_all_ratings': 1292537, 'ios_current_ratings': 5668, 'ios_all_ratings': 107460}, datetime.datetime(2016, 7, 21, 4, 10): {'android_current_rating': 3.9, 'android_all_ratings': 1292537, 'ios_current_ratings': 5668, 'ios_all_ratings': 107460}, datetime.datetime(2016, 7, 21, 4, 20): {'android_current_rating': 3.9, 'android_all_ratings': 1292537, 'ios_current_ratings': 5668, 'ios_all_ratings': 107460}, datetime.datetime(2016, 7, 21, 4, 30): {'android_current_rating': 3.9, 'android_all_ratings': 1292537, 'ios_current_ratings': 5668, 'ios_all_ratings': 107460}, datetime.datetime(2016, 7, 21, 4, 40): {'android_current_rating': 3.9, 'android_all_ratings': 1292537, 'ios_current_ratings': 5668, 'ios_all_ratings': 107460}, datetime.datetime(2016, 7, 21, 4, 50): {'android_current_rating': 3.9, 'android_all_ratings': 1292537, 'ios_current_ratings': 5668, 'ios_all_ratings': 107460}, datetime.datetime(2016, 7, 21, 5, 0): {'android_current_rating': 3.9, 'android_all_ratings': 1292537, 'ios_current_ratings': 5668, 'ios_all_ratings': 107460}, datetime.datetime(2016, 7, 21, 5, 10): {'android_current_rating': 3.9, 'android_all_ratings': 1292537, 'ios_current_ratings': 5668, 'ios_all_ratings': 107460}, datetime.datetime(2016, 7, 21, 5, 20): {'android_current_rating': 3.9, 'android_all_ratings': 1292537, 'ios_current_ratings': 5668, 'ios_all_ratings': 107460}, datetime.datetime(2016, 7, 21, 5, 30): {'android_current_rating': 3.9, 'android_all_ratings': 1292537, 'ios_current_ratings': 5668, 'ios_all_ratings': 107460}, datetime.datetime(2016, 7, 21, 5, 40): {'android_current_rating': 3.9, 'android_all_ratings': 1292537, 'ios_current_ratings': 5668, 'ios_all_ratings': 107460}, datetime.datetime(2016, 7, 21, 5, 50): {'android_current_rating': 3.9, 'android_all_ratings': 1292537, 'ios_current_ratings': 5668, 'ios_all_ratings': 107460}, datetime.datetime(2016, 7, 21, 6, 0): {'android_current_rating': 3.9, 'android_all_ratings': 1292537, 'ios_current_ratings': 5668, 'ios_all_ratings': 107460}, datetime.datetime(2016, 7, 21, 6, 10): {'android_current_rating': 3.9, 'android_all_ratings': 1292537, 'ios_current_ratings': 5668, 'ios_all_ratings': 107460}, datetime.datetime(2016, 7, 21, 6, 20): {'android_current_rating': 3.9, 'android_all_ratings': 1292537, 'ios_current_ratings': 5668, 'ios_all_ratings': 107460}, datetime.datetime(2016, 7, 21, 6, 30): {'android_current_rating': 3.9, 'android_all_ratings': 1292537, 'ios_current_ratings': 5668, 'ios_all_ratings': 107460}, datetime.datetime(2016, 7, 21, 6, 40): {'android_current_rating': 3.9, 'android_all_ratings': 1292537, 'ios_current_ratings': 5668, 'ios_all_ratings': 107460}, datetime.datetime(2016, 7, 21, 6, 50): {'android_current_rating': 3.9, 'android_all_ratings': 1292537, 'ios_current_ratings': 5668, 'ios_all_ratings': 107460}, datetime.datetime(2016, 7, 21, 7, 0): {'android_current_rating': 3.9, 'android_all_ratings': 1292537, 'ios_current_ratings': 5668, 'ios_all_ratings': 107460}, datetime.datetime(2016, 7, 21, 7, 10): {'android_current_rating': 3.9, 'android_all_ratings': 1292537, 'ios_current_ratings': 5668, 'ios_all_ratings': 107460}, datetime.datetime(2016, 7, 21, 7, 20): {'android_current_rating': 3.9, 'android_all_ratings': 1292537, 'ios_current_ratings': 5668, 'ios_all_ratings': 107460}, datetime.datetime(2016, 7, 21, 7, 30): {'android_current_rating': 3.9, 'android_all_ratings': 1292537, 'ios_current_ratings': 5668, 'ios_all_ratings': 107460}, datetime.datetime(2016, 7, 21, 7, 40): {'android_current_rating': 3.9, 'android_all_ratings': 1292537, 'ios_current_ratings': 5668, 'ios_all_ratings': 107460}, datetime.datetime(2016, 7, 21, 7, 50): {'android_current_rating': 3.9, 'android_all_ratings': 1292537, 'ios_current_ratings': 5668, 'ios_all_ratings': 107460}, datetime.datetime(2016, 7, 21, 8, 0): {'android_current_rating': 3.9, 'android_all_ratings': 1305525, 'ios_current_ratings': 5668, 'ios_all_ratings': 107460}, datetime.datetime(2016, 7, 21, 8, 10): {'android_current_rating': 3.9, 'android_all_ratings': 1305525, 'ios_current_ratings': 5668, 'ios_all_ratings': 107460}, datetime.datetime(2016, 7, 21, 8, 20): {'android_current_rating': 3.9, 'android_all_ratings': 1305525, 'ios_current_ratings': 5668, 'ios_all_ratings': 107460}, datetime.datetime(2016, 7, 21, 8, 30): {'android_current_rating': 3.9, 'android_all_ratings': 1305525, 'ios_current_ratings': 5668, 'ios_all_ratings': 107460}, datetime.datetime(2016, 7, 21, 8, 40): {'android_current_rating': 3.9, 'android_all_ratings': 1305525, 'ios_current_ratings': 5668, 'ios_all_ratings': 107460}, datetime.datetime(2016, 7, 21, 8, 50): {'android_current_rating': 3.9, 'android_all_ratings': 1305525, 'ios_current_ratings': 5668, 'ios_all_ratings': 107460}, datetime.datetime(2016, 7, 21, 9, 0): {'android_current_rating': 3.9, 'android_all_ratings': 1305525, 'ios_current_ratings': 5668, 'ios_all_ratings': 107460}, datetime.datetime(2016, 7, 21, 9, 10): {'android_current_rating': 3.9, 'android_all_ratings': 1305525, 'ios_current_ratings': 5668, 'ios_all_ratings': 107460}, datetime.datetime(2016, 7, 21, 9, 20): {'android_current_rating': 3.9, 'android_all_ratings': 1305525, 'ios_current_ratings': 5668, 'ios_all_ratings': 107460}, datetime.datetime(2016, 7, 21, 9, 30): {'android_current_rating': 3.9, 'android_all_ratings': 1305525, 'ios_current_ratings': 5668, 'ios_all_ratings': 107460}, datetime.datetime(2016, 7, 21, 9, 40): {'android_current_rating': 3.9, 'android_all_ratings': 1305525, 'ios_current_ratings': 5668, 'ios_all_ratings': 107460}, datetime.datetime(2016, 7, 21, 9, 50): {'android_current_rating': 3.9, 'android_all_ratings': 1305525, 'ios_current_ratings': 5668, 'ios_all_ratings': 107460}, datetime.datetime(2016, 7, 21, 10, 0): {'android_current_rating': 3.9, 'android_all_ratings': 1305525, 'ios_current_ratings': 5668, 'ios_all_ratings': 107460}, datetime.datetime(2016, 7, 21, 10, 10): {'android_current_rating': 3.9, 'android_all_ratings': 1305525, 'ios_current_ratings': 5668, 'ios_all_ratings': 107460}, datetime.datetime(2016, 7, 21, 10, 20): {'android_current_rating': 3.9, 'android_all_ratings': 1305525, 'ios_current_ratings': 5668, 'ios_all_ratings': 107460}, datetime.datetime(2016, 7, 21, 10, 30): {'android_current_rating': 3.9, 'android_all_ratings': 1305525, 'ios_current_ratings': 5668, 'ios_all_ratings': 107460}, datetime.datetime(2016, 7, 21, 10, 40): {'android_current_rating': 3.9, 'android_all_ratings': 1305525, 'ios_current_ratings': 5668, 'ios_all_ratings': 107460}, datetime.datetime(2016, 7, 21, 10, 50): {'android_current_rating': 3.9, 'android_all_ratings': 1305525, 'ios_current_ratings': 5668, 'ios_all_ratings': 107460}, datetime.datetime(2016, 7, 21, 11, 0): {'android_current_rating': 3.9, 'android_all_ratings': 1305525, 'ios_current_ratings': 5668, 'ios_all_ratings': 107972}, datetime.datetime(2016, 7, 21, 11, 10): {'android_current_rating': 3.9, 'android_all_ratings': 1305525, 'ios_current_ratings': 6203, 'ios_all_ratings': 107460}, datetime.datetime(2016, 7, 21, 11, 20): {'android_current_rating': 3.9, 'android_all_ratings': 1305525, 'ios_current_ratings': 6203, 'ios_all_ratings': 107972}, datetime.datetime(2016, 7, 21, 11, 30): {'android_current_rating': 3.9, 'android_all_ratings': 1305525, 'ios_current_ratings': 6203, 'ios_all_ratings': 107972}, datetime.datetime(2016, 7, 21, 11, 40): {'android_current_rating': 3.9, 'android_all_ratings': 1305525, 'ios_current_ratings': 6203, 'ios_all_ratings': 107972}, datetime.datetime(2016, 7, 21, 11, 50): {'android_current_rating': 3.9, 'android_all_ratings': 1305525, 'ios_current_ratings': 6203, 'ios_all_ratings': 107972}, datetime.datetime(2016, 7, 21, 12, 0): {'android_current_rating': 3.9, 'android_all_ratings': 1319394, 'ios_current_ratings': 6203, 'ios_all_ratings': 107972}, datetime.datetime(2016, 7, 21, 12, 10): {'android_current_rating': 3.9, 'android_all_ratings': 1319394, 'ios_current_ratings': 6203, 'ios_all_ratings': 107972}, datetime.datetime(2016, 7, 21, 12, 20): {'android_current_rating': 3.9, 'android_all_ratings': 1319394, 'ios_current_ratings': 6203, 'ios_all_ratings': 107972}, datetime.datetime(2016, 7, 21, 12, 30): {'android_current_rating': 3.9, 'android_all_ratings': 1319394, 'ios_current_ratings': 6203, 'ios_all_ratings': 107972}, datetime.datetime(2016, 7, 21, 12, 40): {'android_current_rating': 3.9, 'android_all_ratings': 1319394, 'ios_current_ratings': 6203, 'ios_all_ratings': 107972}, datetime.datetime(2016, 7, 21, 12, 50): {'android_current_rating': 3.9, 'android_all_ratings': 1319394, 'ios_current_ratings': 6203, 'ios_all_ratings': 107972}, datetime.datetime(2016, 7, 21, 13, 0): {'android_current_rating': 3.9, 'android_all_ratings': 1319394, 'ios_current_ratings': 6203, 'ios_all_ratings': 107972}, datetime.datetime(2016, 7, 21, 13, 10): {'android_current_rating': 3.9, 'android_all_ratings': 1319394, 'ios_current_ratings': 6203, 'ios_all_ratings': 107972}, datetime.datetime(2016, 7, 21, 13, 20): {'android_current_rating': 3.9, 'android_all_ratings': 1319394, 'ios_current_ratings': 6203, 'ios_all_ratings': 107972}, datetime.datetime(2016, 7, 21, 13, 30): {'android_current_rating': 3.9, 'android_all_ratings': 1319394, 'ios_current_ratings': 6203, 'ios_all_ratings': 107972}, datetime.datetime(2016, 7, 21, 13, 40): {'android_current_rating': 3.9, 'android_all_ratings': 1319394, 'ios_current_ratings': 6203, 'ios_all_ratings': 107972}, datetime.datetime(2016, 7, 21, 13, 50): {'android_current_rating': 3.9, 'android_all_ratings': 1319394, 'ios_current_ratings': 6203, 'ios_all_ratings': 107972}, datetime.datetime(2016, 7, 21, 14, 0): {'android_current_rating': 3.9, 'android_all_ratings': 1319394, 'ios_current_ratings': 6203, 'ios_all_ratings': 107972}, datetime.datetime(2016, 7, 21, 14, 10): {'android_current_rating': 3.9, 'android_all_ratings': 1319394, 'ios_current_ratings': 6203, 'ios_all_ratings': 107972}, datetime.datetime(2016, 7, 21, 14, 20): {'android_current_rating': 3.9, 'android_all_ratings': 1319394, 'ios_current_ratings': 6203, 'ios_all_ratings': 107972}, datetime.datetime(2016, 7, 21, 14, 30): {'android_current_rating': 3.9, 'android_all_ratings': 1319394, 'ios_current_ratings': 6203, 'ios_all_ratings': 107972}, datetime.datetime(2016, 7, 21, 14, 40): {'android_current_rating': 3.9, 'android_all_ratings': 1319394, 'ios_current_ratings': 6203, 'ios_all_ratings': 107972}, datetime.datetime(2016, 7, 21, 14, 50): {'android_current_rating': 3.9, 'android_all_ratings': 1319394, 'ios_current_ratings': 6203, 'ios_all_ratings': 107972}, datetime.datetime(2016, 7, 21, 15, 0): {'android_current_rating': 3.9, 'android_all_ratings': 1319394, 'ios_current_ratings': 6203, 'ios_all_ratings': 107972}, datetime.datetime(2016, 7, 21, 15, 10): {'android_current_rating': 3.9, 'android_all_ratings': 1319394, 'ios_current_ratings': 6203, 'ios_all_ratings': 108570}, datetime.datetime(2016, 7, 21, 15, 20): {'android_current_rating': 3.9, 'android_all_ratings': 1319394, 'ios_current_ratings': 6842, 'ios_all_ratings': 108570}, datetime.datetime(2016, 7, 21, 15, 30): {'android_current_rating': 3.9, 'android_all_ratings': 1319394, 'ios_current_ratings': 6842, 'ios_all_ratings': 108570}, datetime.datetime(2016, 7, 21, 15, 40): {'android_current_rating': 3.9, 'android_all_ratings': 1319394, 'ios_current_ratings': 6842, 'ios_all_ratings': 108570}, datetime.datetime(2016, 7, 21, 15, 50): {'android_current_rating': 3.9, 'android_all_ratings': 1319394, 'ios_current_ratings': 6842, 'ios_all_ratings': 108570}, datetime.datetime(2016, 7, 21, 16, 0): {'android_current_rating': 3.9, 'android_all_ratings': 1334278, 'ios_current_ratings': 6842, 'ios_all_ratings': 108570}, datetime.datetime(2016, 7, 21, 16, 10): {'android_current_rating': 3.9, 'android_all_ratings': 1334278, 'ios_current_ratings': 6842, 'ios_all_ratings': 108570}, datetime.datetime(2016, 7, 21, 16, 20): {'android_current_rating': 3.9, 'android_all_ratings': 1334278, 'ios_current_ratings': 6842, 'ios_all_ratings': 108570}, datetime.datetime(2016, 7, 21, 16, 30): {'android_current_rating': 3.9, 'android_all_ratings': 1334278, 'ios_current_ratings': 6842, 'ios_all_ratings': 108570}, datetime.datetime(2016, 7, 21, 16, 40): {'android_current_rating': 3.9, 'android_all_ratings': 1334278, 'ios_current_ratings': 6842, 'ios_all_ratings': 108570}, datetime.datetime(2016, 7, 21, 16, 50): {'android_current_rating': 3.9, 'android_all_ratings': 1334278, 'ios_current_ratings': 6842, 'ios_all_ratings': 108570}, datetime.datetime(2016, 7, 21, 17, 0): {'android_current_rating': 3.9, 'android_all_ratings': 1334278, 'ios_current_ratings': 6842, 'ios_all_ratings': 108570}, datetime.datetime(2016, 7, 21, 17, 10): {'android_current_rating': 3.9, 'android_all_ratings': 1334278, 'ios_current_ratings': 6842, 'ios_all_ratings': 108570}, datetime.datetime(2016, 7, 21, 17, 20): {'android_current_rating': 3.9, 'android_all_ratings': 1334278, 'ios_current_ratings': 6842, 'ios_all_ratings': 108570}, datetime.datetime(2016, 7, 21, 17, 30): {'android_current_rating': 3.9, 'android_all_ratings': 1334278, 'ios_current_ratings': 6842, 'ios_all_ratings': 108570}, datetime.datetime(2016, 7, 21, 17, 40): {'android_current_rating': 3.9, 'android_all_ratings': 1334278, 'ios_current_ratings': 6842, 'ios_all_ratings': 108570}, datetime.datetime(2016, 7, 21, 17, 50): {'android_current_rating': 3.9, 'android_all_ratings': 1334278, 'ios_current_ratings': 6842, 'ios_all_ratings': 108570}, datetime.datetime(2016, 7, 21, 18, 0): {'android_current_rating': 3.9, 'android_all_ratings': 1334278, 'ios_current_ratings': 6842, 'ios_all_ratings': 108570}, datetime.datetime(2016, 7, 21, 18, 10): {'android_current_rating': 3.9, 'android_all_ratings': 1334278, 'ios_current_ratings': 6842, 'ios_all_ratings': 108570}, datetime.datetime(2016, 7, 21, 18, 20): {'android_current_rating': 3.9, 'android_all_ratings': 1334278, 'ios_current_ratings': 6842, 'ios_all_ratings': 108570}, datetime.datetime(2016, 7, 21, 18, 30): {'android_current_rating': 3.9, 'android_all_ratings': 1334278, 'ios_current_ratings': 6842, 'ios_all_ratings': 108570}, datetime.datetime(2016, 7, 21, 18, 40): {'android_current_rating': 3.9, 'android_all_ratings': 1334278, 'ios_current_ratings': 6842, 'ios_all_ratings': 108570}, datetime.datetime(2016, 7, 21, 18, 50): {'android_current_rating': 3.9, 'android_all_ratings': 1334278, 'ios_current_ratings': 6842, 'ios_all_ratings': 108570}, datetime.datetime(2016, 7, 21, 19, 0): {'android_current_rating': 3.9, 'android_all_ratings': 1334278, 'ios_current_ratings': 6842, 'ios_all_ratings': 108886}, datetime.datetime(2016, 7, 21, 19, 10): {'android_current_rating': 3.9, 'android_all_ratings': 1334278, 'ios_current_ratings': 6842, 'ios_all_ratings': 108886}, datetime.datetime(2016, 7, 21, 19, 20): {'android_current_rating': 3.9, 'android_all_ratings': 1334278, 'ios_current_ratings': 7231, 'ios_all_ratings': 108886}, datetime.datetime(2016, 7, 21, 19, 30): {'android_current_rating': 3.9, 'android_all_ratings': 1334278, 'ios_current_ratings': 7231, 'ios_all_ratings': 108886}, datetime.datetime(2016, 7, 21, 19, 40): {'android_current_rating': 3.9, 'android_all_ratings': 1334278, 'ios_current_ratings': 7231, 'ios_all_ratings': 108886}, datetime.datetime(2016, 7, 21, 19, 50): {'android_current_rating': 3.9, 'android_all_ratings': 1334278, 'ios_current_ratings': 7231, 'ios_all_ratings': 108886}, datetime.datetime(2016, 7, 21, 20, 0): {'android_current_rating': 3.9, 'android_all_ratings': 1344609, 'ios_current_ratings': 7231, 'ios_all_ratings': 108886}, datetime.datetime(2016, 7, 21, 20, 10): {'android_current_rating': 3.9, 'android_all_ratings': 1344609, 'ios_current_ratings': 7231, 'ios_all_ratings': 108886}, datetime.datetime(2016, 7, 21, 20, 20): {'android_current_rating': 3.9, 'android_all_ratings': 1344609, 'ios_current_ratings': 7231, 'ios_all_ratings': 108886}, datetime.datetime(2016, 7, 21, 20, 30): {'android_current_rating': 3.9, 'android_all_ratings': 1344609, 'ios_current_ratings': 7231, 'ios_all_ratings': 108886}, datetime.datetime(2016, 7, 21, 20, 40): {'android_current_rating': 3.9, 'android_all_ratings': 1344609, 'ios_current_ratings': 7231, 'ios_all_ratings': 108886}, datetime.datetime(2016, 7, 21, 20, 50): {'android_current_rating': 3.9, 'android_all_ratings': 1344609, 'ios_current_ratings': 7231, 'ios_all_ratings': 108886}, datetime.datetime(2016, 7, 21, 21, 0): {'android_current_rating': 3.9, 'android_all_ratings': 1344609, 'ios_current_ratings': 7231, 'ios_all_ratings': 108886}, datetime.datetime(2016, 7, 21, 21, 10): {'android_current_rating': 3.9, 'android_all_ratings': 1344609, 'ios_current_ratings': 7231, 'ios_all_ratings': 108886}, datetime.datetime(2016, 7, 21, 21, 20): {'android_current_rating': 3.9, 'android_all_ratings': 1344609, 'ios_current_ratings': 7231, 'ios_all_ratings': 108886}, datetime.datetime(2016, 7, 21, 21, 30): {'android_current_rating': 3.9, 'android_all_ratings': 1344609, 'ios_current_ratings': 7231, 'ios_all_ratings': 108886}, datetime.datetime(2016, 7, 21, 21, 40): {'android_current_rating': 3.9, 'android_all_ratings': 1344609, 'ios_current_ratings': 7231, 'ios_all_ratings': 108886}, datetime.datetime(2016, 7, 21, 21, 50): {'android_current_rating': 3.9, 'android_all_ratings': 1344609, 'ios_current_ratings': 7231, 'ios_all_ratings': 108886}, datetime.datetime(2016, 7, 21, 22, 0): {'android_current_rating': 3.9, 'android_all_ratings': 1344609, 'ios_current_ratings': 7231, 'ios_all_ratings': 108886}, datetime.datetime(2016, 7, 21, 22, 10): {'android_current_rating': 3.9, 'android_all_ratings': 1344609, 'ios_current_ratings': 7231, 'ios_all_ratings': 108886}, datetime.datetime(2016, 7, 21, 22, 20): {'android_current_rating': 3.9, 'android_all_ratings': 1344609, 'ios_current_ratings': 7231, 'ios_all_ratings': 108886}, datetime.datetime(2016, 7, 21, 22, 30): {'android_current_rating': 3.9, 'android_all_ratings': 1344609, 'ios_current_ratings': 7231, 'ios_all_ratings': 108886}, datetime.datetime(2016, 7, 21, 22, 40): {'android_current_rating': 3.9, 'android_all_ratings': 1344609, 'ios_current_ratings': 7231, 'ios_all_ratings': 108886}, datetime.datetime(2016, 7, 21, 22, 50): {'android_current_rating': 3.9, 'android_all_ratings': 1344609, 'ios_current_ratings': 7231, 'ios_all_ratings': 108886}, datetime.datetime(2016, 7, 21, 23, 0): {'android_current_rating': 3.9, 'android_all_ratings': 1344609, 'ios_current_ratings': 7231, 'ios_all_ratings': 108886}, datetime.datetime(2016, 7, 21, 23, 10): {'android_current_rating': 3.9, 'android_all_ratings': 1344609, 'ios_current_ratings': 7231, 'ios_all_ratings': 108886}, datetime.datetime(2016, 7, 21, 23, 20): {'android_current_rating': 3.9, 'android_all_ratings': 1344609, 'ios_current_ratings': 7759, 'ios_all_ratings': 108886}, datetime.datetime(2016, 7, 21, 23, 30): {'android_current_rating': 3.9, 'android_all_ratings': 1344609, 'ios_current_ratings': 7759, 'ios_all_ratings': 108886}, datetime.datetime(2016, 7, 21, 23, 40): {'android_current_rating': 3.9, 'android_all_ratings': 1344609, 'ios_current_ratings': 7759, 'ios_all_ratings': 109369}, datetime.datetime(2016, 7, 21, 23, 50): {'android_current_rating': 3.9, 'android_all_ratings': 1344609, 'ios_current_ratings': 7759, 'ios_all_ratings': 109369}, datetime.datetime(2016, 7, 22, 0, 0): {'android_current_rating': 3.9, 'android_all_ratings': 1357265, 'ios_current_ratings': 7759, 'ios_all_ratings': 109369}, datetime.datetime(2016, 7, 22, 0, 10): {'android_current_rating': 3.9, 'android_all_ratings': 1357265, 'ios_current_ratings': 7759, 'ios_all_ratings': 109369}, datetime.datetime(2016, 7, 22, 0, 20): {'android_current_rating': 3.9, 'android_all_ratings': 1357265, 'ios_current_ratings': 7759, 'ios_all_ratings': 109369}, datetime.datetime(2016, 7, 22, 0, 30): {'android_current_rating': 3.9, 'android_all_ratings': 1357265, 'ios_current_ratings': 7759, 'ios_all_ratings': 109369}, datetime.datetime(2016, 7, 22, 0, 40): {'android_current_rating': 3.9, 'android_all_ratings': 1357265, 'ios_current_ratings': 7759, 'ios_all_ratings': 109369}, datetime.datetime(2016, 7, 22, 0, 50): {'android_current_rating': 3.9, 'android_all_ratings': 1357265, 'ios_current_ratings': 7759, 'ios_all_ratings': 109369}, datetime.datetime(2016, 7, 22, 1, 0): {'android_current_rating': 3.9, 'android_all_ratings': 1357265, 'ios_current_ratings': 7759, 'ios_all_ratings': 109369}, datetime.datetime(2016, 7, 22, 1, 10): {'android_current_rating': 3.9, 'android_all_ratings': 1357265, 'ios_current_ratings': 7759, 'ios_all_ratings': 109369}, datetime.datetime(2016, 7, 22, 1, 20): {'android_current_rating': 3.9, 'android_all_ratings': 1357265, 'ios_current_ratings': 7759, 'ios_all_ratings': 109369}, datetime.datetime(2016, 7, 22, 1, 30): {'android_current_rating': 3.9, 'android_all_ratings': 1357265, 'ios_current_ratings': 7759, 'ios_all_ratings': 109369}, datetime.datetime(2016, 7, 22, 1, 40): {'android_current_rating': 3.9, 'android_all_ratings': 1357265, 'ios_current_ratings': 7759, 'ios_all_ratings': 109369}, datetime.datetime(2016, 7, 22, 1, 50): {'android_current_rating': 3.9, 'android_all_ratings': 1357265, 'ios_current_ratings': 7759, 'ios_all_ratings': 109369}, datetime.datetime(2016, 7, 22, 2, 0): {'android_current_rating': 3.9, 'android_all_ratings': 1357265, 'ios_current_ratings': 7759, 'ios_all_ratings': 109369}, datetime.datetime(2016, 7, 22, 2, 10): {'android_current_rating': 3.9, 'android_all_ratings': 1357265, 'ios_current_ratings': 7759, 'ios_all_ratings': 109369}, datetime.datetime(2016, 7, 22, 2, 20): {'android_current_rating': 3.9, 'android_all_ratings': 1357265, 'ios_current_ratings': 7759, 'ios_all_ratings': 109369}, datetime.datetime(2016, 7, 22, 2, 30): {'android_current_rating': 3.9, 'android_all_ratings': 1357265, 'ios_current_ratings': 7759, 'ios_all_ratings': 109369}, datetime.datetime(2016, 7, 22, 2, 40): {'android_current_rating': 3.9, 'android_all_ratings': 1357265, 'ios_current_ratings': 7759, 'ios_all_ratings': 109369}, datetime.datetime(2016, 7, 22, 2, 50): {'android_current_rating': 3.9, 'android_all_ratings': 1357265, 'ios_current_ratings': 7759, 'ios_all_ratings': 109369}, datetime.datetime(2016, 7, 22, 3, 0): {'android_current_rating': 3.9, 'android_all_ratings': 1357265, 'ios_current_ratings': 7759, 'ios_all_ratings': 109369}, datetime.datetime(2016, 7, 22, 3, 10): {'android_current_rating': 3.9, 'android_all_ratings': 1357265, 'ios_current_ratings': 7759, 'ios_all_ratings': 109369}, datetime.datetime(2016, 7, 22, 3, 20): {'android_current_rating': 3.9, 'android_all_ratings': 1357265, 'ios_current_ratings': 8196, 'ios_all_ratings': 109777}, datetime.datetime(2016, 7, 22, 3, 30): {'android_current_rating': 3.9, 'android_all_ratings': 1357265, 'ios_current_ratings': 8196, 'ios_all_ratings': 109777}, datetime.datetime(2016, 7, 22, 3, 40): {'android_current_rating': 3.9, 'android_all_ratings': 1357265, 'ios_current_ratings': 8196, 'ios_all_ratings': 109777}, datetime.datetime(2016, 7, 22, 3, 50): {'android_current_rating': 3.9, 'android_all_ratings': 1357265, 'ios_current_ratings': 8196, 'ios_all_ratings': 109777}, datetime.datetime(2016, 7, 22, 4, 0): {'android_current_rating': 3.9, 'android_all_ratings': 1357265, 'ios_current_ratings': 8196, 'ios_all_ratings': 109777}, datetime.datetime(2016, 7, 22, 4, 10): {'android_current_rating': 3.9, 'android_all_ratings': 1370721, 'ios_current_ratings': 8196, 'ios_all_ratings': 109777}, datetime.datetime(2016, 7, 22, 4, 20): {'android_current_rating': 3.9, 'android_all_ratings': 1370721, 'ios_current_ratings': 8196, 'ios_all_ratings': 109777}, datetime.datetime(2016, 7, 22, 4, 30): {'android_current_rating': 3.9, 'android_all_ratings': 1370721, 'ios_current_ratings': 8196, 'ios_all_ratings': 109777}, datetime.datetime(2016, 7, 22, 4, 40): {'android_current_rating': 3.9, 'android_all_ratings': 1370721, 'ios_current_ratings': 8196, 'ios_all_ratings': 109777}, datetime.datetime(2016, 7, 22, 4, 50): {'android_current_rating': 3.9, 'android_all_ratings': 1370721, 'ios_current_ratings': 8196, 'ios_all_ratings': 109777}, datetime.datetime(2016, 7, 22, 5, 0): {'android_current_rating': 3.9, 'android_all_ratings': 1370721, 'ios_current_ratings': 8196, 'ios_all_ratings': 109777}, datetime.datetime(2016, 7, 22, 5, 10): {'android_current_rating': 3.9, 'android_all_ratings': 1370721, 'ios_current_ratings': 8196, 'ios_all_ratings': 109777}, datetime.datetime(2016, 7, 22, 5, 20): {'android_current_rating': 3.9, 'android_all_ratings': 1370721, 'ios_current_ratings': 8196, 'ios_all_ratings': 109777}, datetime.datetime(2016, 7, 22, 5, 30): {'android_current_rating': 3.9, 'android_all_ratings': 1370721, 'ios_current_ratings': 8196, 'ios_all_ratings': 109777}, datetime.datetime(2016, 7, 22, 5, 40): {'android_current_rating': 3.9, 'android_all_ratings': 1370721, 'ios_current_ratings': 8196, 'ios_all_ratings': 109777}, datetime.datetime(2016, 7, 22, 5, 50): {'android_current_rating': 3.9, 'android_all_ratings': 1370721, 'ios_current_ratings': 8196, 'ios_all_ratings': 109777}, datetime.datetime(2016, 7, 22, 6, 0): {'android_current_rating': 3.9, 'android_all_ratings': 1370721, 'ios_current_ratings': 8196, 'ios_all_ratings': 109777}, datetime.datetime(2016, 7, 22, 6, 10): {'android_current_rating': 3.9, 'android_all_ratings': 1370721, 'ios_current_ratings': 8196, 'ios_all_ratings': 109777}, datetime.datetime(2016, 7, 22, 6, 20): {'android_current_rating': 3.9, 'android_all_ratings': 1370721, 'ios_current_ratings': 8196, 'ios_all_ratings': 109777}, datetime.datetime(2016, 7, 22, 6, 30): {'android_current_rating': 3.9, 'android_all_ratings': 1370721, 'ios_current_ratings': 8196, 'ios_all_ratings': 109777}, datetime.datetime(2016, 7, 22, 6, 40): {'android_current_rating': 3.9, 'android_all_ratings': 1370721, 'ios_current_ratings': 8196, 'ios_all_ratings': 109777}, datetime.datetime(2016, 7, 22, 6, 50): {'android_current_rating': 3.9, 'android_all_ratings': 1370721, 'ios_current_ratings': 8196, 'ios_all_ratings': 109777}, datetime.datetime(2016, 7, 22, 7, 0): {'android_current_rating': 3.9, 'android_all_ratings': 1370721, 'ios_current_ratings': 8196, 'ios_all_ratings': 109777}, datetime.datetime(2016, 7, 22, 7, 10): {'android_current_rating': 3.9, 'android_all_ratings': 1370721, 'ios_current_ratings': 8196, 'ios_all_ratings': 109777}, datetime.datetime(2016, 7, 22, 7, 20): {'android_current_rating': 3.9, 'android_all_ratings': 1370721, 'ios_current_ratings': 8196, 'ios_all_ratings': 109991}, datetime.datetime(2016, 7, 22, 7, 30): {'android_current_rating': 3.9, 'android_all_ratings': 1370721, 'ios_current_ratings': 8435, 'ios_all_ratings': 109777}, datetime.datetime(2016, 7, 22, 7, 40): {'android_current_rating': 3.9, 'android_all_ratings': 1370721, 'ios_current_ratings': 8435, 'ios_all_ratings': 109991}, datetime.datetime(2016, 7, 22, 7, 50): {'android_current_rating': 3.9, 'android_all_ratings': 1370721, 'ios_current_ratings': 8435, 'ios_all_ratings': 109991}, datetime.datetime(2016, 7, 22, 8, 0): {'android_current_rating': 3.9, 'android_all_ratings': 1370721, 'ios_current_ratings': 8435, 'ios_all_ratings': 109991}, datetime.datetime(2016, 7, 22, 8, 10): {'android_current_rating': 3.9, 'android_all_ratings': 1389049, 'ios_current_ratings': 8435, 'ios_all_ratings': 109991}, datetime.datetime(2016, 7, 22, 8, 20): {'android_current_rating': 3.9, 'android_all_ratings': 1389049, 'ios_current_ratings': 8435, 'ios_all_ratings': 109991}, datetime.datetime(2016, 7, 22, 8, 30): {'android_current_rating': 3.9, 'android_all_ratings': 1389049, 'ios_current_ratings': 8435, 'ios_all_ratings': 109991}, datetime.datetime(2016, 7, 22, 8, 40): {'android_current_rating': 3.9, 'android_all_ratings': 1389049, 'ios_current_ratings': 8435, 'ios_all_ratings': 109991}, datetime.datetime(2016, 7, 22, 8, 50): {'android_current_rating': 3.9, 'android_all_ratings': 1389049, 'ios_current_ratings': 8435, 'ios_all_ratings': 109991}, datetime.datetime(2016, 7, 22, 9, 0): {'android_current_rating': 3.9, 'android_all_ratings': 1389049, 'ios_current_ratings': 8435, 'ios_all_ratings': 109991}, datetime.datetime(2016, 7, 22, 9, 10): {'android_current_rating': 3.9, 'android_all_ratings': 1389049, 'ios_current_ratings': 8435, 'ios_all_ratings': 109991}, datetime.datetime(2016, 7, 22, 9, 20): {'android_current_rating': 3.9, 'android_all_ratings': 1389049, 'ios_current_ratings': 8435, 'ios_all_ratings': 109991}, datetime.datetime(2016, 7, 22, 9, 30): {'android_current_rating': 3.9, 'android_all_ratings': 1389049, 'ios_current_ratings': 8435, 'ios_all_ratings': 109991}, datetime.datetime(2016, 7, 22, 9, 40): {'android_current_rating': 3.9, 'android_all_ratings': 1389049, 'ios_current_ratings': 8435, 'ios_all_ratings': 109991}, datetime.datetime(2016, 7, 22, 9, 50): {'android_current_rating': 3.9, 'android_all_ratings': 1389049, 'ios_current_ratings': 8435, 'ios_all_ratings': 109991}, datetime.datetime(2016, 7, 22, 10, 0): {'android_current_rating': 3.9, 'android_all_ratings': 1389049, 'ios_current_ratings': 8435, 'ios_all_ratings': 109991}, datetime.datetime(2016, 7, 22, 10, 10): {'android_current_rating': 3.9, 'android_all_ratings': 1389049, 'ios_current_ratings': 8435, 'ios_all_ratings': 109991}, datetime.datetime(2016, 7, 22, 10, 20): {'android_current_rating': 3.9, 'android_all_ratings': 1389049, 'ios_current_ratings': 8435, 'ios_all_ratings': 109991}, datetime.datetime(2016, 7, 22, 10, 30): {'android_current_rating': 3.9, 'android_all_ratings': 1389049, 'ios_current_ratings': 8435, 'ios_all_ratings': 109991}, datetime.datetime(2016, 7, 22, 10, 40): {'android_current_rating': 3.9, 'android_all_ratings': 1389049, 'ios_current_ratings': 8435, 'ios_all_ratings': 109991}, datetime.datetime(2016, 7, 22, 10, 50): {'android_current_rating': 3.9, 'android_all_ratings': 1389049, 'ios_current_ratings': 8435, 'ios_all_ratings': 109991}, datetime.datetime(2016, 7, 22, 11, 0): {'android_current_rating': 3.9, 'android_all_ratings': 1389049, 'ios_current_ratings': 8435, 'ios_all_ratings': 109991}, datetime.datetime(2016, 7, 22, 11, 10): {'android_current_rating': 3.9, 'android_all_ratings': 1389049, 'ios_current_ratings': 8713, 'ios_all_ratings': 110258}, datetime.datetime(2016, 7, 22, 11, 20): {'android_current_rating': 3.9, 'android_all_ratings': 1389049, 'ios_current_ratings': 8713, 'ios_all_ratings': 110258}, datetime.datetime(2016, 7, 22, 11, 30): {'android_current_rating': 3.9, 'android_all_ratings': 1389049, 'ios_current_ratings': 8713, 'ios_all_ratings': 110258}, datetime.datetime(2016, 7, 22, 11, 40): {'android_current_rating': 3.9, 'android_all_ratings': 1389049, 'ios_current_ratings': 8713, 'ios_all_ratings': 110258}, datetime.datetime(2016, 7, 22, 11, 50): {'android_current_rating': 3.9, 'android_all_ratings': 1389049, 'ios_current_ratings': 8713, 'ios_all_ratings': 110258}, datetime.datetime(2016, 7, 22, 12, 0): {'android_current_rating': 3.9, 'android_all_ratings': 1389049, 'ios_current_ratings': 8713, 'ios_all_ratings': 110258}, datetime.datetime(2016, 7, 22, 12, 10): {'android_current_rating': 3.9, 'android_all_ratings': 1402647, 'ios_current_ratings': 8713, 'ios_all_ratings': 110258}, datetime.datetime(2016, 7, 22, 12, 20): {'android_current_rating': 3.9, 'android_all_ratings': 1402647, 'ios_current_ratings': 8713, 'ios_all_ratings': 110258}, datetime.datetime(2016, 7, 22, 12, 30): {'android_current_rating': 3.9, 'android_all_ratings': 1402647, 'ios_current_ratings': 8713, 'ios_all_ratings': 110258}, datetime.datetime(2016, 7, 22, 12, 40): {'android_current_rating': 3.9, 'android_all_ratings': 1402647, 'ios_current_ratings': 8713, 'ios_all_ratings': 110258}, datetime.datetime(2016, 7, 22, 12, 50): {'android_current_rating': 3.9, 'android_all_ratings': 1402647, 'ios_current_ratings': 8713, 'ios_all_ratings': 110258}, datetime.datetime(2016, 7, 22, 13, 0): {'android_current_rating': 3.9, 'android_all_ratings': 1402647, 'ios_current_ratings': 8713, 'ios_all_ratings': 110258}, datetime.datetime(2016, 7, 22, 13, 10): {'android_current_rating': 3.9, 'android_all_ratings': 1402647, 'ios_current_ratings': 8713, 'ios_all_ratings': 110258}, datetime.datetime(2016, 7, 22, 13, 20): {'android_current_rating': 3.9, 'android_all_ratings': 1402647, 'ios_current_ratings': 8713, 'ios_all_ratings': 110258}, datetime.datetime(2016, 7, 22, 13, 30): {'android_current_rating': 3.9, 'android_all_ratings': 1402647, 'ios_current_ratings': 8713, 'ios_all_ratings': 110258}, datetime.datetime(2016, 7, 22, 13, 40): {'android_current_rating': 3.9, 'android_all_ratings': 1402647, 'ios_current_ratings': 8713, 'ios_all_ratings': 110258}, datetime.datetime(2016, 7, 22, 13, 50): {'android_current_rating': 3.9, 'android_all_ratings': 1402647, 'ios_current_ratings': 8713, 'ios_all_ratings': 110258}, datetime.datetime(2016, 7, 22, 14, 0): {'android_current_rating': 3.9, 'android_all_ratings': 1402647, 'ios_current_ratings': 8713, 'ios_all_ratings': 110258}, datetime.datetime(2016, 7, 22, 14, 10): {'android_current_rating': 3.9, 'android_all_ratings': 1402647, 'ios_current_ratings': 8713, 'ios_all_ratings': 110258}, datetime.datetime(2016, 7, 22, 14, 20): {'android_current_rating': 3.9, 'android_all_ratings': 1402647, 'ios_current_ratings': 8713, 'ios_all_ratings': 110258}, datetime.datetime(2016, 7, 22, 14, 30): {'android_current_rating': 3.9, 'android_all_ratings': 1402647, 'ios_current_ratings': 8713, 'ios_all_ratings': 110258}, datetime.datetime(2016, 7, 22, 14, 40): {'android_current_rating': 3.9, 'android_all_ratings': 1402647, 'ios_current_ratings': 8713, 'ios_all_ratings': 110258}, datetime.datetime(2016, 7, 22, 14, 50): {'android_current_rating': 3.9, 'android_all_ratings': 1402647, 'ios_current_ratings': 8713, 'ios_all_ratings': 110258}, datetime.datetime(2016, 7, 22, 15, 0): {'android_current_rating': 3.9, 'android_all_ratings': 1402647, 'ios_current_ratings': 8713, 'ios_all_ratings': 110625}, datetime.datetime(2016, 7, 22, 15, 10): {'android_current_rating': 3.9, 'android_all_ratings': 1402647, 'ios_current_ratings': 9116, 'ios_all_ratings': 110625}, datetime.datetime(2016, 7, 22, 15, 20): {'android_current_rating': 3.9, 'android_all_ratings': 1402647, 'ios_current_ratings': 9116, 'ios_all_ratings': 110625}, datetime.datetime(2016, 7, 22, 15, 30): {'android_current_rating': 3.9, 'android_all_ratings': 1402647, 'ios_current_ratings': 9116, 'ios_all_ratings': 110625}, datetime.datetime(2016, 7, 22, 15, 40): {'android_current_rating': 3.9, 'android_all_ratings': 1402647, 'ios_current_ratings': 9116, 'ios_all_ratings': 110625}, datetime.datetime(2016, 7, 22, 15, 50): {'android_current_rating': 3.9, 'android_all_ratings': 1402647, 'ios_current_ratings': 9116, 'ios_all_ratings': 110625}, datetime.datetime(2016, 7, 22, 16, 0): {'android_current_rating': 3.9, 'android_all_ratings': 1402647, 'ios_current_ratings': 9116, 'ios_all_ratings': 110625}, datetime.datetime(2016, 7, 22, 16, 10): {'android_current_rating': 3.9, 'android_all_ratings': 1414942, 'ios_current_ratings': 9116, 'ios_all_ratings': 110625}, datetime.datetime(2016, 7, 22, 16, 20): {'android_current_rating': 3.9, 'android_all_ratings': 1414942, 'ios_current_ratings': 9116, 'ios_all_ratings': 110625}, datetime.datetime(2016, 7, 22, 16, 30): {'android_current_rating': 3.9, 'android_all_ratings': 1414942, 'ios_current_ratings': 9116, 'ios_all_ratings': 110625}, datetime.datetime(2016, 7, 22, 16, 40): {'android_current_rating': 3.9, 'android_all_ratings': 1414942, 'ios_current_ratings': 9116, 'ios_all_ratings': 110625}, datetime.datetime(2016, 7, 22, 16, 50): {'android_current_rating': 3.9, 'android_all_ratings': 1414942, 'ios_current_ratings': 9116, 'ios_all_ratings': 110625}, datetime.datetime(2016, 7, 22, 17, 0): {'android_current_rating': 3.9, 'android_all_ratings': 1414942, 'ios_current_ratings': 9116, 'ios_all_ratings': 110625}, datetime.datetime(2016, 7, 22, 17, 10): {'android_current_rating': 3.9, 'android_all_ratings': 1414942, 'ios_current_ratings': 9116, 'ios_all_ratings': 110625}, datetime.datetime(2016, 7, 22, 17, 20): {'android_current_rating': 3.9, 'android_all_ratings': 1414942, 'ios_current_ratings': 9116, 'ios_all_ratings': 110625}, datetime.datetime(2016, 7, 22, 17, 30): {'android_current_rating': 3.9, 'android_all_ratings': 1414942, 'ios_current_ratings': 9116, 'ios_all_ratings': 110625}, datetime.datetime(2016, 7, 22, 17, 40): {'android_current_rating': 3.9, 'android_all_ratings': 1414942, 'ios_current_ratings': 9116, 'ios_all_ratings': 110625}, datetime.datetime(2016, 7, 22, 17, 50): {'android_current_rating': 3.9, 'android_all_ratings': 1414942, 'ios_current_ratings': 9116, 'ios_all_ratings': 110625}, datetime.datetime(2016, 7, 22, 18, 0): {'android_current_rating': 3.9, 'android_all_ratings': 1414942, 'ios_current_ratings': 9116, 'ios_all_ratings': 110625}, datetime.datetime(2016, 7, 22, 18, 10): {'android_current_rating': 3.9, 'android_all_ratings': 1414942, 'ios_current_ratings': 9116, 'ios_all_ratings': 110625}, datetime.datetime(2016, 7, 22, 18, 20): {'android_current_rating': 3.9, 'android_all_ratings': 1414942, 'ios_current_ratings': 9116, 'ios_all_ratings': 110625}, datetime.datetime(2016, 7, 22, 18, 30): {'android_current_rating': 3.9, 'android_all_ratings': 1414942, 'ios_current_ratings': 9116, 'ios_all_ratings': 110625}, datetime.datetime(2016, 7, 22, 18, 40): {'android_current_rating': 3.9, 'android_all_ratings': 1414942, 'ios_current_ratings': 9116, 'ios_all_ratings': 110625}, datetime.datetime(2016, 7, 22, 18, 50): {'android_current_rating': 3.9, 'android_all_ratings': 1414942, 'ios_current_ratings': 9116, 'ios_all_ratings': 110625}, datetime.datetime(2016, 7, 22, 19, 0): {'android_current_rating': 3.9, 'android_all_ratings': 1414942, 'ios_current_ratings': 9116, 'ios_all_ratings': 110625}, datetime.datetime(2016, 7, 22, 19, 10): {'android_current_rating': 3.9, 'android_all_ratings': 1414942, 'ios_current_ratings': 9116, 'ios_all_ratings': 110625}, datetime.datetime(2016, 7, 22, 19, 20): {'android_current_rating': 3.9, 'android_all_ratings': 1414942, 'ios_current_ratings': 9686, 'ios_all_ratings': 111140}, datetime.datetime(2016, 7, 22, 19, 30): {'android_current_rating': 3.9, 'android_all_ratings': 1414942, 'ios_current_ratings': 9686, 'ios_all_ratings': 111140}, datetime.datetime(2016, 7, 22, 19, 40): {'android_current_rating': 3.9, 'android_all_ratings': 1414942, 'ios_current_ratings': 9686, 'ios_all_ratings': 111140}, datetime.datetime(2016, 7, 22, 19, 50): {'android_current_rating': 3.9, 'android_all_ratings': 1414942, 'ios_current_ratings': 9686, 'ios_all_ratings': 111140}, datetime.datetime(2016, 7, 22, 20, 0): {'android_current_rating': 3.9, 'android_all_ratings': 1414942, 'ios_current_ratings': 9686, 'ios_all_ratings': 111140}, datetime.datetime(2016, 7, 22, 20, 10): {'android_current_rating': 3.9, 'android_all_ratings': 1424989, 'ios_current_ratings': 9686, 'ios_all_ratings': 111140}, datetime.datetime(2016, 7, 22, 20, 20): {'android_current_rating': 3.9, 'android_all_ratings': 1424989, 'ios_current_ratings': 9686, 'ios_all_ratings': 111140}, datetime.datetime(2016, 7, 22, 20, 30): {'android_current_rating': 3.9, 'android_all_ratings': 1424989, 'ios_current_ratings': 9686, 'ios_all_ratings': 111140}, datetime.datetime(2016, 7, 22, 20, 40): {'android_current_rating': 3.9, 'android_all_ratings': 1424989, 'ios_current_ratings': 9686, 'ios_all_ratings': 111140}, datetime.datetime(2016, 7, 22, 20, 50): {'android_current_rating': 3.9, 'android_all_ratings': 1424989, 'ios_current_ratings': 9686, 'ios_all_ratings': 111140}, datetime.datetime(2016, 7, 22, 21, 0): {'android_current_rating': 3.9, 'android_all_ratings': 1424989, 'ios_current_ratings': 9686, 'ios_all_ratings': 111140}, datetime.datetime(2016, 7, 22, 21, 10): {'android_current_rating': 3.9, 'android_all_ratings': 1424989, 'ios_current_ratings': 9686, 'ios_all_ratings': 111140}, datetime.datetime(2016, 7, 22, 21, 20): {'android_current_rating': 3.9, 'android_all_ratings': 1424989, 'ios_current_ratings': 9686, 'ios_all_ratings': 111140}, datetime.datetime(2016, 7, 22, 21, 30): {'android_current_rating': 3.9, 'android_all_ratings': 1424989, 'ios_current_ratings': 9686, 'ios_all_ratings': 111140}, datetime.datetime(2016, 7, 22, 21, 40): {'android_current_rating': 3.9, 'android_all_ratings': 1424989, 'ios_current_ratings': 9686, 'ios_all_ratings': 111140}, datetime.datetime(2016, 7, 22, 21, 50): {'android_current_rating': 3.9, 'android_all_ratings': 1424989, 'ios_current_ratings': 9686, 'ios_all_ratings': 111140}, datetime.datetime(2016, 7, 22, 22, 0): {'android_current_rating': 3.9, 'android_all_ratings': 1424989, 'ios_current_ratings': 9686, 'ios_all_ratings': 111140}, datetime.datetime(2016, 7, 22, 22, 10): {'android_current_rating': 3.9, 'android_all_ratings': 1424989, 'ios_current_ratings': 9686, 'ios_all_ratings': 111140}, datetime.datetime(2016, 7, 22, 22, 20): {'android_current_rating': 3.9, 'android_all_ratings': 1424989, 'ios_current_ratings': 9686, 'ios_all_ratings': 111140}, datetime.datetime(2016, 7, 22, 22, 30): {'android_current_rating': 3.9, 'android_all_ratings': 1424989, 'ios_current_ratings': 9686, 'ios_all_ratings': 111140}, datetime.datetime(2016, 7, 22, 22, 40): {'android_current_rating': 3.9, 'android_all_ratings': 1424989, 'ios_current_ratings': 9686, 'ios_all_ratings': 111140}, datetime.datetime(2016, 7, 22, 22, 50): {'android_current_rating': 3.9, 'android_all_ratings': 1424989, 'ios_current_ratings': 9686, 'ios_all_ratings': 111140}, datetime.datetime(2016, 7, 22, 23, 0): {'android_current_rating': 3.9, 'android_all_ratings': 1424989, 'ios_current_ratings': 9686, 'ios_all_ratings': 111140}, datetime.datetime(2016, 7, 22, 23, 10): {'android_current_rating': 3.9, 'android_all_ratings': 1424989, 'ios_current_ratings': 9686, 'ios_all_ratings': 111547}, datetime.datetime(2016, 7, 22, 23, 20): {'android_current_rating': 3.9, 'android_all_ratings': 1424989, 'ios_current_ratings': 10132, 'ios_all_ratings': 111140}, datetime.datetime(2016, 7, 22, 23, 30): {'android_current_rating': 3.9, 'android_all_ratings': 1424989, 'ios_current_ratings': 10132, 'ios_all_ratings': 111547}, datetime.datetime(2016, 7, 22, 23, 40): {'android_current_rating': 3.9, 'android_all_ratings': 1424989, 'ios_current_ratings': 10132, 'ios_all_ratings': 111547}, datetime.datetime(2016, 7, 22, 23, 50): {'android_current_rating': 3.9, 'android_all_ratings': 1424989, 'ios_current_ratings': 10132, 'ios_all_ratings': 111547}}\n"
     ]
    },
    {
     "data": {
      "text/plain": [
       "{'android_current_rating': 3.9,\n",
       " 'android_all_ratings': 1281802,\n",
       " 'ios_current_ratings': 4688,\n",
       " 'ios_all_ratings': 106508}"
      ]
     },
     "execution_count": 6,
     "metadata": {},
     "output_type": "execute_result"
    }
   ],
   "source": [
    "from datetime import datetime\n",
    "import os\n",
    "from bs4 import BeautifulSoup\n",
    "import pandas as pd\n",
    "\n",
    "data_folder = [\"Data/2016-07-21\", \"Data/2016-07-22\"]\n",
    "data_dict = {}\n",
    "\n",
    "# iOS HTML file\n",
    "def parse_ios_html(file_path):\n",
    "    with open(file_path, \"r\", encoding=\"utf-8\") as file:\n",
    "        soup = BeautifulSoup(file, \"html.parser\")\n",
    "        \n",
    "        # ios_current_ratings\n",
    "        current_version_div = soup.find(\"div\", text=\"Current Version:\")\n",
    "        current_ratings_div = current_version_div.find_next(\"span\", class_=\"rating-count\") if current_version_div else None\n",
    "        ios_current_value = int(current_ratings_div.text.split()[0].replace(\",\", \"\")) if current_ratings_div else None\n",
    "        \n",
    "        # ios_all_ratings\n",
    "        all_versions_div = soup.find(\"div\", text=\"All Versions:\")\n",
    "        all_ratings_div = all_versions_div.find_next(\"span\", class_=\"rating-count\") if all_versions_div else None\n",
    "        ios_all_value = int(all_ratings_div.text.split()[0].replace(\",\", \"\")) if all_ratings_div else None\n",
    "        \n",
    "        return {\"ios_current_ratings\": ios_current_value, \"ios_all_ratings\": ios_all_value}\n",
    "\n",
    "# Android HTML file\n",
    "def parse_android_html(file_path):\n",
    "    with open(file_path, \"r\", encoding=\"utf-8\") as file:\n",
    "        soup = BeautifulSoup(file, \"html.parser\")\n",
    "        \n",
    "        # android_avg_rating\n",
    "        avg_rating_div = soup.find(\"div\", class_=\"score\")\n",
    "        android_avg_value = float(avg_rating_div.text.strip()) if avg_rating_div else None\n",
    "        \n",
    "        # android_total_ratings\n",
    "        total_ratings_div = soup.find(\"span\", class_=\"reviews-num\")\n",
    "        android_total_value = int(total_ratings_div.text.replace(\",\", \"\").strip()) if total_ratings_div else None\n",
    "        \n",
    "        return {\"android_current_rating\": android_avg_value, \"android_all_ratings\": android_total_value}\n",
    "\n",
    "# Main loop to process files\n",
    "for folder in data_folder:\n",
    "    folder_date = os.path.basename(folder)\n",
    "    for file_name in os.listdir(folder):\n",
    "        if file_name.endswith(\"_ios.html\") or file_name.endswith(\"_android.html\"):\n",
    "            time_str = file_name.split(\"_\")[0:2]\n",
    "            time_str = \"-\".join(time_str)\n",
    "            \n",
    "            date_time_str = f\"{folder_date}-{time_str}\"\n",
    "            try:\n",
    "                dt_obj = datetime.strptime(date_time_str, \"%Y-%m-%d-%H-%M\")\n",
    "            except ValueError as e:\n",
    "                print(f\"Error parsing datetime from filename {file_name}: {e}\")\n",
    "                continue\n",
    "            \n",
    "            file_path = os.path.join(folder, file_name)\n",
    "            \n",
    "            if file_name.endswith(\"_ios.html\"):\n",
    "                if dt_obj not in data_dict:\n",
    "                    data_dict[dt_obj] = {}\n",
    "                data_dict[dt_obj].update(parse_ios_html(file_path))\n",
    "            elif file_name.endswith(\"_android.html\"):\n",
    "                if dt_obj not in data_dict:\n",
    "                    data_dict[dt_obj] = {}\n",
    "                data_dict[dt_obj].update(parse_android_html(file_path))\n",
    "\n",
    "\n",
    "print(data_dict)\n",
    "data_dict[datetime(2016, 7, 21, 0, 0, 0)]"
   ]
  },
  {
   "cell_type": "code",
   "execution_count": 7,
   "metadata": {},
   "outputs": [
    {
     "data": {
      "text/plain": [
       "'\\nQ4. Convert the dictionary into a Pandas dataframe, pokemon_db, \\n    where the index is datetime and columns are names of the extracted iOS/Android values. \\n\\n'"
      ]
     },
     "execution_count": 7,
     "metadata": {},
     "output_type": "execute_result"
    }
   ],
   "source": [
    "'''\n",
    "Q4. Convert the dictionary into a Pandas dataframe, pokemon_db, \n",
    "    where the index is datetime and columns are names of the extracted iOS/Android values. \n",
    "\n",
    "'''"
   ]
  },
  {
   "cell_type": "code",
   "execution_count": 8,
   "metadata": {},
   "outputs": [
    {
     "data": {
      "text/html": [
       "<div>\n",
       "<style scoped>\n",
       "    .dataframe tbody tr th:only-of-type {\n",
       "        vertical-align: middle;\n",
       "    }\n",
       "\n",
       "    .dataframe tbody tr th {\n",
       "        vertical-align: top;\n",
       "    }\n",
       "\n",
       "    .dataframe thead th {\n",
       "        text-align: right;\n",
       "    }\n",
       "</style>\n",
       "<table border=\"1\" class=\"dataframe\">\n",
       "  <thead>\n",
       "    <tr style=\"text-align: right;\">\n",
       "      <th></th>\n",
       "      <th>android_current_rating</th>\n",
       "      <th>android_all_ratings</th>\n",
       "      <th>ios_current_ratings</th>\n",
       "      <th>ios_all_ratings</th>\n",
       "    </tr>\n",
       "    <tr>\n",
       "      <th>datetime</th>\n",
       "      <th></th>\n",
       "      <th></th>\n",
       "      <th></th>\n",
       "      <th></th>\n",
       "    </tr>\n",
       "  </thead>\n",
       "  <tbody>\n",
       "    <tr>\n",
       "      <th>2016-07-21 00:00:00</th>\n",
       "      <td>3.9</td>\n",
       "      <td>1281802</td>\n",
       "      <td>4688</td>\n",
       "      <td>106508</td>\n",
       "    </tr>\n",
       "    <tr>\n",
       "      <th>2016-07-21 00:10:00</th>\n",
       "      <td>3.9</td>\n",
       "      <td>1281802</td>\n",
       "      <td>4688</td>\n",
       "      <td>106508</td>\n",
       "    </tr>\n",
       "    <tr>\n",
       "      <th>2016-07-21 00:20:00</th>\n",
       "      <td>3.9</td>\n",
       "      <td>1281802</td>\n",
       "      <td>4688</td>\n",
       "      <td>106508</td>\n",
       "    </tr>\n",
       "    <tr>\n",
       "      <th>2016-07-21 00:30:00</th>\n",
       "      <td>3.9</td>\n",
       "      <td>1281802</td>\n",
       "      <td>4688</td>\n",
       "      <td>106508</td>\n",
       "    </tr>\n",
       "    <tr>\n",
       "      <th>2016-07-21 00:40:00</th>\n",
       "      <td>3.9</td>\n",
       "      <td>1281802</td>\n",
       "      <td>4688</td>\n",
       "      <td>106508</td>\n",
       "    </tr>\n",
       "    <tr>\n",
       "      <th>...</th>\n",
       "      <td>...</td>\n",
       "      <td>...</td>\n",
       "      <td>...</td>\n",
       "      <td>...</td>\n",
       "    </tr>\n",
       "    <tr>\n",
       "      <th>2016-07-22 23:10:00</th>\n",
       "      <td>3.9</td>\n",
       "      <td>1424989</td>\n",
       "      <td>9686</td>\n",
       "      <td>111547</td>\n",
       "    </tr>\n",
       "    <tr>\n",
       "      <th>2016-07-22 23:20:00</th>\n",
       "      <td>3.9</td>\n",
       "      <td>1424989</td>\n",
       "      <td>10132</td>\n",
       "      <td>111140</td>\n",
       "    </tr>\n",
       "    <tr>\n",
       "      <th>2016-07-22 23:30:00</th>\n",
       "      <td>3.9</td>\n",
       "      <td>1424989</td>\n",
       "      <td>10132</td>\n",
       "      <td>111547</td>\n",
       "    </tr>\n",
       "    <tr>\n",
       "      <th>2016-07-22 23:40:00</th>\n",
       "      <td>3.9</td>\n",
       "      <td>1424989</td>\n",
       "      <td>10132</td>\n",
       "      <td>111547</td>\n",
       "    </tr>\n",
       "    <tr>\n",
       "      <th>2016-07-22 23:50:00</th>\n",
       "      <td>3.9</td>\n",
       "      <td>1424989</td>\n",
       "      <td>10132</td>\n",
       "      <td>111547</td>\n",
       "    </tr>\n",
       "  </tbody>\n",
       "</table>\n",
       "<p>288 rows × 4 columns</p>\n",
       "</div>"
      ],
      "text/plain": [
       "                     android_current_rating  android_all_ratings  \\\n",
       "datetime                                                           \n",
       "2016-07-21 00:00:00                     3.9              1281802   \n",
       "2016-07-21 00:10:00                     3.9              1281802   \n",
       "2016-07-21 00:20:00                     3.9              1281802   \n",
       "2016-07-21 00:30:00                     3.9              1281802   \n",
       "2016-07-21 00:40:00                     3.9              1281802   \n",
       "...                                     ...                  ...   \n",
       "2016-07-22 23:10:00                     3.9              1424989   \n",
       "2016-07-22 23:20:00                     3.9              1424989   \n",
       "2016-07-22 23:30:00                     3.9              1424989   \n",
       "2016-07-22 23:40:00                     3.9              1424989   \n",
       "2016-07-22 23:50:00                     3.9              1424989   \n",
       "\n",
       "                     ios_current_ratings  ios_all_ratings  \n",
       "datetime                                                   \n",
       "2016-07-21 00:00:00                 4688           106508  \n",
       "2016-07-21 00:10:00                 4688           106508  \n",
       "2016-07-21 00:20:00                 4688           106508  \n",
       "2016-07-21 00:30:00                 4688           106508  \n",
       "2016-07-21 00:40:00                 4688           106508  \n",
       "...                                  ...              ...  \n",
       "2016-07-22 23:10:00                 9686           111547  \n",
       "2016-07-22 23:20:00                10132           111140  \n",
       "2016-07-22 23:30:00                10132           111547  \n",
       "2016-07-22 23:40:00                10132           111547  \n",
       "2016-07-22 23:50:00                10132           111547  \n",
       "\n",
       "[288 rows x 4 columns]"
      ]
     },
     "execution_count": 8,
     "metadata": {},
     "output_type": "execute_result"
    }
   ],
   "source": [
    "\n",
    "data_df = pd.DataFrame.from_dict(data_dict, orient=\"index\")\n",
    "data_df.reset_index(inplace=True)\n",
    "data_df.rename(columns={\"index\": \"datetime\"}, inplace=True)\n",
    "data_df.set_index(\"datetime\", inplace=True)\n",
    "data_df"
   ]
  },
  {
   "cell_type": "code",
   "execution_count": 9,
   "metadata": {},
   "outputs": [
    {
     "data": {
      "text/plain": [
       "'\\nQ5. Save the dataframe into two formats (CSV and Excel). The file names should be HW9.csv and HW9.xlsx.\\n\\n'"
      ]
     },
     "execution_count": 9,
     "metadata": {},
     "output_type": "execute_result"
    }
   ],
   "source": [
    "'''\n",
    "Q5. Save the dataframe into two formats (CSV and Excel). The file names should be HW9.csv and HW9.xlsx.\n",
    "\n",
    "'''"
   ]
  },
  {
   "cell_type": "code",
   "execution_count": 10,
   "metadata": {},
   "outputs": [],
   "source": [
    "# CSV\n",
    "data_df.to_csv(\"HW9.csv\", index=True) \n",
    "# Excel\n",
    "data_df.to_excel(\"HW9.xlsx\", index=True)\n"
   ]
  },
  {
   "cell_type": "code",
   "execution_count": null,
   "metadata": {},
   "outputs": [],
   "source": []
  }
 ],
 "metadata": {
  "kernelspec": {
   "display_name": "base",
   "language": "python",
   "name": "python3"
  },
  "language_info": {
   "codemirror_mode": {
    "name": "ipython",
    "version": 3
   },
   "file_extension": ".py",
   "mimetype": "text/x-python",
   "name": "python",
   "nbconvert_exporter": "python",
   "pygments_lexer": "ipython3",
   "version": "3.12.4"
  }
 },
 "nbformat": 4,
 "nbformat_minor": 2
}
