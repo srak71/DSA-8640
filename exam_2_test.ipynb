{
 "cells": [
  {
   "cell_type": "code",
   "execution_count": 2,
   "metadata": {},
   "outputs": [
    {
     "ename": "SyntaxError",
     "evalue": "unterminated string literal (detected at line 23) (3482151297.py, line 23)",
     "output_type": "error",
     "traceback": [
      "\u001b[1;36m  Cell \u001b[1;32mIn[2], line 23\u001b[1;36m\u001b[0m\n\u001b[1;33m    hellokitty.setLanguage('meow)\u001b[0m\n\u001b[1;37m                           ^\u001b[0m\n\u001b[1;31mSyntaxError\u001b[0m\u001b[1;31m:\u001b[0m unterminated string literal (detected at line 23)\n"
     ]
    }
   ],
   "source": [
    "# Question 17\n",
    "\n",
    "class Animal:\n",
    "    \n",
    "    def __init__(self, species = 'animal', language = 'speak'):\n",
    "        self.spec = species\n",
    "        self.lang = language\n",
    "        \n",
    "    def setSpecies(self, species):\n",
    "        self.spec = species\n",
    "        \n",
    "    def setLanguage(self, language):\n",
    "        self.lang = language\n",
    "        \n",
    "    def speak(self):\n",
    "        print('I am a {} and I {}'.format(self.spec, self.lang))\n",
    "        \n",
    "\n",
    "snoopy = Animal('cat', 'bark')\n",
    "snoopy.setSpecies('dog')\n",
    "hellokitty = Animal()\n",
    "hellokitty.setSpecies('cat')\n",
    "hellokitty.setLanguage('meow)\n",
    "snoopy.speak()"
   ]
  },
  {
   "cell_type": "code",
   "execution_count": 1,
   "metadata": {},
   "outputs": [
    {
     "data": {
      "text/latex": [
       "$\\displaystyle \\frac{41}{372}$"
      ],
      "text/plain": [
       "41/372"
      ]
     },
     "execution_count": 1,
     "metadata": {},
     "output_type": "execute_result"
    }
   ],
   "source": [
    "from sympy import Rational\n",
    "\n",
    "# Number of patients with vitamin D deficiency\n",
    "successes = 41\n",
    "# Total number of patients in the study\n",
    "total_patients = 372\n",
    "\n",
    "# Calculate the sample proportion\n",
    "B = Rational(successes, total_patients)\n",
    "B"
   ]
  },
  {
   "cell_type": "code",
   "execution_count": 2,
   "metadata": {},
   "outputs": [
    {
     "data": {
      "text/plain": [
       "0.11021505376344086"
      ]
     },
     "execution_count": 2,
     "metadata": {},
     "output_type": "execute_result"
    }
   ],
   "source": [
    "41/372"
   ]
  },
  {
   "cell_type": "code",
   "execution_count": null,
   "metadata": {},
   "outputs": [],
   "source": []
  }
 ],
 "metadata": {
  "kernelspec": {
   "display_name": "base",
   "language": "python",
   "name": "python3"
  },
  "language_info": {
   "codemirror_mode": {
    "name": "ipython",
    "version": 3
   },
   "file_extension": ".py",
   "mimetype": "text/x-python",
   "name": "python",
   "nbconvert_exporter": "python",
   "pygments_lexer": "ipython3",
   "version": "3.12.4"
  }
 },
 "nbformat": 4,
 "nbformat_minor": 2
}
