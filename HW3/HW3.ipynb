{
 "cells": [
  {
   "cell_type": "markdown",
   "metadata": {},
   "source": [
    "# (1) Counter Loop Pattern"
   ]
  },
  {
   "cell_type": "code",
   "execution_count": 1,
   "metadata": {},
   "outputs": [
    {
     "data": {
      "text/plain": [
       "'\\nQ1. Write a function checkSorted() that:\\n\\n(1) takes a list of comparable items as input\\n(2) returns True if the sequence is decreasing, False otherwise \\n\\n\\n>>> checkSorted([10, 8, 4, 2, 1]) \\nTrue\\n  \\n>>> checkSorted([10, 8, 2, 4, 1]) \\nFalse\\n\\n'"
      ]
     },
     "execution_count": 1,
     "metadata": {},
     "output_type": "execute_result"
    }
   ],
   "source": [
    "'''\n",
    "Q1. Write a function checkSorted() that:\n",
    "\n",
    "(1) takes a list of comparable items as input\n",
    "(2) returns True if the sequence is decreasing, False otherwise \n",
    "\n",
    "\n",
    ">>> checkSorted([10, 8, 4, 2, 1]) \n",
    "True\n",
    "  \n",
    ">>> checkSorted([10, 8, 2, 4, 1]) \n",
    "False\n",
    "\n",
    "'''"
   ]
  },
  {
   "cell_type": "code",
   "execution_count": 2,
   "metadata": {},
   "outputs": [],
   "source": [
    "def checkSorted(lst):\n",
    "    # Return true if only one element in list\n",
    "    if len(lst) == 1:\n",
    "        return True\n",
    "    \n",
    "    # Iterate thru lst, return False if next element in lst is greater that i\n",
    "    lst_indexes = range(len(lst) - 1)\n",
    "    for cur in lst_indexes:\n",
    "        if lst[cur] < lst[cur+1]:\n",
    "            return False\n",
    "        \n",
    "    return True"
   ]
  },
  {
   "cell_type": "code",
   "execution_count": 3,
   "metadata": {},
   "outputs": [
    {
     "data": {
      "text/plain": [
       "True"
      ]
     },
     "execution_count": 3,
     "metadata": {},
     "output_type": "execute_result"
    }
   ],
   "source": [
    "checkSorted([10, 8, 4, 2, 1]) "
   ]
  },
  {
   "cell_type": "code",
   "execution_count": 4,
   "metadata": {},
   "outputs": [
    {
     "data": {
      "text/plain": [
       "False"
      ]
     },
     "execution_count": 4,
     "metadata": {},
     "output_type": "execute_result"
    }
   ],
   "source": [
    "checkSorted([10, 8, 2, 4, 1]) "
   ]
  },
  {
   "cell_type": "markdown",
   "metadata": {},
   "source": [
    "# (2) Accumulator Loop Pattern"
   ]
  },
  {
   "cell_type": "code",
   "execution_count": 5,
   "metadata": {},
   "outputs": [
    {
     "data": {
      "text/plain": [
       "'\\nQ2. Write a function sum() that:\\n\\n(1) takes a starting number and a ending number as two inputs\\n(2) returns a sum of numbers between the starting and ending numbers\\n\\n\\n>>> sum(1, 10)\\n55\\n\\n>>> sum(1, 100)\\n5050\\n\\n'"
      ]
     },
     "execution_count": 5,
     "metadata": {},
     "output_type": "execute_result"
    }
   ],
   "source": [
    "'''\n",
    "Q2. Write a function sum() that:\n",
    "\n",
    "(1) takes a starting number and a ending number as two inputs\n",
    "(2) returns a sum of numbers between the starting and ending numbers\n",
    "\n",
    "\n",
    ">>> sum(1, 10)\n",
    "55\n",
    "\n",
    ">>> sum(1, 100)\n",
    "5050\n",
    "\n",
    "'''\n",
    "\n",
    "### Hint: You can use range function."
   ]
  },
  {
   "cell_type": "code",
   "execution_count": 9,
   "metadata": {},
   "outputs": [],
   "source": [
    "def sum(start, stop):\n",
    "    total = 0\n",
    "    for i in range(start, stop + 1):\n",
    "        total += i\n",
    "\n",
    "    return total"
   ]
  },
  {
   "cell_type": "code",
   "execution_count": 10,
   "metadata": {},
   "outputs": [
    {
     "data": {
      "text/plain": [
       "55"
      ]
     },
     "execution_count": 10,
     "metadata": {},
     "output_type": "execute_result"
    }
   ],
   "source": [
    "sum(1, 10)"
   ]
  },
  {
   "cell_type": "code",
   "execution_count": 11,
   "metadata": {},
   "outputs": [
    {
     "data": {
      "text/plain": [
       "5050"
      ]
     },
     "execution_count": 11,
     "metadata": {},
     "output_type": "execute_result"
    }
   ],
   "source": [
    "sum(1, 100)"
   ]
  },
  {
   "cell_type": "markdown",
   "metadata": {},
   "source": [
    "# (3) Nested for loop"
   ]
  },
  {
   "cell_type": "code",
   "execution_count": null,
   "metadata": {},
   "outputs": [],
   "source": [
    "'''\n",
    "Q3. Write a function inAmongst() that takes:\n",
    "    three lists of numbers as inputs\n",
    "    and returns True if there is an item that is common to three lists and False otherwise\n",
    "\n",
    ">>> inAmongst([3, 2, 5, 4, 7], [9, 0, 1, 3],[3, 5, 4, 7])\n",
    "True\n",
    ">>> inAmongst([2, 5, 4, 7], [9, 0, 1, 3], [6, 8, 10, 11])\n",
    "False\n",
    "\n",
    "'''"
   ]
  },
  {
   "cell_type": "code",
   "execution_count": 14,
   "metadata": {},
   "outputs": [],
   "source": [
    "def inAmongst(lst1, lst2, lst3):\n",
    "    for i in lst1:\n",
    "        for j in lst2:\n",
    "            for k in lst3:\n",
    "                if i == j == k:\n",
    "                    return True\n",
    "    \n",
    "    return False"
   ]
  },
  {
   "cell_type": "code",
   "execution_count": 15,
   "metadata": {},
   "outputs": [
    {
     "data": {
      "text/plain": [
       "True"
      ]
     },
     "execution_count": 15,
     "metadata": {},
     "output_type": "execute_result"
    }
   ],
   "source": [
    "inAmongst([3, 2, 5, 4, 7], [9, 0, 1, 3],[3, 5, 4, 7])"
   ]
  },
  {
   "cell_type": "code",
   "execution_count": 16,
   "metadata": {},
   "outputs": [
    {
     "data": {
      "text/plain": [
       "False"
      ]
     },
     "execution_count": 16,
     "metadata": {},
     "output_type": "execute_result"
    }
   ],
   "source": [
    "inAmongst([2, 5, 4, 7], [9, 0, 1, 3], [6, 8, 10, 11])"
   ]
  },
  {
   "cell_type": "code",
   "execution_count": null,
   "metadata": {},
   "outputs": [],
   "source": [
    "'''\n",
    "Q4. Write a function pairSum() that takes:\n",
    "    two lists of numbers and\n",
    "    a target value as inputs\n",
    "    and prints the indexes of all pairs of values in the first and second lists that add up to the target value \n",
    "\n",
    ">>> pairSum([2, 5, 4, 7], [9, 0, 6, 7], 11)\n",
    "0 0\n",
    "1 2\n",
    "2 3\n",
    "\n",
    "'''"
   ]
  },
  {
   "cell_type": "code",
   "execution_count": 21,
   "metadata": {},
   "outputs": [],
   "source": [
    "def pairSum(lst1, lst2, target):\n",
    "    for i in lst1:\n",
    "        for j in lst2:\n",
    "            if i + j == target:\n",
    "                print(lst1.index(i), lst2.index(j))"
   ]
  },
  {
   "cell_type": "code",
   "execution_count": 22,
   "metadata": {},
   "outputs": [
    {
     "name": "stdout",
     "output_type": "stream",
     "text": [
      "0 0\n",
      "1 2\n",
      "2 3\n"
     ]
    }
   ],
   "source": [
    "pairSum([2, 5, 4, 7], [9, 0, 6, 7], 11)"
   ]
  },
  {
   "cell_type": "code",
   "execution_count": null,
   "metadata": {},
   "outputs": [],
   "source": [
    "'''\n",
    "Q5. Write a fuction squre_graph() that takes:\n",
    "    an integer number that represents a number of rows\n",
    "    and prints a sequence of numbers on each row, which ranges from zero to the squre of row line\n",
    "    \n",
    ">>> squre_graph(5)\n",
    "0 1\n",
    "0 1 2 3 4\n",
    "0 1 2 3 4 5 6 7 8 9\n",
    "0 1 2 3 4 5 6 7 8 9 10 11 12 13 14 15 16\n",
    "0 1 2 3 4 5 6 7 8 9 10 11 12 13 14 15 16 17 18 19 20 21 22 23 24 25\n",
    "\n",
    "'''"
   ]
  },
  {
   "cell_type": "code",
   "execution_count": 63,
   "metadata": {},
   "outputs": [],
   "source": [
    "def squre_graph(rows):\n",
    "\n",
    "    for i in range(rows):\n",
    "        print_until = (i + 1) ** 2\n",
    "        print(*list(range(print_until + 1)))\n",
    "    \n",
    "    "
   ]
  },
  {
   "cell_type": "code",
   "execution_count": 64,
   "metadata": {},
   "outputs": [
    {
     "name": "stdout",
     "output_type": "stream",
     "text": [
      "0 1\n",
      "0 1 2 3 4\n",
      "0 1 2 3 4 5 6 7 8 9\n",
      "0 1 2 3 4 5 6 7 8 9 10 11 12 13 14 15 16\n",
      "0 1 2 3 4 5 6 7 8 9 10 11 12 13 14 15 16 17 18 19 20 21 22 23 24 25\n"
     ]
    }
   ],
   "source": [
    "squre_graph(5)"
   ]
  },
  {
   "cell_type": "markdown",
   "metadata": {},
   "source": [
    "# (4) while loop"
   ]
  },
  {
   "cell_type": "code",
   "execution_count": null,
   "metadata": {},
   "outputs": [],
   "source": [
    "'''\n",
    "Q6. Write a function n_halved() that takes:\n",
    "    a positive integer n as an input\n",
    "    and returns answers of the following question: \n",
    "    How many times can the number n be halved (using integer division) before reaching 1?\n",
    "    \n",
    ">>> n_halved(4)\n",
    "2\n",
    ">>> n_halved(11)\n",
    "3\n",
    ">>> n_halved(25)\n",
    "4\n",
    "\n",
    "'''"
   ]
  },
  {
   "cell_type": "code",
   "execution_count": null,
   "metadata": {},
   "outputs": [],
   "source": []
  },
  {
   "cell_type": "code",
   "execution_count": null,
   "metadata": {},
   "outputs": [],
   "source": [
    "n_halved(4)"
   ]
  },
  {
   "cell_type": "code",
   "execution_count": null,
   "metadata": {},
   "outputs": [],
   "source": [
    "n_halved(11)"
   ]
  },
  {
   "cell_type": "code",
   "execution_count": null,
   "metadata": {},
   "outputs": [],
   "source": [
    "n_halved(25)"
   ]
  },
  {
   "cell_type": "code",
   "execution_count": null,
   "metadata": {},
   "outputs": [],
   "source": [
    "'''\n",
    "Q7. Write a function fibonnaci() that takes:\n",
    "    a bound as an input \n",
    "    and returns the Fibnonaci sequence that its biggest Fibonaci number is smaller than the bound\n",
    "\n",
    ">>> fibonnaci(12)\n",
    "1 1 2 3 5 8\n",
    "\n",
    ">>> fibonnaci(25)\n",
    "1 1 2 3 5 8 13 21\n",
    "\n",
    "\n",
    "'''\n",
    "\n",
    "# Note: Please print out the Fibonnaci sequence on a single line. \n",
    "# Hint: You can use print function parameter, end = ' '"
   ]
  },
  {
   "cell_type": "code",
   "execution_count": null,
   "metadata": {},
   "outputs": [],
   "source": []
  },
  {
   "cell_type": "code",
   "execution_count": null,
   "metadata": {},
   "outputs": [],
   "source": [
    "fibonnaci(12)"
   ]
  },
  {
   "cell_type": "code",
   "execution_count": null,
   "metadata": {},
   "outputs": [],
   "source": [
    "fibonnaci(25)"
   ]
  },
  {
   "cell_type": "markdown",
   "metadata": {},
   "source": [
    "# (5) break and continue statements"
   ]
  },
  {
   "cell_type": "code",
   "execution_count": null,
   "metadata": {},
   "outputs": [],
   "source": [
    "'''\n",
    "Q8. Write a function r_pixels() that takes:\n",
    "    a two-dimensional list of nonnegative integer entries (representing the values of pixels of an image) \n",
    "    and prints a two-dimensional list of numbers. But, if there is 0 in the list, numbers after 0 will not be printed\n",
    "    \n",
    ">>> r_pixels([[1, 0, 5, 7, 10], [2, 3, 5, 7], [11, 3, 0, 7]])\n",
    "1,\n",
    "2, 3, 5, 7,\n",
    "11, 3,\n",
    "\n",
    "'''"
   ]
  },
  {
   "cell_type": "code",
   "execution_count": null,
   "metadata": {},
   "outputs": [],
   "source": []
  },
  {
   "cell_type": "code",
   "execution_count": null,
   "metadata": {},
   "outputs": [],
   "source": [
    "r_pixels([[1, 0, 5, 7, 10], [2, 3, 5, 7], [11, 3, 0, 7]])"
   ]
  },
  {
   "cell_type": "markdown",
   "metadata": {},
   "source": [
    "# (6) Others"
   ]
  },
  {
   "cell_type": "code",
   "execution_count": null,
   "metadata": {},
   "outputs": [],
   "source": [
    "'''\n",
    "Q9. Write a function evensum() that takes:\n",
    "    a two-dimensional list of integers \n",
    "    and returns True if every row of the table sums up to an even number \n",
    "    and False otherwise (i.e., if any row sums up to an odd number)\n",
    "\n",
    ">>> evensum([[2, 4], [3, 5, 2], [2, 9, 1]])\n",
    "True\n",
    ">>> evensum([[1, 5, 4], [3, 5, 1], [2, 9, 1]])\n",
    "False\n",
    "\n",
    "'''"
   ]
  },
  {
   "cell_type": "code",
   "execution_count": null,
   "metadata": {},
   "outputs": [],
   "source": []
  },
  {
   "cell_type": "code",
   "execution_count": null,
   "metadata": {},
   "outputs": [],
   "source": [
    "evensum([[2, 4], [3, 5, 2], [2, 9, 1]])"
   ]
  },
  {
   "cell_type": "code",
   "execution_count": null,
   "metadata": {},
   "outputs": [],
   "source": [
    "evensum([[1, 5, 4], [3, 5, 1], [2, 9, 1]])"
   ]
  },
  {
   "cell_type": "code",
   "execution_count": null,
   "metadata": {},
   "outputs": [],
   "source": [
    "'''\n",
    "Q10. Write function lst_prime() that:\n",
    "takes a bound as an input, which is positive integer\n",
    "returns a list of prime numbers smaller than or equal to the bound\n",
    "\n",
    ">>> lst_prime(0)\n",
    "[]\n",
    ">>> lst_prime(6)\n",
    "[2, 3, 5]\n",
    ">>> lst_prime(11)\n",
    "[2, 3, 5, 7, 11]\n",
    "\n",
    "'''\n",
    "\n",
    "# [Hint] Divisors of a prime number p are only 1 and itself (p), 1 is not a prime number\n",
    "# [Hint] You can define is_prime() within a function lst_prime()"
   ]
  },
  {
   "cell_type": "code",
   "execution_count": null,
   "metadata": {},
   "outputs": [],
   "source": []
  },
  {
   "cell_type": "code",
   "execution_count": null,
   "metadata": {},
   "outputs": [],
   "source": [
    "lst_prime(0)"
   ]
  },
  {
   "cell_type": "code",
   "execution_count": null,
   "metadata": {},
   "outputs": [],
   "source": [
    "lst_prime(6)"
   ]
  },
  {
   "cell_type": "code",
   "execution_count": null,
   "metadata": {},
   "outputs": [],
   "source": [
    "lst_prime(11)"
   ]
  }
 ],
 "metadata": {
  "anaconda-cloud": {},
  "kernelspec": {
   "display_name": "Python 3",
   "language": "python",
   "name": "python3"
  },
  "language_info": {
   "codemirror_mode": {
    "name": "ipython",
    "version": 3
   },
   "file_extension": ".py",
   "mimetype": "text/x-python",
   "name": "python",
   "nbconvert_exporter": "python",
   "pygments_lexer": "ipython3",
   "version": "3.12.4"
  }
 },
 "nbformat": 4,
 "nbformat_minor": 1
}
