{
 "cells": [
  {
   "cell_type": "markdown",
   "metadata": {},
   "source": [
    "# (1) Counter Loop Pattern"
   ]
  },
  {
   "cell_type": "code",
   "execution_count": null,
   "metadata": {},
   "outputs": [],
   "source": [
    "'''\n",
    "Q1. Write a function checkSorted() that:\n",
    "\n",
    "(1) takes a list of comparable items as input\n",
    "(2) returns True if the sequence is decreasing, False otherwise \n",
    "\n",
    "\n",
    ">>> checkSorted([10, 8, 4, 2, 1]) \n",
    "True\n",
    "  \n",
    ">>> checkSorted([10, 8, 2, 4, 1]) \n",
    "False\n",
    "\n",
    "'''"
   ]
  },
  {
   "cell_type": "code",
   "execution_count": null,
   "metadata": {},
   "outputs": [],
   "source": []
  },
  {
   "cell_type": "code",
   "execution_count": null,
   "metadata": {},
   "outputs": [],
   "source": [
    "checkSorted([10, 8, 4, 2, 1]) "
   ]
  },
  {
   "cell_type": "code",
   "execution_count": null,
   "metadata": {},
   "outputs": [],
   "source": [
    "checkSorted([10, 8, 2, 4, 1]) "
   ]
  },
  {
   "cell_type": "markdown",
   "metadata": {},
   "source": [
    "# (2) Accumulator Loop Pattern"
   ]
  },
  {
   "cell_type": "code",
   "execution_count": null,
   "metadata": {},
   "outputs": [],
   "source": [
    "'''\n",
    "Q2. Write a function sum() that:\n",
    "\n",
    "(1) takes a starting number and a ending number as two inputs\n",
    "(2) returns a sum of numbers between the starting and ending numbers\n",
    "\n",
    "\n",
    ">>> sum(1, 10)\n",
    "55\n",
    "\n",
    ">>> sum(1, 100)\n",
    "5050\n",
    "\n",
    "'''\n",
    "\n",
    "### Hint: You can use range function."
   ]
  },
  {
   "cell_type": "code",
   "execution_count": null,
   "metadata": {},
   "outputs": [],
   "source": []
  },
  {
   "cell_type": "code",
   "execution_count": null,
   "metadata": {},
   "outputs": [],
   "source": [
    "sum(1, 10)"
   ]
  },
  {
   "cell_type": "code",
   "execution_count": null,
   "metadata": {},
   "outputs": [],
   "source": [
    "sum(1, 100)"
   ]
  },
  {
   "cell_type": "markdown",
   "metadata": {},
   "source": [
    "# (3) Nested for loop"
   ]
  },
  {
   "cell_type": "code",
   "execution_count": null,
   "metadata": {},
   "outputs": [],
   "source": [
    "'''\n",
    "Q3. Write a function inAmongst() that takes:\n",
    "    three lists of numbers as inputs\n",
    "    and returns True if there is an item that is common to three lists and False otherwise\n",
    "\n",
    ">>> inAmongst([3, 2, 5, 4, 7], [9, 0, 1, 3],[3, 5, 4, 7])\n",
    "True\n",
    ">>> inAmongst([2, 5, 4, 7], [9, 0, 1, 3], [6, 8, 10, 11])\n",
    "False\n",
    "\n",
    "'''"
   ]
  },
  {
   "cell_type": "code",
   "execution_count": null,
   "metadata": {},
   "outputs": [],
   "source": []
  },
  {
   "cell_type": "code",
   "execution_count": null,
   "metadata": {},
   "outputs": [],
   "source": [
    "inAmongst([3, 2, 5, 4, 7], [9, 0, 1, 3],[3, 5, 4, 7])"
   ]
  },
  {
   "cell_type": "code",
   "execution_count": null,
   "metadata": {},
   "outputs": [],
   "source": [
    "inAmongst([2, 5, 4, 7], [9, 0, 1, 3], [6, 8, 10, 11])"
   ]
  },
  {
   "cell_type": "code",
   "execution_count": null,
   "metadata": {},
   "outputs": [],
   "source": [
    "'''\n",
    "Q4. Write a function pairSum() that takes:\n",
    "    two lists of numbers and\n",
    "    a target value as inputs\n",
    "    and prints the indexes of all pairs of values in the first and second lists that add up to the target value \n",
    "\n",
    ">>> pairSum([2, 5, 4, 7], [9, 0, 6, 7], 11)\n",
    "0 0\n",
    "1 2\n",
    "2 3\n",
    "\n",
    "'''"
   ]
  },
  {
   "cell_type": "code",
   "execution_count": null,
   "metadata": {},
   "outputs": [],
   "source": []
  },
  {
   "cell_type": "code",
   "execution_count": null,
   "metadata": {},
   "outputs": [],
   "source": [
    "pairSum([2, 5, 4, 7], [9, 0, 6, 7], 11)"
   ]
  },
  {
   "cell_type": "code",
   "execution_count": null,
   "metadata": {},
   "outputs": [],
   "source": [
    "'''\n",
    "Q5. Write a fuction squre_graph() that takes:\n",
    "    an integer number that represents a number of rows\n",
    "    and prints a sequence of numbers on each row, which ranges from zero to the squre of row line\n",
    "    \n",
    ">>> squre_graph(5)\n",
    "0 1\n",
    "0 1 2 3 4\n",
    "0 1 2 3 4 5 6 7 8 9\n",
    "0 1 2 3 4 5 6 7 8 9 10 11 12 13 14 15 16\n",
    "0 1 2 3 4 5 6 7 8 9 10 11 12 13 14 15 16 17 18 19 20 21 22 23 24 25\n",
    "\n",
    "'''"
   ]
  },
  {
   "cell_type": "code",
   "execution_count": null,
   "metadata": {},
   "outputs": [],
   "source": []
  },
  {
   "cell_type": "code",
   "execution_count": null,
   "metadata": {},
   "outputs": [],
   "source": [
    "squre_graph(5)"
   ]
  },
  {
   "cell_type": "markdown",
   "metadata": {},
   "source": [
    "# (4) while loop"
   ]
  },
  {
   "cell_type": "code",
   "execution_count": null,
   "metadata": {},
   "outputs": [],
   "source": [
    "'''\n",
    "Q6. Write a function n_halved() that takes:\n",
    "    a positive integer n as an input\n",
    "    and returns answers of the following question: \n",
    "    How many times can the number n be halved (using integer division) before reaching 1?\n",
    "    \n",
    ">>> n_halved(4)\n",
    "2\n",
    ">>> n_halved(11)\n",
    "3\n",
    ">>> n_halved(25)\n",
    "4\n",
    "\n",
    "'''"
   ]
  },
  {
   "cell_type": "code",
   "execution_count": null,
   "metadata": {},
   "outputs": [],
   "source": []
  },
  {
   "cell_type": "code",
   "execution_count": null,
   "metadata": {},
   "outputs": [],
   "source": [
    "n_halved(4)"
   ]
  },
  {
   "cell_type": "code",
   "execution_count": null,
   "metadata": {},
   "outputs": [],
   "source": [
    "n_halved(11)"
   ]
  },
  {
   "cell_type": "code",
   "execution_count": null,
   "metadata": {},
   "outputs": [],
   "source": [
    "n_halved(25)"
   ]
  },
  {
   "cell_type": "code",
   "execution_count": null,
   "metadata": {},
   "outputs": [],
   "source": [
    "'''\n",
    "Q7. Write a function fibonnaci() that takes:\n",
    "    a bound as an input \n",
    "    and returns the Fibnonaci sequence that its biggest Fibonaci number is smaller than the bound\n",
    "\n",
    ">>> fibonnaci(12)\n",
    "1 1 2 3 5 8\n",
    "\n",
    ">>> fibonnaci(25)\n",
    "1 1 2 3 5 8 13 21\n",
    "\n",
    "\n",
    "'''\n",
    "\n",
    "# Note: Please print out the Fibonnaci sequence on a single line. \n",
    "# Hint: You can use print function parameter, end = ' '"
   ]
  },
  {
   "cell_type": "code",
   "execution_count": null,
   "metadata": {},
   "outputs": [],
   "source": []
  },
  {
   "cell_type": "code",
   "execution_count": null,
   "metadata": {},
   "outputs": [],
   "source": [
    "fibonnaci(12)"
   ]
  },
  {
   "cell_type": "code",
   "execution_count": null,
   "metadata": {},
   "outputs": [],
   "source": [
    "fibonnaci(25)"
   ]
  },
  {
   "cell_type": "markdown",
   "metadata": {},
   "source": [
    "# (5) break and continue statements"
   ]
  },
  {
   "cell_type": "code",
   "execution_count": null,
   "metadata": {},
   "outputs": [],
   "source": [
    "'''\n",
    "Q8. Write a function r_pixels() that takes:\n",
    "    a two-dimensional list of nonnegative integer entries (representing the values of pixels of an image) \n",
    "    and prints a two-dimensional list of numbers. But, if there is 0 in the list, numbers after 0 will not be printed\n",
    "    \n",
    ">>> r_pixels([[1, 0, 5, 7, 10], [2, 3, 5, 7], [11, 3, 0, 7]])\n",
    "1,\n",
    "2, 3, 5, 7,\n",
    "11, 3,\n",
    "\n",
    "'''"
   ]
  },
  {
   "cell_type": "code",
   "execution_count": null,
   "metadata": {},
   "outputs": [],
   "source": []
  },
  {
   "cell_type": "code",
   "execution_count": null,
   "metadata": {},
   "outputs": [],
   "source": [
    "r_pixels([[1, 0, 5, 7, 10], [2, 3, 5, 7], [11, 3, 0, 7]])"
   ]
  },
  {
   "cell_type": "markdown",
   "metadata": {},
   "source": [
    "# (6) Others"
   ]
  },
  {
   "cell_type": "code",
   "execution_count": null,
   "metadata": {},
   "outputs": [],
   "source": [
    "'''\n",
    "Q9. Write a function evensum() that takes:\n",
    "    a two-dimensional list of integers \n",
    "    and returns True if every row of the table sums up to an even number \n",
    "    and False otherwise (i.e., if any row sums up to an odd number)\n",
    "\n",
    ">>> evensum([[2, 4], [3, 5, 2], [2, 9, 1]])\n",
    "True\n",
    ">>> evensum([[1, 5, 4], [3, 5, 1], [2, 9, 1]])\n",
    "False\n",
    "\n",
    "'''"
   ]
  },
  {
   "cell_type": "code",
   "execution_count": null,
   "metadata": {},
   "outputs": [],
   "source": []
  },
  {
   "cell_type": "code",
   "execution_count": null,
   "metadata": {},
   "outputs": [],
   "source": [
    "evensum([[2, 4], [3, 5, 2], [2, 9, 1]])"
   ]
  },
  {
   "cell_type": "code",
   "execution_count": null,
   "metadata": {},
   "outputs": [],
   "source": [
    "evensum([[1, 5, 4], [3, 5, 1], [2, 9, 1]])"
   ]
  },
  {
   "cell_type": "code",
   "execution_count": null,
   "metadata": {},
   "outputs": [],
   "source": [
    "'''\n",
    "Q10. Write function lst_prime() that:\n",
    "takes a bound as an input, which is positive integer\n",
    "returns a list of prime numbers smaller than or equal to the bound\n",
    "\n",
    ">>> lst_prime(0)\n",
    "[]\n",
    ">>> lst_prime(6)\n",
    "[2, 3, 5]\n",
    ">>> lst_prime(11)\n",
    "[2, 3, 5, 7, 11]\n",
    "\n",
    "'''\n",
    "\n",
    "# [Hint] Divisors of a prime number p are only 1 and itself (p), 1 is not a prime number\n",
    "# [Hint] You can define is_prime() within a function lst_prime()"
   ]
  },
  {
   "cell_type": "code",
   "execution_count": null,
   "metadata": {},
   "outputs": [],
   "source": []
  },
  {
   "cell_type": "code",
   "execution_count": null,
   "metadata": {},
   "outputs": [],
   "source": [
    "lst_prime(0)"
   ]
  },
  {
   "cell_type": "code",
   "execution_count": null,
   "metadata": {},
   "outputs": [],
   "source": [
    "lst_prime(6)"
   ]
  },
  {
   "cell_type": "code",
   "execution_count": null,
   "metadata": {},
   "outputs": [],
   "source": [
    "lst_prime(11)"
   ]
  }
 ],
 "metadata": {
  "anaconda-cloud": {},
  "kernelspec": {
   "display_name": "Python 3",
   "language": "python",
   "name": "python3"
  },
  "language_info": {
   "codemirror_mode": {
    "name": "ipython",
    "version": 3
   },
   "file_extension": ".py",
   "mimetype": "text/x-python",
   "name": "python",
   "nbconvert_exporter": "python",
   "pygments_lexer": "ipython3",
   "version": "3.8.3"
  }
 },
 "nbformat": 4,
 "nbformat_minor": 1
}
