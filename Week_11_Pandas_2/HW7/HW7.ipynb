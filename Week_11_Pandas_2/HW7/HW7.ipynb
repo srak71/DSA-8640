{
 "cells": [
  {
   "cell_type": "markdown",
   "metadata": {},
   "source": [
    "# Pandas DataFrame"
   ]
  },
  {
   "cell_type": "code",
   "execution_count": 1,
   "metadata": {},
   "outputs": [
    {
     "data": {
      "text/plain": [
       "'\\nQ1. (1) Please read employee.csv in your working directory into Pandas DataFrame (i.e., employee_db).\\n        - When you read employee.csv, you need to use UNIQUE_ID Column \\n          as the row labels (i.e., index) of the DataFrame. \\n    (2) Please print a concise summary of employee_db.\\n    (3) Please print the first five rows of the DataFrame.\\n\\n'"
      ]
     },
     "execution_count": 1,
     "metadata": {},
     "output_type": "execute_result"
    }
   ],
   "source": [
    "'''\n",
    "Q1. (1) Please read employee.csv in your working directory into Pandas DataFrame (i.e., employee_db).\n",
    "        - When you read employee.csv, you need to use UNIQUE_ID Column \n",
    "          as the row labels (i.e., index) of the DataFrame. \n",
    "    (2) Please print a concise summary of employee_db.\n",
    "    (3) Please print the first five rows of the DataFrame.\n",
    "\n",
    "'''\n",
    "\n",
    "# hint: you can use index_col when you read a csv file.\n",
    "# hint: you can use info()\n",
    "# hint: you can use head()"
   ]
  },
  {
   "cell_type": "code",
   "execution_count": 2,
   "metadata": {},
   "outputs": [],
   "source": [
    "import pandas as pd"
   ]
  },
  {
   "cell_type": "code",
   "execution_count": 3,
   "metadata": {},
   "outputs": [],
   "source": [
    "# 1.1\n",
    "employees = pd.read_csv(\"employee.csv\")"
   ]
  },
  {
   "cell_type": "code",
   "execution_count": 4,
   "metadata": {},
   "outputs": [
    {
     "name": "stdout",
     "output_type": "stream",
     "text": [
      "<class 'pandas.core.frame.DataFrame'>\n",
      "RangeIndex: 2000 entries, 0 to 1999\n",
      "Data columns (total 10 columns):\n",
      " #   Column             Non-Null Count  Dtype  \n",
      "---  ------             --------------  -----  \n",
      " 0   UNIQUE_ID          2000 non-null   int64  \n",
      " 1   POSITION_TITLE     2000 non-null   object \n",
      " 2   DEPARTMENT         2000 non-null   object \n",
      " 3   BASE_SALARY        1886 non-null   float64\n",
      " 4   RACE               1965 non-null   object \n",
      " 5   EMPLOYMENT_TYPE    2000 non-null   object \n",
      " 6   GENDER             2000 non-null   object \n",
      " 7   EMPLOYMENT_STATUS  2000 non-null   object \n",
      " 8   HIRE_DATE          2000 non-null   object \n",
      " 9   JOB_DATE           1997 non-null   object \n",
      "dtypes: float64(1), int64(1), object(8)\n",
      "memory usage: 156.4+ KB\n"
     ]
    }
   ],
   "source": [
    "# 1.2\n",
    "employees.info()"
   ]
  },
  {
   "cell_type": "code",
   "execution_count": 5,
   "metadata": {},
   "outputs": [
    {
     "data": {
      "text/html": [
       "<div>\n",
       "<style scoped>\n",
       "    .dataframe tbody tr th:only-of-type {\n",
       "        vertical-align: middle;\n",
       "    }\n",
       "\n",
       "    .dataframe tbody tr th {\n",
       "        vertical-align: top;\n",
       "    }\n",
       "\n",
       "    .dataframe thead th {\n",
       "        text-align: right;\n",
       "    }\n",
       "</style>\n",
       "<table border=\"1\" class=\"dataframe\">\n",
       "  <thead>\n",
       "    <tr style=\"text-align: right;\">\n",
       "      <th></th>\n",
       "      <th>UNIQUE_ID</th>\n",
       "      <th>POSITION_TITLE</th>\n",
       "      <th>DEPARTMENT</th>\n",
       "      <th>BASE_SALARY</th>\n",
       "      <th>RACE</th>\n",
       "      <th>EMPLOYMENT_TYPE</th>\n",
       "      <th>GENDER</th>\n",
       "      <th>EMPLOYMENT_STATUS</th>\n",
       "      <th>HIRE_DATE</th>\n",
       "      <th>JOB_DATE</th>\n",
       "    </tr>\n",
       "  </thead>\n",
       "  <tbody>\n",
       "    <tr>\n",
       "      <th>0</th>\n",
       "      <td>0</td>\n",
       "      <td>ASSISTANT DIRECTOR (EX LVL)</td>\n",
       "      <td>Municipal Courts Department</td>\n",
       "      <td>121862.0</td>\n",
       "      <td>Hispanic/Latino</td>\n",
       "      <td>Full Time</td>\n",
       "      <td>Female</td>\n",
       "      <td>Active</td>\n",
       "      <td>2006-06-12</td>\n",
       "      <td>2012-10-13</td>\n",
       "    </tr>\n",
       "    <tr>\n",
       "      <th>1</th>\n",
       "      <td>1</td>\n",
       "      <td>LIBRARY ASSISTANT</td>\n",
       "      <td>Library</td>\n",
       "      <td>26125.0</td>\n",
       "      <td>Hispanic/Latino</td>\n",
       "      <td>Full Time</td>\n",
       "      <td>Female</td>\n",
       "      <td>Active</td>\n",
       "      <td>2000-07-19</td>\n",
       "      <td>2010-09-18</td>\n",
       "    </tr>\n",
       "    <tr>\n",
       "      <th>2</th>\n",
       "      <td>2</td>\n",
       "      <td>POLICE OFFICER</td>\n",
       "      <td>Houston Police Department-HPD</td>\n",
       "      <td>45279.0</td>\n",
       "      <td>White</td>\n",
       "      <td>Full Time</td>\n",
       "      <td>Male</td>\n",
       "      <td>Active</td>\n",
       "      <td>2015-02-03</td>\n",
       "      <td>2015-02-03</td>\n",
       "    </tr>\n",
       "    <tr>\n",
       "      <th>3</th>\n",
       "      <td>3</td>\n",
       "      <td>ENGINEER/OPERATOR</td>\n",
       "      <td>Houston Fire Department (HFD)</td>\n",
       "      <td>63166.0</td>\n",
       "      <td>White</td>\n",
       "      <td>Full Time</td>\n",
       "      <td>Male</td>\n",
       "      <td>Active</td>\n",
       "      <td>1982-02-08</td>\n",
       "      <td>1991-05-25</td>\n",
       "    </tr>\n",
       "    <tr>\n",
       "      <th>4</th>\n",
       "      <td>4</td>\n",
       "      <td>ELECTRICIAN</td>\n",
       "      <td>General Services Department</td>\n",
       "      <td>56347.0</td>\n",
       "      <td>White</td>\n",
       "      <td>Full Time</td>\n",
       "      <td>Male</td>\n",
       "      <td>Active</td>\n",
       "      <td>1989-06-19</td>\n",
       "      <td>1994-10-22</td>\n",
       "    </tr>\n",
       "  </tbody>\n",
       "</table>\n",
       "</div>"
      ],
      "text/plain": [
       "   UNIQUE_ID               POSITION_TITLE                     DEPARTMENT  \\\n",
       "0          0  ASSISTANT DIRECTOR (EX LVL)    Municipal Courts Department   \n",
       "1          1            LIBRARY ASSISTANT                        Library   \n",
       "2          2               POLICE OFFICER  Houston Police Department-HPD   \n",
       "3          3            ENGINEER/OPERATOR  Houston Fire Department (HFD)   \n",
       "4          4                  ELECTRICIAN    General Services Department   \n",
       "\n",
       "   BASE_SALARY             RACE EMPLOYMENT_TYPE  GENDER EMPLOYMENT_STATUS  \\\n",
       "0     121862.0  Hispanic/Latino       Full Time  Female            Active   \n",
       "1      26125.0  Hispanic/Latino       Full Time  Female            Active   \n",
       "2      45279.0            White       Full Time    Male            Active   \n",
       "3      63166.0            White       Full Time    Male            Active   \n",
       "4      56347.0            White       Full Time    Male            Active   \n",
       "\n",
       "    HIRE_DATE    JOB_DATE  \n",
       "0  2006-06-12  2012-10-13  \n",
       "1  2000-07-19  2010-09-18  \n",
       "2  2015-02-03  2015-02-03  \n",
       "3  1982-02-08  1991-05-25  \n",
       "4  1989-06-19  1994-10-22  "
      ]
     },
     "execution_count": 5,
     "metadata": {},
     "output_type": "execute_result"
    }
   ],
   "source": [
    "# 1.3\n",
    "employees.head()"
   ]
  },
  {
   "cell_type": "code",
   "execution_count": 6,
   "metadata": {},
   "outputs": [
    {
     "data": {
      "text/plain": [
       "'\\nQ2. (1) Please change the data type of BASE_SALARY into float32. \\n        - Please make sure not to just create a copy of the column. You should change the DataFrame.\\n    (2) Please print the data type of BASE_SALARY column.\\n'"
      ]
     },
     "execution_count": 6,
     "metadata": {},
     "output_type": "execute_result"
    }
   ],
   "source": [
    "'''\n",
    "Q2. (1) Please change the data type of BASE_SALARY into float32. \n",
    "        - Please make sure not to just create a copy of the column. You should change the DataFrame.\n",
    "    (2) Please print the data type of BASE_SALARY column.\n",
    "'''\n",
    "\n",
    "# hint: you can use astype()\n",
    "# hint: you can use dtypes"
   ]
  },
  {
   "cell_type": "code",
   "execution_count": 7,
   "metadata": {},
   "outputs": [],
   "source": [
    "# 2.1\n",
    "employees['BASE_SALARY'] = employees['BASE_SALARY'].astype('float32')"
   ]
  },
  {
   "cell_type": "code",
   "execution_count": 8,
   "metadata": {},
   "outputs": [
    {
     "data": {
      "text/plain": [
       "dtype('float32')"
      ]
     },
     "execution_count": 8,
     "metadata": {},
     "output_type": "execute_result"
    }
   ],
   "source": [
    "# 2.2\n",
    "employees['BASE_SALARY'].dtypes"
   ]
  },
  {
   "cell_type": "code",
   "execution_count": 9,
   "metadata": {},
   "outputs": [
    {
     "data": {
      "text/plain": [
       "\"\\nQ3. (1) Please add new columns 'DSA_PROGRAM', 'DSA8640' into the DataFrame.\\n        - When you add columns, default values are 'True'\\n    (2) Please rename column 'DSA8640' to 'DSA_8640'\\n    (3) Please print column names of the DataFrame.\\n\\n\""
      ]
     },
     "execution_count": 9,
     "metadata": {},
     "output_type": "execute_result"
    }
   ],
   "source": [
    "'''\n",
    "Q3. (1) Please add new columns 'DSA_PROGRAM', 'DSA8640' into the DataFrame.\n",
    "        - When you add columns, default values are 'True'\n",
    "    (2) Please rename column 'DSA8640' to 'DSA_8640'\n",
    "    (3) Please print column names of the DataFrame.\n",
    "\n",
    "'''\n"
   ]
  },
  {
   "cell_type": "code",
   "execution_count": 10,
   "metadata": {},
   "outputs": [],
   "source": [
    "# 3.1\n",
    "employees['DSA_PROGRAM'] = True\n",
    "employees['DSA8640'] = True"
   ]
  },
  {
   "cell_type": "code",
   "execution_count": 11,
   "metadata": {},
   "outputs": [],
   "source": [
    "# 3.2\n",
    "employees.rename(columns={'DSA8640':'DSA_8640'}, inplace=True)"
   ]
  },
  {
   "cell_type": "code",
   "execution_count": 12,
   "metadata": {},
   "outputs": [
    {
     "data": {
      "text/plain": [
       "Index(['UNIQUE_ID', 'POSITION_TITLE', 'DEPARTMENT', 'BASE_SALARY', 'RACE',\n",
       "       'EMPLOYMENT_TYPE', 'GENDER', 'EMPLOYMENT_STATUS', 'HIRE_DATE',\n",
       "       'JOB_DATE', 'DSA_PROGRAM', 'DSA_8640'],\n",
       "      dtype='object')"
      ]
     },
     "execution_count": 12,
     "metadata": {},
     "output_type": "execute_result"
    }
   ],
   "source": [
    "# 3.3\n",
    "employees.columns"
   ]
  },
  {
   "cell_type": "code",
   "execution_count": 13,
   "metadata": {},
   "outputs": [
    {
     "data": {
      "text/plain": [
       "\"\\nQ4. (1) Please add a new row to the DataFrame by following information.\\n\\n        POSITION_TITLE: ASSISTANT PROFESSOR\\n        DEPARTMENT: MANAGEMENT\\n        BASE_SALARY: 100000\\n        RACE: ASIAN\\n        EMPLOYMENT_TYPE: Full Time\\n        GENDER: Male\\n        EMPLOYMENT_STATUS: Active\\n        HIRE_DATE: 2006-06-12\\n        JOB_DATE: 2016-06-12\\n        DSA_PROGRAM: True\\n        DSA_8640: True\\n        \\n    (2) Please change GENDER of the last row to 'Female'.\\n    (3) Plesae print the last five rows of the DataFrame.\\n\\n\""
      ]
     },
     "execution_count": 13,
     "metadata": {},
     "output_type": "execute_result"
    }
   ],
   "source": [
    "'''\n",
    "Q4. (1) Please add a new row to the DataFrame by following information.\n",
    "\n",
    "        POSITION_TITLE: ASSISTANT PROFESSOR\n",
    "        DEPARTMENT: MANAGEMENT\n",
    "        BASE_SALARY: 100000\n",
    "        RACE: ASIAN\n",
    "        EMPLOYMENT_TYPE: Full Time\n",
    "        GENDER: Male\n",
    "        EMPLOYMENT_STATUS: Active\n",
    "        HIRE_DATE: 2006-06-12\n",
    "        JOB_DATE: 2016-06-12\n",
    "        DSA_PROGRAM: True\n",
    "        DSA_8640: True\n",
    "        \n",
    "    (2) Please change GENDER of the last row to 'Female'.\n",
    "    (3) Plesae print the last five rows of the DataFrame.\n",
    "\n",
    "'''"
   ]
  },
  {
   "cell_type": "code",
   "execution_count": 14,
   "metadata": {},
   "outputs": [],
   "source": [
    "# 4.1\n",
    "employees.loc[len(employees)] = {\n",
    "    'POSITION_TITLE': 'ASSISTANT PROFESSOR',\n",
    "    'DEPARTMENT': 'MANAGEMENT',\n",
    "    'BASE_SALARY': 100000,\n",
    "    'RACE': 'ASIAN',\n",
    "    'EMPLOYMENT_TYPE': 'Full Time',\n",
    "    'GENDER': 'Male',\n",
    "    'EMPLOYMENT_STATUS': 'Active',\n",
    "    'HIRE_DATE': '2006-06-12',\n",
    "    'JOB_DATE': '2016-06-12',\n",
    "    'DSA_PROGRAM': True,\n",
    "    'DSA_8640': True\n",
    "}"
   ]
  },
  {
   "cell_type": "code",
   "execution_count": 15,
   "metadata": {},
   "outputs": [],
   "source": [
    "# 4.2\n",
    "employees.loc[len(employees)-1, 'GENDER'] = 'Female'"
   ]
  },
  {
   "cell_type": "code",
   "execution_count": 16,
   "metadata": {},
   "outputs": [
    {
     "data": {
      "text/html": [
       "<div>\n",
       "<style scoped>\n",
       "    .dataframe tbody tr th:only-of-type {\n",
       "        vertical-align: middle;\n",
       "    }\n",
       "\n",
       "    .dataframe tbody tr th {\n",
       "        vertical-align: top;\n",
       "    }\n",
       "\n",
       "    .dataframe thead th {\n",
       "        text-align: right;\n",
       "    }\n",
       "</style>\n",
       "<table border=\"1\" class=\"dataframe\">\n",
       "  <thead>\n",
       "    <tr style=\"text-align: right;\">\n",
       "      <th></th>\n",
       "      <th>UNIQUE_ID</th>\n",
       "      <th>POSITION_TITLE</th>\n",
       "      <th>DEPARTMENT</th>\n",
       "      <th>BASE_SALARY</th>\n",
       "      <th>RACE</th>\n",
       "      <th>EMPLOYMENT_TYPE</th>\n",
       "      <th>GENDER</th>\n",
       "      <th>EMPLOYMENT_STATUS</th>\n",
       "      <th>HIRE_DATE</th>\n",
       "      <th>JOB_DATE</th>\n",
       "      <th>DSA_PROGRAM</th>\n",
       "      <th>DSA_8640</th>\n",
       "    </tr>\n",
       "  </thead>\n",
       "  <tbody>\n",
       "    <tr>\n",
       "      <th>1996</th>\n",
       "      <td>1996.0</td>\n",
       "      <td>COMMUNICATIONS CAPTAIN</td>\n",
       "      <td>Houston Fire Department (HFD)</td>\n",
       "      <td>66523.0</td>\n",
       "      <td>Black or African American</td>\n",
       "      <td>Full Time</td>\n",
       "      <td>Male</td>\n",
       "      <td>Active</td>\n",
       "      <td>2003-09-02</td>\n",
       "      <td>2013-10-06</td>\n",
       "      <td>True</td>\n",
       "      <td>True</td>\n",
       "    </tr>\n",
       "    <tr>\n",
       "      <th>1997</th>\n",
       "      <td>1997.0</td>\n",
       "      <td>POLICE OFFICER</td>\n",
       "      <td>Houston Police Department-HPD</td>\n",
       "      <td>43443.0</td>\n",
       "      <td>White</td>\n",
       "      <td>Full Time</td>\n",
       "      <td>Male</td>\n",
       "      <td>Active</td>\n",
       "      <td>2014-10-13</td>\n",
       "      <td>2015-10-13</td>\n",
       "      <td>True</td>\n",
       "      <td>True</td>\n",
       "    </tr>\n",
       "    <tr>\n",
       "      <th>1998</th>\n",
       "      <td>1998.0</td>\n",
       "      <td>POLICE OFFICER</td>\n",
       "      <td>Houston Police Department-HPD</td>\n",
       "      <td>55461.0</td>\n",
       "      <td>Asian/Pacific Islander</td>\n",
       "      <td>Full Time</td>\n",
       "      <td>Male</td>\n",
       "      <td>Active</td>\n",
       "      <td>2009-01-20</td>\n",
       "      <td>2011-07-02</td>\n",
       "      <td>True</td>\n",
       "      <td>True</td>\n",
       "    </tr>\n",
       "    <tr>\n",
       "      <th>1999</th>\n",
       "      <td>1999.0</td>\n",
       "      <td>FIRE FIGHTER</td>\n",
       "      <td>Houston Fire Department (HFD)</td>\n",
       "      <td>51194.0</td>\n",
       "      <td>Hispanic/Latino</td>\n",
       "      <td>Full Time</td>\n",
       "      <td>Male</td>\n",
       "      <td>Active</td>\n",
       "      <td>2009-01-12</td>\n",
       "      <td>2010-07-12</td>\n",
       "      <td>True</td>\n",
       "      <td>True</td>\n",
       "    </tr>\n",
       "    <tr>\n",
       "      <th>2000</th>\n",
       "      <td>NaN</td>\n",
       "      <td>ASSISTANT PROFESSOR</td>\n",
       "      <td>MANAGEMENT</td>\n",
       "      <td>100000.0</td>\n",
       "      <td>ASIAN</td>\n",
       "      <td>Full Time</td>\n",
       "      <td>Female</td>\n",
       "      <td>Active</td>\n",
       "      <td>2006-06-12</td>\n",
       "      <td>2016-06-12</td>\n",
       "      <td>True</td>\n",
       "      <td>True</td>\n",
       "    </tr>\n",
       "  </tbody>\n",
       "</table>\n",
       "</div>"
      ],
      "text/plain": [
       "      UNIQUE_ID          POSITION_TITLE                     DEPARTMENT  \\\n",
       "1996     1996.0  COMMUNICATIONS CAPTAIN  Houston Fire Department (HFD)   \n",
       "1997     1997.0          POLICE OFFICER  Houston Police Department-HPD   \n",
       "1998     1998.0          POLICE OFFICER  Houston Police Department-HPD   \n",
       "1999     1999.0            FIRE FIGHTER  Houston Fire Department (HFD)   \n",
       "2000        NaN     ASSISTANT PROFESSOR                     MANAGEMENT   \n",
       "\n",
       "      BASE_SALARY                       RACE EMPLOYMENT_TYPE  GENDER  \\\n",
       "1996      66523.0  Black or African American       Full Time    Male   \n",
       "1997      43443.0                      White       Full Time    Male   \n",
       "1998      55461.0     Asian/Pacific Islander       Full Time    Male   \n",
       "1999      51194.0            Hispanic/Latino       Full Time    Male   \n",
       "2000     100000.0                      ASIAN       Full Time  Female   \n",
       "\n",
       "     EMPLOYMENT_STATUS   HIRE_DATE    JOB_DATE  DSA_PROGRAM  DSA_8640  \n",
       "1996            Active  2003-09-02  2013-10-06         True      True  \n",
       "1997            Active  2014-10-13  2015-10-13         True      True  \n",
       "1998            Active  2009-01-20  2011-07-02         True      True  \n",
       "1999            Active  2009-01-12  2010-07-12         True      True  \n",
       "2000            Active  2006-06-12  2016-06-12         True      True  "
      ]
     },
     "execution_count": 16,
     "metadata": {},
     "output_type": "execute_result"
    }
   ],
   "source": [
    "# 4.3\n",
    "employees.tail()"
   ]
  },
  {
   "cell_type": "code",
   "execution_count": 17,
   "metadata": {},
   "outputs": [
    {
     "data": {
      "text/plain": [
       "\"\\nQ5. (1) Please drop the column DSA_8640.\\n    (2) Please drop the first row of the DataFrame, employee_db.\\n    (3) Please reset the index of the DataFrame, employee_db.\\n        - Please make sure not to insert index into dataframe columns\\n    (4) Please print the first five rows of the DataFrame, employee_db.\\n    (5) Please create a new DataFrame, 'employee_date', \\n        which contains columns having 'DATE' keyword from employee_db DataFrame.\\n    (6) Please print the last five rows of the DataFrame, employee_date.\\n\\n\""
      ]
     },
     "execution_count": 17,
     "metadata": {},
     "output_type": "execute_result"
    }
   ],
   "source": [
    "'''\n",
    "Q5. (1) Please drop the column DSA_8640.\n",
    "    (2) Please drop the first row of the DataFrame, employee_db.\n",
    "    (3) Please reset the index of the DataFrame, employee_db.\n",
    "        - Please make sure not to insert index into dataframe columns\n",
    "    (4) Please print the first five rows of the DataFrame, employee_db.\n",
    "    (5) Please create a new DataFrame, 'employee_date', \n",
    "        which contains columns having 'DATE' keyword from employee_db DataFrame.\n",
    "    (6) Please print the last five rows of the DataFrame, employee_date.\n",
    "\n",
    "'''\n",
    "\n",
    "# hint: you can use drop parameter\n",
    "# hint: Please use filter()"
   ]
  },
  {
   "cell_type": "code",
   "execution_count": 18,
   "metadata": {},
   "outputs": [],
   "source": [
    "# 5.1\n",
    "employees = employees.drop(columns=['DSA_8640'])"
   ]
  },
  {
   "cell_type": "code",
   "execution_count": 19,
   "metadata": {},
   "outputs": [],
   "source": [
    "# 5.2\n",
    "employees = employees.drop(index=employees.index[0])"
   ]
  },
  {
   "cell_type": "code",
   "execution_count": 20,
   "metadata": {},
   "outputs": [],
   "source": [
    "# 5.3\n",
    "employees.reset_index(drop=True, inplace=True)"
   ]
  },
  {
   "cell_type": "code",
   "execution_count": 21,
   "metadata": {},
   "outputs": [
    {
     "data": {
      "text/html": [
       "<div>\n",
       "<style scoped>\n",
       "    .dataframe tbody tr th:only-of-type {\n",
       "        vertical-align: middle;\n",
       "    }\n",
       "\n",
       "    .dataframe tbody tr th {\n",
       "        vertical-align: top;\n",
       "    }\n",
       "\n",
       "    .dataframe thead th {\n",
       "        text-align: right;\n",
       "    }\n",
       "</style>\n",
       "<table border=\"1\" class=\"dataframe\">\n",
       "  <thead>\n",
       "    <tr style=\"text-align: right;\">\n",
       "      <th></th>\n",
       "      <th>UNIQUE_ID</th>\n",
       "      <th>POSITION_TITLE</th>\n",
       "      <th>DEPARTMENT</th>\n",
       "      <th>BASE_SALARY</th>\n",
       "      <th>RACE</th>\n",
       "      <th>EMPLOYMENT_TYPE</th>\n",
       "      <th>GENDER</th>\n",
       "      <th>EMPLOYMENT_STATUS</th>\n",
       "      <th>HIRE_DATE</th>\n",
       "      <th>JOB_DATE</th>\n",
       "      <th>DSA_PROGRAM</th>\n",
       "    </tr>\n",
       "  </thead>\n",
       "  <tbody>\n",
       "    <tr>\n",
       "      <th>0</th>\n",
       "      <td>1.0</td>\n",
       "      <td>LIBRARY ASSISTANT</td>\n",
       "      <td>Library</td>\n",
       "      <td>26125.0</td>\n",
       "      <td>Hispanic/Latino</td>\n",
       "      <td>Full Time</td>\n",
       "      <td>Female</td>\n",
       "      <td>Active</td>\n",
       "      <td>2000-07-19</td>\n",
       "      <td>2010-09-18</td>\n",
       "      <td>True</td>\n",
       "    </tr>\n",
       "    <tr>\n",
       "      <th>1</th>\n",
       "      <td>2.0</td>\n",
       "      <td>POLICE OFFICER</td>\n",
       "      <td>Houston Police Department-HPD</td>\n",
       "      <td>45279.0</td>\n",
       "      <td>White</td>\n",
       "      <td>Full Time</td>\n",
       "      <td>Male</td>\n",
       "      <td>Active</td>\n",
       "      <td>2015-02-03</td>\n",
       "      <td>2015-02-03</td>\n",
       "      <td>True</td>\n",
       "    </tr>\n",
       "    <tr>\n",
       "      <th>2</th>\n",
       "      <td>3.0</td>\n",
       "      <td>ENGINEER/OPERATOR</td>\n",
       "      <td>Houston Fire Department (HFD)</td>\n",
       "      <td>63166.0</td>\n",
       "      <td>White</td>\n",
       "      <td>Full Time</td>\n",
       "      <td>Male</td>\n",
       "      <td>Active</td>\n",
       "      <td>1982-02-08</td>\n",
       "      <td>1991-05-25</td>\n",
       "      <td>True</td>\n",
       "    </tr>\n",
       "    <tr>\n",
       "      <th>3</th>\n",
       "      <td>4.0</td>\n",
       "      <td>ELECTRICIAN</td>\n",
       "      <td>General Services Department</td>\n",
       "      <td>56347.0</td>\n",
       "      <td>White</td>\n",
       "      <td>Full Time</td>\n",
       "      <td>Male</td>\n",
       "      <td>Active</td>\n",
       "      <td>1989-06-19</td>\n",
       "      <td>1994-10-22</td>\n",
       "      <td>True</td>\n",
       "    </tr>\n",
       "    <tr>\n",
       "      <th>4</th>\n",
       "      <td>5.0</td>\n",
       "      <td>SENIOR POLICE OFFICER</td>\n",
       "      <td>Houston Police Department-HPD</td>\n",
       "      <td>66614.0</td>\n",
       "      <td>Black or African American</td>\n",
       "      <td>Full Time</td>\n",
       "      <td>Male</td>\n",
       "      <td>Active</td>\n",
       "      <td>1984-11-26</td>\n",
       "      <td>2005-03-26</td>\n",
       "      <td>True</td>\n",
       "    </tr>\n",
       "  </tbody>\n",
       "</table>\n",
       "</div>"
      ],
      "text/plain": [
       "   UNIQUE_ID         POSITION_TITLE                     DEPARTMENT  \\\n",
       "0        1.0      LIBRARY ASSISTANT                        Library   \n",
       "1        2.0         POLICE OFFICER  Houston Police Department-HPD   \n",
       "2        3.0      ENGINEER/OPERATOR  Houston Fire Department (HFD)   \n",
       "3        4.0            ELECTRICIAN    General Services Department   \n",
       "4        5.0  SENIOR POLICE OFFICER  Houston Police Department-HPD   \n",
       "\n",
       "   BASE_SALARY                       RACE EMPLOYMENT_TYPE  GENDER  \\\n",
       "0      26125.0            Hispanic/Latino       Full Time  Female   \n",
       "1      45279.0                      White       Full Time    Male   \n",
       "2      63166.0                      White       Full Time    Male   \n",
       "3      56347.0                      White       Full Time    Male   \n",
       "4      66614.0  Black or African American       Full Time    Male   \n",
       "\n",
       "  EMPLOYMENT_STATUS   HIRE_DATE    JOB_DATE  DSA_PROGRAM  \n",
       "0            Active  2000-07-19  2010-09-18         True  \n",
       "1            Active  2015-02-03  2015-02-03         True  \n",
       "2            Active  1982-02-08  1991-05-25         True  \n",
       "3            Active  1989-06-19  1994-10-22         True  \n",
       "4            Active  1984-11-26  2005-03-26         True  "
      ]
     },
     "execution_count": 21,
     "metadata": {},
     "output_type": "execute_result"
    }
   ],
   "source": [
    "# 5.4\n",
    "employees.head()"
   ]
  },
  {
   "cell_type": "code",
   "execution_count": 22,
   "metadata": {},
   "outputs": [],
   "source": [
    "# 5.5\n",
    "employees_date = employees.filter(regex='DATE')"
   ]
  },
  {
   "cell_type": "code",
   "execution_count": 23,
   "metadata": {},
   "outputs": [
    {
     "data": {
      "text/html": [
       "<div>\n",
       "<style scoped>\n",
       "    .dataframe tbody tr th:only-of-type {\n",
       "        vertical-align: middle;\n",
       "    }\n",
       "\n",
       "    .dataframe tbody tr th {\n",
       "        vertical-align: top;\n",
       "    }\n",
       "\n",
       "    .dataframe thead th {\n",
       "        text-align: right;\n",
       "    }\n",
       "</style>\n",
       "<table border=\"1\" class=\"dataframe\">\n",
       "  <thead>\n",
       "    <tr style=\"text-align: right;\">\n",
       "      <th></th>\n",
       "      <th>HIRE_DATE</th>\n",
       "      <th>JOB_DATE</th>\n",
       "    </tr>\n",
       "  </thead>\n",
       "  <tbody>\n",
       "    <tr>\n",
       "      <th>1995</th>\n",
       "      <td>2003-09-02</td>\n",
       "      <td>2013-10-06</td>\n",
       "    </tr>\n",
       "    <tr>\n",
       "      <th>1996</th>\n",
       "      <td>2014-10-13</td>\n",
       "      <td>2015-10-13</td>\n",
       "    </tr>\n",
       "    <tr>\n",
       "      <th>1997</th>\n",
       "      <td>2009-01-20</td>\n",
       "      <td>2011-07-02</td>\n",
       "    </tr>\n",
       "    <tr>\n",
       "      <th>1998</th>\n",
       "      <td>2009-01-12</td>\n",
       "      <td>2010-07-12</td>\n",
       "    </tr>\n",
       "    <tr>\n",
       "      <th>1999</th>\n",
       "      <td>2006-06-12</td>\n",
       "      <td>2016-06-12</td>\n",
       "    </tr>\n",
       "  </tbody>\n",
       "</table>\n",
       "</div>"
      ],
      "text/plain": [
       "       HIRE_DATE    JOB_DATE\n",
       "1995  2003-09-02  2013-10-06\n",
       "1996  2014-10-13  2015-10-13\n",
       "1997  2009-01-20  2011-07-02\n",
       "1998  2009-01-12  2010-07-12\n",
       "1999  2006-06-12  2016-06-12"
      ]
     },
     "execution_count": 23,
     "metadata": {},
     "output_type": "execute_result"
    }
   ],
   "source": [
    "# 5.6\n",
    "employees_date.tail()"
   ]
  },
  {
   "cell_type": "code",
   "execution_count": 24,
   "metadata": {},
   "outputs": [
    {
     "data": {
      "text/plain": [
       "'\\nQ6. Please create two DataFrames with following information in the Figure below:\\n\\n'"
      ]
     },
     "execution_count": 24,
     "metadata": {},
     "output_type": "execute_result"
    }
   ],
   "source": [
    "'''\n",
    "Q6. Please create two DataFrames with following information in the Figure below:\n",
    "\n",
    "'''"
   ]
  },
  {
   "cell_type": "markdown",
   "metadata": {},
   "source": [
    "<img align = 'left' src=\"pic/dataframe.png\" alt=\"insert\" width=\"700\"/>"
   ]
  },
  {
   "cell_type": "code",
   "execution_count": 25,
   "metadata": {},
   "outputs": [
    {
     "data": {
      "text/plain": [
       "\"\\n(1) Plesae create a DataFrame, Fruit_1, by using dictionary as an input of the DataFrame function.\\n(2) Please create a DataFrame, Fruit_2, by using numpy array as an input of the DataFrame function.\\n    - Please make sure to import numpy.\\n(3) Please print DataFrames (i.e., Fruit_1 and Fruit_2).\\n    - You don't need to use print function. Please just call the DataFrames.\\n\""
      ]
     },
     "execution_count": 25,
     "metadata": {},
     "output_type": "execute_result"
    }
   ],
   "source": [
    "'''\n",
    "(1) Plesae create a DataFrame, Fruit_1, by using dictionary as an input of the DataFrame function.\n",
    "(2) Please create a DataFrame, Fruit_2, by using numpy array as an input of the DataFrame function.\n",
    "    - Please make sure to import numpy.\n",
    "(3) Please print DataFrames (i.e., Fruit_1 and Fruit_2).\n",
    "    - You don't need to use print function. Please just call the DataFrames.\n",
    "'''"
   ]
  },
  {
   "cell_type": "code",
   "execution_count": 26,
   "metadata": {},
   "outputs": [],
   "source": [
    "import numpy as np"
   ]
  },
  {
   "cell_type": "code",
   "execution_count": 27,
   "metadata": {},
   "outputs": [],
   "source": [
    "# 6.1\n",
    "Fruit_1 = pd.DataFrame({'apples':[3, 2, 0, 1]})"
   ]
  },
  {
   "cell_type": "code",
   "execution_count": 28,
   "metadata": {},
   "outputs": [],
   "source": [
    "# 6.2\n",
    "Fruit_2 = pd.DataFrame({'oranges':[0, 3, 7, 2]})"
   ]
  },
  {
   "cell_type": "code",
   "execution_count": 29,
   "metadata": {},
   "outputs": [],
   "source": [
    "Fruits = pd.concat([Fruit_1, Fruit_2], axis=1)"
   ]
  },
  {
   "cell_type": "code",
   "execution_count": 30,
   "metadata": {},
   "outputs": [
    {
     "data": {
      "text/plain": [
       "(   apples\n",
       " 0       3\n",
       " 1       2\n",
       " 2       0\n",
       " 3       1,\n",
       "    oranges\n",
       " 0        0\n",
       " 1        3\n",
       " 2        7\n",
       " 3        2)"
      ]
     },
     "execution_count": 30,
     "metadata": {},
     "output_type": "execute_result"
    }
   ],
   "source": [
    "# 6.3\n",
    "Fruit_1, Fruit_2"
   ]
  },
  {
   "cell_type": "code",
   "execution_count": 31,
   "metadata": {},
   "outputs": [
    {
     "data": {
      "text/plain": [
       "'\\nQ7. (1) Please read diamonds.csv in your working directory into Pandas DataFrame (i.e., diamonds_db).\\n    (2) Please create another DataFrame, new_diamonds_db, \\n        which includes carat, cut, color columns of the first one thousand rows in the diamonds_db.\\n    (3) Please sort column names in alphabeticl order.\\n    (4) Please print column names of the DataFrame\\n    (5) Please print a concise summary of new_diamonds_db.\\n\\n'"
      ]
     },
     "execution_count": 31,
     "metadata": {},
     "output_type": "execute_result"
    }
   ],
   "source": [
    "'''\n",
    "Q7. (1) Please read diamonds.csv in your working directory into Pandas DataFrame (i.e., diamonds_db).\n",
    "    (2) Please create another DataFrame, new_diamonds_db, \n",
    "        which includes carat, cut, color columns of the first one thousand rows in the diamonds_db.\n",
    "    (3) Please sort column names in alphabeticl order.\n",
    "    (4) Please print column names of the DataFrame\n",
    "    (5) Please print a concise summary of new_diamonds_db.\n",
    "\n",
    "'''"
   ]
  },
  {
   "cell_type": "code",
   "execution_count": 32,
   "metadata": {},
   "outputs": [],
   "source": [
    "# 7.1\n",
    "diamonds_db = pd.read_csv(\"diamonds.csv\")"
   ]
  },
  {
   "cell_type": "code",
   "execution_count": 33,
   "metadata": {},
   "outputs": [],
   "source": [
    "# 7.2\n",
    "new_diamonds_db = diamonds_db.loc[:999, ['carat', 'cut', 'color']]"
   ]
  },
  {
   "cell_type": "code",
   "execution_count": 34,
   "metadata": {},
   "outputs": [],
   "source": [
    "# 7.3\n",
    "new_diamonds_db = new_diamonds_db.reindex(sorted(new_diamonds_db.columns), axis=1)"
   ]
  },
  {
   "cell_type": "code",
   "execution_count": 35,
   "metadata": {},
   "outputs": [
    {
     "data": {
      "text/plain": [
       "Index(['carat', 'color', 'cut'], dtype='object')"
      ]
     },
     "execution_count": 35,
     "metadata": {},
     "output_type": "execute_result"
    }
   ],
   "source": [
    "# 7.4\n",
    "new_diamonds_db.columns"
   ]
  },
  {
   "cell_type": "code",
   "execution_count": 36,
   "metadata": {},
   "outputs": [
    {
     "name": "stdout",
     "output_type": "stream",
     "text": [
      "<class 'pandas.core.frame.DataFrame'>\n",
      "RangeIndex: 1000 entries, 0 to 999\n",
      "Data columns (total 3 columns):\n",
      " #   Column  Non-Null Count  Dtype  \n",
      "---  ------  --------------  -----  \n",
      " 0   carat   1000 non-null   float64\n",
      " 1   color   1000 non-null   object \n",
      " 2   cut     1000 non-null   object \n",
      "dtypes: float64(1), object(2)\n",
      "memory usage: 23.6+ KB\n"
     ]
    }
   ],
   "source": [
    "# 7.5\n",
    "new_diamonds_db.info()"
   ]
  },
  {
   "cell_type": "code",
   "execution_count": null,
   "metadata": {},
   "outputs": [],
   "source": []
  }
 ],
 "metadata": {
  "anaconda-cloud": {},
  "kernelspec": {
   "display_name": "base",
   "language": "python",
   "name": "python3"
  },
  "language_info": {
   "codemirror_mode": {
    "name": "ipython",
    "version": 3
   },
   "file_extension": ".py",
   "mimetype": "text/x-python",
   "name": "python",
   "nbconvert_exporter": "python",
   "pygments_lexer": "ipython3",
   "version": "3.12.4"
  }
 },
 "nbformat": 4,
 "nbformat_minor": 1
}
