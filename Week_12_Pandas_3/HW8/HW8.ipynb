{
 "cells": [
  {
   "cell_type": "markdown",
   "metadata": {},
   "source": [
    "# Pandas DataFrame"
   ]
  },
  {
   "cell_type": "code",
   "execution_count": null,
   "metadata": {},
   "outputs": [],
   "source": [
    "'''\n",
    "Q1. (1) Please read diamonds.csv in your working directory into Pandas DataFrame (i.e., diamonds_db).\n",
    "    (2) Please sort diamonds_db by depth and return top 10 diamonds having higher depth.\n",
    "    (3) Please return a number of diamonds of each cut.\n",
    "    (4) Please return descriptive statistics of columns x, y, and z.\n",
    "\n",
    "'''\n",
    "# for (2), (3), and (4), you don't need to create another dataframe.\n",
    "# (2) you can use head(). Please think about how to specify a number of outcomes. "
   ]
  },
  {
   "cell_type": "code",
   "execution_count": null,
   "metadata": {},
   "outputs": [],
   "source": []
  },
  {
   "cell_type": "code",
   "execution_count": null,
   "metadata": {},
   "outputs": [],
   "source": []
  },
  {
   "cell_type": "code",
   "execution_count": null,
   "metadata": {},
   "outputs": [],
   "source": []
  },
  {
   "cell_type": "code",
   "execution_count": null,
   "metadata": {},
   "outputs": [],
   "source": []
  },
  {
   "cell_type": "code",
   "execution_count": null,
   "metadata": {},
   "outputs": [],
   "source": [
    "'''\n",
    "Q2. (1) Please read employee.csv in your working directory into Pandas DataFrame (i.e., employee_db).\n",
    "    (2) Please return how many null values are in BASE_SALARY column.\n",
    "    (3) Please change null values in BASE_SALARY column to 0. Please make sure to update the DataFrame.\n",
    "    (4) Please drop any rows having null values in employee_db. Please make sure to update the DataFrame.\n",
    "    (5) Please return a concise summary of employee_db.\n",
    "\n",
    "'''\n"
   ]
  },
  {
   "cell_type": "code",
   "execution_count": null,
   "metadata": {},
   "outputs": [],
   "source": []
  },
  {
   "cell_type": "code",
   "execution_count": null,
   "metadata": {},
   "outputs": [],
   "source": []
  },
  {
   "cell_type": "code",
   "execution_count": null,
   "metadata": {},
   "outputs": [],
   "source": []
  },
  {
   "cell_type": "code",
   "execution_count": null,
   "metadata": {},
   "outputs": [],
   "source": []
  },
  {
   "cell_type": "code",
   "execution_count": null,
   "metadata": {},
   "outputs": [],
   "source": []
  },
  {
   "cell_type": "code",
   "execution_count": null,
   "metadata": {},
   "outputs": [],
   "source": [
    "'''\n",
    "Q3. (1) Please read amzn_stock.csv in your working directory into Pandas DataFrame (i.e., amzn_stock_db).\n",
    "    (2) Please return a number of Dates when \n",
    "        1) the gap of High and Low is greater than or equal to 10 and \n",
    "        2) Volume is lower than 5000000\n",
    "    (3) Please create another DataFrame, amzn_stock_db_filtered, \n",
    "        which includes Date, Open, Gap (i.e., the gap of High and Low), and Volume in the amzn_stock_db.\n",
    "        - Please use the condition 1) and 2) in the Q3. (2)\n",
    "\n",
    "'''\n"
   ]
  },
  {
   "cell_type": "code",
   "execution_count": null,
   "metadata": {},
   "outputs": [],
   "source": []
  },
  {
   "cell_type": "code",
   "execution_count": null,
   "metadata": {},
   "outputs": [],
   "source": []
  },
  {
   "cell_type": "code",
   "execution_count": null,
   "metadata": {},
   "outputs": [],
   "source": []
  },
  {
   "cell_type": "code",
   "execution_count": null,
   "metadata": {},
   "outputs": [],
   "source": [
    "'''\n",
    "Q4. (1) Please read aapl_stock.csv in your working directory into Pandas DataFrame (i.e., aapl_stock_db).\n",
    "    (2) Please create another DataFrame, stock_db by concaternating aapl_stock_db to amzn_stock_db.\n",
    "        - To distinguish amzn and aapl, please use keys (i.e., Amazon, Apple) as a name (i.e., Company).\n",
    "    (3) Please return Close and Volume of Apple on 2017-05-15\n"
   ]
  },
  {
   "cell_type": "code",
   "execution_count": null,
   "metadata": {},
   "outputs": [],
   "source": []
  },
  {
   "cell_type": "code",
   "execution_count": null,
   "metadata": {},
   "outputs": [],
   "source": []
  },
  {
   "cell_type": "code",
   "execution_count": null,
   "metadata": {},
   "outputs": [],
   "source": []
  },
  {
   "cell_type": "code",
   "execution_count": null,
   "metadata": {},
   "outputs": [],
   "source": [
    "'''\n",
    "Q5. (1) Please read food_prices.csv in your working directory into Pandas DataFrame (i.e., food_prices_db).\n",
    "        - Please drop the last row, the price of steak at Store B in 2015.\n",
    "    (2) Please read food_transactions.csv in your working directory into Pandas DataFrame (i.e., food_transactions_db).\n",
    "    (3) Please create a new DataFrame, 'customer_purchase' with followings:\n",
    "        1) columns: custid, item, store, quantity, price, Date, purchase\n",
    "        2) purchase refers how much a customer spent to buy an item at a store in a given Date.\n",
    "        3) If there is a row having any null values in the DataFrame, customer_purchase, plesae drop the row.\n",
    "\n",
    "'''\n",
    "\n",
    "#hint: Please see the sample run of (3) below."
   ]
  },
  {
   "cell_type": "markdown",
   "metadata": {},
   "source": [
    "<img align = 'left' src=\"pic/sample.png\" alt=\"insert\" width=\"400\"/>"
   ]
  },
  {
   "cell_type": "code",
   "execution_count": null,
   "metadata": {},
   "outputs": [],
   "source": []
  },
  {
   "cell_type": "code",
   "execution_count": null,
   "metadata": {},
   "outputs": [],
   "source": []
  },
  {
   "cell_type": "code",
   "execution_count": null,
   "metadata": {},
   "outputs": [],
   "source": []
  },
  {
   "cell_type": "code",
   "execution_count": null,
   "metadata": {},
   "outputs": [],
   "source": [
    "'''\n",
    "Q6. (1) Please read diamonds.csv in your working directory into Pandas DataFrame (i.e., diamonds_db).\n",
    "    (2) Please visualize followings in a single figure:\n",
    "        1) Size of the Figure is (20, 10).\n",
    "        2) Suptitle of the Figure is 'Diamonds - Univariate Analysis'. Its size is 25.\n",
    "        3) Please visualize following four subplots (2 x 2):\n",
    "            - Plot_1: bar plot of color, title is Color. Please rotate xticks. Color of bar is red.\n",
    "            - Plot_2: bar plot of cut, title is Cut. Please rotate xticks. Color of bar is blue.\n",
    "            - Plot_3: box plot of price, title is Price.\n",
    "            - Plot_4: horizontal bar plotbar of clarity, title is Clarity. Color of bar is green.\n",
    "\n",
    "'''\n",
    "#hint: Please see the sample run of (2) below."
   ]
  },
  {
   "cell_type": "markdown",
   "metadata": {},
   "source": [
    "<img align = 'left' src=\"pic/sample_2.png\" alt=\"insert\" width=\"1000\"/>"
   ]
  },
  {
   "cell_type": "code",
   "execution_count": null,
   "metadata": {},
   "outputs": [],
   "source": []
  },
  {
   "cell_type": "code",
   "execution_count": null,
   "metadata": {},
   "outputs": [],
   "source": []
  }
 ],
 "metadata": {
  "anaconda-cloud": {},
  "kernelspec": {
   "display_name": "Python 3 (ipykernel)",
   "language": "python",
   "name": "python3"
  },
  "language_info": {
   "codemirror_mode": {
    "name": "ipython",
    "version": 3
   },
   "file_extension": ".py",
   "mimetype": "text/x-python",
   "name": "python",
   "nbconvert_exporter": "python",
   "pygments_lexer": "ipython3",
   "version": "3.9.13"
  }
 },
 "nbformat": 4,
 "nbformat_minor": 1
}
