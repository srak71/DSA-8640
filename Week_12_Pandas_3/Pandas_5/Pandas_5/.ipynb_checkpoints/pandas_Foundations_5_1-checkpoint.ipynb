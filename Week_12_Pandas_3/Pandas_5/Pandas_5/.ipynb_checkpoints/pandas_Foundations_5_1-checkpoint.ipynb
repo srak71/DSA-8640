{
 "cells": [
  {
   "cell_type": "code",
   "execution_count": null,
   "metadata": {},
   "outputs": [],
   "source": [
    "import pandas as pd\n",
    "import numpy as np"
   ]
  },
  {
   "cell_type": "markdown",
   "metadata": {},
   "source": [
    "# Joining Pandas Objects Together"
   ]
  },
  {
   "cell_type": "markdown",
   "metadata": {},
   "source": [
    "# (1) Concatenating multiple DataFrames together"
   ]
  },
  {
   "cell_type": "code",
   "execution_count": null,
   "metadata": {},
   "outputs": [],
   "source": [
    "stocks_2016 = pd.read_csv('data/stocks_2016.csv', index_col='Symbol')\n",
    "stocks_2017 = pd.read_csv('data/stocks_2017.csv', index_col='Symbol')"
   ]
  },
  {
   "cell_type": "code",
   "execution_count": null,
   "metadata": {},
   "outputs": [],
   "source": [
    "stocks_2016"
   ]
  },
  {
   "cell_type": "code",
   "execution_count": null,
   "metadata": {},
   "outputs": [],
   "source": [
    "stocks_2017"
   ]
  },
  {
   "cell_type": "code",
   "execution_count": null,
   "metadata": {},
   "outputs": [],
   "source": [
    "stocks_2016.append(stocks_2017)"
   ]
  },
  {
   "cell_type": "code",
   "execution_count": null,
   "metadata": {},
   "outputs": [],
   "source": [
    "from IPython.display import HTML\n",
    "HTML('<iframe src=https://pandas.pydata.org/pandas-docs/stable/reference/api/pandas.concat.html width=950 height=700></iframe>')"
   ]
  },
  {
   "cell_type": "code",
   "execution_count": null,
   "metadata": {},
   "outputs": [],
   "source": [
    "s_list = [stocks_2016, stocks_2017]\n",
    "pd.concat(s_list)"
   ]
  },
  {
   "cell_type": "code",
   "execution_count": null,
   "metadata": {},
   "outputs": [],
   "source": [
    "stocks_1 = pd.concat([stocks_2016, stocks_2017])\n",
    "stocks_1"
   ]
  },
  {
   "cell_type": "code",
   "execution_count": null,
   "metadata": {},
   "outputs": [],
   "source": [
    "stocks_1.loc['AAPL']"
   ]
  },
  {
   "cell_type": "code",
   "execution_count": null,
   "metadata": {},
   "outputs": [],
   "source": [
    "stocks_2 = pd.concat([stocks_2016, stocks_2017], axis = 'columns')\n",
    "stocks_2"
   ]
  },
  {
   "cell_type": "code",
   "execution_count": null,
   "metadata": {},
   "outputs": [],
   "source": [
    "stocks_2.loc[:,'Shares']"
   ]
  },
  {
   "cell_type": "code",
   "execution_count": null,
   "metadata": {},
   "outputs": [],
   "source": [
    "pd.concat([stocks_2016, stocks_2017], keys=['2016', '2017'])"
   ]
  },
  {
   "cell_type": "code",
   "execution_count": null,
   "metadata": {},
   "outputs": [],
   "source": [
    "pd.concat([stocks_2016, stocks_2017], keys=['2016', '2017'], names=['Year'])"
   ]
  },
  {
   "cell_type": "code",
   "execution_count": null,
   "metadata": {},
   "outputs": [],
   "source": [
    "pd.concat([stocks_2016, stocks_2017], keys=['2016', '2017'], names=['Year', 'Symbol_2'])"
   ]
  },
  {
   "cell_type": "code",
   "execution_count": null,
   "metadata": {},
   "outputs": [],
   "source": [
    "stocks_concat = pd.concat([stocks_2016, stocks_2017], keys=['2016', '2017'], names=['Year'])\n",
    "stocks_concat"
   ]
  },
  {
   "cell_type": "code",
   "execution_count": null,
   "metadata": {},
   "outputs": [],
   "source": [
    "stocks_concat.loc['2016']"
   ]
  },
  {
   "cell_type": "code",
   "execution_count": null,
   "metadata": {},
   "outputs": [],
   "source": [
    "stocks_concat.loc['2016'].loc['AAPL']"
   ]
  },
  {
   "cell_type": "code",
   "execution_count": null,
   "metadata": {},
   "outputs": [],
   "source": [
    "pd.concat([stocks_2016, stocks_2017], join='outer', axis='columns', keys=['2016', '2017'], names=['Year'])"
   ]
  },
  {
   "cell_type": "code",
   "execution_count": null,
   "metadata": {},
   "outputs": [],
   "source": [
    "pd.concat([stocks_2016, stocks_2017], join='inner', axis='columns', keys=['2016', '2017'], names=['Year'])"
   ]
  },
  {
   "cell_type": "code",
   "execution_count": null,
   "metadata": {},
   "outputs": [],
   "source": [
    "stocks_concat_2 = pd.concat([stocks_2016, stocks_2017], axis='columns', keys=['2016', '2017'], names=['Year'])\n",
    "stocks_concat_2"
   ]
  },
  {
   "cell_type": "code",
   "execution_count": null,
   "metadata": {},
   "outputs": [],
   "source": [
    "stocks_concat_2.loc['AAPL']"
   ]
  },
  {
   "cell_type": "code",
   "execution_count": null,
   "metadata": {},
   "outputs": [],
   "source": [
    "stocks_concat_2.loc['AAPL', '2016']"
   ]
  },
  {
   "cell_type": "code",
   "execution_count": null,
   "metadata": {},
   "outputs": [],
   "source": [
    "stocks_concat_2.loc['AAPL', '2016'].loc['Shares']"
   ]
  },
  {
   "cell_type": "markdown",
   "metadata": {},
   "source": [
    "# (2) Merging multiple DataFrames together"
   ]
  },
  {
   "cell_type": "code",
   "execution_count": null,
   "metadata": {},
   "outputs": [],
   "source": [
    "from IPython.display import HTML\n",
    "HTML('<iframe src=https://pandas.pydata.org/pandas-docs/stable/reference/api/pandas.DataFrame.merge.html width=950 height=700></iframe>')"
   ]
  },
  {
   "cell_type": "code",
   "execution_count": null,
   "metadata": {},
   "outputs": [],
   "source": [
    "faculty = pd.DataFrame({'faculty_n': ['01', '02', '03', '04'],\n",
    "                     'Name': ['John', 'Jack', 'Jane', 'Grace'],\n",
    "                     'Gender': ['M', 'M', 'F', 'F']})\n",
    "\n",
    "course = pd.DataFrame({'class_n':['DSA_01', 'DSA_02', 'DSA_03','DSA_04', 'DSA_05', 'DSA_06'],\n",
    "                       'faculty_n': ['01', '02', '03', '04', '02', '03'],\n",
    "                       'date':['MW', 'MWF', 'TT', 'Sat', 'TT', 'MW'],\n",
    "                       'semester': ['spring', 'fall', 'fall', 'spring', 'spring', 'spring']})"
   ]
  },
  {
   "cell_type": "code",
   "execution_count": null,
   "metadata": {},
   "outputs": [],
   "source": [
    "faculty"
   ]
  },
  {
   "cell_type": "code",
   "execution_count": null,
   "metadata": {},
   "outputs": [],
   "source": [
    "course"
   ]
  },
  {
   "cell_type": "code",
   "execution_count": null,
   "metadata": {},
   "outputs": [],
   "source": [
    "result = pd.merge(faculty, course, on='faculty_n')\n",
    "result"
   ]
  },
  {
   "cell_type": "code",
   "execution_count": null,
   "metadata": {},
   "outputs": [],
   "source": [
    "faculty = pd.DataFrame({'faculty_n': ['01', '02', '03', '04', '05', '06'],\n",
    "                     'Name': ['John', 'Jack', 'Jane', 'Grace', 'Jeff', 'Sophia'],\n",
    "                     'Gender': ['M', 'M', 'F', 'F', 'M', 'F']})\n",
    "\n",
    "course = pd.DataFrame({'class_n':['DSA_01', 'DSA_02', 'DSA_03','DSA_04', 'DSA_05', 'DSA_06', 'DSA_07'],\n",
    "                       'faculty_n': ['01', '02', '03', '04', '02', '03', np.nan],\n",
    "                       'date':['MW', 'MWF', 'TT', 'Sat', 'TT', 'MW', np.nan],\n",
    "                       'semester': ['spring', 'fall', 'fall', 'spring', 'spring', 'spring', np.nan]})"
   ]
  },
  {
   "cell_type": "code",
   "execution_count": null,
   "metadata": {},
   "outputs": [],
   "source": [
    "faculty"
   ]
  },
  {
   "cell_type": "code",
   "execution_count": null,
   "metadata": {},
   "outputs": [],
   "source": [
    "course"
   ]
  },
  {
   "cell_type": "code",
   "execution_count": null,
   "metadata": {},
   "outputs": [],
   "source": [
    "result = pd.merge(faculty, course, on='faculty_n')\n",
    "result"
   ]
  },
  {
   "cell_type": "markdown",
   "metadata": {},
   "source": [
    "<img align = 'left' src=\"pic/merge.png\" alt=\"insert\" width=\"700\"/>"
   ]
  },
  {
   "cell_type": "markdown",
   "metadata": {},
   "source": [
    "<img align = 'left' src=\"pic/join.jpg\" alt=\"insert\" width=\"700\"/>"
   ]
  },
  {
   "cell_type": "code",
   "execution_count": null,
   "metadata": {},
   "outputs": [],
   "source": [
    "result = pd.merge(faculty, course, how = 'outer', on='faculty_n')\n",
    "result"
   ]
  },
  {
   "cell_type": "code",
   "execution_count": null,
   "metadata": {},
   "outputs": [],
   "source": [
    "result = pd.merge(faculty, course, how = 'left', on='faculty_n')\n",
    "result"
   ]
  },
  {
   "cell_type": "code",
   "execution_count": null,
   "metadata": {},
   "outputs": [],
   "source": [
    "result = pd.merge(faculty, course, how = 'right', on='faculty_n')\n",
    "result"
   ]
  },
  {
   "cell_type": "code",
   "execution_count": null,
   "metadata": {},
   "outputs": [],
   "source": []
  }
 ],
 "metadata": {
  "kernelspec": {
   "display_name": "Python 3",
   "language": "python",
   "name": "python3"
  },
  "language_info": {
   "codemirror_mode": {
    "name": "ipython",
    "version": 3
   },
   "file_extension": ".py",
   "mimetype": "text/x-python",
   "name": "python",
   "nbconvert_exporter": "python",
   "pygments_lexer": "ipython3",
   "version": "3.8.3"
  }
 },
 "nbformat": 4,
 "nbformat_minor": 2
}
